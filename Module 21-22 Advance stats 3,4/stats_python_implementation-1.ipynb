{
 "cells": [
  {
   "cell_type": "code",
   "execution_count": 36,
   "id": "1f79ce7b-69aa-4ac8-a0a1-4b2fbe5ea278",
   "metadata": {},
   "outputs": [
    {
     "data": {
      "text/plain": [
       "[1, 2, 3, 4, 5]"
      ]
     },
     "execution_count": 36,
     "metadata": {},
     "output_type": "execute_result"
    }
   ],
   "source": [
    "data = [1, 2, 3, 4, 5]\n",
    "data"
   ]
  },
  {
   "cell_type": "code",
   "execution_count": 37,
   "id": "f2adca09-8018-417e-99af-2a371bb26a31",
   "metadata": {},
   "outputs": [],
   "source": [
    "import pandas as pd\n",
    "import numpy as np\n",
    "import seaborn as sns"
   ]
  },
  {
   "cell_type": "code",
   "execution_count": 38,
   "id": "09770869-a9a2-42a6-9585-c482092de159",
   "metadata": {},
   "outputs": [
    {
     "data": {
      "text/plain": [
       "3.0"
      ]
     },
     "execution_count": 38,
     "metadata": {},
     "output_type": "execute_result"
    }
   ],
   "source": [
    "np.mean(data)"
   ]
  },
  {
   "cell_type": "code",
   "execution_count": 39,
   "id": "52c47405-53db-4b7c-864d-c8d79e16f641",
   "metadata": {},
   "outputs": [
    {
     "data": {
      "text/html": [
       "<div>\n",
       "<style scoped>\n",
       "    .dataframe tbody tr th:only-of-type {\n",
       "        vertical-align: middle;\n",
       "    }\n",
       "\n",
       "    .dataframe tbody tr th {\n",
       "        vertical-align: top;\n",
       "    }\n",
       "\n",
       "    .dataframe thead th {\n",
       "        text-align: right;\n",
       "    }\n",
       "</style>\n",
       "<table border=\"1\" class=\"dataframe\">\n",
       "  <thead>\n",
       "    <tr style=\"text-align: right;\">\n",
       "      <th></th>\n",
       "      <th>total_bill</th>\n",
       "      <th>tip</th>\n",
       "      <th>sex</th>\n",
       "      <th>smoker</th>\n",
       "      <th>day</th>\n",
       "      <th>time</th>\n",
       "      <th>size</th>\n",
       "    </tr>\n",
       "  </thead>\n",
       "  <tbody>\n",
       "    <tr>\n",
       "      <th>0</th>\n",
       "      <td>16.99</td>\n",
       "      <td>1.01</td>\n",
       "      <td>Female</td>\n",
       "      <td>No</td>\n",
       "      <td>Sun</td>\n",
       "      <td>Dinner</td>\n",
       "      <td>2</td>\n",
       "    </tr>\n",
       "    <tr>\n",
       "      <th>1</th>\n",
       "      <td>10.34</td>\n",
       "      <td>1.66</td>\n",
       "      <td>Male</td>\n",
       "      <td>No</td>\n",
       "      <td>Sun</td>\n",
       "      <td>Dinner</td>\n",
       "      <td>3</td>\n",
       "    </tr>\n",
       "    <tr>\n",
       "      <th>2</th>\n",
       "      <td>21.01</td>\n",
       "      <td>3.50</td>\n",
       "      <td>Male</td>\n",
       "      <td>No</td>\n",
       "      <td>Sun</td>\n",
       "      <td>Dinner</td>\n",
       "      <td>3</td>\n",
       "    </tr>\n",
       "    <tr>\n",
       "      <th>3</th>\n",
       "      <td>23.68</td>\n",
       "      <td>3.31</td>\n",
       "      <td>Male</td>\n",
       "      <td>No</td>\n",
       "      <td>Sun</td>\n",
       "      <td>Dinner</td>\n",
       "      <td>2</td>\n",
       "    </tr>\n",
       "    <tr>\n",
       "      <th>4</th>\n",
       "      <td>24.59</td>\n",
       "      <td>3.61</td>\n",
       "      <td>Female</td>\n",
       "      <td>No</td>\n",
       "      <td>Sun</td>\n",
       "      <td>Dinner</td>\n",
       "      <td>4</td>\n",
       "    </tr>\n",
       "    <tr>\n",
       "      <th>...</th>\n",
       "      <td>...</td>\n",
       "      <td>...</td>\n",
       "      <td>...</td>\n",
       "      <td>...</td>\n",
       "      <td>...</td>\n",
       "      <td>...</td>\n",
       "      <td>...</td>\n",
       "    </tr>\n",
       "    <tr>\n",
       "      <th>239</th>\n",
       "      <td>29.03</td>\n",
       "      <td>5.92</td>\n",
       "      <td>Male</td>\n",
       "      <td>No</td>\n",
       "      <td>Sat</td>\n",
       "      <td>Dinner</td>\n",
       "      <td>3</td>\n",
       "    </tr>\n",
       "    <tr>\n",
       "      <th>240</th>\n",
       "      <td>27.18</td>\n",
       "      <td>2.00</td>\n",
       "      <td>Female</td>\n",
       "      <td>Yes</td>\n",
       "      <td>Sat</td>\n",
       "      <td>Dinner</td>\n",
       "      <td>2</td>\n",
       "    </tr>\n",
       "    <tr>\n",
       "      <th>241</th>\n",
       "      <td>22.67</td>\n",
       "      <td>2.00</td>\n",
       "      <td>Male</td>\n",
       "      <td>Yes</td>\n",
       "      <td>Sat</td>\n",
       "      <td>Dinner</td>\n",
       "      <td>2</td>\n",
       "    </tr>\n",
       "    <tr>\n",
       "      <th>242</th>\n",
       "      <td>17.82</td>\n",
       "      <td>1.75</td>\n",
       "      <td>Male</td>\n",
       "      <td>No</td>\n",
       "      <td>Sat</td>\n",
       "      <td>Dinner</td>\n",
       "      <td>2</td>\n",
       "    </tr>\n",
       "    <tr>\n",
       "      <th>243</th>\n",
       "      <td>18.78</td>\n",
       "      <td>3.00</td>\n",
       "      <td>Female</td>\n",
       "      <td>No</td>\n",
       "      <td>Thur</td>\n",
       "      <td>Dinner</td>\n",
       "      <td>2</td>\n",
       "    </tr>\n",
       "  </tbody>\n",
       "</table>\n",
       "<p>244 rows × 7 columns</p>\n",
       "</div>"
      ],
      "text/plain": [
       "     total_bill   tip     sex smoker   day    time  size\n",
       "0         16.99  1.01  Female     No   Sun  Dinner     2\n",
       "1         10.34  1.66    Male     No   Sun  Dinner     3\n",
       "2         21.01  3.50    Male     No   Sun  Dinner     3\n",
       "3         23.68  3.31    Male     No   Sun  Dinner     2\n",
       "4         24.59  3.61  Female     No   Sun  Dinner     4\n",
       "..          ...   ...     ...    ...   ...     ...   ...\n",
       "239       29.03  5.92    Male     No   Sat  Dinner     3\n",
       "240       27.18  2.00  Female    Yes   Sat  Dinner     2\n",
       "241       22.67  2.00    Male    Yes   Sat  Dinner     2\n",
       "242       17.82  1.75    Male     No   Sat  Dinner     2\n",
       "243       18.78  3.00  Female     No  Thur  Dinner     2\n",
       "\n",
       "[244 rows x 7 columns]"
      ]
     },
     "execution_count": 39,
     "metadata": {},
     "output_type": "execute_result"
    }
   ],
   "source": [
    "df = sns.load_dataset('tips')\n",
    "df"
   ]
  },
  {
   "cell_type": "code",
   "execution_count": 40,
   "id": "4f7fbaf6-8085-44f6-8665-d8269f13692e",
   "metadata": {},
   "outputs": [
    {
     "data": {
      "text/plain": [
       "2.99827868852459"
      ]
     },
     "execution_count": 40,
     "metadata": {},
     "output_type": "execute_result"
    }
   ],
   "source": [
    "np.mean(df['tip'])"
   ]
  },
  {
   "cell_type": "code",
   "execution_count": 41,
   "id": "badad4a9-6db8-4047-8399-8011ec0f47f7",
   "metadata": {},
   "outputs": [
    {
     "name": "stdout",
     "output_type": "stream",
     "text": [
      "<class 'pandas.core.frame.DataFrame'>\n",
      "RangeIndex: 244 entries, 0 to 243\n",
      "Data columns (total 7 columns):\n",
      " #   Column      Non-Null Count  Dtype   \n",
      "---  ------      --------------  -----   \n",
      " 0   total_bill  244 non-null    float64 \n",
      " 1   tip         244 non-null    float64 \n",
      " 2   sex         244 non-null    category\n",
      " 3   smoker      244 non-null    category\n",
      " 4   day         244 non-null    category\n",
      " 5   time        244 non-null    category\n",
      " 6   size        244 non-null    int64   \n",
      "dtypes: category(4), float64(2), int64(1)\n",
      "memory usage: 7.4 KB\n"
     ]
    }
   ],
   "source": [
    "df.info()"
   ]
  },
  {
   "cell_type": "code",
   "execution_count": 42,
   "id": "46eb32fe-4621-478c-a80d-671aa44e2c26",
   "metadata": {},
   "outputs": [
    {
     "data": {
      "text/plain": [
       "3.0"
      ]
     },
     "execution_count": 42,
     "metadata": {},
     "output_type": "execute_result"
    }
   ],
   "source": [
    "np.median(data)"
   ]
  },
  {
   "cell_type": "code",
   "execution_count": 43,
   "id": "8df4a6bb-893b-44e3-a5e7-d98fdc3b4b64",
   "metadata": {},
   "outputs": [
    {
     "data": {
      "text/plain": [
       "[1, 2, 3, 4, 5]"
      ]
     },
     "execution_count": 43,
     "metadata": {},
     "output_type": "execute_result"
    }
   ],
   "source": [
    "data"
   ]
  },
  {
   "cell_type": "code",
   "execution_count": 44,
   "id": "0d73dbd4-6e9b-4302-b942-4e0ad2a7a04d",
   "metadata": {},
   "outputs": [
    {
     "data": {
      "text/plain": [
       "2.9"
      ]
     },
     "execution_count": 44,
     "metadata": {},
     "output_type": "execute_result"
    }
   ],
   "source": [
    "np.median(df['tip'])"
   ]
  },
  {
   "cell_type": "code",
   "execution_count": 45,
   "id": "65133b25-088d-48d5-b9d4-591d994493fb",
   "metadata": {},
   "outputs": [],
   "source": [
    "#mean is inflated by outlier whereas median is not inflated"
   ]
  },
  {
   "cell_type": "code",
   "execution_count": 46,
   "id": "170b13f5-242e-4464-b961-a12d85261ed4",
   "metadata": {},
   "outputs": [
    {
     "data": {
      "text/plain": [
       "102.0"
      ]
     },
     "execution_count": 46,
     "metadata": {},
     "output_type": "execute_result"
    }
   ],
   "source": [
    "data = [1, 2, 3, 4, 500]\n",
    "np.mean(data)"
   ]
  },
  {
   "cell_type": "code",
   "execution_count": 47,
   "id": "a0af0abf-b93d-4d2e-8e92-0ac5417899f1",
   "metadata": {},
   "outputs": [
    {
     "data": {
      "text/plain": [
       "3.0"
      ]
     },
     "execution_count": 47,
     "metadata": {},
     "output_type": "execute_result"
    }
   ],
   "source": [
    "np.median(data)"
   ]
  },
  {
   "cell_type": "code",
   "execution_count": 48,
   "id": "f064f1b4-cc0c-4e30-bc8d-d45e4e42c40a",
   "metadata": {},
   "outputs": [
    {
     "ename": "AttributeError",
     "evalue": "module 'numpy' has no attribute 'mode'",
     "output_type": "error",
     "traceback": [
      "\u001b[0;31m---------------------------------------------------------------------------\u001b[0m",
      "\u001b[0;31mAttributeError\u001b[0m                            Traceback (most recent call last)",
      "Cell \u001b[0;32mIn[48], line 2\u001b[0m\n\u001b[1;32m      1\u001b[0m data \u001b[38;5;241m=\u001b[39m [\u001b[38;5;241m1\u001b[39m, \u001b[38;5;241m2\u001b[39m, \u001b[38;5;241m1\u001b[39m, \u001b[38;5;241m100\u001b[39m, \u001b[38;5;241m100\u001b[39m, \u001b[38;5;241m100\u001b[39m, \u001b[38;5;241m3\u001b[39m, \u001b[38;5;241m4\u001b[39m, \u001b[38;5;241m78\u001b[39m]\n\u001b[0;32m----> 2\u001b[0m \u001b[43mnp\u001b[49m\u001b[38;5;241;43m.\u001b[39;49m\u001b[43mmode\u001b[49m(data) \u001b[38;5;66;03m#throw an error\u001b[39;00m\n",
      "File \u001b[0;32m/opt/conda/lib/python3.10/site-packages/numpy/__init__.py:311\u001b[0m, in \u001b[0;36m__getattr__\u001b[0;34m(attr)\u001b[0m\n\u001b[1;32m    308\u001b[0m     \u001b[38;5;28;01mfrom\u001b[39;00m \u001b[38;5;21;01m.\u001b[39;00m\u001b[38;5;21;01mtesting\u001b[39;00m \u001b[38;5;28;01mimport\u001b[39;00m Tester\n\u001b[1;32m    309\u001b[0m     \u001b[38;5;28;01mreturn\u001b[39;00m Tester\n\u001b[0;32m--> 311\u001b[0m \u001b[38;5;28;01mraise\u001b[39;00m \u001b[38;5;167;01mAttributeError\u001b[39;00m(\u001b[38;5;124m\"\u001b[39m\u001b[38;5;124mmodule \u001b[39m\u001b[38;5;132;01m{!r}\u001b[39;00m\u001b[38;5;124m has no attribute \u001b[39m\u001b[38;5;124m\"\u001b[39m\n\u001b[1;32m    312\u001b[0m                      \u001b[38;5;124m\"\u001b[39m\u001b[38;5;132;01m{!r}\u001b[39;00m\u001b[38;5;124m\"\u001b[39m\u001b[38;5;241m.\u001b[39mformat(\u001b[38;5;18m__name__\u001b[39m, attr))\n",
      "\u001b[0;31mAttributeError\u001b[0m: module 'numpy' has no attribute 'mode'"
     ]
    }
   ],
   "source": [
    "data = [1, 2, 1, 100, 100, 100, 3, 4, 78]\n",
    "np.mode(data) #throw an error"
   ]
  },
  {
   "cell_type": "code",
   "execution_count": 49,
   "id": "ac376b52-f927-4dbd-9edb-44d759d20de5",
   "metadata": {},
   "outputs": [
    {
     "data": {
      "text/plain": [
       "100"
      ]
     },
     "execution_count": 49,
     "metadata": {},
     "output_type": "execute_result"
    }
   ],
   "source": [
    "import statistics\n",
    "statistics.mode(data)"
   ]
  },
  {
   "cell_type": "code",
   "execution_count": 50,
   "id": "ff0269c3-3b64-482c-990a-2e9acab13001",
   "metadata": {},
   "outputs": [
    {
     "data": {
      "text/html": [
       "<div>\n",
       "<style scoped>\n",
       "    .dataframe tbody tr th:only-of-type {\n",
       "        vertical-align: middle;\n",
       "    }\n",
       "\n",
       "    .dataframe tbody tr th {\n",
       "        vertical-align: top;\n",
       "    }\n",
       "\n",
       "    .dataframe thead th {\n",
       "        text-align: right;\n",
       "    }\n",
       "</style>\n",
       "<table border=\"1\" class=\"dataframe\">\n",
       "  <thead>\n",
       "    <tr style=\"text-align: right;\">\n",
       "      <th></th>\n",
       "      <th>total_bill</th>\n",
       "      <th>tip</th>\n",
       "      <th>sex</th>\n",
       "      <th>smoker</th>\n",
       "      <th>day</th>\n",
       "      <th>time</th>\n",
       "      <th>size</th>\n",
       "    </tr>\n",
       "  </thead>\n",
       "  <tbody>\n",
       "    <tr>\n",
       "      <th>0</th>\n",
       "      <td>16.99</td>\n",
       "      <td>1.01</td>\n",
       "      <td>Female</td>\n",
       "      <td>No</td>\n",
       "      <td>Sun</td>\n",
       "      <td>Dinner</td>\n",
       "      <td>2</td>\n",
       "    </tr>\n",
       "    <tr>\n",
       "      <th>1</th>\n",
       "      <td>10.34</td>\n",
       "      <td>1.66</td>\n",
       "      <td>Male</td>\n",
       "      <td>No</td>\n",
       "      <td>Sun</td>\n",
       "      <td>Dinner</td>\n",
       "      <td>3</td>\n",
       "    </tr>\n",
       "    <tr>\n",
       "      <th>2</th>\n",
       "      <td>21.01</td>\n",
       "      <td>3.50</td>\n",
       "      <td>Male</td>\n",
       "      <td>No</td>\n",
       "      <td>Sun</td>\n",
       "      <td>Dinner</td>\n",
       "      <td>3</td>\n",
       "    </tr>\n",
       "    <tr>\n",
       "      <th>3</th>\n",
       "      <td>23.68</td>\n",
       "      <td>3.31</td>\n",
       "      <td>Male</td>\n",
       "      <td>No</td>\n",
       "      <td>Sun</td>\n",
       "      <td>Dinner</td>\n",
       "      <td>2</td>\n",
       "    </tr>\n",
       "    <tr>\n",
       "      <th>4</th>\n",
       "      <td>24.59</td>\n",
       "      <td>3.61</td>\n",
       "      <td>Female</td>\n",
       "      <td>No</td>\n",
       "      <td>Sun</td>\n",
       "      <td>Dinner</td>\n",
       "      <td>4</td>\n",
       "    </tr>\n",
       "    <tr>\n",
       "      <th>...</th>\n",
       "      <td>...</td>\n",
       "      <td>...</td>\n",
       "      <td>...</td>\n",
       "      <td>...</td>\n",
       "      <td>...</td>\n",
       "      <td>...</td>\n",
       "      <td>...</td>\n",
       "    </tr>\n",
       "    <tr>\n",
       "      <th>239</th>\n",
       "      <td>29.03</td>\n",
       "      <td>5.92</td>\n",
       "      <td>Male</td>\n",
       "      <td>No</td>\n",
       "      <td>Sat</td>\n",
       "      <td>Dinner</td>\n",
       "      <td>3</td>\n",
       "    </tr>\n",
       "    <tr>\n",
       "      <th>240</th>\n",
       "      <td>27.18</td>\n",
       "      <td>2.00</td>\n",
       "      <td>Female</td>\n",
       "      <td>Yes</td>\n",
       "      <td>Sat</td>\n",
       "      <td>Dinner</td>\n",
       "      <td>2</td>\n",
       "    </tr>\n",
       "    <tr>\n",
       "      <th>241</th>\n",
       "      <td>22.67</td>\n",
       "      <td>2.00</td>\n",
       "      <td>Male</td>\n",
       "      <td>Yes</td>\n",
       "      <td>Sat</td>\n",
       "      <td>Dinner</td>\n",
       "      <td>2</td>\n",
       "    </tr>\n",
       "    <tr>\n",
       "      <th>242</th>\n",
       "      <td>17.82</td>\n",
       "      <td>1.75</td>\n",
       "      <td>Male</td>\n",
       "      <td>No</td>\n",
       "      <td>Sat</td>\n",
       "      <td>Dinner</td>\n",
       "      <td>2</td>\n",
       "    </tr>\n",
       "    <tr>\n",
       "      <th>243</th>\n",
       "      <td>18.78</td>\n",
       "      <td>3.00</td>\n",
       "      <td>Female</td>\n",
       "      <td>No</td>\n",
       "      <td>Thur</td>\n",
       "      <td>Dinner</td>\n",
       "      <td>2</td>\n",
       "    </tr>\n",
       "  </tbody>\n",
       "</table>\n",
       "<p>244 rows × 7 columns</p>\n",
       "</div>"
      ],
      "text/plain": [
       "     total_bill   tip     sex smoker   day    time  size\n",
       "0         16.99  1.01  Female     No   Sun  Dinner     2\n",
       "1         10.34  1.66    Male     No   Sun  Dinner     3\n",
       "2         21.01  3.50    Male     No   Sun  Dinner     3\n",
       "3         23.68  3.31    Male     No   Sun  Dinner     2\n",
       "4         24.59  3.61  Female     No   Sun  Dinner     4\n",
       "..          ...   ...     ...    ...   ...     ...   ...\n",
       "239       29.03  5.92    Male     No   Sat  Dinner     3\n",
       "240       27.18  2.00  Female    Yes   Sat  Dinner     2\n",
       "241       22.67  2.00    Male    Yes   Sat  Dinner     2\n",
       "242       17.82  1.75    Male     No   Sat  Dinner     2\n",
       "243       18.78  3.00  Female     No  Thur  Dinner     2\n",
       "\n",
       "[244 rows x 7 columns]"
      ]
     },
     "execution_count": 50,
     "metadata": {},
     "output_type": "execute_result"
    }
   ],
   "source": [
    "df"
   ]
  },
  {
   "cell_type": "code",
   "execution_count": 51,
   "id": "9837d93c-67bd-49c2-b9d9-ef19ede991c4",
   "metadata": {},
   "outputs": [
    {
     "data": {
      "text/html": [
       "<div>\n",
       "<style scoped>\n",
       "    .dataframe tbody tr th:only-of-type {\n",
       "        vertical-align: middle;\n",
       "    }\n",
       "\n",
       "    .dataframe tbody tr th {\n",
       "        vertical-align: top;\n",
       "    }\n",
       "\n",
       "    .dataframe thead th {\n",
       "        text-align: right;\n",
       "    }\n",
       "</style>\n",
       "<table border=\"1\" class=\"dataframe\">\n",
       "  <thead>\n",
       "    <tr style=\"text-align: right;\">\n",
       "      <th></th>\n",
       "      <th>total_bill</th>\n",
       "      <th>tip</th>\n",
       "      <th>size</th>\n",
       "    </tr>\n",
       "  </thead>\n",
       "  <tbody>\n",
       "    <tr>\n",
       "      <th>count</th>\n",
       "      <td>244.000000</td>\n",
       "      <td>244.000000</td>\n",
       "      <td>244.000000</td>\n",
       "    </tr>\n",
       "    <tr>\n",
       "      <th>mean</th>\n",
       "      <td>19.785943</td>\n",
       "      <td>2.998279</td>\n",
       "      <td>2.569672</td>\n",
       "    </tr>\n",
       "    <tr>\n",
       "      <th>std</th>\n",
       "      <td>8.902412</td>\n",
       "      <td>1.383638</td>\n",
       "      <td>0.951100</td>\n",
       "    </tr>\n",
       "    <tr>\n",
       "      <th>min</th>\n",
       "      <td>3.070000</td>\n",
       "      <td>1.000000</td>\n",
       "      <td>1.000000</td>\n",
       "    </tr>\n",
       "    <tr>\n",
       "      <th>25%</th>\n",
       "      <td>13.347500</td>\n",
       "      <td>2.000000</td>\n",
       "      <td>2.000000</td>\n",
       "    </tr>\n",
       "    <tr>\n",
       "      <th>50%</th>\n",
       "      <td>17.795000</td>\n",
       "      <td>2.900000</td>\n",
       "      <td>2.000000</td>\n",
       "    </tr>\n",
       "    <tr>\n",
       "      <th>75%</th>\n",
       "      <td>24.127500</td>\n",
       "      <td>3.562500</td>\n",
       "      <td>3.000000</td>\n",
       "    </tr>\n",
       "    <tr>\n",
       "      <th>max</th>\n",
       "      <td>50.810000</td>\n",
       "      <td>10.000000</td>\n",
       "      <td>6.000000</td>\n",
       "    </tr>\n",
       "  </tbody>\n",
       "</table>\n",
       "</div>"
      ],
      "text/plain": [
       "       total_bill         tip        size\n",
       "count  244.000000  244.000000  244.000000\n",
       "mean    19.785943    2.998279    2.569672\n",
       "std      8.902412    1.383638    0.951100\n",
       "min      3.070000    1.000000    1.000000\n",
       "25%     13.347500    2.000000    2.000000\n",
       "50%     17.795000    2.900000    2.000000\n",
       "75%     24.127500    3.562500    3.000000\n",
       "max     50.810000   10.000000    6.000000"
      ]
     },
     "execution_count": 51,
     "metadata": {},
     "output_type": "execute_result"
    }
   ],
   "source": [
    "df.describe()"
   ]
  },
  {
   "cell_type": "code",
   "execution_count": 52,
   "id": "442b4724-d018-43cb-bc31-a3be4304ce29",
   "metadata": {},
   "outputs": [
    {
     "data": {
      "text/plain": [
       "[1, 2, 1, 100, 100, 100, 3, 4, 78]"
      ]
     },
     "execution_count": 52,
     "metadata": {},
     "output_type": "execute_result"
    }
   ],
   "source": [
    "data"
   ]
  },
  {
   "cell_type": "code",
   "execution_count": 53,
   "id": "8090295f-1081-4528-bd49-27c1ad3aa951",
   "metadata": {},
   "outputs": [
    {
     "data": {
      "text/plain": [
       "array([2.])"
      ]
     },
     "execution_count": 53,
     "metadata": {},
     "output_type": "execute_result"
    }
   ],
   "source": [
    "np.percentile(data, [25])"
   ]
  },
  {
   "cell_type": "code",
   "execution_count": 54,
   "id": "5abde780-7ce5-46de-b3b8-a8302c5fe9b3",
   "metadata": {},
   "outputs": [
    {
     "data": {
      "text/plain": [
       "array([  2.,   4., 100., 100.])"
      ]
     },
     "execution_count": 54,
     "metadata": {},
     "output_type": "execute_result"
    }
   ],
   "source": [
    "np.percentile(data, [25, 50, 75, 100])"
   ]
  },
  {
   "cell_type": "code",
   "execution_count": 55,
   "id": "918d4060-090b-41e7-8d30-0bd25815a8f9",
   "metadata": {},
   "outputs": [],
   "source": [
    "data.append(-800)\n",
    "data.append(600)"
   ]
  },
  {
   "cell_type": "code",
   "execution_count": 56,
   "id": "68e4b6e0-ebc7-4081-88fc-7d21205977ea",
   "metadata": {},
   "outputs": [
    {
     "data": {
      "text/plain": [
       "[1, 2, 1, 100, 100, 100, 3, 4, 78, -800, 600]"
      ]
     },
     "execution_count": 56,
     "metadata": {},
     "output_type": "execute_result"
    }
   ],
   "source": [
    "data"
   ]
  },
  {
   "cell_type": "code",
   "execution_count": 57,
   "id": "0813068a-99c0-4624-934c-8089ba586c75",
   "metadata": {},
   "outputs": [
    {
     "data": {
      "text/plain": [
       "<AxesSubplot: >"
      ]
     },
     "execution_count": 57,
     "metadata": {},
     "output_type": "execute_result"
    },
    {
     "data": {
      "image/png": "[encoded data removed]",
      "text/plain": [
       "<Figure size 640x480 with 1 Axes>"
      ]
     },
     "metadata": {},
     "output_type": "display_data"
    }
   ],
   "source": [
    "sns.boxplot(data)"
   ]
  },
  {
   "cell_type": "code",
   "execution_count": 58,
   "id": "e1e96ab4-29f4-4a2f-8688-e2d183fd5482",
   "metadata": {},
   "outputs": [
    {
     "data": {
      "text/plain": [
       "93897.05785123968"
      ]
     },
     "execution_count": 58,
     "metadata": {},
     "output_type": "execute_result"
    }
   ],
   "source": [
    "np.var(data)"
   ]
  },
  {
   "cell_type": "code",
   "execution_count": 59,
   "id": "5b238b3f-8df4-49c2-9a50-d9162536562e",
   "metadata": {},
   "outputs": [
    {
     "data": {
      "text/plain": [
       "306.42626821348017"
      ]
     },
     "execution_count": 59,
     "metadata": {},
     "output_type": "execute_result"
    }
   ],
   "source": [
    "np.std(data)"
   ]
  },
  {
   "cell_type": "code",
   "execution_count": 60,
   "id": "5f4db384-7aa9-4735-aebf-4dcf22b0edbc",
   "metadata": {},
   "outputs": [
    {
     "data": {
      "text/plain": [
       "17.181818181818183"
      ]
     },
     "execution_count": 60,
     "metadata": {},
     "output_type": "execute_result"
    }
   ],
   "source": [
    "np.mean(data)"
   ]
  },
  {
   "cell_type": "code",
   "execution_count": 61,
   "id": "ff1bfaa1-af13-4de3-a636-2d93a20c20fb",
   "metadata": {},
   "outputs": [
    {
     "data": {
      "text/plain": [
       "103286.76363636364"
      ]
     },
     "execution_count": 61,
     "metadata": {},
     "output_type": "execute_result"
    }
   ],
   "source": [
    "statistics.variance(data) #sample variance"
   ]
  },
  {
   "cell_type": "code",
   "execution_count": 62,
   "id": "2763ed64-5e95-49b0-8261-5e886ea08c21",
   "metadata": {},
   "outputs": [
    {
     "data": {
      "text/plain": [
       "93897.05785123968"
      ]
     },
     "execution_count": 62,
     "metadata": {},
     "output_type": "execute_result"
    }
   ],
   "source": [
    "statistics.pvariance(data) #population variance"
   ]
  },
  {
   "cell_type": "code",
   "execution_count": 63,
   "id": "492b8273-7e0b-4b1f-b77b-b6e0be51d97d",
   "metadata": {},
   "outputs": [
    {
     "data": {
      "text/plain": [
       "306.42626821348017"
      ]
     },
     "execution_count": 63,
     "metadata": {},
     "output_type": "execute_result"
    }
   ],
   "source": [
    "#standard dev using math library\n",
    "import math\n",
    "math.sqrt(statistics.pvariance(data))"
   ]
  },
  {
   "cell_type": "code",
   "execution_count": 64,
   "id": "0c91dd15-7f36-4f83-ba3a-12a72e536634",
   "metadata": {},
   "outputs": [
    {
     "data": {
      "text/html": [
       "<div>\n",
       "<style scoped>\n",
       "    .dataframe tbody tr th:only-of-type {\n",
       "        vertical-align: middle;\n",
       "    }\n",
       "\n",
       "    .dataframe tbody tr th {\n",
       "        vertical-align: top;\n",
       "    }\n",
       "\n",
       "    .dataframe thead th {\n",
       "        text-align: right;\n",
       "    }\n",
       "</style>\n",
       "<table border=\"1\" class=\"dataframe\">\n",
       "  <thead>\n",
       "    <tr style=\"text-align: right;\">\n",
       "      <th></th>\n",
       "      <th>total_bill</th>\n",
       "      <th>tip</th>\n",
       "      <th>sex</th>\n",
       "      <th>smoker</th>\n",
       "      <th>day</th>\n",
       "      <th>time</th>\n",
       "      <th>size</th>\n",
       "    </tr>\n",
       "  </thead>\n",
       "  <tbody>\n",
       "    <tr>\n",
       "      <th>0</th>\n",
       "      <td>16.99</td>\n",
       "      <td>1.01</td>\n",
       "      <td>Female</td>\n",
       "      <td>No</td>\n",
       "      <td>Sun</td>\n",
       "      <td>Dinner</td>\n",
       "      <td>2</td>\n",
       "    </tr>\n",
       "    <tr>\n",
       "      <th>1</th>\n",
       "      <td>10.34</td>\n",
       "      <td>1.66</td>\n",
       "      <td>Male</td>\n",
       "      <td>No</td>\n",
       "      <td>Sun</td>\n",
       "      <td>Dinner</td>\n",
       "      <td>3</td>\n",
       "    </tr>\n",
       "    <tr>\n",
       "      <th>2</th>\n",
       "      <td>21.01</td>\n",
       "      <td>3.50</td>\n",
       "      <td>Male</td>\n",
       "      <td>No</td>\n",
       "      <td>Sun</td>\n",
       "      <td>Dinner</td>\n",
       "      <td>3</td>\n",
       "    </tr>\n",
       "    <tr>\n",
       "      <th>3</th>\n",
       "      <td>23.68</td>\n",
       "      <td>3.31</td>\n",
       "      <td>Male</td>\n",
       "      <td>No</td>\n",
       "      <td>Sun</td>\n",
       "      <td>Dinner</td>\n",
       "      <td>2</td>\n",
       "    </tr>\n",
       "    <tr>\n",
       "      <th>4</th>\n",
       "      <td>24.59</td>\n",
       "      <td>3.61</td>\n",
       "      <td>Female</td>\n",
       "      <td>No</td>\n",
       "      <td>Sun</td>\n",
       "      <td>Dinner</td>\n",
       "      <td>4</td>\n",
       "    </tr>\n",
       "    <tr>\n",
       "      <th>...</th>\n",
       "      <td>...</td>\n",
       "      <td>...</td>\n",
       "      <td>...</td>\n",
       "      <td>...</td>\n",
       "      <td>...</td>\n",
       "      <td>...</td>\n",
       "      <td>...</td>\n",
       "    </tr>\n",
       "    <tr>\n",
       "      <th>239</th>\n",
       "      <td>29.03</td>\n",
       "      <td>5.92</td>\n",
       "      <td>Male</td>\n",
       "      <td>No</td>\n",
       "      <td>Sat</td>\n",
       "      <td>Dinner</td>\n",
       "      <td>3</td>\n",
       "    </tr>\n",
       "    <tr>\n",
       "      <th>240</th>\n",
       "      <td>27.18</td>\n",
       "      <td>2.00</td>\n",
       "      <td>Female</td>\n",
       "      <td>Yes</td>\n",
       "      <td>Sat</td>\n",
       "      <td>Dinner</td>\n",
       "      <td>2</td>\n",
       "    </tr>\n",
       "    <tr>\n",
       "      <th>241</th>\n",
       "      <td>22.67</td>\n",
       "      <td>2.00</td>\n",
       "      <td>Male</td>\n",
       "      <td>Yes</td>\n",
       "      <td>Sat</td>\n",
       "      <td>Dinner</td>\n",
       "      <td>2</td>\n",
       "    </tr>\n",
       "    <tr>\n",
       "      <th>242</th>\n",
       "      <td>17.82</td>\n",
       "      <td>1.75</td>\n",
       "      <td>Male</td>\n",
       "      <td>No</td>\n",
       "      <td>Sat</td>\n",
       "      <td>Dinner</td>\n",
       "      <td>2</td>\n",
       "    </tr>\n",
       "    <tr>\n",
       "      <th>243</th>\n",
       "      <td>18.78</td>\n",
       "      <td>3.00</td>\n",
       "      <td>Female</td>\n",
       "      <td>No</td>\n",
       "      <td>Thur</td>\n",
       "      <td>Dinner</td>\n",
       "      <td>2</td>\n",
       "    </tr>\n",
       "  </tbody>\n",
       "</table>\n",
       "<p>244 rows × 7 columns</p>\n",
       "</div>"
      ],
      "text/plain": [
       "     total_bill   tip     sex smoker   day    time  size\n",
       "0         16.99  1.01  Female     No   Sun  Dinner     2\n",
       "1         10.34  1.66    Male     No   Sun  Dinner     3\n",
       "2         21.01  3.50    Male     No   Sun  Dinner     3\n",
       "3         23.68  3.31    Male     No   Sun  Dinner     2\n",
       "4         24.59  3.61  Female     No   Sun  Dinner     4\n",
       "..          ...   ...     ...    ...   ...     ...   ...\n",
       "239       29.03  5.92    Male     No   Sat  Dinner     3\n",
       "240       27.18  2.00  Female    Yes   Sat  Dinner     2\n",
       "241       22.67  2.00    Male    Yes   Sat  Dinner     2\n",
       "242       17.82  1.75    Male     No   Sat  Dinner     2\n",
       "243       18.78  3.00  Female     No  Thur  Dinner     2\n",
       "\n",
       "[244 rows x 7 columns]"
      ]
     },
     "execution_count": 64,
     "metadata": {},
     "output_type": "execute_result"
    }
   ],
   "source": [
    "df"
   ]
  },
  {
   "cell_type": "code",
   "execution_count": 65,
   "id": "fb3afcac-b0e3-4ab3-b771-8e0f43357095",
   "metadata": {},
   "outputs": [
    {
     "name": "stderr",
     "output_type": "stream",
     "text": [
      "/tmp/ipykernel_103/1134722465.py:1: FutureWarning: The default value of numeric_only in DataFrame.corr is deprecated. In a future version, it will default to False. Select only valid columns or specify the value of numeric_only to silence this warning.\n",
      "  df.corr()\n"
     ]
    },
    {
     "data": {
      "text/html": [
       "<div>\n",
       "<style scoped>\n",
       "    .dataframe tbody tr th:only-of-type {\n",
       "        vertical-align: middle;\n",
       "    }\n",
       "\n",
       "    .dataframe tbody tr th {\n",
       "        vertical-align: top;\n",
       "    }\n",
       "\n",
       "    .dataframe thead th {\n",
       "        text-align: right;\n",
       "    }\n",
       "</style>\n",
       "<table border=\"1\" class=\"dataframe\">\n",
       "  <thead>\n",
       "    <tr style=\"text-align: right;\">\n",
       "      <th></th>\n",
       "      <th>total_bill</th>\n",
       "      <th>tip</th>\n",
       "      <th>size</th>\n",
       "    </tr>\n",
       "  </thead>\n",
       "  <tbody>\n",
       "    <tr>\n",
       "      <th>total_bill</th>\n",
       "      <td>1.000000</td>\n",
       "      <td>0.675734</td>\n",
       "      <td>0.598315</td>\n",
       "    </tr>\n",
       "    <tr>\n",
       "      <th>tip</th>\n",
       "      <td>0.675734</td>\n",
       "      <td>1.000000</td>\n",
       "      <td>0.489299</td>\n",
       "    </tr>\n",
       "    <tr>\n",
       "      <th>size</th>\n",
       "      <td>0.598315</td>\n",
       "      <td>0.489299</td>\n",
       "      <td>1.000000</td>\n",
       "    </tr>\n",
       "  </tbody>\n",
       "</table>\n",
       "</div>"
      ],
      "text/plain": [
       "            total_bill       tip      size\n",
       "total_bill    1.000000  0.675734  0.598315\n",
       "tip           0.675734  1.000000  0.489299\n",
       "size          0.598315  0.489299  1.000000"
      ]
     },
     "execution_count": 65,
     "metadata": {},
     "output_type": "execute_result"
    }
   ],
   "source": [
    "df.corr()"
   ]
  },
  {
   "cell_type": "code",
   "execution_count": 67,
   "id": "d7be854c-0ce9-4da5-a24c-335e3be5182e",
   "metadata": {},
   "outputs": [
    {
     "name": "stderr",
     "output_type": "stream",
     "text": [
      "/tmp/ipykernel_103/3870688284.py:1: FutureWarning: The default value of numeric_only in DataFrame.corr is deprecated. In a future version, it will default to False. Select only valid columns or specify the value of numeric_only to silence this warning.\n",
      "  corr = df.corr()\n"
     ]
    },
    {
     "data": {
      "text/plain": [
       "<AxesSubplot: >"
      ]
     },
     "execution_count": 67,
     "metadata": {},
     "output_type": "execute_result"
    },
    {
     "data": {
      "image/png": "[encoded data removed]",
      "text/plain": [
       "<Figure size 640x480 with 2 Axes>"
      ]
     },
     "metadata": {},
     "output_type": "display_data"
    }
   ],
   "source": [
    "corr = df.corr()\n",
    "sns.heatmap(corr, annot=True)"
   ]
  },
  {
   "cell_type": "code",
   "execution_count": 68,
   "id": "cf0190aa-ffc8-4805-a070-96065b09f996",
   "metadata": {},
   "outputs": [
    {
     "name": "stderr",
     "output_type": "stream",
     "text": [
      "/tmp/ipykernel_103/1545644723.py:1: FutureWarning: The default value of numeric_only in DataFrame.cov is deprecated. In a future version, it will default to False. Select only valid columns or specify the value of numeric_only to silence this warning.\n",
      "  df.cov()\n"
     ]
    },
    {
     "data": {
      "text/html": [
       "<div>\n",
       "<style scoped>\n",
       "    .dataframe tbody tr th:only-of-type {\n",
       "        vertical-align: middle;\n",
       "    }\n",
       "\n",
       "    .dataframe tbody tr th {\n",
       "        vertical-align: top;\n",
       "    }\n",
       "\n",
       "    .dataframe thead th {\n",
       "        text-align: right;\n",
       "    }\n",
       "</style>\n",
       "<table border=\"1\" class=\"dataframe\">\n",
       "  <thead>\n",
       "    <tr style=\"text-align: right;\">\n",
       "      <th></th>\n",
       "      <th>total_bill</th>\n",
       "      <th>tip</th>\n",
       "      <th>size</th>\n",
       "    </tr>\n",
       "  </thead>\n",
       "  <tbody>\n",
       "    <tr>\n",
       "      <th>total_bill</th>\n",
       "      <td>79.252939</td>\n",
       "      <td>8.323502</td>\n",
       "      <td>5.065983</td>\n",
       "    </tr>\n",
       "    <tr>\n",
       "      <th>tip</th>\n",
       "      <td>8.323502</td>\n",
       "      <td>1.914455</td>\n",
       "      <td>0.643906</td>\n",
       "    </tr>\n",
       "    <tr>\n",
       "      <th>size</th>\n",
       "      <td>5.065983</td>\n",
       "      <td>0.643906</td>\n",
       "      <td>0.904591</td>\n",
       "    </tr>\n",
       "  </tbody>\n",
       "</table>\n",
       "</div>"
      ],
      "text/plain": [
       "            total_bill       tip      size\n",
       "total_bill   79.252939  8.323502  5.065983\n",
       "tip           8.323502  1.914455  0.643906\n",
       "size          5.065983  0.643906  0.904591"
      ]
     },
     "execution_count": 68,
     "metadata": {},
     "output_type": "execute_result"
    }
   ],
   "source": [
    "df.cov()"
   ]
  },
  {
   "cell_type": "code",
   "execution_count": 69,
   "id": "884a9d0b-d554-4cf4-9f94-c04d159a5f47",
   "metadata": {},
   "outputs": [
    {
     "data": {
      "text/plain": [
       "<seaborn.axisgrid.PairGrid at 0x7f636b1a5fc0>"
      ]
     },
     "execution_count": 69,
     "metadata": {},
     "output_type": "execute_result"
    },
    {
     "data": {
      "image/png": "[encoded data removed]",
      "text/plain": [
       "<Figure size 750x750 with 12 Axes>"
      ]
     },
     "metadata": {},
     "output_type": "display_data"
    }
   ],
   "source": [
    "sns.pairplot(df)"
   ]
  },
  {
   "cell_type": "code",
   "execution_count": 70,
   "id": "4781abfc-ea1a-48a5-857a-036f18b3397d",
   "metadata": {},
   "outputs": [
    {
     "data": {
      "text/plain": [
       "[1, 2, 1, 100, 100, 100, 3, 4, 78, -800, 600]"
      ]
     },
     "execution_count": 70,
     "metadata": {},
     "output_type": "execute_result"
    }
   ],
   "source": [
    "data"
   ]
  },
  {
   "cell_type": "code",
   "execution_count": 71,
   "id": "d81313f7-6c3d-42e7-87d8-14e4a8f1aaeb",
   "metadata": {},
   "outputs": [
    {
     "data": {
      "text/plain": [
       "<AxesSubplot: ylabel='Count'>"
      ]
     },
     "execution_count": 71,
     "metadata": {},
     "output_type": "execute_result"
    },
    {
     "data": {
      "image/png": "[encoded data removed]",
      "text/plain": [
       "<Figure size 640x480 with 1 Axes>"
      ]
     },
     "metadata": {},
     "output_type": "display_data"
    }
   ],
   "source": [
    "sns.histplot(data)"
   ]
  },
  {
   "cell_type": "code",
   "execution_count": 72,
   "id": "838e21fd-3df6-4eb5-87dc-d1adc945b075",
   "metadata": {},
   "outputs": [
    {
     "data": {
      "text/plain": [
       "<AxesSubplot: ylabel='Count'>"
      ]
     },
     "execution_count": 72,
     "metadata": {},
     "output_type": "execute_result"
    },
    {
     "data": {
      "image/png": "[encoded data removed]",
      "text/plain": [
       "<Figure size 640x480 with 1 Axes>"
      ]
     },
     "metadata": {},
     "output_type": "display_data"
    }
   ],
   "source": [
    "sns.histplot(data, kde = True)"
   ]
  },
  {
   "cell_type": "code",
   "execution_count": 74,
   "id": "cf12a4b6-af35-42e4-aad6-a7fb15610dfd",
   "metadata": {},
   "outputs": [
    {
     "data": {
      "text/plain": [
       "<AxesSubplot: xlabel='total_bill', ylabel='Count'>"
      ]
     },
     "execution_count": 74,
     "metadata": {},
     "output_type": "execute_result"
    },
    {
     "data": {
      "image/png": "[encoded data removed]",
      "text/plain": [
       "<Figure size 640x480 with 1 Axes>"
      ]
     },
     "metadata": {},
     "output_type": "display_data"
    }
   ],
   "source": [
    "sns.histplot(df['total_bill'])"
   ]
  },
  {
   "cell_type": "code",
   "execution_count": 75,
   "id": "2090fadb-5d8e-415e-8ebd-1ba1770ca683",
   "metadata": {},
   "outputs": [
    {
     "data": {
      "text/plain": [
       "<AxesSubplot: xlabel='total_bill', ylabel='Count'>"
      ]
     },
     "execution_count": 75,
     "metadata": {},
     "output_type": "execute_result"
    },
    {
     "data": {
      "image/png": "[encoded data removed]",
      "text/plain": [
       "<Figure size 640x480 with 1 Axes>"
      ]
     },
     "metadata": {},
     "output_type": "display_data"
    }
   ],
   "source": [
    "sns.histplot(df['total_bill'], kde = True)"
   ]
  },
  {
   "cell_type": "code",
   "execution_count": 76,
   "id": "ead81ce1-6b8b-46ff-9644-fe6e90b61302",
   "metadata": {},
   "outputs": [
    {
     "name": "stderr",
     "output_type": "stream",
     "text": [
      "/tmp/ipykernel_103/2728618944.py:1: UserWarning: \n",
      "\n",
      "`distplot` is a deprecated function and will be removed in seaborn v0.14.0.\n",
      "\n",
      "Please adapt your code to use either `displot` (a figure-level function with\n",
      "similar flexibility) or `histplot` (an axes-level function for histograms).\n",
      "\n",
      "For a guide to updating your code to use the new functions, please see\n",
      "https://gist.github.com/mwaskom/de44147ed2974457ad6372750bbe5751\n",
      "\n",
      "  sns.distplot(df['total_bill'], kde = True)\n"
     ]
    },
    {
     "data": {
      "text/plain": [
       "<AxesSubplot: xlabel='total_bill', ylabel='Density'>"
      ]
     },
     "execution_count": 76,
     "metadata": {},
     "output_type": "execute_result"
    },
    {
     "data": {
      "image/png": "[encoded data removed]",
      "text/plain": [
       "<Figure size 640x480 with 1 Axes>"
      ]
     },
     "metadata": {},
     "output_type": "display_data"
    }
   ],
   "source": [
    "sns.distplot(df['total_bill'], kde = True)"
   ]
  },
  {
   "cell_type": "code",
   "execution_count": 77,
   "id": "37d5b492-07c4-4e6c-a9a4-0e21c64adb6e",
   "metadata": {},
   "outputs": [
    {
     "data": {
      "text/plain": [
       "array([ 1.09365204,  0.42184955,  0.45972018,  0.93468319,  0.26419447,\n",
       "        0.45040986,  0.41907618,  0.49400358,  0.43960168,  0.46929369,\n",
       "        0.49073842,  0.51639768, -0.04570669,  0.5699391 ,  0.88010119,\n",
       "        1.05976746,  0.43298623,  0.4833608 ,  0.48808124,  0.57404977,\n",
       "        0.34843671,  0.45449151,  0.46736999,  0.58496006,  0.76885906,\n",
       "        0.48608311,  0.26668787,  0.91959161,  0.28876972,  0.33444796,\n",
       "        0.65618895,  0.41528962,  0.50305972,  0.33368382,  0.58105274,\n",
       "        0.70928637,  0.60057777,  0.52679215,  0.70290376,  0.87060717,\n",
       "        0.20066264,  0.36152194,  0.47774299,  0.45207825,  0.30144962,\n",
       "        0.08776175,  0.5308167 ,  0.37837118,  0.37553071,  0.45170208,\n",
       "        0.4580574 ,  0.33998333,  0.52130009,  0.58891428,  0.31307135,\n",
       "        0.4583814 ,  0.25347255,  0.44302905,  0.58897076,  0.41823359,\n",
       "        0.63673574,  0.51882835,  0.32757561,  0.46361724,  0.58117625,\n",
       "        0.34383632,  0.51976315,  0.51712299,  0.63735859,  0.80563286,\n",
       "        0.36946526,  0.12178871,  0.77379016,  0.33564468,  0.61690768,\n",
       "        0.41742945,  0.66687035,  0.32255211,  0.4821402 ,  0.89625043,\n",
       "        0.61885593,  0.72401589,  0.1021147 ,  0.42516637,  0.74592808,\n",
       "        0.66336498,  0.39506049,  0.25658106,  0.44260107,  0.44128142,\n",
       "        0.33274587,  0.45817657,  0.21781459,  0.83851676,  0.51336382,\n",
       "        0.7652383 ,  0.5129018 ,  0.58519331,  0.18632631,  0.71714435,\n",
       "        0.68039273,  0.86384494,  0.49698354,  0.58755586,  0.19330314,\n",
       "        0.56111133,  0.38083217,  0.48537692,  0.60995727,  0.54299085,\n",
       "        0.51855139,  1.24730244,  0.48249131,  0.25507993,  0.25784465,\n",
       "        0.61803439,  0.97896621,  0.4064753 ,  0.32681492,  0.81760103,\n",
       "        0.32629628,  0.41199619,  0.05154997,  0.70370271,  0.155535  ,\n",
       "        0.29086447,  0.47650232,  0.41130897,  0.52475792,  0.56887643,\n",
       "        0.62210129,  0.6299115 ,  0.52519731,  0.40919801,  0.44719419,\n",
       "        0.42906474,  0.45800925,  0.75018659,  0.63549389,  0.94817231,\n",
       "        0.59546039,  0.40304615,  0.88870553,  0.71590939,  0.71321725,\n",
       "        0.75296489,  0.49461532,  0.70514347,  0.42695703,  0.37723552,\n",
       "        0.65675985,  0.24735187,  0.34596565,  0.25339163,  0.80331986,\n",
       "        0.75941188,  0.65721495,  0.29655791,  0.49008581,  0.59583144,\n",
       "        0.70024901,  1.01185718,  0.26656738,  0.4182177 ,  0.61112301,\n",
       "        0.6315124 ,  0.48911861,  0.69773376,  0.33808117,  0.59236286,\n",
       "        0.24977239,  0.42903541,  0.61494806,  0.59987202,  0.65903486,\n",
       "        0.68056291,  0.70431612,  0.48386822,  0.29957624,  0.60719658,\n",
       "        0.57952924,  0.24686981,  0.49183623,  0.36172858,  0.4114806 ,\n",
       "        0.55362154,  0.45107546,  0.50095249,  0.18884639,  0.59736574,\n",
       "        0.17297397,  0.89843205,  0.66451551,  0.11601925,  0.25210026,\n",
       "        0.49616157,  0.33281218,  0.0153873 ,  0.59684224,  0.90780654,\n",
       "        0.51543643,  0.28821118,  0.73150805,  0.71013464,  0.52758354,\n",
       "        0.33101842,  0.617614  ,  0.610909  ,  0.45818387,  0.42914143,\n",
       "        0.38702971,  0.65853671,  0.49190804,  0.24975548,  0.50162985,\n",
       "        0.51212962,  0.58106901,  0.39126931,  0.6546709 ,  0.3180715 ,\n",
       "        0.28473948,  0.46498037,  0.59060225,  0.50607873,  0.15588442,\n",
       "        0.51439484,  0.22788593,  0.69553565,  0.42035818,  0.51336288,\n",
       "        0.17126613,  0.38789826,  0.62193643,  0.35440133,  0.82271439,\n",
       "        0.37189923,  0.38036745,  0.26450232,  0.74369401,  0.52948266,\n",
       "        0.66868259,  0.68073228,  0.55233529,  0.31841958,  0.55822162,\n",
       "        0.67043976,  0.469583  ,  0.77940848,  0.73904469,  0.35042519,\n",
       "        0.75451127,  0.57550992,  0.57130948,  0.53871379,  0.25542356,\n",
       "        0.28291318,  0.26285158,  0.31553294,  0.37568696,  0.45990202,\n",
       "        0.52523742,  0.53528381,  0.6968236 ,  0.24944921,  0.4041438 ,\n",
       "        0.03451027,  0.27687643,  0.49320264,  0.36839467,  0.35595434,\n",
       "        0.59022026,  0.33706405,  0.51456016,  0.43509536,  0.23106933,\n",
       "        0.58391121,  0.33038287,  0.4839298 ,  0.07109912,  0.86481428,\n",
       "        0.60436606,  0.48014776,  0.50301848,  0.57075861,  0.45812126,\n",
       "        0.34633213,  0.83625454,  0.46003458,  0.20342625,  0.63049987,\n",
       "        0.40867809,  0.39617782,  0.71159308,  0.19127459,  0.25708262,\n",
       "        0.45691638,  0.55794366, -0.02368275,  0.26113545,  0.77348673,\n",
       "        0.25492297,  0.34181049,  0.83390972,  0.53969821,  0.31012718,\n",
       "        0.34599793,  0.03126141,  0.45529017,  0.48764183,  0.62011306,\n",
       "        0.67025597,  0.34281209,  0.58649406,  0.79399836,  0.6233754 ,\n",
       "        0.68239409,  0.28041146,  0.45206937,  0.49620391,  0.32399704,\n",
       "        0.39948974,  0.50943204,  0.48806122,  0.62795428,  0.30112402,\n",
       "        0.61871128,  0.3517618 , -0.05323744,  0.47205412,  0.43732124,\n",
       "        0.34879551,  0.83250366,  0.36003579,  0.40765323,  0.3729549 ,\n",
       "        0.39802771,  0.60528617,  0.57283997,  0.21949082,  0.52071916,\n",
       "        0.48224763,  0.68101611,  0.67133732,  0.54039271,  0.61801957,\n",
       "        0.49386428,  0.59973622,  0.56809574,  0.28778876,  0.64986708,\n",
       "        0.46871633,  0.1328303 ,  0.1980006 ,  0.61228679,  0.36966285,\n",
       "        0.67046445,  0.74893514,  0.31520207,  0.18104107,  0.48137349,\n",
       "        0.34131566,  0.50428791,  0.35332239,  0.51613798,  0.37695886,\n",
       "        0.63395811, -0.08151786,  0.32788258,  0.41352166,  0.4665795 ,\n",
       "        0.72442271,  0.5055898 ,  0.64872378,  0.74190089,  0.49545326,\n",
       "        0.36038209,  0.54868982,  0.74152369,  0.51115572,  0.52095424,\n",
       "        0.56447613,  0.80189311,  0.77027608,  0.5339911 ,  0.48223336,\n",
       "        0.33779973,  0.25713749,  0.80851068,  0.3873028 ,  0.76321957,\n",
       "        0.56180474,  0.85017678,  0.69984828,  0.23858412,  0.5442167 ,\n",
       "        0.4691429 ,  0.51919923,  0.60645625,  0.42895546,  0.32781667,\n",
       "        0.68567297,  0.51045436,  0.57928912,  0.59501865,  0.53921751,\n",
       "        0.77348996,  0.3354374 ,  0.38101448,  0.59341117,  0.69104776,\n",
       "        0.36192305,  0.38494147,  0.61983476,  0.29032128,  0.08277967,\n",
       "        0.65758652,  0.37381054,  0.62232376,  0.55410541,  0.54437974,\n",
       "        0.52112106,  0.39520756,  0.64088333,  0.56933539,  0.58657667,\n",
       "        0.51113683,  0.58564137,  0.44737602,  0.14339198,  0.33633794,\n",
       "        0.67018097,  0.80391819,  0.50482741,  0.47910774,  0.61949622,\n",
       "        0.18680864, -0.12431291,  0.52291598,  0.66533995,  0.42656183,\n",
       "        0.13239746,  0.44992773,  0.33627802,  0.72265937,  0.52423558,\n",
       "        0.12726555,  0.41586788, -0.05722909,  0.48225162,  0.32644875,\n",
       "        0.5422314 ,  0.45714719,  0.44662348,  0.71020819,  0.25426987,\n",
       "        0.71655036,  0.42328301,  0.77564059,  0.57628957,  0.51854611,\n",
       "        0.65322579,  0.34426983,  0.82344883,  0.44520699,  0.47527881,\n",
       "        0.64756312,  0.2713178 ,  0.44638866,  0.69109603,  0.50256297,\n",
       "        1.14876101,  0.69360841,  0.80650386,  0.59406342,  0.44596807,\n",
       "        0.36610553,  0.44615126,  0.60575667,  0.45784327,  0.30009025,\n",
       "        0.69741547,  0.62157676,  0.41890215,  0.4757935 ,  0.4874294 ,\n",
       "        0.39589444,  0.20933861,  0.62134283,  0.49959125,  0.5678752 ,\n",
       "        0.68308286,  0.47310262,  0.27487782,  0.69509855,  0.57674916,\n",
       "        0.3570828 ,  0.76623728,  0.69709341,  0.8910795 ,  0.60034383,\n",
       "        0.61909999,  0.48479299,  0.56247456,  0.61207688,  0.39916446,\n",
       "        0.32130066,  0.48678986,  0.10348446,  0.61396001,  0.67717454,\n",
       "        0.59273143,  0.15463709,  0.61708067,  0.41303011,  0.40547998,\n",
       "        0.42336057,  0.55600242,  0.58872622,  0.64153723,  0.51975068,\n",
       "        0.54659069,  0.73625715,  0.33081137,  0.5710811 ,  0.76557044,\n",
       "        0.29396282,  0.40128608,  0.74823205,  0.57792417,  0.43585378,\n",
       "        0.44647834,  0.46945565,  0.302815  ,  0.70412711,  0.58864019,\n",
       "        0.1971731 ,  0.20924346,  0.70789307,  0.77756246,  0.63218994,\n",
       "        0.32148392,  0.63524972,  0.57304749,  0.76719662,  0.64703675,\n",
       "        0.09948971,  0.11280867,  0.43871334,  0.34126546,  0.37573755,\n",
       "        0.29331351,  0.50879248,  0.33173676,  0.51498253,  0.67775613,\n",
       "        0.54952071,  0.45975472,  0.9105222 ,  0.34717419,  0.67411069,\n",
       "        0.56578716,  0.22021185,  0.4011428 ,  0.66629643, -0.06856441,\n",
       "        0.79338139,  0.51501759,  0.22126305,  0.56713467,  0.51926232,\n",
       "        0.71116917,  0.50125087,  0.63601528,  0.26485837,  0.60738008,\n",
       "        0.28974608,  0.36295144,  0.64919617,  0.83897545,  0.96580442,\n",
       "        0.65739691,  0.53946996,  0.43394662,  0.30856855,  0.79819103,\n",
       "        0.43833456,  0.7557902 ,  0.58142919,  0.68645657,  0.29746696,\n",
       "        0.4110241 ,  0.64631848,  0.59665704,  0.47542998,  0.47771122,\n",
       "        0.30105185,  0.60156916,  0.51059439,  0.44909739,  0.27779274,\n",
       "        0.5842605 ,  0.3735287 ,  0.36979296,  0.6312528 ,  0.70569752,\n",
       "        0.68339866,  0.23506702,  0.56184645,  0.12647748,  0.65209505,\n",
       "        0.2529088 ,  0.48910639,  0.54878427,  0.52661282,  0.28994647,\n",
       "        0.51199314,  0.28863547,  0.52822915,  0.13166383,  0.69104211,\n",
       "        0.84202721,  0.51351296,  0.72618091,  0.11125266,  0.30847322,\n",
       "        0.36385346,  0.4778358 ,  0.51375593,  0.60073508,  0.49160655,\n",
       "        0.50337077,  0.33427692,  0.38529524,  0.15320745,  0.29664319,\n",
       "        0.41545511,  0.46745361,  0.73373973,  0.3105942 ,  0.37555301,\n",
       "        0.49254927,  0.69790536,  0.60348559,  0.51083369,  0.56792315,\n",
       "        0.40057209,  0.58175843,  0.41848892,  0.34091721,  0.88451897,\n",
       "        0.35276337,  0.49883695,  0.29422028,  0.31527676,  0.65619695,\n",
       "        0.36201078,  0.40668975,  0.59141086,  0.38267957,  0.54288414,\n",
       "        0.42478843,  0.40507452,  0.61959439,  0.58966155,  0.44253608,\n",
       "        0.53836071,  0.34331441,  0.08165151,  0.36059539,  0.46008076,\n",
       "        0.58875816,  0.46644928,  0.30726911,  0.48838132,  0.7304566 ,\n",
       "        0.8899226 ,  0.28430632,  0.60520515, -0.03459276,  0.06369088,\n",
       "        0.29271393,  0.73459529,  0.65454813,  0.54495299,  0.80858697,\n",
       "        0.40503351, -0.1133431 ,  0.4279414 ,  0.60116571,  0.41443894,\n",
       "        0.60882639,  0.36454202,  0.45080588,  0.42220669,  0.29169565,\n",
       "        0.65532172,  0.67127659,  0.51596991,  0.28300973,  0.27839415,\n",
       "        0.43312398,  0.31162602,  0.10234424,  0.30724056,  0.70887817,\n",
       "        0.87561024,  0.8461276 ,  0.09402897,  0.53871388,  0.56298249,\n",
       "        0.42248446,  0.2290392 , -0.08858308,  0.19600918,  0.49915833,\n",
       "        0.86496106,  0.26357196,  0.43949074,  0.61700483,  0.54857514,\n",
       "        0.62992351,  0.34303528,  0.26207008,  0.15749635,  0.18432547,\n",
       "        0.18753164,  0.23887214,  0.35839489,  0.60190725,  0.42137978,\n",
       "        0.66785731,  0.31219792,  0.48363175,  0.60831131,  0.24398676,\n",
       "        0.29958152,  0.35303668,  0.74519437,  0.33945016,  0.59057641,\n",
       "        0.29042262,  0.66346683,  0.50207074,  0.7371297 ,  0.27026137,\n",
       "        0.44638406,  0.58057217,  0.36026401,  0.69437557,  0.44360929,\n",
       "        0.54351943,  0.62068513,  0.69789311,  0.55461776,  0.39678864,\n",
       "        0.51792087,  0.6991097 ,  0.26706901,  0.57307783,  0.74817601,\n",
       "        0.48330558,  0.39654419,  0.67449245,  0.9352766 ,  0.45736624,\n",
       "        0.29290868,  0.69219509,  0.57653236,  0.61110475,  0.26344612,\n",
       "        0.49455447,  0.53355418,  0.60406943,  0.14342742,  0.44876896,\n",
       "        0.45065733,  0.59105276,  0.14963428,  0.2594869 ,  0.62995055,\n",
       "        0.19311034,  0.22244084,  0.55763435,  0.51934849,  0.27696383,\n",
       "        0.56867741,  0.18477974,  0.57032435,  0.81502244,  0.50314707,\n",
       "        0.34169189,  0.72047626,  0.06068534,  0.4502331 ,  0.703445  ,\n",
       "        0.52871765,  0.44659918,  0.27888895,  0.49974524,  0.64294657,\n",
       "        0.00378819,  0.40711404,  0.45975981,  0.86096558,  0.53433184,\n",
       "        0.72961654,  0.40532671,  0.75329607,  0.59563965,  0.61957474,\n",
       "        0.6381974 ,  0.35626776,  0.42322427,  0.45833494,  0.52108937,\n",
       "        0.70631664,  0.74963406,  0.34819871,  1.13273977,  0.45872723,\n",
       "        0.3707577 ,  0.56501585,  0.57539905,  0.33307   ,  0.37186249,\n",
       "        0.71730508,  0.10343044,  0.70585533,  0.35807387,  0.29646861,\n",
       "        0.54071068,  0.24134764,  0.34275238,  0.58539032, -0.10241655,\n",
       "        0.4878347 ,  0.7989744 ,  0.27663152,  0.38342326,  0.37238694,\n",
       "        0.36336109,  0.25340251,  0.30866774,  0.338369  ,  0.72656837,\n",
       "        0.90286085,  0.63410925,  0.60894881,  0.83303713,  0.6277444 ,\n",
       "        0.69762108,  0.14144183,  0.63210596,  0.09583222,  0.52172437,\n",
       "        0.38503162,  0.24135578,  0.1573821 ,  0.38881096,  0.71261687,\n",
       "        0.99347435,  0.34954475,  0.77278234,  0.45189988,  0.46010424,\n",
       "        0.22044711,  0.42024847,  0.62072161,  0.47378376,  0.42179382,\n",
       "        0.676065  ,  0.67285252,  0.89490752,  0.56308592,  0.42236265,\n",
       "        0.60793853,  0.44306186,  0.57318761,  0.30375019,  0.69399955,\n",
       "        0.23120899,  0.42831219,  0.60340865,  0.7361598 ,  1.01144705,\n",
       "        0.76946814,  0.52100435,  0.40234858,  0.80509592,  0.56569977,\n",
       "        0.02270666,  0.81712244,  0.72123812,  0.7116876 ,  0.18866942,\n",
       "        0.63107942,  0.15547129,  0.56848174,  0.30967912,  0.60079487,\n",
       "        0.14245868,  0.6060564 ,  0.27894209,  0.64116649,  0.27443593,\n",
       "        0.37938441,  0.43693915,  0.24412533,  0.40083795,  0.65854631,\n",
       "        0.79719149,  0.2649518 ,  0.26261621,  0.50663555,  0.25442439,\n",
       "        0.28821522,  0.74132651,  0.67409937,  0.56964058,  0.84056061,\n",
       "        0.4250133 ,  0.79740447,  0.2022126 ,  0.50234056,  0.45713473,\n",
       "        0.33745197,  0.14767631,  0.15407639,  0.56695304,  0.59049255,\n",
       "        0.25537673,  0.66430692,  0.35223351,  0.71292631,  0.73348784,\n",
       "        0.29490759,  0.49692545,  0.88406065,  0.37896229,  0.73149623,\n",
       "        0.62999517,  0.76820117,  0.81930788,  0.55897375,  0.79187165,\n",
       "        0.13093203,  0.35933781,  0.42139678,  0.62454236,  0.30522721,\n",
       "        0.34918599,  0.76275703,  0.49387605,  0.5064901 ,  0.65741874,\n",
       "        0.94987136,  0.53212191,  0.83018696,  0.55757451,  0.48997489,\n",
       "        0.41225487,  0.30744411,  0.70876712,  0.64416183,  0.51996532,\n",
       "        0.45081498,  0.5153151 ,  0.45135388,  0.27602819,  0.34793933,\n",
       "        0.46927811,  0.41754136,  0.8179484 ,  0.57426852,  0.55514131,\n",
       "        0.35813303,  0.80172641,  0.24117088,  0.16630416,  0.29736556,\n",
       "        0.63698653,  0.63238523,  0.51166222,  0.36870278, -0.12432559,\n",
       "        0.39695889,  0.22690108,  0.43497729,  0.69447432,  0.65525326,\n",
       "        0.27140851,  0.3896218 ,  0.1211521 ,  0.45156906, -0.03590795,\n",
       "        0.83625264,  0.32981125,  0.4142494 ,  0.02866562,  0.81881273])"
      ]
     },
     "execution_count": 77,
     "metadata": {},
     "output_type": "execute_result"
    }
   ],
   "source": [
    "#normal distribution\n",
    "np.random.normal(0.5, 0.2, 1000)"
   ]
  },
  {
   "cell_type": "code",
   "execution_count": null,
   "id": "7cf5e238-bb44-4725-83ce-914172a5b6e9",
   "metadata": {},
   "outputs": [],
   "source": []
  }
 ],
 "metadata": {
  "kernelspec": {
   "display_name": "Python 3 (ipykernel)",
   "language": "python",
   "name": "python3"
  },
  "language_info": {
   "codemirror_mode": {
    "name": "ipython",
    "version": 3
   },
   "file_extension": ".py",
   "mimetype": "text/x-python",
   "name": "python",
   "nbconvert_exporter": "python",
   "pygments_lexer": "ipython3",
   "version": "3.10.8"
  }
 },
 "nbformat": 4,
 "nbformat_minor": 5
}
