{
 "cells": [
  {
   "cell_type": "code",
   "execution_count": 2,
   "id": "f8139e49-2292-42a0-a64b-6b41c4610a9c",
   "metadata": {},
   "outputs": [],
   "source": [
    "import pandas as pd\n",
    "import numpy as np\n",
    "import seaborn as sns\n",
    "import matplotlib.pyplot as plt\n",
    "\n",
    "\n",
    "import warnings\n",
    "warnings.filterwarnings('ignore')"
   ]
  },
  {
   "cell_type": "code",
   "execution_count": 1,
   "id": "9f5439be-8850-404b-be4c-0c34ba844cad",
   "metadata": {},
   "outputs": [],
   "source": [
    "from sklearn.datasets import make_classification\n",
    "X,y=make_classification(n_samples=1000,n_features=2,n_classes=2,n_clusters_per_class=2,n_redundant=0)"
   ]
  },
  {
   "cell_type": "code",
   "execution_count": 3,
   "id": "8bea3ff2-414f-4bf9-b686-326751970c22",
   "metadata": {},
   "outputs": [
    {
     "data": {
      "text/plain": [
       "array([[-1.1362961 , -0.3301834 ],\n",
       "       [-1.28007788,  1.6512465 ],\n",
       "       [ 2.17639211, -0.03586891],\n",
       "       ...,\n",
       "       [-0.74496382, -0.93954056],\n",
       "       [ 1.23600161,  1.5526471 ],\n",
       "       [-0.11340554, -0.88287367]])"
      ]
     },
     "execution_count": 3,
     "metadata": {},
     "output_type": "execute_result"
    }
   ],
   "source": [
    "X"
   ]
  },
  {
   "cell_type": "code",
   "execution_count": 4,
   "id": "c798f14e-0300-4096-829b-8c8d12fd1455",
   "metadata": {},
   "outputs": [
    {
     "data": {
      "text/plain": [
       "array([1, 1, 0, 0, 1, 1, 1, 1, 1, 0, 0, 1, 0, 0, 1, 1, 0, 1, 0, 0, 1, 0,\n",
       "       1, 1, 0, 0, 1, 0, 1, 0, 0, 1, 0, 0, 1, 0, 1, 0, 1, 0, 0, 1, 0, 1,\n",
       "       1, 1, 0, 0, 1, 0, 1, 0, 1, 0, 0, 1, 0, 0, 1, 1, 1, 0, 0, 1, 1, 1,\n",
       "       0, 1, 0, 0, 1, 0, 1, 0, 0, 0, 1, 0, 0, 1, 1, 1, 1, 0, 0, 1, 0, 0,\n",
       "       0, 1, 1, 0, 0, 1, 1, 1, 0, 0, 0, 1, 0, 1, 0, 1, 0, 0, 0, 0, 0, 0,\n",
       "       0, 1, 0, 1, 1, 0, 0, 1, 0, 0, 1, 0, 0, 1, 1, 0, 0, 0, 1, 1, 1, 0,\n",
       "       0, 0, 1, 1, 0, 0, 0, 1, 1, 0, 0, 1, 1, 1, 1, 0, 1, 0, 0, 0, 0, 1,\n",
       "       1, 0, 1, 1, 1, 1, 1, 0, 0, 1, 1, 0, 0, 1, 1, 0, 0, 1, 0, 1, 0, 0,\n",
       "       1, 1, 1, 0, 1, 0, 1, 0, 1, 1, 1, 0, 0, 1, 1, 0, 0, 0, 0, 0, 1, 1,\n",
       "       0, 1, 1, 0, 0, 1, 1, 0, 1, 0, 0, 1, 1, 0, 0, 0, 1, 0, 0, 0, 1, 0,\n",
       "       1, 1, 0, 1, 0, 0, 0, 1, 0, 1, 0, 0, 0, 1, 0, 1, 0, 1, 1, 1, 1, 0,\n",
       "       1, 1, 1, 0, 1, 1, 0, 1, 0, 0, 1, 0, 0, 1, 1, 0, 1, 1, 1, 1, 1, 1,\n",
       "       0, 0, 1, 1, 0, 1, 1, 0, 0, 0, 1, 0, 0, 0, 0, 0, 1, 1, 0, 1, 1, 1,\n",
       "       1, 1, 1, 0, 0, 0, 1, 1, 0, 1, 1, 1, 1, 0, 0, 0, 1, 0, 1, 0, 1, 0,\n",
       "       0, 0, 1, 0, 1, 0, 1, 1, 0, 0, 1, 1, 1, 1, 1, 1, 1, 0, 1, 1, 1, 0,\n",
       "       0, 0, 1, 0, 1, 0, 0, 1, 0, 1, 0, 1, 0, 0, 0, 0, 1, 0, 0, 0, 1, 0,\n",
       "       0, 0, 1, 1, 0, 0, 0, 0, 0, 1, 1, 1, 0, 0, 1, 0, 1, 1, 1, 1, 0, 1,\n",
       "       0, 0, 1, 0, 0, 1, 1, 1, 1, 1, 1, 1, 0, 0, 1, 1, 0, 1, 0, 0, 0, 1,\n",
       "       1, 0, 1, 1, 1, 0, 1, 1, 1, 1, 0, 0, 1, 1, 0, 0, 0, 0, 0, 1, 0, 0,\n",
       "       1, 0, 1, 1, 1, 1, 1, 0, 1, 0, 0, 1, 0, 1, 0, 0, 0, 1, 1, 0, 1, 0,\n",
       "       1, 1, 0, 0, 1, 1, 0, 0, 0, 0, 0, 0, 1, 1, 0, 1, 0, 0, 0, 1, 0, 0,\n",
       "       1, 0, 0, 0, 1, 0, 0, 1, 1, 0, 0, 1, 0, 0, 1, 0, 1, 0, 0, 0, 0, 1,\n",
       "       0, 0, 1, 1, 1, 1, 0, 1, 0, 0, 1, 0, 1, 0, 1, 0, 0, 1, 1, 0, 0, 1,\n",
       "       0, 1, 0, 0, 0, 1, 0, 1, 1, 0, 1, 1, 0, 0, 1, 0, 0, 1, 0, 0, 1, 0,\n",
       "       0, 0, 0, 1, 0, 1, 0, 1, 1, 1, 1, 0, 1, 1, 0, 0, 0, 1, 1, 1, 1, 0,\n",
       "       1, 1, 1, 0, 0, 0, 0, 1, 1, 0, 0, 1, 0, 0, 1, 1, 1, 0, 1, 0, 1, 0,\n",
       "       1, 1, 1, 0, 0, 0, 1, 0, 1, 1, 0, 0, 0, 1, 1, 1, 1, 0, 0, 0, 1, 0,\n",
       "       1, 0, 1, 0, 1, 0, 0, 0, 0, 1, 1, 1, 0, 1, 0, 0, 0, 0, 1, 0, 0, 1,\n",
       "       1, 0, 1, 1, 1, 1, 1, 0, 1, 0, 1, 0, 0, 0, 1, 0, 0, 1, 0, 0, 0, 1,\n",
       "       1, 1, 1, 1, 1, 1, 0, 1, 0, 0, 1, 1, 0, 1, 1, 0, 1, 1, 0, 0, 1, 0,\n",
       "       0, 0, 1, 1, 1, 1, 0, 0, 0, 0, 1, 1, 1, 0, 0, 0, 0, 1, 1, 0, 1, 0,\n",
       "       1, 1, 1, 1, 0, 1, 1, 1, 0, 0, 1, 1, 0, 1, 1, 0, 0, 0, 0, 0, 0, 1,\n",
       "       0, 1, 0, 1, 1, 1, 1, 0, 1, 0, 0, 0, 0, 0, 1, 0, 1, 0, 1, 0, 0, 1,\n",
       "       1, 1, 1, 0, 0, 1, 1, 0, 0, 1, 0, 1, 1, 1, 0, 1, 1, 0, 0, 1, 1, 1,\n",
       "       0, 1, 0, 1, 1, 1, 0, 1, 0, 0, 0, 1, 1, 1, 0, 1, 1, 0, 0, 0, 1, 1,\n",
       "       0, 1, 0, 1, 0, 0, 1, 0, 1, 1, 1, 1, 1, 0, 0, 0, 0, 0, 0, 1, 1, 0,\n",
       "       1, 1, 1, 0, 0, 0, 0, 1, 1, 0, 0, 1, 1, 0, 0, 1, 1, 0, 1, 0, 0, 1,\n",
       "       0, 0, 0, 0, 0, 1, 0, 0, 1, 1, 1, 1, 1, 1, 0, 0, 0, 1, 1, 1, 1, 0,\n",
       "       1, 0, 0, 1, 1, 0, 1, 1, 0, 0, 1, 0, 1, 1, 1, 0, 1, 1, 1, 1, 0, 0,\n",
       "       0, 1, 1, 1, 1, 0, 0, 1, 0, 0, 0, 1, 1, 0, 1, 1, 0, 1, 1, 1, 1, 1,\n",
       "       0, 1, 0, 0, 1, 0, 1, 0, 1, 1, 1, 0, 1, 1, 1, 0, 1, 1, 0, 1, 1, 0,\n",
       "       0, 0, 0, 1, 0, 1, 0, 0, 0, 0, 1, 1, 1, 0, 0, 1, 0, 1, 1, 0, 1, 0,\n",
       "       0, 1, 0, 1, 1, 0, 1, 0, 1, 1, 0, 1, 0, 1, 0, 1, 1, 1, 1, 0, 1, 0,\n",
       "       0, 1, 1, 0, 1, 0, 0, 0, 0, 0, 1, 1, 1, 0, 1, 1, 0, 1, 0, 0, 1, 1,\n",
       "       1, 0, 0, 1, 0, 1, 0, 1, 1, 0, 1, 0, 0, 0, 1, 0, 0, 1, 0, 1, 0, 0,\n",
       "       0, 1, 1, 0, 0, 1, 0, 0, 1, 1])"
      ]
     },
     "execution_count": 4,
     "metadata": {},
     "output_type": "execute_result"
    }
   ],
   "source": [
    "y"
   ]
  },
  {
   "cell_type": "code",
   "execution_count": 5,
   "id": "14df5ac5-f50f-4018-8ea3-a88a21ef7323",
   "metadata": {},
   "outputs": [
    {
     "data": {
      "text/plain": [
       "array([[-1.1362961 , -0.3301834 ],\n",
       "       [-1.28007788,  1.6512465 ],\n",
       "       [ 2.17639211, -0.03586891],\n",
       "       ...,\n",
       "       [-0.74496382, -0.93954056],\n",
       "       [ 1.23600161,  1.5526471 ],\n",
       "       [-0.11340554, -0.88287367]])"
      ]
     },
     "execution_count": 5,
     "metadata": {},
     "output_type": "execute_result"
    }
   ],
   "source": [
    "X"
   ]
  },
  {
   "cell_type": "code",
   "execution_count": 6,
   "id": "72d1890f-a8d7-45d6-9191-162c8fc7b82f",
   "metadata": {},
   "outputs": [
    {
     "data": {
      "text/html": [
       "<div>\n",
       "<style scoped>\n",
       "    .dataframe tbody tr th:only-of-type {\n",
       "        vertical-align: middle;\n",
       "    }\n",
       "\n",
       "    .dataframe tbody tr th {\n",
       "        vertical-align: top;\n",
       "    }\n",
       "\n",
       "    .dataframe thead th {\n",
       "        text-align: right;\n",
       "    }\n",
       "</style>\n",
       "<table border=\"1\" class=\"dataframe\">\n",
       "  <thead>\n",
       "    <tr style=\"text-align: right;\">\n",
       "      <th></th>\n",
       "      <th>0</th>\n",
       "      <th>1</th>\n",
       "    </tr>\n",
       "  </thead>\n",
       "  <tbody>\n",
       "    <tr>\n",
       "      <th>0</th>\n",
       "      <td>-1.136296</td>\n",
       "      <td>-0.330183</td>\n",
       "    </tr>\n",
       "    <tr>\n",
       "      <th>1</th>\n",
       "      <td>-1.280078</td>\n",
       "      <td>1.651247</td>\n",
       "    </tr>\n",
       "    <tr>\n",
       "      <th>2</th>\n",
       "      <td>2.176392</td>\n",
       "      <td>-0.035869</td>\n",
       "    </tr>\n",
       "    <tr>\n",
       "      <th>3</th>\n",
       "      <td>2.470734</td>\n",
       "      <td>-0.761935</td>\n",
       "    </tr>\n",
       "    <tr>\n",
       "      <th>4</th>\n",
       "      <td>-1.845123</td>\n",
       "      <td>1.719633</td>\n",
       "    </tr>\n",
       "    <tr>\n",
       "      <th>...</th>\n",
       "      <td>...</td>\n",
       "      <td>...</td>\n",
       "    </tr>\n",
       "    <tr>\n",
       "      <th>995</th>\n",
       "      <td>1.479208</td>\n",
       "      <td>1.335225</td>\n",
       "    </tr>\n",
       "    <tr>\n",
       "      <th>996</th>\n",
       "      <td>1.871620</td>\n",
       "      <td>-0.083679</td>\n",
       "    </tr>\n",
       "    <tr>\n",
       "      <th>997</th>\n",
       "      <td>-0.744964</td>\n",
       "      <td>-0.939541</td>\n",
       "    </tr>\n",
       "    <tr>\n",
       "      <th>998</th>\n",
       "      <td>1.236002</td>\n",
       "      <td>1.552647</td>\n",
       "    </tr>\n",
       "    <tr>\n",
       "      <th>999</th>\n",
       "      <td>-0.113406</td>\n",
       "      <td>-0.882874</td>\n",
       "    </tr>\n",
       "  </tbody>\n",
       "</table>\n",
       "<p>1000 rows × 2 columns</p>\n",
       "</div>"
      ],
      "text/plain": [
       "            0         1\n",
       "0   -1.136296 -0.330183\n",
       "1   -1.280078  1.651247\n",
       "2    2.176392 -0.035869\n",
       "3    2.470734 -0.761935\n",
       "4   -1.845123  1.719633\n",
       "..        ...       ...\n",
       "995  1.479208  1.335225\n",
       "996  1.871620 -0.083679\n",
       "997 -0.744964 -0.939541\n",
       "998  1.236002  1.552647\n",
       "999 -0.113406 -0.882874\n",
       "\n",
       "[1000 rows x 2 columns]"
      ]
     },
     "execution_count": 6,
     "metadata": {},
     "output_type": "execute_result"
    }
   ],
   "source": [
    "pd.DataFrame(X)"
   ]
  },
  {
   "cell_type": "code",
   "execution_count": 7,
   "id": "a51d57dc-bbcf-4ccf-98e4-ffa49fd2539c",
   "metadata": {},
   "outputs": [
    {
     "data": {
      "text/plain": [
       "0     -1.136296\n",
       "1     -1.280078\n",
       "2      2.176392\n",
       "3      2.470734\n",
       "4     -1.845123\n",
       "         ...   \n",
       "995    1.479208\n",
       "996    1.871620\n",
       "997   -0.744964\n",
       "998    1.236002\n",
       "999   -0.113406\n",
       "Name: 0, Length: 1000, dtype: float64"
      ]
     },
     "execution_count": 7,
     "metadata": {},
     "output_type": "execute_result"
    }
   ],
   "source": [
    "pd.DataFrame(X)[0]"
   ]
  },
  {
   "cell_type": "code",
   "execution_count": 8,
   "id": "53bb24b5-4f6c-426c-af72-a874fed08ccb",
   "metadata": {},
   "outputs": [
    {
     "data": {
      "text/plain": [
       "0     -0.330183\n",
       "1      1.651247\n",
       "2     -0.035869\n",
       "3     -0.761935\n",
       "4      1.719633\n",
       "         ...   \n",
       "995    1.335225\n",
       "996   -0.083679\n",
       "997   -0.939541\n",
       "998    1.552647\n",
       "999   -0.882874\n",
       "Name: 1, Length: 1000, dtype: float64"
      ]
     },
     "execution_count": 8,
     "metadata": {},
     "output_type": "execute_result"
    }
   ],
   "source": [
    "pd.DataFrame(X)[1]"
   ]
  },
  {
   "cell_type": "code",
   "execution_count": 9,
   "id": "0564fb18-4134-4b37-b20c-fcd2814a4169",
   "metadata": {},
   "outputs": [
    {
     "data": {
      "text/plain": [
       "array([1, 1, 0, 0, 1, 1, 1, 1, 1, 0, 0, 1, 0, 0, 1, 1, 0, 1, 0, 0, 1, 0,\n",
       "       1, 1, 0, 0, 1, 0, 1, 0, 0, 1, 0, 0, 1, 0, 1, 0, 1, 0, 0, 1, 0, 1,\n",
       "       1, 1, 0, 0, 1, 0, 1, 0, 1, 0, 0, 1, 0, 0, 1, 1, 1, 0, 0, 1, 1, 1,\n",
       "       0, 1, 0, 0, 1, 0, 1, 0, 0, 0, 1, 0, 0, 1, 1, 1, 1, 0, 0, 1, 0, 0,\n",
       "       0, 1, 1, 0, 0, 1, 1, 1, 0, 0, 0, 1, 0, 1, 0, 1, 0, 0, 0, 0, 0, 0,\n",
       "       0, 1, 0, 1, 1, 0, 0, 1, 0, 0, 1, 0, 0, 1, 1, 0, 0, 0, 1, 1, 1, 0,\n",
       "       0, 0, 1, 1, 0, 0, 0, 1, 1, 0, 0, 1, 1, 1, 1, 0, 1, 0, 0, 0, 0, 1,\n",
       "       1, 0, 1, 1, 1, 1, 1, 0, 0, 1, 1, 0, 0, 1, 1, 0, 0, 1, 0, 1, 0, 0,\n",
       "       1, 1, 1, 0, 1, 0, 1, 0, 1, 1, 1, 0, 0, 1, 1, 0, 0, 0, 0, 0, 1, 1,\n",
       "       0, 1, 1, 0, 0, 1, 1, 0, 1, 0, 0, 1, 1, 0, 0, 0, 1, 0, 0, 0, 1, 0,\n",
       "       1, 1, 0, 1, 0, 0, 0, 1, 0, 1, 0, 0, 0, 1, 0, 1, 0, 1, 1, 1, 1, 0,\n",
       "       1, 1, 1, 0, 1, 1, 0, 1, 0, 0, 1, 0, 0, 1, 1, 0, 1, 1, 1, 1, 1, 1,\n",
       "       0, 0, 1, 1, 0, 1, 1, 0, 0, 0, 1, 0, 0, 0, 0, 0, 1, 1, 0, 1, 1, 1,\n",
       "       1, 1, 1, 0, 0, 0, 1, 1, 0, 1, 1, 1, 1, 0, 0, 0, 1, 0, 1, 0, 1, 0,\n",
       "       0, 0, 1, 0, 1, 0, 1, 1, 0, 0, 1, 1, 1, 1, 1, 1, 1, 0, 1, 1, 1, 0,\n",
       "       0, 0, 1, 0, 1, 0, 0, 1, 0, 1, 0, 1, 0, 0, 0, 0, 1, 0, 0, 0, 1, 0,\n",
       "       0, 0, 1, 1, 0, 0, 0, 0, 0, 1, 1, 1, 0, 0, 1, 0, 1, 1, 1, 1, 0, 1,\n",
       "       0, 0, 1, 0, 0, 1, 1, 1, 1, 1, 1, 1, 0, 0, 1, 1, 0, 1, 0, 0, 0, 1,\n",
       "       1, 0, 1, 1, 1, 0, 1, 1, 1, 1, 0, 0, 1, 1, 0, 0, 0, 0, 0, 1, 0, 0,\n",
       "       1, 0, 1, 1, 1, 1, 1, 0, 1, 0, 0, 1, 0, 1, 0, 0, 0, 1, 1, 0, 1, 0,\n",
       "       1, 1, 0, 0, 1, 1, 0, 0, 0, 0, 0, 0, 1, 1, 0, 1, 0, 0, 0, 1, 0, 0,\n",
       "       1, 0, 0, 0, 1, 0, 0, 1, 1, 0, 0, 1, 0, 0, 1, 0, 1, 0, 0, 0, 0, 1,\n",
       "       0, 0, 1, 1, 1, 1, 0, 1, 0, 0, 1, 0, 1, 0, 1, 0, 0, 1, 1, 0, 0, 1,\n",
       "       0, 1, 0, 0, 0, 1, 0, 1, 1, 0, 1, 1, 0, 0, 1, 0, 0, 1, 0, 0, 1, 0,\n",
       "       0, 0, 0, 1, 0, 1, 0, 1, 1, 1, 1, 0, 1, 1, 0, 0, 0, 1, 1, 1, 1, 0,\n",
       "       1, 1, 1, 0, 0, 0, 0, 1, 1, 0, 0, 1, 0, 0, 1, 1, 1, 0, 1, 0, 1, 0,\n",
       "       1, 1, 1, 0, 0, 0, 1, 0, 1, 1, 0, 0, 0, 1, 1, 1, 1, 0, 0, 0, 1, 0,\n",
       "       1, 0, 1, 0, 1, 0, 0, 0, 0, 1, 1, 1, 0, 1, 0, 0, 0, 0, 1, 0, 0, 1,\n",
       "       1, 0, 1, 1, 1, 1, 1, 0, 1, 0, 1, 0, 0, 0, 1, 0, 0, 1, 0, 0, 0, 1,\n",
       "       1, 1, 1, 1, 1, 1, 0, 1, 0, 0, 1, 1, 0, 1, 1, 0, 1, 1, 0, 0, 1, 0,\n",
       "       0, 0, 1, 1, 1, 1, 0, 0, 0, 0, 1, 1, 1, 0, 0, 0, 0, 1, 1, 0, 1, 0,\n",
       "       1, 1, 1, 1, 0, 1, 1, 1, 0, 0, 1, 1, 0, 1, 1, 0, 0, 0, 0, 0, 0, 1,\n",
       "       0, 1, 0, 1, 1, 1, 1, 0, 1, 0, 0, 0, 0, 0, 1, 0, 1, 0, 1, 0, 0, 1,\n",
       "       1, 1, 1, 0, 0, 1, 1, 0, 0, 1, 0, 1, 1, 1, 0, 1, 1, 0, 0, 1, 1, 1,\n",
       "       0, 1, 0, 1, 1, 1, 0, 1, 0, 0, 0, 1, 1, 1, 0, 1, 1, 0, 0, 0, 1, 1,\n",
       "       0, 1, 0, 1, 0, 0, 1, 0, 1, 1, 1, 1, 1, 0, 0, 0, 0, 0, 0, 1, 1, 0,\n",
       "       1, 1, 1, 0, 0, 0, 0, 1, 1, 0, 0, 1, 1, 0, 0, 1, 1, 0, 1, 0, 0, 1,\n",
       "       0, 0, 0, 0, 0, 1, 0, 0, 1, 1, 1, 1, 1, 1, 0, 0, 0, 1, 1, 1, 1, 0,\n",
       "       1, 0, 0, 1, 1, 0, 1, 1, 0, 0, 1, 0, 1, 1, 1, 0, 1, 1, 1, 1, 0, 0,\n",
       "       0, 1, 1, 1, 1, 0, 0, 1, 0, 0, 0, 1, 1, 0, 1, 1, 0, 1, 1, 1, 1, 1,\n",
       "       0, 1, 0, 0, 1, 0, 1, 0, 1, 1, 1, 0, 1, 1, 1, 0, 1, 1, 0, 1, 1, 0,\n",
       "       0, 0, 0, 1, 0, 1, 0, 0, 0, 0, 1, 1, 1, 0, 0, 1, 0, 1, 1, 0, 1, 0,\n",
       "       0, 1, 0, 1, 1, 0, 1, 0, 1, 1, 0, 1, 0, 1, 0, 1, 1, 1, 1, 0, 1, 0,\n",
       "       0, 1, 1, 0, 1, 0, 0, 0, 0, 0, 1, 1, 1, 0, 1, 1, 0, 1, 0, 0, 1, 1,\n",
       "       1, 0, 0, 1, 0, 1, 0, 1, 1, 0, 1, 0, 0, 0, 1, 0, 0, 1, 0, 1, 0, 0,\n",
       "       0, 1, 1, 0, 0, 1, 0, 0, 1, 1])"
      ]
     },
     "execution_count": 9,
     "metadata": {},
     "output_type": "execute_result"
    }
   ],
   "source": [
    "y"
   ]
  },
  {
   "cell_type": "code",
   "execution_count": 11,
   "id": "41fbcae9-603f-4179-ba4d-e7098a83c26d",
   "metadata": {},
   "outputs": [
    {
     "data": {
      "text/plain": [
       "<AxesSubplot: xlabel='0', ylabel='1'>"
      ]
     },
     "execution_count": 11,
     "metadata": {},
     "output_type": "execute_result"
    },
    {
     "data": {
      "image/png": "[encoded data removed]",
      "text/plain": [
       "<Figure size 640x480 with 1 Axes>"
      ]
     },
     "metadata": {},
     "output_type": "display_data"
    }
   ],
   "source": [
    "sns.scatterplot(x = pd.DataFrame(X)[0], y = pd.DataFrame(X)[1], hue = y)"
   ]
  },
  {
   "cell_type": "code",
   "execution_count": 12,
   "id": "15f305c5-0a6e-4d63-b1df-b3678fb13075",
   "metadata": {},
   "outputs": [],
   "source": [
    "from sklearn.model_selection import train_test_split\n",
    "X_train, X_test, y_train, y_test = train_test_split(X, y, test_size=0.30, random_state=1)"
   ]
  },
  {
   "cell_type": "code",
   "execution_count": 13,
   "id": "4f72e737-ee7c-4493-9c57-f87886af342f",
   "metadata": {},
   "outputs": [
    {
     "data": {
      "text/plain": [
       "((700, 2), (300, 2))"
      ]
     },
     "execution_count": 13,
     "metadata": {},
     "output_type": "execute_result"
    }
   ],
   "source": [
    "X_train.shape, X_test.shape"
   ]
  },
  {
   "cell_type": "code",
   "execution_count": 14,
   "id": "4f35d09a-b9a0-4899-af96-1e6e516acd33",
   "metadata": {},
   "outputs": [],
   "source": [
    "from sklearn.svm import SVC"
   ]
  },
  {
   "cell_type": "code",
   "execution_count": 15,
   "id": "2c13dfa2-37c0-4a17-97c2-5f9dfb364c76",
   "metadata": {},
   "outputs": [],
   "source": [
    "classifier = SVC(kernel = 'linear')"
   ]
  },
  {
   "cell_type": "code",
   "execution_count": 16,
   "id": "8a4e937a-e141-48df-801b-a2e9d3a47bfd",
   "metadata": {},
   "outputs": [
    {
     "data": {
      "text/html": [
       "<style>#sk-container-id-1 {color: black;background-color: white;}#sk-container-id-1 pre{padding: 0;}#sk-container-id-1 div.sk-toggleable {background-color: white;}#sk-container-id-1 label.sk-toggleable__label {cursor: pointer;display: block;width: 100%;margin-bottom: 0;padding: 0.3em;box-sizing: border-box;text-align: center;}#sk-container-id-1 label.sk-toggleable__label-arrow:before {content: \"▸\";float: left;margin-right: 0.25em;color: #696969;}#sk-container-id-1 label.sk-toggleable__label-arrow:hover:before {color: black;}#sk-container-id-1 div.sk-estimator:hover label.sk-toggleable__label-arrow:before {color: black;}#sk-container-id-1 div.sk-toggleable__content {max-height: 0;max-width: 0;overflow: hidden;text-align: left;background-color: #f0f8ff;}#sk-container-id-1 div.sk-toggleable__content pre {margin: 0.2em;color: black;border-radius: 0.25em;background-color: #f0f8ff;}#sk-container-id-1 input.sk-toggleable__control:checked~div.sk-toggleable__content {max-height: 200px;max-width: 100%;overflow: auto;}#sk-container-id-1 input.sk-toggleable__control:checked~label.sk-toggleable__label-arrow:before {content: \"▾\";}#sk-container-id-1 div.sk-estimator input.sk-toggleable__control:checked~label.sk-toggleable__label {background-color: #d4ebff;}#sk-container-id-1 div.sk-label input.sk-toggleable__control:checked~label.sk-toggleable__label {background-color: #d4ebff;}#sk-container-id-1 input.sk-hidden--visually {border: 0;clip: rect(1px 1px 1px 1px);clip: rect(1px, 1px, 1px, 1px);height: 1px;margin: -1px;overflow: hidden;padding: 0;position: absolute;width: 1px;}#sk-container-id-1 div.sk-estimator {font-family: monospace;background-color: #f0f8ff;border: 1px dotted black;border-radius: 0.25em;box-sizing: border-box;margin-bottom: 0.5em;}#sk-container-id-1 div.sk-estimator:hover {background-color: #d4ebff;}#sk-container-id-1 div.sk-parallel-item::after {content: \"\";width: 100%;border-bottom: 1px solid gray;flex-grow: 1;}#sk-container-id-1 div.sk-label:hover label.sk-toggleable__label {background-color: #d4ebff;}#sk-container-id-1 div.sk-serial::before {content: \"\";position: absolute;border-left: 1px solid gray;box-sizing: border-box;top: 0;bottom: 0;left: 50%;z-index: 0;}#sk-container-id-1 div.sk-serial {display: flex;flex-direction: column;align-items: center;background-color: white;padding-right: 0.2em;padding-left: 0.2em;position: relative;}#sk-container-id-1 div.sk-item {position: relative;z-index: 1;}#sk-container-id-1 div.sk-parallel {display: flex;align-items: stretch;justify-content: center;background-color: white;position: relative;}#sk-container-id-1 div.sk-item::before, #sk-container-id-1 div.sk-parallel-item::before {content: \"\";position: absolute;border-left: 1px solid gray;box-sizing: border-box;top: 0;bottom: 0;left: 50%;z-index: -1;}#sk-container-id-1 div.sk-parallel-item {display: flex;flex-direction: column;z-index: 1;position: relative;background-color: white;}#sk-container-id-1 div.sk-parallel-item:first-child::after {align-self: flex-end;width: 50%;}#sk-container-id-1 div.sk-parallel-item:last-child::after {align-self: flex-start;width: 50%;}#sk-container-id-1 div.sk-parallel-item:only-child::after {width: 0;}#sk-container-id-1 div.sk-dashed-wrapped {border: 1px dashed gray;margin: 0 0.4em 0.5em 0.4em;box-sizing: border-box;padding-bottom: 0.4em;background-color: white;}#sk-container-id-1 div.sk-label label {font-family: monospace;font-weight: bold;display: inline-block;line-height: 1.2em;}#sk-container-id-1 div.sk-label-container {text-align: center;}#sk-container-id-1 div.sk-container {/* jupyter's `normalize.less` sets `[hidden] { display: none; }` but bootstrap.min.css set `[hidden] { display: none !important; }` so we also need the `!important` here to be able to override the default hidden behavior on the sphinx rendered scikit-learn.org. See: https://github.com/scikit-learn/scikit-learn/issues/21755 */display: inline-block !important;position: relative;}#sk-container-id-1 div.sk-text-repr-fallback {display: none;}</style><div id=\"sk-container-id-1\" class=\"sk-top-container\"><div class=\"sk-text-repr-fallback\"><pre>SVC(kernel=&#x27;linear&#x27;)</pre><b>In a Jupyter environment, please rerun this cell to show the HTML representation or trust the notebook. <br />On GitHub, the HTML representation is unable to render, please try loading this page with nbviewer.org.</b></div><div class=\"sk-container\" hidden><div class=\"sk-item\"><div class=\"sk-estimator sk-toggleable\"><input class=\"sk-toggleable__control sk-hidden--visually\" id=\"sk-estimator-id-1\" type=\"checkbox\" checked><label for=\"sk-estimator-id-1\" class=\"sk-toggleable__label sk-toggleable__label-arrow\">SVC</label><div class=\"sk-toggleable__content\"><pre>SVC(kernel=&#x27;linear&#x27;)</pre></div></div></div></div></div>"
      ],
      "text/plain": [
       "SVC(kernel='linear')"
      ]
     },
     "execution_count": 16,
     "metadata": {},
     "output_type": "execute_result"
    }
   ],
   "source": [
    "classifier.fit(X_train, y_train)"
   ]
  },
  {
   "cell_type": "code",
   "execution_count": 17,
   "id": "fbf647e4-142c-46b7-8193-f6dd1392f2c4",
   "metadata": {},
   "outputs": [
    {
     "data": {
      "text/plain": [
       "array([[-0.14945168,  2.11343458]])"
      ]
     },
     "execution_count": 17,
     "metadata": {},
     "output_type": "execute_result"
    }
   ],
   "source": [
    "classifier.coef_"
   ]
  },
  {
   "cell_type": "code",
   "execution_count": 18,
   "id": "0f164051-658c-4e96-aae8-cc277ff85ead",
   "metadata": {},
   "outputs": [],
   "source": [
    "y_pred = classifier.predict(X_test)"
   ]
  },
  {
   "cell_type": "code",
   "execution_count": 19,
   "id": "43b4fe97-ad3b-424e-a793-e5ae1a3ac267",
   "metadata": {},
   "outputs": [
    {
     "data": {
      "text/plain": [
       "array([1, 0, 1, 1, 1, 0, 1, 1, 1, 0, 0, 0, 0, 0, 1, 1, 0, 1, 0, 1, 0, 0,\n",
       "       1, 1, 0, 0, 0, 0, 0, 0, 0, 0, 0, 1, 1, 1, 1, 0, 0, 0, 0, 0, 1, 1,\n",
       "       1, 0, 1, 1, 1, 1, 0, 1, 1, 0, 1, 1, 0, 1, 1, 1, 0, 1, 1, 1, 1, 0,\n",
       "       0, 0, 0, 1, 1, 1, 0, 0, 0, 0, 0, 0, 0, 1, 1, 1, 0, 0, 0, 1, 0, 1,\n",
       "       1, 0, 1, 1, 1, 1, 0, 1, 0, 0, 1, 1, 1, 0, 0, 1, 0, 1, 0, 1, 0, 1,\n",
       "       1, 0, 1, 1, 0, 0, 0, 0, 0, 1, 1, 0, 0, 0, 0, 1, 1, 1, 0, 1, 1, 0,\n",
       "       0, 0, 0, 1, 1, 0, 0, 1, 0, 1, 0, 0, 1, 0, 0, 0, 0, 1, 1, 0, 1, 1,\n",
       "       0, 0, 1, 1, 0, 0, 1, 0, 0, 1, 0, 1, 1, 0, 0, 0, 0, 1, 0, 0, 1, 0,\n",
       "       1, 1, 0, 1, 0, 1, 0, 1, 0, 1, 1, 0, 1, 1, 0, 1, 1, 1, 0, 0, 0, 1,\n",
       "       0, 0, 1, 0, 1, 0, 0, 0, 0, 1, 0, 0, 0, 1, 0, 1, 1, 1, 0, 1, 0, 1,\n",
       "       0, 1, 0, 1, 1, 1, 0, 1, 0, 0, 1, 0, 1, 0, 1, 0, 1, 1, 0, 0, 0, 1,\n",
       "       1, 1, 1, 0, 1, 0, 1, 0, 1, 0, 0, 1, 0, 1, 0, 0, 1, 1, 1, 1, 0, 0,\n",
       "       1, 0, 1, 1, 0, 1, 1, 0, 1, 0, 1, 0, 0, 0, 1, 1, 0, 1, 0, 1, 1, 0,\n",
       "       0, 0, 0, 0, 0, 1, 1, 0, 1, 1, 1, 0, 0, 1])"
      ]
     },
     "execution_count": 19,
     "metadata": {},
     "output_type": "execute_result"
    }
   ],
   "source": [
    "y_pred"
   ]
  },
  {
   "cell_type": "code",
   "execution_count": 20,
   "id": "2a83af49-ea89-4da9-96e9-014be0665798",
   "metadata": {},
   "outputs": [
    {
     "name": "stdout",
     "output_type": "stream",
     "text": [
      "              precision    recall  f1-score   support\n",
      "\n",
      "           0       0.90      0.92      0.91       151\n",
      "           1       0.92      0.90      0.91       149\n",
      "\n",
      "    accuracy                           0.91       300\n",
      "   macro avg       0.91      0.91      0.91       300\n",
      "weighted avg       0.91      0.91      0.91       300\n",
      "\n"
     ]
    }
   ],
   "source": [
    "from sklearn.metrics import classification_report, confusion_matrix, accuracy_score\n",
    "\n",
    "print(classification_report(y_test, y_pred))"
   ]
  },
  {
   "cell_type": "code",
   "execution_count": 21,
   "id": "cd60c137-d62e-4157-9f86-aa8c00d95861",
   "metadata": {},
   "outputs": [
    {
     "name": "stdout",
     "output_type": "stream",
     "text": [
      "[[139  12]\n",
      " [ 15 134]]\n"
     ]
    }
   ],
   "source": [
    "print(confusion_matrix(y_test, y_pred))"
   ]
  },
  {
   "cell_type": "code",
   "execution_count": 22,
   "id": "2601c07e-61cb-4b62-b90e-91314efd8144",
   "metadata": {},
   "outputs": [
    {
     "name": "stdout",
     "output_type": "stream",
     "text": [
      "0.91\n"
     ]
    }
   ],
   "source": [
    "print(accuracy_score(y_test, y_pred))"
   ]
  },
  {
   "cell_type": "code",
   "execution_count": 37,
   "id": "5e54e8c1-d166-4614-b14b-1aec3278ef4e",
   "metadata": {},
   "outputs": [],
   "source": [
    "#hyperparameter tuning with SVC\n",
    "\n",
    "from sklearn.model_selection import GridSearchCV\n",
    "params = {'C': [0.1, 0.2, 1, 2, 3, 10, 50, 100],\n",
    "         'gamma': [1, 0.1, 0.2, 0.001, 0.003],\n",
    "         'kernel': ['linear']}\n"
   ]
  },
  {
   "cell_type": "code",
   "execution_count": 38,
   "id": "0769c825-7646-4487-a5fb-b47e4f029827",
   "metadata": {},
   "outputs": [],
   "source": [
    "grid = GridSearchCV(SVC(), param_grid=params, cv = 5, verbose = 3)"
   ]
  },
  {
   "cell_type": "code",
   "execution_count": 39,
   "id": "bf812497-b464-4062-a84c-37b34c86edb4",
   "metadata": {},
   "outputs": [
    {
     "name": "stdout",
     "output_type": "stream",
     "text": [
      "Fitting 5 folds for each of 40 candidates, totalling 200 fits\n",
      "[CV 1/5] END .....C=0.1, gamma=1, kernel=linear;, score=0.921 total time=   0.0s\n",
      "[CV 2/5] END .....C=0.1, gamma=1, kernel=linear;, score=0.929 total time=   0.0s\n",
      "[CV 3/5] END .....C=0.1, gamma=1, kernel=linear;, score=0.871 total time=   0.0s\n",
      "[CV 4/5] END .....C=0.1, gamma=1, kernel=linear;, score=0.886 total time=   0.0s\n",
      "[CV 5/5] END .....C=0.1, gamma=1, kernel=linear;, score=0.893 total time=   0.0s\n",
      "[CV 1/5] END ...C=0.1, gamma=0.1, kernel=linear;, score=0.921 total time=   0.0s\n",
      "[CV 2/5] END ...C=0.1, gamma=0.1, kernel=linear;, score=0.929 total time=   0.0s\n",
      "[CV 3/5] END ...C=0.1, gamma=0.1, kernel=linear;, score=0.871 total time=   0.0s\n",
      "[CV 4/5] END ...C=0.1, gamma=0.1, kernel=linear;, score=0.886 total time=   0.0s\n",
      "[CV 5/5] END ...C=0.1, gamma=0.1, kernel=linear;, score=0.893 total time=   0.0s\n",
      "[CV 1/5] END ...C=0.1, gamma=0.2, kernel=linear;, score=0.921 total time=   0.0s\n",
      "[CV 2/5] END ...C=0.1, gamma=0.2, kernel=linear;, score=0.929 total time=   0.0s\n",
      "[CV 3/5] END ...C=0.1, gamma=0.2, kernel=linear;, score=0.871 total time=   0.0s\n",
      "[CV 4/5] END ...C=0.1, gamma=0.2, kernel=linear;, score=0.886 total time=   0.0s\n",
      "[CV 5/5] END ...C=0.1, gamma=0.2, kernel=linear;, score=0.893 total time=   0.0s\n",
      "[CV 1/5] END .C=0.1, gamma=0.001, kernel=linear;, score=0.921 total time=   0.0s\n",
      "[CV 2/5] END .C=0.1, gamma=0.001, kernel=linear;, score=0.929 total time=   0.0s\n",
      "[CV 3/5] END .C=0.1, gamma=0.001, kernel=linear;, score=0.871 total time=   0.0s\n",
      "[CV 4/5] END .C=0.1, gamma=0.001, kernel=linear;, score=0.886 total time=   0.0s\n",
      "[CV 5/5] END .C=0.1, gamma=0.001, kernel=linear;, score=0.893 total time=   0.0s\n",
      "[CV 1/5] END .C=0.1, gamma=0.003, kernel=linear;, score=0.921 total time=   0.0s\n",
      "[CV 2/5] END .C=0.1, gamma=0.003, kernel=linear;, score=0.929 total time=   0.0s\n",
      "[CV 3/5] END .C=0.1, gamma=0.003, kernel=linear;, score=0.871 total time=   0.0s\n",
      "[CV 4/5] END .C=0.1, gamma=0.003, kernel=linear;, score=0.886 total time=   0.0s\n",
      "[CV 5/5] END .C=0.1, gamma=0.003, kernel=linear;, score=0.893 total time=   0.0s\n",
      "[CV 1/5] END .....C=0.2, gamma=1, kernel=linear;, score=0.921 total time=   0.0s\n",
      "[CV 2/5] END .....C=0.2, gamma=1, kernel=linear;, score=0.929 total time=   0.0s\n",
      "[CV 3/5] END .....C=0.2, gamma=1, kernel=linear;, score=0.871 total time=   0.0s\n",
      "[CV 4/5] END .....C=0.2, gamma=1, kernel=linear;, score=0.886 total time=   0.0s\n",
      "[CV 5/5] END .....C=0.2, gamma=1, kernel=linear;, score=0.893 total time=   0.0s\n",
      "[CV 1/5] END ...C=0.2, gamma=0.1, kernel=linear;, score=0.921 total time=   0.0s\n",
      "[CV 2/5] END ...C=0.2, gamma=0.1, kernel=linear;, score=0.929 total time=   0.0s\n",
      "[CV 3/5] END ...C=0.2, gamma=0.1, kernel=linear;, score=0.871 total time=   0.0s\n",
      "[CV 4/5] END ...C=0.2, gamma=0.1, kernel=linear;, score=0.886 total time=   0.0s\n",
      "[CV 5/5] END ...C=0.2, gamma=0.1, kernel=linear;, score=0.893 total time=   0.0s\n",
      "[CV 1/5] END ...C=0.2, gamma=0.2, kernel=linear;, score=0.921 total time=   0.0s\n",
      "[CV 2/5] END ...C=0.2, gamma=0.2, kernel=linear;, score=0.929 total time=   0.0s\n",
      "[CV 3/5] END ...C=0.2, gamma=0.2, kernel=linear;, score=0.871 total time=   0.0s\n",
      "[CV 4/5] END ...C=0.2, gamma=0.2, kernel=linear;, score=0.886 total time=   0.0s\n",
      "[CV 5/5] END ...C=0.2, gamma=0.2, kernel=linear;, score=0.893 total time=   0.0s\n",
      "[CV 1/5] END .C=0.2, gamma=0.001, kernel=linear;, score=0.921 total time=   0.0s\n",
      "[CV 2/5] END .C=0.2, gamma=0.001, kernel=linear;, score=0.929 total time=   0.0s\n",
      "[CV 3/5] END .C=0.2, gamma=0.001, kernel=linear;, score=0.871 total time=   0.0s\n",
      "[CV 4/5] END .C=0.2, gamma=0.001, kernel=linear;, score=0.886 total time=   0.0s\n",
      "[CV 5/5] END .C=0.2, gamma=0.001, kernel=linear;, score=0.893 total time=   0.0s\n",
      "[CV 1/5] END .C=0.2, gamma=0.003, kernel=linear;, score=0.921 total time=   0.0s\n",
      "[CV 2/5] END .C=0.2, gamma=0.003, kernel=linear;, score=0.929 total time=   0.0s\n",
      "[CV 3/5] END .C=0.2, gamma=0.003, kernel=linear;, score=0.871 total time=   0.0s\n",
      "[CV 4/5] END .C=0.2, gamma=0.003, kernel=linear;, score=0.886 total time=   0.0s\n",
      "[CV 5/5] END .C=0.2, gamma=0.003, kernel=linear;, score=0.893 total time=   0.0s\n",
      "[CV 1/5] END .......C=1, gamma=1, kernel=linear;, score=0.921 total time=   0.0s\n",
      "[CV 2/5] END .......C=1, gamma=1, kernel=linear;, score=0.929 total time=   0.0s\n",
      "[CV 3/5] END .......C=1, gamma=1, kernel=linear;, score=0.871 total time=   0.0s\n",
      "[CV 4/5] END .......C=1, gamma=1, kernel=linear;, score=0.886 total time=   0.0s\n",
      "[CV 5/5] END .......C=1, gamma=1, kernel=linear;, score=0.893 total time=   0.0s\n",
      "[CV 1/5] END .....C=1, gamma=0.1, kernel=linear;, score=0.921 total time=   0.0s\n",
      "[CV 2/5] END .....C=1, gamma=0.1, kernel=linear;, score=0.929 total time=   0.0s\n",
      "[CV 3/5] END .....C=1, gamma=0.1, kernel=linear;, score=0.871 total time=   0.0s\n",
      "[CV 4/5] END .....C=1, gamma=0.1, kernel=linear;, score=0.886 total time=   0.0s\n",
      "[CV 5/5] END .....C=1, gamma=0.1, kernel=linear;, score=0.893 total time=   0.0s\n",
      "[CV 1/5] END .....C=1, gamma=0.2, kernel=linear;, score=0.921 total time=   0.0s\n",
      "[CV 2/5] END .....C=1, gamma=0.2, kernel=linear;, score=0.929 total time=   0.0s\n",
      "[CV 3/5] END .....C=1, gamma=0.2, kernel=linear;, score=0.871 total time=   0.0s\n",
      "[CV 4/5] END .....C=1, gamma=0.2, kernel=linear;, score=0.886 total time=   0.0s\n",
      "[CV 5/5] END .....C=1, gamma=0.2, kernel=linear;, score=0.893 total time=   0.0s\n",
      "[CV 1/5] END ...C=1, gamma=0.001, kernel=linear;, score=0.921 total time=   0.0s\n",
      "[CV 2/5] END ...C=1, gamma=0.001, kernel=linear;, score=0.929 total time=   0.0s\n",
      "[CV 3/5] END ...C=1, gamma=0.001, kernel=linear;, score=0.871 total time=   0.0s\n",
      "[CV 4/5] END ...C=1, gamma=0.001, kernel=linear;, score=0.886 total time=   0.0s\n",
      "[CV 5/5] END ...C=1, gamma=0.001, kernel=linear;, score=0.893 total time=   0.0s\n",
      "[CV 1/5] END ...C=1, gamma=0.003, kernel=linear;, score=0.921 total time=   0.0s\n",
      "[CV 2/5] END ...C=1, gamma=0.003, kernel=linear;, score=0.929 total time=   0.0s\n",
      "[CV 3/5] END ...C=1, gamma=0.003, kernel=linear;, score=0.871 total time=   0.0s\n",
      "[CV 4/5] END ...C=1, gamma=0.003, kernel=linear;, score=0.886 total time=   0.0s\n",
      "[CV 5/5] END ...C=1, gamma=0.003, kernel=linear;, score=0.893 total time=   0.0s\n",
      "[CV 1/5] END .......C=2, gamma=1, kernel=linear;, score=0.921 total time=   0.0s\n",
      "[CV 2/5] END .......C=2, gamma=1, kernel=linear;, score=0.929 total time=   0.0s\n",
      "[CV 3/5] END .......C=2, gamma=1, kernel=linear;, score=0.871 total time=   0.0s\n",
      "[CV 4/5] END .......C=2, gamma=1, kernel=linear;, score=0.886 total time=   0.0s\n",
      "[CV 5/5] END .......C=2, gamma=1, kernel=linear;, score=0.893 total time=   0.0s\n",
      "[CV 1/5] END .....C=2, gamma=0.1, kernel=linear;, score=0.921 total time=   0.0s\n",
      "[CV 2/5] END .....C=2, gamma=0.1, kernel=linear;, score=0.929 total time=   0.0s\n",
      "[CV 3/5] END .....C=2, gamma=0.1, kernel=linear;, score=0.871 total time=   0.0s\n",
      "[CV 4/5] END .....C=2, gamma=0.1, kernel=linear;, score=0.886 total time=   0.0s\n",
      "[CV 5/5] END .....C=2, gamma=0.1, kernel=linear;, score=0.893 total time=   0.0s\n",
      "[CV 1/5] END .....C=2, gamma=0.2, kernel=linear;, score=0.921 total time=   0.0s\n",
      "[CV 2/5] END .....C=2, gamma=0.2, kernel=linear;, score=0.929 total time=   0.0s\n",
      "[CV 3/5] END .....C=2, gamma=0.2, kernel=linear;, score=0.871 total time=   0.0s\n",
      "[CV 4/5] END .....C=2, gamma=0.2, kernel=linear;, score=0.886 total time=   0.0s\n",
      "[CV 5/5] END .....C=2, gamma=0.2, kernel=linear;, score=0.893 total time=   0.0s\n",
      "[CV 1/5] END ...C=2, gamma=0.001, kernel=linear;, score=0.921 total time=   0.0s\n",
      "[CV 2/5] END ...C=2, gamma=0.001, kernel=linear;, score=0.929 total time=   0.0s\n",
      "[CV 3/5] END ...C=2, gamma=0.001, kernel=linear;, score=0.871 total time=   0.0s\n",
      "[CV 4/5] END ...C=2, gamma=0.001, kernel=linear;, score=0.886 total time=   0.0s\n",
      "[CV 5/5] END ...C=2, gamma=0.001, kernel=linear;, score=0.893 total time=   0.0s\n",
      "[CV 1/5] END ...C=2, gamma=0.003, kernel=linear;, score=0.921 total time=   0.0s\n",
      "[CV 2/5] END ...C=2, gamma=0.003, kernel=linear;, score=0.929 total time=   0.0s\n",
      "[CV 3/5] END ...C=2, gamma=0.003, kernel=linear;, score=0.871 total time=   0.0s\n",
      "[CV 4/5] END ...C=2, gamma=0.003, kernel=linear;, score=0.886 total time=   0.0s\n",
      "[CV 5/5] END ...C=2, gamma=0.003, kernel=linear;, score=0.893 total time=   0.0s\n",
      "[CV 1/5] END .......C=3, gamma=1, kernel=linear;, score=0.929 total time=   0.0s\n",
      "[CV 2/5] END .......C=3, gamma=1, kernel=linear;, score=0.929 total time=   0.0s\n",
      "[CV 3/5] END .......C=3, gamma=1, kernel=linear;, score=0.871 total time=   0.0s\n",
      "[CV 4/5] END .......C=3, gamma=1, kernel=linear;, score=0.886 total time=   0.0s\n",
      "[CV 5/5] END .......C=3, gamma=1, kernel=linear;, score=0.893 total time=   0.0s\n",
      "[CV 1/5] END .....C=3, gamma=0.1, kernel=linear;, score=0.929 total time=   0.0s\n",
      "[CV 2/5] END .....C=3, gamma=0.1, kernel=linear;, score=0.929 total time=   0.0s\n",
      "[CV 3/5] END .....C=3, gamma=0.1, kernel=linear;, score=0.871 total time=   0.0s\n",
      "[CV 4/5] END .....C=3, gamma=0.1, kernel=linear;, score=0.886 total time=   0.0s\n",
      "[CV 5/5] END .....C=3, gamma=0.1, kernel=linear;, score=0.893 total time=   0.0s\n",
      "[CV 1/5] END .....C=3, gamma=0.2, kernel=linear;, score=0.929 total time=   0.0s\n",
      "[CV 2/5] END .....C=3, gamma=0.2, kernel=linear;, score=0.929 total time=   0.0s\n",
      "[CV 3/5] END .....C=3, gamma=0.2, kernel=linear;, score=0.871 total time=   0.0s\n",
      "[CV 4/5] END .....C=3, gamma=0.2, kernel=linear;, score=0.886 total time=   0.0s\n",
      "[CV 5/5] END .....C=3, gamma=0.2, kernel=linear;, score=0.893 total time=   0.0s\n",
      "[CV 1/5] END ...C=3, gamma=0.001, kernel=linear;, score=0.929 total time=   0.0s\n",
      "[CV 2/5] END ...C=3, gamma=0.001, kernel=linear;, score=0.929 total time=   0.0s\n",
      "[CV 3/5] END ...C=3, gamma=0.001, kernel=linear;, score=0.871 total time=   0.0s\n",
      "[CV 4/5] END ...C=3, gamma=0.001, kernel=linear;, score=0.886 total time=   0.0s\n",
      "[CV 5/5] END ...C=3, gamma=0.001, kernel=linear;, score=0.893 total time=   0.0s\n",
      "[CV 1/5] END ...C=3, gamma=0.003, kernel=linear;, score=0.929 total time=   0.0s\n",
      "[CV 2/5] END ...C=3, gamma=0.003, kernel=linear;, score=0.929 total time=   0.0s\n",
      "[CV 3/5] END ...C=3, gamma=0.003, kernel=linear;, score=0.871 total time=   0.0s\n",
      "[CV 4/5] END ...C=3, gamma=0.003, kernel=linear;, score=0.886 total time=   0.0s\n",
      "[CV 5/5] END ...C=3, gamma=0.003, kernel=linear;, score=0.893 total time=   0.0s\n",
      "[CV 1/5] END ......C=10, gamma=1, kernel=linear;, score=0.929 total time=   0.0s\n",
      "[CV 2/5] END ......C=10, gamma=1, kernel=linear;, score=0.929 total time=   0.0s\n",
      "[CV 3/5] END ......C=10, gamma=1, kernel=linear;, score=0.871 total time=   0.0s\n",
      "[CV 4/5] END ......C=10, gamma=1, kernel=linear;, score=0.893 total time=   0.0s\n",
      "[CV 5/5] END ......C=10, gamma=1, kernel=linear;, score=0.893 total time=   0.0s\n",
      "[CV 1/5] END ....C=10, gamma=0.1, kernel=linear;, score=0.929 total time=   0.0s\n",
      "[CV 2/5] END ....C=10, gamma=0.1, kernel=linear;, score=0.929 total time=   0.0s\n",
      "[CV 3/5] END ....C=10, gamma=0.1, kernel=linear;, score=0.871 total time=   0.0s\n",
      "[CV 4/5] END ....C=10, gamma=0.1, kernel=linear;, score=0.893 total time=   0.0s\n",
      "[CV 5/5] END ....C=10, gamma=0.1, kernel=linear;, score=0.893 total time=   0.0s\n",
      "[CV 1/5] END ....C=10, gamma=0.2, kernel=linear;, score=0.929 total time=   0.0s\n",
      "[CV 2/5] END ....C=10, gamma=0.2, kernel=linear;, score=0.929 total time=   0.0s\n",
      "[CV 3/5] END ....C=10, gamma=0.2, kernel=linear;, score=0.871 total time=   0.0s\n",
      "[CV 4/5] END ....C=10, gamma=0.2, kernel=linear;, score=0.893 total time=   0.0s\n",
      "[CV 5/5] END ....C=10, gamma=0.2, kernel=linear;, score=0.893 total time=   0.0s\n",
      "[CV 1/5] END ..C=10, gamma=0.001, kernel=linear;, score=0.929 total time=   0.0s\n",
      "[CV 2/5] END ..C=10, gamma=0.001, kernel=linear;, score=0.929 total time=   0.0s\n",
      "[CV 3/5] END ..C=10, gamma=0.001, kernel=linear;, score=0.871 total time=   0.0s\n",
      "[CV 4/5] END ..C=10, gamma=0.001, kernel=linear;, score=0.893 total time=   0.0s\n",
      "[CV 5/5] END ..C=10, gamma=0.001, kernel=linear;, score=0.893 total time=   0.0s\n",
      "[CV 1/5] END ..C=10, gamma=0.003, kernel=linear;, score=0.929 total time=   0.0s\n",
      "[CV 2/5] END ..C=10, gamma=0.003, kernel=linear;, score=0.929 total time=   0.0s\n",
      "[CV 3/5] END ..C=10, gamma=0.003, kernel=linear;, score=0.871 total time=   0.0s\n",
      "[CV 4/5] END ..C=10, gamma=0.003, kernel=linear;, score=0.893 total time=   0.0s\n",
      "[CV 5/5] END ..C=10, gamma=0.003, kernel=linear;, score=0.893 total time=   0.0s\n",
      "[CV 1/5] END ......C=50, gamma=1, kernel=linear;, score=0.929 total time=   0.0s\n",
      "[CV 2/5] END ......C=50, gamma=1, kernel=linear;, score=0.929 total time=   0.0s\n",
      "[CV 3/5] END ......C=50, gamma=1, kernel=linear;, score=0.871 total time=   0.0s\n",
      "[CV 4/5] END ......C=50, gamma=1, kernel=linear;, score=0.893 total time=   0.0s\n",
      "[CV 5/5] END ......C=50, gamma=1, kernel=linear;, score=0.893 total time=   0.0s\n",
      "[CV 1/5] END ....C=50, gamma=0.1, kernel=linear;, score=0.929 total time=   0.0s\n",
      "[CV 2/5] END ....C=50, gamma=0.1, kernel=linear;, score=0.929 total time=   0.0s\n",
      "[CV 3/5] END ....C=50, gamma=0.1, kernel=linear;, score=0.871 total time=   0.0s\n",
      "[CV 4/5] END ....C=50, gamma=0.1, kernel=linear;, score=0.893 total time=   0.0s\n",
      "[CV 5/5] END ....C=50, gamma=0.1, kernel=linear;, score=0.893 total time=   0.0s\n",
      "[CV 1/5] END ....C=50, gamma=0.2, kernel=linear;, score=0.929 total time=   0.0s\n",
      "[CV 2/5] END ....C=50, gamma=0.2, kernel=linear;, score=0.929 total time=   0.0s\n",
      "[CV 3/5] END ....C=50, gamma=0.2, kernel=linear;, score=0.871 total time=   0.0s\n",
      "[CV 4/5] END ....C=50, gamma=0.2, kernel=linear;, score=0.893 total time=   0.0s\n",
      "[CV 5/5] END ....C=50, gamma=0.2, kernel=linear;, score=0.893 total time=   0.0s\n",
      "[CV 1/5] END ..C=50, gamma=0.001, kernel=linear;, score=0.929 total time=   0.0s\n",
      "[CV 2/5] END ..C=50, gamma=0.001, kernel=linear;, score=0.929 total time=   0.0s\n",
      "[CV 3/5] END ..C=50, gamma=0.001, kernel=linear;, score=0.871 total time=   0.0s\n",
      "[CV 4/5] END ..C=50, gamma=0.001, kernel=linear;, score=0.893 total time=   0.0s\n",
      "[CV 5/5] END ..C=50, gamma=0.001, kernel=linear;, score=0.893 total time=   0.0s\n",
      "[CV 1/5] END ..C=50, gamma=0.003, kernel=linear;, score=0.929 total time=   0.0s\n",
      "[CV 2/5] END ..C=50, gamma=0.003, kernel=linear;, score=0.929 total time=   0.0s\n",
      "[CV 3/5] END ..C=50, gamma=0.003, kernel=linear;, score=0.871 total time=   0.0s\n",
      "[CV 4/5] END ..C=50, gamma=0.003, kernel=linear;, score=0.893 total time=   0.0s\n",
      "[CV 5/5] END ..C=50, gamma=0.003, kernel=linear;, score=0.893 total time=   0.0s\n",
      "[CV 1/5] END .....C=100, gamma=1, kernel=linear;, score=0.929 total time=   0.0s\n",
      "[CV 2/5] END .....C=100, gamma=1, kernel=linear;, score=0.929 total time=   0.0s\n",
      "[CV 3/5] END .....C=100, gamma=1, kernel=linear;, score=0.871 total time=   0.0s\n",
      "[CV 4/5] END .....C=100, gamma=1, kernel=linear;, score=0.893 total time=   0.0s\n",
      "[CV 5/5] END .....C=100, gamma=1, kernel=linear;, score=0.893 total time=   0.0s\n",
      "[CV 1/5] END ...C=100, gamma=0.1, kernel=linear;, score=0.929 total time=   0.0s\n",
      "[CV 2/5] END ...C=100, gamma=0.1, kernel=linear;, score=0.929 total time=   0.0s\n",
      "[CV 3/5] END ...C=100, gamma=0.1, kernel=linear;, score=0.871 total time=   0.0s\n",
      "[CV 4/5] END ...C=100, gamma=0.1, kernel=linear;, score=0.893 total time=   0.0s\n",
      "[CV 5/5] END ...C=100, gamma=0.1, kernel=linear;, score=0.893 total time=   0.0s\n",
      "[CV 1/5] END ...C=100, gamma=0.2, kernel=linear;, score=0.929 total time=   0.0s\n",
      "[CV 2/5] END ...C=100, gamma=0.2, kernel=linear;, score=0.929 total time=   0.0s\n",
      "[CV 3/5] END ...C=100, gamma=0.2, kernel=linear;, score=0.871 total time=   0.0s\n",
      "[CV 4/5] END ...C=100, gamma=0.2, kernel=linear;, score=0.893 total time=   0.0s\n",
      "[CV 5/5] END ...C=100, gamma=0.2, kernel=linear;, score=0.893 total time=   0.0s\n",
      "[CV 1/5] END .C=100, gamma=0.001, kernel=linear;, score=0.929 total time=   0.0s\n",
      "[CV 2/5] END .C=100, gamma=0.001, kernel=linear;, score=0.929 total time=   0.0s\n",
      "[CV 3/5] END .C=100, gamma=0.001, kernel=linear;, score=0.871 total time=   0.0s\n",
      "[CV 4/5] END .C=100, gamma=0.001, kernel=linear;, score=0.893 total time=   0.0s\n",
      "[CV 5/5] END .C=100, gamma=0.001, kernel=linear;, score=0.893 total time=   0.0s\n",
      "[CV 1/5] END .C=100, gamma=0.003, kernel=linear;, score=0.929 total time=   0.0s\n",
      "[CV 2/5] END .C=100, gamma=0.003, kernel=linear;, score=0.929 total time=   0.0s\n",
      "[CV 3/5] END .C=100, gamma=0.003, kernel=linear;, score=0.871 total time=   0.0s\n",
      "[CV 4/5] END .C=100, gamma=0.003, kernel=linear;, score=0.893 total time=   0.0s\n",
      "[CV 5/5] END .C=100, gamma=0.003, kernel=linear;, score=0.893 total time=   0.0s\n"
     ]
    },
    {
     "data": {
      "text/html": [
       "<style>#sk-container-id-5 {color: black;background-color: white;}#sk-container-id-5 pre{padding: 0;}#sk-container-id-5 div.sk-toggleable {background-color: white;}#sk-container-id-5 label.sk-toggleable__label {cursor: pointer;display: block;width: 100%;margin-bottom: 0;padding: 0.3em;box-sizing: border-box;text-align: center;}#sk-container-id-5 label.sk-toggleable__label-arrow:before {content: \"▸\";float: left;margin-right: 0.25em;color: #696969;}#sk-container-id-5 label.sk-toggleable__label-arrow:hover:before {color: black;}#sk-container-id-5 div.sk-estimator:hover label.sk-toggleable__label-arrow:before {color: black;}#sk-container-id-5 div.sk-toggleable__content {max-height: 0;max-width: 0;overflow: hidden;text-align: left;background-color: #f0f8ff;}#sk-container-id-5 div.sk-toggleable__content pre {margin: 0.2em;color: black;border-radius: 0.25em;background-color: #f0f8ff;}#sk-container-id-5 input.sk-toggleable__control:checked~div.sk-toggleable__content {max-height: 200px;max-width: 100%;overflow: auto;}#sk-container-id-5 input.sk-toggleable__control:checked~label.sk-toggleable__label-arrow:before {content: \"▾\";}#sk-container-id-5 div.sk-estimator input.sk-toggleable__control:checked~label.sk-toggleable__label {background-color: #d4ebff;}#sk-container-id-5 div.sk-label input.sk-toggleable__control:checked~label.sk-toggleable__label {background-color: #d4ebff;}#sk-container-id-5 input.sk-hidden--visually {border: 0;clip: rect(1px 1px 1px 1px);clip: rect(1px, 1px, 1px, 1px);height: 1px;margin: -1px;overflow: hidden;padding: 0;position: absolute;width: 1px;}#sk-container-id-5 div.sk-estimator {font-family: monospace;background-color: #f0f8ff;border: 1px dotted black;border-radius: 0.25em;box-sizing: border-box;margin-bottom: 0.5em;}#sk-container-id-5 div.sk-estimator:hover {background-color: #d4ebff;}#sk-container-id-5 div.sk-parallel-item::after {content: \"\";width: 100%;border-bottom: 1px solid gray;flex-grow: 1;}#sk-container-id-5 div.sk-label:hover label.sk-toggleable__label {background-color: #d4ebff;}#sk-container-id-5 div.sk-serial::before {content: \"\";position: absolute;border-left: 1px solid gray;box-sizing: border-box;top: 0;bottom: 0;left: 50%;z-index: 0;}#sk-container-id-5 div.sk-serial {display: flex;flex-direction: column;align-items: center;background-color: white;padding-right: 0.2em;padding-left: 0.2em;position: relative;}#sk-container-id-5 div.sk-item {position: relative;z-index: 1;}#sk-container-id-5 div.sk-parallel {display: flex;align-items: stretch;justify-content: center;background-color: white;position: relative;}#sk-container-id-5 div.sk-item::before, #sk-container-id-5 div.sk-parallel-item::before {content: \"\";position: absolute;border-left: 1px solid gray;box-sizing: border-box;top: 0;bottom: 0;left: 50%;z-index: -1;}#sk-container-id-5 div.sk-parallel-item {display: flex;flex-direction: column;z-index: 1;position: relative;background-color: white;}#sk-container-id-5 div.sk-parallel-item:first-child::after {align-self: flex-end;width: 50%;}#sk-container-id-5 div.sk-parallel-item:last-child::after {align-self: flex-start;width: 50%;}#sk-container-id-5 div.sk-parallel-item:only-child::after {width: 0;}#sk-container-id-5 div.sk-dashed-wrapped {border: 1px dashed gray;margin: 0 0.4em 0.5em 0.4em;box-sizing: border-box;padding-bottom: 0.4em;background-color: white;}#sk-container-id-5 div.sk-label label {font-family: monospace;font-weight: bold;display: inline-block;line-height: 1.2em;}#sk-container-id-5 div.sk-label-container {text-align: center;}#sk-container-id-5 div.sk-container {/* jupyter's `normalize.less` sets `[hidden] { display: none; }` but bootstrap.min.css set `[hidden] { display: none !important; }` so we also need the `!important` here to be able to override the default hidden behavior on the sphinx rendered scikit-learn.org. See: https://github.com/scikit-learn/scikit-learn/issues/21755 */display: inline-block !important;position: relative;}#sk-container-id-5 div.sk-text-repr-fallback {display: none;}</style><div id=\"sk-container-id-5\" class=\"sk-top-container\"><div class=\"sk-text-repr-fallback\"><pre>GridSearchCV(cv=5, estimator=SVC(),\n",
       "             param_grid={&#x27;C&#x27;: [0.1, 0.2, 1, 2, 3, 10, 50, 100],\n",
       "                         &#x27;gamma&#x27;: [1, 0.1, 0.2, 0.001, 0.003],\n",
       "                         &#x27;kernel&#x27;: [&#x27;linear&#x27;]},\n",
       "             verbose=3)</pre><b>In a Jupyter environment, please rerun this cell to show the HTML representation or trust the notebook. <br />On GitHub, the HTML representation is unable to render, please try loading this page with nbviewer.org.</b></div><div class=\"sk-container\" hidden><div class=\"sk-item sk-dashed-wrapped\"><div class=\"sk-label-container\"><div class=\"sk-label sk-toggleable\"><input class=\"sk-toggleable__control sk-hidden--visually\" id=\"sk-estimator-id-11\" type=\"checkbox\" ><label for=\"sk-estimator-id-11\" class=\"sk-toggleable__label sk-toggleable__label-arrow\">GridSearchCV</label><div class=\"sk-toggleable__content\"><pre>GridSearchCV(cv=5, estimator=SVC(),\n",
       "             param_grid={&#x27;C&#x27;: [0.1, 0.2, 1, 2, 3, 10, 50, 100],\n",
       "                         &#x27;gamma&#x27;: [1, 0.1, 0.2, 0.001, 0.003],\n",
       "                         &#x27;kernel&#x27;: [&#x27;linear&#x27;]},\n",
       "             verbose=3)</pre></div></div></div><div class=\"sk-parallel\"><div class=\"sk-parallel-item\"><div class=\"sk-item\"><div class=\"sk-label-container\"><div class=\"sk-label sk-toggleable\"><input class=\"sk-toggleable__control sk-hidden--visually\" id=\"sk-estimator-id-12\" type=\"checkbox\" ><label for=\"sk-estimator-id-12\" class=\"sk-toggleable__label sk-toggleable__label-arrow\">estimator: SVC</label><div class=\"sk-toggleable__content\"><pre>SVC()</pre></div></div></div><div class=\"sk-serial\"><div class=\"sk-item\"><div class=\"sk-estimator sk-toggleable\"><input class=\"sk-toggleable__control sk-hidden--visually\" id=\"sk-estimator-id-13\" type=\"checkbox\" ><label for=\"sk-estimator-id-13\" class=\"sk-toggleable__label sk-toggleable__label-arrow\">SVC</label><div class=\"sk-toggleable__content\"><pre>SVC()</pre></div></div></div></div></div></div></div></div></div></div>"
      ],
      "text/plain": [
       "GridSearchCV(cv=5, estimator=SVC(),\n",
       "             param_grid={'C': [0.1, 0.2, 1, 2, 3, 10, 50, 100],\n",
       "                         'gamma': [1, 0.1, 0.2, 0.001, 0.003],\n",
       "                         'kernel': ['linear']},\n",
       "             verbose=3)"
      ]
     },
     "execution_count": 39,
     "metadata": {},
     "output_type": "execute_result"
    }
   ],
   "source": [
    "grid.fit(X_train, y_train)"
   ]
  },
  {
   "cell_type": "code",
   "execution_count": 40,
   "id": "d99aabe5-e192-4fc2-957d-658a99618813",
   "metadata": {},
   "outputs": [
    {
     "data": {
      "text/plain": [
       "{'C': 10, 'gamma': 1, 'kernel': 'linear'}"
      ]
     },
     "execution_count": 40,
     "metadata": {},
     "output_type": "execute_result"
    }
   ],
   "source": [
    "grid.best_params_"
   ]
  },
  {
   "cell_type": "code",
   "execution_count": 41,
   "id": "01af8adf-9130-40ed-8b75-a071d88566ec",
   "metadata": {},
   "outputs": [
    {
     "data": {
      "text/plain": [
       "0.9028571428571428"
      ]
     },
     "execution_count": 41,
     "metadata": {},
     "output_type": "execute_result"
    }
   ],
   "source": [
    "grid.best_score_"
   ]
  },
  {
   "cell_type": "code",
   "execution_count": 42,
   "id": "3f89fa5d-2dba-470c-b417-8ae7a13bbe2d",
   "metadata": {},
   "outputs": [],
   "source": [
    "y_pred = grid.predict(X_test)"
   ]
  },
  {
   "cell_type": "code",
   "execution_count": 43,
   "id": "18abdcc9-4e96-42b5-bf07-39919d56236e",
   "metadata": {},
   "outputs": [
    {
     "data": {
      "text/plain": [
       "array([1, 0, 1, 1, 1, 0, 1, 1, 1, 0, 0, 0, 0, 0, 1, 1, 0, 1, 0, 1, 0, 0,\n",
       "       1, 1, 0, 0, 0, 0, 0, 0, 0, 0, 0, 1, 1, 1, 1, 0, 0, 0, 0, 0, 1, 1,\n",
       "       1, 0, 1, 1, 1, 1, 0, 1, 1, 0, 1, 1, 0, 1, 1, 1, 0, 1, 1, 1, 1, 0,\n",
       "       0, 0, 0, 1, 1, 1, 0, 0, 0, 0, 0, 0, 0, 1, 1, 1, 0, 0, 0, 1, 0, 1,\n",
       "       1, 0, 1, 1, 1, 1, 0, 1, 0, 0, 1, 1, 1, 0, 0, 1, 0, 1, 0, 1, 0, 1,\n",
       "       1, 0, 1, 1, 0, 0, 0, 0, 0, 1, 1, 0, 0, 0, 0, 1, 1, 1, 0, 1, 1, 0,\n",
       "       0, 0, 0, 1, 1, 0, 0, 1, 0, 1, 0, 0, 1, 0, 0, 0, 0, 1, 1, 0, 1, 1,\n",
       "       0, 0, 1, 1, 0, 0, 1, 0, 0, 1, 0, 1, 1, 0, 0, 0, 0, 1, 0, 0, 1, 0,\n",
       "       1, 1, 0, 1, 0, 1, 0, 1, 0, 1, 1, 0, 1, 1, 0, 1, 1, 1, 0, 0, 0, 1,\n",
       "       0, 0, 1, 0, 1, 0, 0, 0, 0, 1, 0, 0, 0, 1, 0, 1, 1, 1, 0, 1, 0, 1,\n",
       "       0, 1, 0, 1, 1, 1, 0, 1, 0, 0, 1, 0, 1, 0, 1, 0, 1, 1, 0, 0, 0, 1,\n",
       "       1, 1, 1, 0, 1, 0, 1, 0, 1, 0, 0, 1, 0, 1, 0, 0, 1, 1, 1, 1, 0, 0,\n",
       "       1, 0, 1, 1, 0, 1, 1, 0, 1, 0, 1, 0, 0, 0, 1, 1, 0, 1, 0, 1, 1, 0,\n",
       "       0, 0, 0, 0, 0, 1, 1, 0, 1, 1, 1, 0, 0, 1])"
      ]
     },
     "execution_count": 43,
     "metadata": {},
     "output_type": "execute_result"
    }
   ],
   "source": [
    "y_pred"
   ]
  },
  {
   "cell_type": "code",
   "execution_count": 44,
   "id": "87448ac9-5ef9-4022-84fc-b02758c8431a",
   "metadata": {},
   "outputs": [
    {
     "name": "stdout",
     "output_type": "stream",
     "text": [
      "              precision    recall  f1-score   support\n",
      "\n",
      "           0       0.90      0.92      0.91       151\n",
      "           1       0.92      0.90      0.91       149\n",
      "\n",
      "    accuracy                           0.91       300\n",
      "   macro avg       0.91      0.91      0.91       300\n",
      "weighted avg       0.91      0.91      0.91       300\n",
      "\n"
     ]
    }
   ],
   "source": [
    "from sklearn.metrics import classification_report, confusion_matrix, accuracy_score\n",
    "\n",
    "print(classification_report(y_test, y_pred))"
   ]
  },
  {
   "cell_type": "code",
   "execution_count": 45,
   "id": "5af40a2d-f482-47d8-864f-3088b54afcd8",
   "metadata": {},
   "outputs": [
    {
     "name": "stdout",
     "output_type": "stream",
     "text": [
      "0.91\n"
     ]
    }
   ],
   "source": [
    "print(accuracy_score(y_test, y_pred))"
   ]
  },
  {
   "cell_type": "code",
   "execution_count": null,
   "id": "2f04fd2f-7aed-4ead-bc85-079d83785e0e",
   "metadata": {},
   "outputs": [],
   "source": []
  }
 ],
 "metadata": {
  "kernelspec": {
   "display_name": "Python 3 (ipykernel)",
   "language": "python",
   "name": "python3"
  },
  "language_info": {
   "codemirror_mode": {
    "name": "ipython",
    "version": 3
   },
   "file_extension": ".py",
   "mimetype": "text/x-python",
   "name": "python",
   "nbconvert_exporter": "python",
   "pygments_lexer": "ipython3",
   "version": "3.10.8"
  }
 },
 "nbformat": 4,
 "nbformat_minor": 5
}
