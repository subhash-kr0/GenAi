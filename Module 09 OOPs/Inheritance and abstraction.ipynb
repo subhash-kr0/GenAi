{
 "cells": [
  {
   "cell_type": "code",
   "execution_count": 1,
   "id": "1832e7a5-e038-455e-a407-ccc97c19387f",
   "metadata": {},
   "outputs": [],
   "source": [
    "#inheritance >> refers to process of child class recieveing the properties of parent class\n",
    "#Syntax\n",
    "# class BaseClass:\n",
    "#     #body of base class\n",
    "# class DerivedClass(BaseClass):\n",
    "#     #body of derived class"
   ]
  },
  {
   "cell_type": "code",
   "execution_count": 2,
   "id": "a1497061-976e-401a-9795-a6719021ad8c",
   "metadata": {},
   "outputs": [],
   "source": [
    "#single inheriatnce >> when a class has only one parent class"
   ]
  },
  {
   "attachments": {
    "3fa1ef3b-5169-4459-a5b3-76c745396a58.png": {
     "image/png": "[encoded data removed]"
    }
   },
   "cell_type": "markdown",
   "id": "31d105e6-1dd1-4c5c-8b22-1ef1f9e9d2db",
   "metadata": {},
   "source": [
    "![image.png](attachment:3fa1ef3b-5169-4459-a5b3-76c745396a58.png)"
   ]
  },
  {
   "cell_type": "code",
   "execution_count": 3,
   "id": "42d9566e-28e5-46c1-b8c2-ca9261315c77",
   "metadata": {},
   "outputs": [],
   "source": [
    "class Father:\n",
    "    def father_property(self):\n",
    "        print(\"This is father property\")"
   ]
  },
  {
   "cell_type": "code",
   "execution_count": 4,
   "id": "d98cb064-acd6-4a68-8ed3-8635c658d29e",
   "metadata": {},
   "outputs": [],
   "source": [
    "class Son(Father):\n",
    "    def job(self):\n",
    "        print(\"Son has also a job\")"
   ]
  },
  {
   "cell_type": "code",
   "execution_count": 5,
   "id": "7865a191-1c89-435f-942e-1e94cac75425",
   "metadata": {},
   "outputs": [],
   "source": [
    "child_obj = Son()"
   ]
  },
  {
   "cell_type": "code",
   "execution_count": 7,
   "id": "fd0ba0b4-d799-42e5-9a8e-0a5b488a2a2f",
   "metadata": {},
   "outputs": [
    {
     "name": "stdout",
     "output_type": "stream",
     "text": [
      "Son has also a job\n"
     ]
    }
   ],
   "source": [
    "child_obj.job()"
   ]
  },
  {
   "cell_type": "code",
   "execution_count": 8,
   "id": "07768f33-0fa1-4fdc-8143-3aa852e879e4",
   "metadata": {},
   "outputs": [
    {
     "name": "stdout",
     "output_type": "stream",
     "text": [
      "This is father property\n"
     ]
    }
   ],
   "source": [
    "child_obj.father_property()"
   ]
  },
  {
   "cell_type": "code",
   "execution_count": 9,
   "id": "52cea555-1d1f-4584-bf30-17fb83c61206",
   "metadata": {},
   "outputs": [],
   "source": [
    "father_obj = Father()"
   ]
  },
  {
   "cell_type": "code",
   "execution_count": 11,
   "id": "0a4f6da7-981b-4b7d-8e55-0bd21ee411b4",
   "metadata": {},
   "outputs": [
    {
     "name": "stdout",
     "output_type": "stream",
     "text": [
      "This is father property\n"
     ]
    }
   ],
   "source": [
    "father_obj.father_property()"
   ]
  },
  {
   "cell_type": "code",
   "execution_count": 12,
   "id": "a7d72c5b-38e6-4685-b457-43b68a70a94d",
   "metadata": {},
   "outputs": [],
   "source": [
    "#parent class will not have access to the property of child class but child class will have access to both"
   ]
  },
  {
   "cell_type": "code",
   "execution_count": 13,
   "id": "856fd201-efcb-4c74-95a4-edb43fe22fa1",
   "metadata": {},
   "outputs": [],
   "source": [
    "class Fruit:\n",
    "    def fruit_info(self):\n",
    "        print(\"Inside Parent class\")\n",
    "class Apple(Fruit):\n",
    "    def apple_info(self):\n",
    "        print(\"inside the child class\")"
   ]
  },
  {
   "cell_type": "code",
   "execution_count": 14,
   "id": "38a263fd-5653-4125-92bc-0b343db78f73",
   "metadata": {},
   "outputs": [],
   "source": [
    "obj = Apple()"
   ]
  },
  {
   "cell_type": "code",
   "execution_count": 15,
   "id": "4a1c1712-34c9-48d2-a781-7766267dc8db",
   "metadata": {},
   "outputs": [
    {
     "name": "stdout",
     "output_type": "stream",
     "text": [
      "inside the child class\n"
     ]
    }
   ],
   "source": [
    "obj.apple_info()"
   ]
  },
  {
   "cell_type": "code",
   "execution_count": 16,
   "id": "8863eb95-2ae1-4f06-ab08-d8bcd8ecbd15",
   "metadata": {},
   "outputs": [
    {
     "name": "stdout",
     "output_type": "stream",
     "text": [
      "Inside Parent class\n"
     ]
    }
   ],
   "source": [
    "obj.fruit_info()"
   ]
  },
  {
   "cell_type": "code",
   "execution_count": 17,
   "id": "583af63f-ee75-4810-b30c-67c9438840f6",
   "metadata": {},
   "outputs": [],
   "source": [
    "class Fruit:\n",
    "    def fruit_info(self):\n",
    "        print(\"Inside Parent class\")\n",
    "class Apple(Fruit):\n",
    "    def fruit_info(self):\n",
    "        print(\"Inside Child class\")\n",
    "    def apple_info(self):\n",
    "        print(\"inside the child class\")"
   ]
  },
  {
   "cell_type": "code",
   "execution_count": 18,
   "id": "7db00dee-0fc7-474f-9b1e-4223ff32abc1",
   "metadata": {},
   "outputs": [],
   "source": [
    "apple = Apple()"
   ]
  },
  {
   "cell_type": "code",
   "execution_count": 19,
   "id": "375458f2-a11e-4220-a21f-292b3e284aab",
   "metadata": {},
   "outputs": [
    {
     "name": "stdout",
     "output_type": "stream",
     "text": [
      "inside the child class\n"
     ]
    }
   ],
   "source": [
    "apple.apple_info()"
   ]
  },
  {
   "cell_type": "code",
   "execution_count": 20,
   "id": "db7af5ce-610c-4ddb-91fc-5d38aab0ace8",
   "metadata": {},
   "outputs": [
    {
     "name": "stdout",
     "output_type": "stream",
     "text": [
      "Inside Child class\n"
     ]
    }
   ],
   "source": [
    "apple.fruit_info() #Method overriding>>child class is very powerful"
   ]
  },
  {
   "cell_type": "code",
   "execution_count": 21,
   "id": "6aa05091-9f69-422c-9a9d-e1592b6665d2",
   "metadata": {},
   "outputs": [],
   "source": [
    "#multi-level inheritence"
   ]
  },
  {
   "attachments": {
    "28c988cd-d1a4-49e6-9076-c71d852e34d2.png": {
     "image/png": "[encoded data removed]"
    }
   },
   "cell_type": "markdown",
   "id": "245e106a-c29a-450d-85ad-cc6bdae52090",
   "metadata": {},
   "source": [
    "![image.png](attachment:28c988cd-d1a4-49e6-9076-c71d852e34d2.png)"
   ]
  },
  {
   "cell_type": "code",
   "execution_count": 22,
   "id": "155a156f-21dc-45e3-bf0f-66d5f15d9ad1",
   "metadata": {},
   "outputs": [],
   "source": [
    "class GrandFather:\n",
    "    def prop_grand_father(self):\n",
    "        print(\"I am your grandfather\")"
   ]
  },
  {
   "cell_type": "code",
   "execution_count": 23,
   "id": "5d00e250-d544-4270-9634-845231cdf389",
   "metadata": {},
   "outputs": [],
   "source": [
    "class Father(GrandFather):\n",
    "    def prop_father(self):\n",
    "        print(\"I am your father and having property of mine and your grandfather as well\")"
   ]
  },
  {
   "cell_type": "code",
   "execution_count": 25,
   "id": "b002577a-c821-40c4-9f13-28a581665e6f",
   "metadata": {},
   "outputs": [],
   "source": [
    "class Son(Father):\n",
    "    def prop_son(self):\n",
    "        print(\"I am son and having property of both my father and grand father\")"
   ]
  },
  {
   "cell_type": "code",
   "execution_count": 26,
   "id": "a3dd0703-bfff-4b8d-b992-2fc6a55add6e",
   "metadata": {},
   "outputs": [],
   "source": [
    "son = Son()"
   ]
  },
  {
   "cell_type": "code",
   "execution_count": 27,
   "id": "348cb570-e747-4705-af4a-d90e285ced4a",
   "metadata": {},
   "outputs": [
    {
     "name": "stdout",
     "output_type": "stream",
     "text": [
      "I am your father and having property of mine and your grandfather as well\n"
     ]
    }
   ],
   "source": [
    "son.prop_father()"
   ]
  },
  {
   "cell_type": "code",
   "execution_count": 28,
   "id": "0123cc28-ba66-4d45-8eff-8734e5dcafe8",
   "metadata": {},
   "outputs": [
    {
     "name": "stdout",
     "output_type": "stream",
     "text": [
      "I am your grandfather\n"
     ]
    }
   ],
   "source": [
    "son.prop_grand_father()"
   ]
  },
  {
   "cell_type": "code",
   "execution_count": 30,
   "id": "b82cb32e-ec85-4432-9bb2-4280e5596892",
   "metadata": {},
   "outputs": [],
   "source": [
    "class Vehicle:\n",
    "    def vehicle_info(self):\n",
    "        print(\"Inside Vehicle class\")\n",
    "class Car(Vehicle):\n",
    "    def car_info(self):\n",
    "        print(\"Inside Car class\")\n",
    "class SportsCar(Car):\n",
    "    def sports_car_info(self):\n",
    "        print(\"inside sports car class\")"
   ]
  },
  {
   "cell_type": "code",
   "execution_count": 31,
   "id": "bc792fd7-a4c3-4765-9638-9a466c917cb2",
   "metadata": {},
   "outputs": [],
   "source": [
    "sports_car = SportsCar()"
   ]
  },
  {
   "cell_type": "code",
   "execution_count": 32,
   "id": "42ec8fd7-21d6-4145-a9ed-ff20c27dc538",
   "metadata": {},
   "outputs": [
    {
     "name": "stdout",
     "output_type": "stream",
     "text": [
      "inside sports car class\n"
     ]
    }
   ],
   "source": [
    "sports_car.sports_car_info()"
   ]
  },
  {
   "cell_type": "code",
   "execution_count": 33,
   "id": "d9730ca6-a876-4c65-bba7-0b75bc75bd4b",
   "metadata": {},
   "outputs": [
    {
     "name": "stdout",
     "output_type": "stream",
     "text": [
      "Inside Car class\n"
     ]
    }
   ],
   "source": [
    "sports_car.car_info()"
   ]
  },
  {
   "cell_type": "code",
   "execution_count": 34,
   "id": "2455aa7c-63a0-4e10-9995-7381810f8730",
   "metadata": {},
   "outputs": [
    {
     "name": "stdout",
     "output_type": "stream",
     "text": [
      "Inside Vehicle class\n"
     ]
    }
   ],
   "source": [
    "sports_car.vehicle_info()"
   ]
  },
  {
   "cell_type": "code",
   "execution_count": 35,
   "id": "5c43e988-a234-48da-a46a-07dae7688ece",
   "metadata": {},
   "outputs": [],
   "source": [
    "class Vehicle:\n",
    "    def vehicle_info(self):\n",
    "        print(\"Inside Vehicle class\")\n",
    "class Car(Vehicle):\n",
    "    def car_info(self):\n",
    "        print(\"Inside Car class\")\n",
    "class SportsCar(Car):\n",
    "    def vehicle_info(self):\n",
    "        print(\"inside sports car class\")"
   ]
  },
  {
   "cell_type": "code",
   "execution_count": 36,
   "id": "b7a38122-67f8-45d9-957a-cdc8bc771abe",
   "metadata": {},
   "outputs": [],
   "source": [
    "car = SportsCar()"
   ]
  },
  {
   "cell_type": "code",
   "execution_count": 37,
   "id": "402efd50-801d-4d8d-82d6-284efaae039b",
   "metadata": {},
   "outputs": [
    {
     "name": "stdout",
     "output_type": "stream",
     "text": [
      "inside sports car class\n"
     ]
    }
   ],
   "source": [
    "car.vehicle_info() #method overriding"
   ]
  },
  {
   "cell_type": "code",
   "execution_count": 38,
   "id": "8a573107-27a3-4366-a9d9-57f2cb780c69",
   "metadata": {},
   "outputs": [],
   "source": [
    "#Multiple inheritence >> one child class may inherit from multiple parent class"
   ]
  },
  {
   "attachments": {
    "9c834bdf-0138-4dfa-a5b1-c404602831a4.png": {
     "image/png": "[encoded data removed]"
    }
   },
   "cell_type": "markdown",
   "id": "8f4c46b0-faed-45e2-9726-9a30eed9a2fa",
   "metadata": {},
   "source": [
    "![image.png](attachment:9c834bdf-0138-4dfa-a5b1-c404602831a4.png)"
   ]
  },
  {
   "cell_type": "code",
   "execution_count": 41,
   "id": "ece5f447-fb59-410a-b591-b105fa484f82",
   "metadata": {},
   "outputs": [],
   "source": [
    "class ParentClass1:\n",
    "    def method1(self):\n",
    "        print(\"method 1 of Parent class 1\")\n",
    "class ParentClass2:\n",
    "    def method2(self):\n",
    "        print(\"method 2 of Parent class 2\")"
   ]
  },
  {
   "cell_type": "code",
   "execution_count": 42,
   "id": "4f0e2042-d66a-4be2-84e1-c42a044cd150",
   "metadata": {},
   "outputs": [],
   "source": [
    "class ChildClass(ParentClass1, ParentClass2):\n",
    "    def child_method(self):\n",
    "        print(\"child method\")"
   ]
  },
  {
   "cell_type": "code",
   "execution_count": 43,
   "id": "b24cd4d1-fe96-45c5-8c5b-8622f1021230",
   "metadata": {},
   "outputs": [],
   "source": [
    "child = ChildClass()"
   ]
  },
  {
   "cell_type": "code",
   "execution_count": 44,
   "id": "c963a923-8981-4f8b-9e79-d65834272a3e",
   "metadata": {},
   "outputs": [
    {
     "name": "stdout",
     "output_type": "stream",
     "text": [
      "method 1 of Parent class 1\n"
     ]
    }
   ],
   "source": [
    "child.method1()"
   ]
  },
  {
   "cell_type": "code",
   "execution_count": 45,
   "id": "4df730a0-2c40-4d1a-9be7-84b604a0fef6",
   "metadata": {},
   "outputs": [
    {
     "name": "stdout",
     "output_type": "stream",
     "text": [
      "method 2 of Parent class 2\n"
     ]
    }
   ],
   "source": [
    "child.method2()"
   ]
  },
  {
   "cell_type": "code",
   "execution_count": 49,
   "id": "cf8cbc25-7f1d-4dc3-9656-cbd2454ae7bc",
   "metadata": {},
   "outputs": [],
   "source": [
    "class A:\n",
    "    def method(self):\n",
    "        print(\"Method of class A\")\n",
    "class B(A):\n",
    "    def method(self):\n",
    "        print(\"Method of class B\")\n",
    "class C(A):\n",
    "    def method(self):\n",
    "        print(\"method of class c\")\n",
    "class D(C, B):\n",
    "    pass"
   ]
  },
  {
   "cell_type": "code",
   "execution_count": 50,
   "id": "6fd26e1a-3aa7-4c4e-9ee3-9f99ea59c99d",
   "metadata": {},
   "outputs": [],
   "source": [
    "d = D() #diamond problem"
   ]
  },
  {
   "cell_type": "code",
   "execution_count": 51,
   "id": "b7c81ab0-8f5a-422d-8552-df0f462a5525",
   "metadata": {},
   "outputs": [
    {
     "name": "stdout",
     "output_type": "stream",
     "text": [
      "method of class c\n"
     ]
    }
   ],
   "source": [
    "d.method()"
   ]
  },
  {
   "cell_type": "code",
   "execution_count": 52,
   "id": "70b4308a-bece-40ea-a30e-87795c90b8d0",
   "metadata": {},
   "outputs": [],
   "source": [
    "#HIERARCHICAL INHERITENCE"
   ]
  },
  {
   "attachments": {
    "8f89dd1e-bb6a-4814-a644-095e15134d32.png": {
     "image/png": "[encoded data removed]"
    }
   },
   "cell_type": "markdown",
   "id": "2e35ce61-ee3f-401c-97a9-723acc3cf4ce",
   "metadata": {},
   "source": [
    "![image.png](attachment:8f89dd1e-bb6a-4814-a644-095e15134d32.png)"
   ]
  },
  {
   "cell_type": "code",
   "execution_count": 53,
   "id": "cabe721e-3fc0-4169-8448-04dfabf5f831",
   "metadata": {},
   "outputs": [],
   "source": [
    "class Vehicle:\n",
    "    def info(self):\n",
    "        print(\"This is vehicle\")\n",
    "class Car(Vehicle):\n",
    "    def car_info(self, name):\n",
    "        print(\"This is car info\", name)\n",
    "class Truck(Vehicle):\n",
    "    def truck_info(self, name):\n",
    "        print(\"Truck info\", name)"
   ]
  },
  {
   "cell_type": "code",
   "execution_count": 54,
   "id": "4010aec7-6de2-4dfc-93c9-fca28021ab0b",
   "metadata": {},
   "outputs": [],
   "source": [
    "obj1 = Car()"
   ]
  },
  {
   "cell_type": "code",
   "execution_count": 55,
   "id": "112278f4-968c-4516-9da1-2a69f295b310",
   "metadata": {},
   "outputs": [
    {
     "name": "stdout",
     "output_type": "stream",
     "text": [
      "This is vehicle\n"
     ]
    }
   ],
   "source": [
    "obj1.info()"
   ]
  },
  {
   "cell_type": "code",
   "execution_count": 57,
   "id": "ab198b95-3593-441a-8e7f-f53216164438",
   "metadata": {},
   "outputs": [
    {
     "name": "stdout",
     "output_type": "stream",
     "text": [
      "This is car info BMW\n"
     ]
    }
   ],
   "source": [
    "obj1.car_info(\"BMW\")"
   ]
  },
  {
   "cell_type": "code",
   "execution_count": 58,
   "id": "9f114b4f-fef9-46c4-9936-86ccd9dd1d07",
   "metadata": {},
   "outputs": [],
   "source": [
    "obj2 = Truck()"
   ]
  },
  {
   "cell_type": "code",
   "execution_count": 59,
   "id": "28085f11-a8cb-49bb-9b3e-02fa7b8becc0",
   "metadata": {},
   "outputs": [
    {
     "name": "stdout",
     "output_type": "stream",
     "text": [
      "This is vehicle\n"
     ]
    }
   ],
   "source": [
    "obj2.info()"
   ]
  },
  {
   "cell_type": "code",
   "execution_count": 60,
   "id": "9ca20dd6-19a7-48b0-9f84-31cdc950c549",
   "metadata": {},
   "outputs": [
    {
     "name": "stdout",
     "output_type": "stream",
     "text": [
      "Truck info Ford\n"
     ]
    }
   ],
   "source": [
    "obj2.truck_info(\"Ford\")"
   ]
  },
  {
   "cell_type": "code",
   "execution_count": 61,
   "id": "f1ebbd98-db14-4a3d-9b55-e560c05f40ea",
   "metadata": {},
   "outputs": [],
   "source": [
    "#Hybrid inheritance >> multiple types or a combination of different inheritence"
   ]
  },
  {
   "attachments": {
    "f7bf5946-1548-45d6-bd28-83c953113ff9.png": {
     "image/png": "[encoded data removed]"
    }
   },
   "cell_type": "markdown",
   "id": "1c522c11-813d-4623-a85f-6e4679befb5a",
   "metadata": {},
   "source": [
    "![image.png](attachment:f7bf5946-1548-45d6-bd28-83c953113ff9.png)"
   ]
  },
  {
   "cell_type": "code",
   "execution_count": 62,
   "id": "c6ec47af-fcde-4112-8cb3-e52c6ae4b01c",
   "metadata": {},
   "outputs": [],
   "source": [
    "class Vehicle:\n",
    "    def vehicle_info(self):\n",
    "        print(\"Inside Vehicle class\")\n",
    "class Car(Vehicle):\n",
    "    def car_info(self):\n",
    "        print(\"Inside car class\")\n",
    "class Truck(Vehicle):\n",
    "    def truck_info(self, name):\n",
    "        print(\"Truck info\", name)\n",
    "        \n",
    "class SportsCar(Car, Vehicle):\n",
    "    def sports_info(self):\n",
    "        print(\"inside sports car class\")"
   ]
  },
  {
   "cell_type": "code",
   "execution_count": 63,
   "id": "ad870293-235d-4f99-b387-dc51e8116611",
   "metadata": {},
   "outputs": [],
   "source": [
    "s_car = SportsCar()"
   ]
  },
  {
   "cell_type": "code",
   "execution_count": 64,
   "id": "1956a949-4b54-40bb-8d50-63f85207a99a",
   "metadata": {},
   "outputs": [
    {
     "name": "stdout",
     "output_type": "stream",
     "text": [
      "Inside car class\n"
     ]
    }
   ],
   "source": [
    "s_car.car_info()"
   ]
  },
  {
   "cell_type": "code",
   "execution_count": 65,
   "id": "b48060ad-3e14-4d05-bc51-dee41ef88d05",
   "metadata": {},
   "outputs": [
    {
     "name": "stdout",
     "output_type": "stream",
     "text": [
      "inside sports car class\n"
     ]
    }
   ],
   "source": [
    "s_car.sports_info()"
   ]
  },
  {
   "cell_type": "code",
   "execution_count": 66,
   "id": "f29ea085-caea-44f1-a6a2-a044e3a863cc",
   "metadata": {},
   "outputs": [
    {
     "name": "stdout",
     "output_type": "stream",
     "text": [
      "Inside Vehicle class\n"
     ]
    }
   ],
   "source": [
    "s_car.vehicle_info()"
   ]
  },
  {
   "cell_type": "code",
   "execution_count": 67,
   "id": "711ec2fb-56d1-475e-b0e0-edf08771fd0c",
   "metadata": {},
   "outputs": [],
   "source": [
    "#Abstraction >> concept of hiding the complex implementation"
   ]
  },
  {
   "cell_type": "code",
   "execution_count": 68,
   "id": "f48d044f-246f-4967-bf3d-51a543db08d6",
   "metadata": {},
   "outputs": [],
   "source": [
    "import abc"
   ]
  },
  {
   "cell_type": "code",
   "execution_count": 69,
   "id": "c2c0d4ad-10c8-4dd7-8606-08f664671456",
   "metadata": {},
   "outputs": [],
   "source": [
    "class PwSkills :\n",
    "    \n",
    "    @abc.abstractmethod\n",
    "    def student_details(self):\n",
    "        pass\n",
    "    \n",
    "    @abc.abstractmethod\n",
    "    def student_assignment(self):\n",
    "        pass\n",
    "    \n",
    "    @abc.abstractmethod\n",
    "    def student_marks(self):\n",
    "        pass"
   ]
  },
  {
   "cell_type": "code",
   "execution_count": 70,
   "id": "45f2019e-0aca-4d20-a7a9-934e77fbeae2",
   "metadata": {},
   "outputs": [],
   "source": [
    "class DataScience(PwSkills):\n",
    "    def student_details(self):\n",
    "        return \"data science course student details\"\n",
    "    def student_marks(self):\n",
    "        return \"give ds course student's marks\""
   ]
  },
  {
   "cell_type": "code",
   "execution_count": 71,
   "id": "e18a8c87-f6b9-432e-b4fe-ea8eaee1f6e4",
   "metadata": {},
   "outputs": [],
   "source": [
    "class WebDev(PwSkills):\n",
    "    def student_assignment(self):\n",
    "        return \"This will give student assignment of web dev class\"\n",
    "    def student_marks(self):\n",
    "        return \"give web dev student's marks\""
   ]
  },
  {
   "cell_type": "code",
   "execution_count": 72,
   "id": "a7b9a5e4-1d37-4716-bdf2-cd49a12fa2fd",
   "metadata": {},
   "outputs": [],
   "source": [
    "ds = DataScience()"
   ]
  },
  {
   "cell_type": "code",
   "execution_count": 73,
   "id": "3f20b46a-c169-4384-b777-49f2ed1ee1ae",
   "metadata": {},
   "outputs": [
    {
     "data": {
      "text/plain": [
       "'data science course student details'"
      ]
     },
     "execution_count": 73,
     "metadata": {},
     "output_type": "execute_result"
    }
   ],
   "source": [
    "ds.student_details()"
   ]
  },
  {
   "cell_type": "code",
   "execution_count": 74,
   "id": "a5a88d05-a56b-4de7-9342-edca9afd8269",
   "metadata": {},
   "outputs": [],
   "source": [
    "wb = WebDev()"
   ]
  },
  {
   "cell_type": "code",
   "execution_count": 75,
   "id": "d4c652eb-aa6c-41b6-8229-4637dab4f586",
   "metadata": {},
   "outputs": [
    {
     "data": {
      "text/plain": [
       "\"give web dev student's marks\""
      ]
     },
     "execution_count": 75,
     "metadata": {},
     "output_type": "execute_result"
    }
   ],
   "source": [
    "wb.student_marks()"
   ]
  },
  {
   "cell_type": "code",
   "execution_count": 76,
   "id": "65d451f3-fb51-47f6-8eba-ac377a31a6cf",
   "metadata": {},
   "outputs": [],
   "source": [
    "class Shape:\n",
    "    @abc.abstractmethod\n",
    "    def calculate_area(self):\n",
    "        pass\n",
    "\n",
    "class Rectange(Shape):\n",
    "    def calculate_area(self):\n",
    "        return \"Area of rectangle : length * breadth\"\n",
    "class Circle(Shape):\n",
    "    def calculate_area(self):\n",
    "        return \"Area of circle : pi r**2\""
   ]
  },
  {
   "cell_type": "code",
   "execution_count": 77,
   "id": "0d457413-21d3-4c72-8087-37ca6f48b1f5",
   "metadata": {},
   "outputs": [
    {
     "data": {
      "text/plain": [
       "'Area of rectangle : length * breadth'"
      ]
     },
     "execution_count": 77,
     "metadata": {},
     "output_type": "execute_result"
    }
   ],
   "source": [
    "rect = Rectange()\n",
    "rect.calculate_area()"
   ]
  },
  {
   "cell_type": "code",
   "execution_count": 78,
   "id": "b50f1cba-d2f3-4d34-ae38-31cce6c3e886",
   "metadata": {},
   "outputs": [
    {
     "data": {
      "text/plain": [
       "'Area of circle : pi r**2'"
      ]
     },
     "execution_count": 78,
     "metadata": {},
     "output_type": "execute_result"
    }
   ],
   "source": [
    "c = Circle()\n",
    "c.calculate_area()"
   ]
  },
  {
   "cell_type": "code",
   "execution_count": 79,
   "id": "25954934-9e6a-434b-8a35-71897ab87656",
   "metadata": {},
   "outputs": [],
   "source": [
    "class Shape:\n",
    "    @abc.abstractmethod\n",
    "    def calculate_area(self):\n",
    "        pass\n",
    "\n",
    "class Rectange(Shape):\n",
    "    def calculate_area(self):\n",
    "        print(\"Area of rectangle : length * breadth\")\n",
    "class Circle(Shape):\n",
    "    def calculate_area(self):\n",
    "        print(\"Area of circle : pi r**2\")"
   ]
  },
  {
   "cell_type": "code",
   "execution_count": 80,
   "id": "2877190c-f178-4ca2-8b26-eee779d70d2f",
   "metadata": {},
   "outputs": [
    {
     "name": "stdout",
     "output_type": "stream",
     "text": [
      "Area of rectangle : length * breadth\n"
     ]
    }
   ],
   "source": [
    "rect = Rectange()\n",
    "rect.calculate_area()"
   ]
  },
  {
   "cell_type": "code",
   "execution_count": null,
   "id": "c77018bc-3791-467e-955c-0924f5531de7",
   "metadata": {},
   "outputs": [],
   "source": []
  }
 ],
 "metadata": {
  "kernelspec": {
   "display_name": "Python 3 (ipykernel)",
   "language": "python",
   "name": "python3"
  },
  "language_info": {
   "codemirror_mode": {
    "name": "ipython",
    "version": 3
   },
   "file_extension": ".py",
   "mimetype": "text/x-python",
   "name": "python",
   "nbconvert_exporter": "python",
   "pygments_lexer": "ipython3",
   "version": "3.10.8"
  }
 },
 "nbformat": 4,
 "nbformat_minor": 5
}
