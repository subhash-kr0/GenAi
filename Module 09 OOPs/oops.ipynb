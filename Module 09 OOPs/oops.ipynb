{
 "cells": [
  {
   "cell_type": "code",
   "execution_count": 1,
   "id": "2b720a9e-23de-46f0-bea4-c9d2ac23ae02",
   "metadata": {},
   "outputs": [],
   "source": [
    "#oops>> object oriented programming system\n",
    "a = 5"
   ]
  },
  {
   "cell_type": "code",
   "execution_count": 3,
   "id": "46146849-0734-425a-81be-9037b44d66b4",
   "metadata": {},
   "outputs": [
    {
     "name": "stdout",
     "output_type": "stream",
     "text": [
      "<class 'int'>\n"
     ]
    }
   ],
   "source": [
    "print(type(a))"
   ]
  },
  {
   "cell_type": "code",
   "execution_count": 4,
   "id": "dd72a1b8-e425-449d-ac42-0fa3164bee55",
   "metadata": {},
   "outputs": [
    {
     "name": "stdout",
     "output_type": "stream",
     "text": [
      "<class 'str'>\n"
     ]
    }
   ],
   "source": [
    "s = \"pwskills\"\n",
    "print(type(s))"
   ]
  },
  {
   "cell_type": "code",
   "execution_count": 5,
   "id": "ba3cb96e-ddf7-4036-a0b5-38e25313bec8",
   "metadata": {},
   "outputs": [],
   "source": [
    "a =6\n",
    "a =8\n",
    "a =10"
   ]
  },
  {
   "cell_type": "code",
   "execution_count": 7,
   "id": "8ea16844-5d6c-4131-9f90-885bb36a5b1d",
   "metadata": {},
   "outputs": [
    {
     "name": "stdout",
     "output_type": "stream",
     "text": [
      "Ajay\n"
     ]
    }
   ],
   "source": [
    "print(\"Ajay\")"
   ]
  },
  {
   "cell_type": "code",
   "execution_count": 8,
   "id": "69647bfa-48e1-4f43-ad8b-82483c3c55dd",
   "metadata": {},
   "outputs": [
    {
     "name": "stdout",
     "output_type": "stream",
     "text": [
      "Aj\n"
     ]
    }
   ],
   "source": [
    "print(\"Aj\")"
   ]
  },
  {
   "cell_type": "code",
   "execution_count": 9,
   "id": "6c6d4b37-c28d-4df8-8f20-6eba8afc007a",
   "metadata": {},
   "outputs": [],
   "source": [
    "class Car:#naming convention>> UpperCamelCase\n",
    "    pass"
   ]
  },
  {
   "cell_type": "code",
   "execution_count": 10,
   "id": "49899d27-d40e-4a10-9d5c-ff534187355a",
   "metadata": {},
   "outputs": [],
   "source": [
    "a = Car() #instance, object"
   ]
  },
  {
   "cell_type": "code",
   "execution_count": 12,
   "id": "90a3c36c-64e0-4f4f-b55c-a676b624da8b",
   "metadata": {},
   "outputs": [
    {
     "name": "stdout",
     "output_type": "stream",
     "text": [
      "<class '__main__.Car'>\n"
     ]
    }
   ],
   "source": [
    "print(type(a))"
   ]
  },
  {
   "cell_type": "code",
   "execution_count": 25,
   "id": "60673133-86dd-411a-946a-3ebe2631ab35",
   "metadata": {},
   "outputs": [],
   "source": [
    "class Car: #function/method of a car\n",
    "    def accelerate(self):\n",
    "        print(\"car is accelerting\")\n",
    "    "
   ]
  },
  {
   "cell_type": "code",
   "execution_count": 26,
   "id": "466fb0bb-58d7-4ca7-972d-106ce992729e",
   "metadata": {},
   "outputs": [],
   "source": [
    "a = Car()"
   ]
  },
  {
   "cell_type": "code",
   "execution_count": 27,
   "id": "42d2a562-a76f-4745-86c2-7401b8ef8c83",
   "metadata": {},
   "outputs": [
    {
     "name": "stdout",
     "output_type": "stream",
     "text": [
      "car is accelerting\n"
     ]
    }
   ],
   "source": [
    "a.accelerate()"
   ]
  },
  {
   "cell_type": "code",
   "execution_count": 28,
   "id": "c95e1733-e8da-4115-8f40-23d7dde45141",
   "metadata": {},
   "outputs": [],
   "source": [
    "#self > a variable that represents instance of the class using which you can access sttribute and method"
   ]
  },
  {
   "cell_type": "code",
   "execution_count": 30,
   "id": "a221ed1d-215d-4c58-923b-bc4e17f7382b",
   "metadata": {},
   "outputs": [],
   "source": [
    "# def f1():\n",
    "#     pass\n",
    "# def b2():\n",
    "#     pass\n",
    "# def d1():\n",
    "#     pass"
   ]
  },
  {
   "cell_type": "code",
   "execution_count": 31,
   "id": "838bea7c-c68e-4ecb-b3cd-47230594c5bb",
   "metadata": {},
   "outputs": [],
   "source": [
    "class Car: #function/method of a car\n",
    "    def accelerate(self):\n",
    "        print(\"car is accelerting\")\n",
    "    def brake(self):\n",
    "        print(\"car is stopping\")"
   ]
  },
  {
   "cell_type": "code",
   "execution_count": 32,
   "id": "9aab3b54-1e69-4bd9-9225-f37de14b0aa0",
   "metadata": {},
   "outputs": [
    {
     "name": "stdout",
     "output_type": "stream",
     "text": [
      "car is stopping\n"
     ]
    }
   ],
   "source": [
    "a = Car()\n",
    "a.brake()"
   ]
  },
  {
   "cell_type": "code",
   "execution_count": 33,
   "id": "e5d5e368-5734-4304-9bf2-60d871e80d38",
   "metadata": {},
   "outputs": [],
   "source": [
    "class Bank:\n",
    "    def deposit(self, amount):\n",
    "        print(\"I am trying to deposit some money\")\n",
    "    def withdraw(self, amount_withdraw):\n",
    "        print(\"I am trying to withdraw some money\")"
   ]
  },
  {
   "cell_type": "code",
   "execution_count": 34,
   "id": "17cff5fc-1f33-453a-9b50-bc28c699a14f",
   "metadata": {},
   "outputs": [],
   "source": [
    "ajay = Bank()"
   ]
  },
  {
   "cell_type": "code",
   "execution_count": 35,
   "id": "62fd29ed-417f-4e6b-b233-b297f88fed08",
   "metadata": {},
   "outputs": [
    {
     "name": "stdout",
     "output_type": "stream",
     "text": [
      "I am trying to deposit some money\n"
     ]
    }
   ],
   "source": [
    "ajay.deposit(1000)"
   ]
  },
  {
   "cell_type": "code",
   "execution_count": 36,
   "id": "3d056927-1b75-4b90-92c5-e32bec89058d",
   "metadata": {},
   "outputs": [
    {
     "ename": "NameError",
     "evalue": "name 'deposit' is not defined",
     "output_type": "error",
     "traceback": [
      "\u001b[0;31m---------------------------------------------------------------------------\u001b[0m",
      "\u001b[0;31mNameError\u001b[0m                                 Traceback (most recent call last)",
      "Cell \u001b[0;32mIn[36], line 1\u001b[0m\n\u001b[0;32m----> 1\u001b[0m \u001b[43mdeposit\u001b[49m()\n",
      "\u001b[0;31mNameError\u001b[0m: name 'deposit' is not defined"
     ]
    }
   ],
   "source": [
    "deposit()"
   ]
  },
  {
   "cell_type": "code",
   "execution_count": 42,
   "id": "7b6342c6-e121-4b52-8729-e78d032d4078",
   "metadata": {},
   "outputs": [],
   "source": [
    "class Bank:\n",
    "    amount = 1000\n",
    "    def deposit(self, amount):\n",
    "        print(\"I am trying to deposit some money\")\n",
    "    def withdraw(self, amount_withdraw):\n",
    "        print(\"I am trying to withdraw some money\")"
   ]
  },
  {
   "cell_type": "code",
   "execution_count": 43,
   "id": "65aa322b-529d-444d-a478-e32552fc0836",
   "metadata": {},
   "outputs": [],
   "source": [
    "ajay = Bank()"
   ]
  },
  {
   "cell_type": "code",
   "execution_count": 45,
   "id": "9c974b33-e007-46b4-aa28-daaf60a0f8d0",
   "metadata": {},
   "outputs": [
    {
     "name": "stdout",
     "output_type": "stream",
     "text": [
      "I am trying to deposit some money\n"
     ]
    }
   ],
   "source": [
    "ajay.deposit(1000)"
   ]
  },
  {
   "cell_type": "code",
   "execution_count": 46,
   "id": "a6fb70fe-ff9f-452b-8771-247e8340fedf",
   "metadata": {},
   "outputs": [
    {
     "data": {
      "text/plain": [
       "1000"
      ]
     },
     "execution_count": 46,
     "metadata": {},
     "output_type": "execute_result"
    }
   ],
   "source": [
    "ajay.amount"
   ]
  },
  {
   "cell_type": "code",
   "execution_count": 47,
   "id": "f8f12437-93be-48ee-8ad4-a60a212faa03",
   "metadata": {},
   "outputs": [],
   "source": [
    "a =3\n",
    "a= 3\n",
    "a =8\n",
    "a=10"
   ]
  },
  {
   "cell_type": "code",
   "execution_count": 48,
   "id": "0d0d6aac-4536-440c-8316-99c93268144a",
   "metadata": {},
   "outputs": [],
   "source": [
    "class Listops:\n",
    "    \n",
    "    l = [1, 2, 3, 4, 5]\n",
    "    def extract_even(self, l):\n",
    "        l1 = []\n",
    "        for i in l:\n",
    "            if i % 2 ==0:\n",
    "                l1.append(i)\n",
    "        return l1\n",
    "    \n",
    "    def extract_odd(self, l):\n",
    "        l1 = []\n",
    "        for i in l:\n",
    "            if i % 2 !=0:\n",
    "                l1.append(i)\n",
    "        return l1"
   ]
  },
  {
   "cell_type": "code",
   "execution_count": 49,
   "id": "be13a556-d7db-4f6b-a6d4-02cf1a9df311",
   "metadata": {},
   "outputs": [],
   "source": [
    "ops1 = Listops()"
   ]
  },
  {
   "cell_type": "code",
   "execution_count": 50,
   "id": "fe96ebc6-886b-46b4-9bdf-f42ada5fcbe9",
   "metadata": {},
   "outputs": [
    {
     "data": {
      "text/plain": [
       "[1, 2, 3, 4, 5]"
      ]
     },
     "execution_count": 50,
     "metadata": {},
     "output_type": "execute_result"
    }
   ],
   "source": [
    "ops1.l"
   ]
  },
  {
   "cell_type": "code",
   "execution_count": 51,
   "id": "b13f6bc3-572d-496f-96ab-d539367fc5a9",
   "metadata": {},
   "outputs": [
    {
     "data": {
      "text/plain": [
       "[2, 4]"
      ]
     },
     "execution_count": 51,
     "metadata": {},
     "output_type": "execute_result"
    }
   ],
   "source": [
    "ops1.extract_even(ops1.l)"
   ]
  },
  {
   "cell_type": "code",
   "execution_count": 52,
   "id": "8f464708-375e-41f6-8c33-ec2807147754",
   "metadata": {},
   "outputs": [
    {
     "data": {
      "text/plain": [
       "[2, 4]"
      ]
     },
     "execution_count": 52,
     "metadata": {},
     "output_type": "execute_result"
    }
   ],
   "source": [
    "ops2 = Listops()\n",
    "ops2.extract_even(ops2.l)"
   ]
  },
  {
   "cell_type": "code",
   "execution_count": 54,
   "id": "da790649-8f02-4998-b940-2704692de3be",
   "metadata": {},
   "outputs": [],
   "source": [
    "a =4\n",
    "b=3"
   ]
  },
  {
   "cell_type": "code",
   "execution_count": 55,
   "id": "f11ab424-afba-4376-8c4b-0b82e71e84f1",
   "metadata": {},
   "outputs": [
    {
     "data": {
      "text/plain": [
       "4"
      ]
     },
     "execution_count": 55,
     "metadata": {},
     "output_type": "execute_result"
    }
   ],
   "source": [
    "a"
   ]
  },
  {
   "cell_type": "code",
   "execution_count": 56,
   "id": "7e7e2093-5c2b-4fc5-ac46-0f5e99393eee",
   "metadata": {},
   "outputs": [
    {
     "data": {
      "text/plain": [
       "3"
      ]
     },
     "execution_count": 56,
     "metadata": {},
     "output_type": "execute_result"
    }
   ],
   "source": [
    "b"
   ]
  },
  {
   "cell_type": "code",
   "execution_count": 76,
   "id": "1f18eebd-0fba-4ead-9f94-2783dde86580",
   "metadata": {},
   "outputs": [],
   "source": [
    "class Listops:\n",
    "    \n",
    "    def __init__(self, l):\n",
    "        self.l = l\n",
    "        \n",
    "    def extract_even(self):\n",
    "        l = self.l\n",
    "        l1 = []\n",
    "        for i in l:\n",
    "            if i % 2 ==0:\n",
    "                l1.append(i)\n",
    "        return l1\n",
    "    \n",
    "    def extract_odd(self):\n",
    "        l=self.l\n",
    "        l1 = []\n",
    "        for i in l:\n",
    "            if i % 2 !=0:\n",
    "                l1.append(i)\n",
    "        return l1"
   ]
  },
  {
   "cell_type": "code",
   "execution_count": 77,
   "id": "4b74d2fb-f733-4dd3-828a-59e2c288c2d7",
   "metadata": {},
   "outputs": [],
   "source": [
    "obj1 = Listops([1, 2, 3, 4, 5])"
   ]
  },
  {
   "cell_type": "code",
   "execution_count": 79,
   "id": "4f5fada9-94ed-4e44-8a5a-271979d126c1",
   "metadata": {},
   "outputs": [
    {
     "data": {
      "text/plain": [
       "[1, 2, 3, 4, 5]"
      ]
     },
     "execution_count": 79,
     "metadata": {},
     "output_type": "execute_result"
    }
   ],
   "source": [
    "obj1.l"
   ]
  },
  {
   "cell_type": "code",
   "execution_count": 74,
   "id": "b0687f47-73f6-45cb-89fb-87de1f5dab36",
   "metadata": {},
   "outputs": [
    {
     "data": {
      "text/plain": [
       "[1, 2, 3, 4, 5]"
      ]
     },
     "execution_count": 74,
     "metadata": {},
     "output_type": "execute_result"
    }
   ],
   "source": [
    "obj1.l"
   ]
  },
  {
   "cell_type": "code",
   "execution_count": 75,
   "id": "cf798765-b928-47f6-b275-4ebe04e2191e",
   "metadata": {},
   "outputs": [
    {
     "data": {
      "text/plain": [
       "[8, 4, 10]"
      ]
     },
     "execution_count": 75,
     "metadata": {},
     "output_type": "execute_result"
    }
   ],
   "source": [
    "obj2 = Listops([1, 8, 3, 4, 10])\n",
    "obj2.extract_even()"
   ]
  },
  {
   "cell_type": "code",
   "execution_count": 88,
   "id": "5287838a-f6f6-4081-9cc1-4b90987212e0",
   "metadata": {},
   "outputs": [],
   "source": [
    "class Listops:\n",
    "    \n",
    "    def __init__(self, l):\n",
    "        self.l = l\n",
    "        \n",
    "    def extract_even(self):\n",
    "        l = self.l\n",
    "        l1 = []\n",
    "        for i in l:\n",
    "            if i % 2 ==0:\n",
    "                l1.append(i)\n",
    "        return l1\n",
    "    \n",
    "    def extract_odd(self):\n",
    "        l=self.l\n",
    "        l1 = []\n",
    "        for i in l:\n",
    "            if i % 2 !=0:\n",
    "                l1.append(i)\n",
    "        return l1"
   ]
  },
  {
   "cell_type": "code",
   "execution_count": 89,
   "id": "f8a9f002-a782-47bf-ba7b-cbc778b9a3cd",
   "metadata": {},
   "outputs": [],
   "source": [
    "obj1 = Listops([1, 2, 3, 4, 5])"
   ]
  },
  {
   "cell_type": "code",
   "execution_count": 90,
   "id": "c38d758a-4719-456d-8ecb-dc5ef9cb2c04",
   "metadata": {},
   "outputs": [
    {
     "data": {
      "text/plain": [
       "[1, 2, 3, 4, 5]"
      ]
     },
     "execution_count": 90,
     "metadata": {},
     "output_type": "execute_result"
    }
   ],
   "source": [
    "obj1.l"
   ]
  },
  {
   "cell_type": "code",
   "execution_count": 91,
   "id": "80950f84-9caf-4fb2-ae17-434e26061770",
   "metadata": {},
   "outputs": [],
   "source": [
    "class Book:\n",
    "    \n",
    "    def __init__(self, name, author, title):\n",
    "        self.name_of_book = name\n",
    "        self.book_author = author\n",
    "        self.title_name = title\n",
    "        \n",
    "    def extract_details_name_title(self):\n",
    "        print(self.name_of_book, self.title_name)\n",
    "        \n",
    "    def extract_details_name_author(self):\n",
    "        print(self.name_of_book, self.book_author)\n",
    "    "
   ]
  },
  {
   "cell_type": "code",
   "execution_count": 92,
   "id": "81ed3738-3534-4a3b-8eaa-7ace2d805064",
   "metadata": {},
   "outputs": [],
   "source": [
    "student1 = Book(\"ML\", \"MURPHY\", \"Linear Regression\")"
   ]
  },
  {
   "cell_type": "code",
   "execution_count": 93,
   "id": "19337667-62e2-43ee-be2d-f8883953d234",
   "metadata": {},
   "outputs": [
    {
     "name": "stdout",
     "output_type": "stream",
     "text": [
      "ML Linear Regression\n"
     ]
    }
   ],
   "source": [
    "student1.extract_details_name_title()"
   ]
  },
  {
   "cell_type": "code",
   "execution_count": 94,
   "id": "ff17663f-896e-473d-afdb-f7c19af1d2a3",
   "metadata": {},
   "outputs": [],
   "source": [
    "student2 = Book(\"DL\", \"abc\", \"CNN\")"
   ]
  },
  {
   "cell_type": "code",
   "execution_count": 95,
   "id": "e9c8df01-2610-4fa8-8a4a-17c0b77df9cd",
   "metadata": {},
   "outputs": [
    {
     "name": "stdout",
     "output_type": "stream",
     "text": [
      "DL abc\n"
     ]
    }
   ],
   "source": [
    "student2.extract_details_name_author()"
   ]
  },
  {
   "cell_type": "code",
   "execution_count": 97,
   "id": "6ab670b2-0efd-458c-a729-90bf336db502",
   "metadata": {},
   "outputs": [
    {
     "data": {
      "text/plain": [
       "'DL'"
      ]
     },
     "execution_count": 97,
     "metadata": {},
     "output_type": "execute_result"
    }
   ],
   "source": [
    "student2.name_of_book"
   ]
  },
  {
   "cell_type": "code",
   "execution_count": 100,
   "id": "b984fafc-87c7-433b-963d-55158627ba63",
   "metadata": {},
   "outputs": [],
   "source": [
    "class Book:\n",
    "    \n",
    "    def __init__(self):\n",
    "        self.name_of_book = \"DSA\"\n",
    "        self.book_author = \"Cormen\"\n",
    "        self.title_name =\"Stacks\"\n",
    "        \n",
    "    def extract_details_name_title(self):\n",
    "        print(self.name_of_book, self.title_name)\n",
    "        \n",
    "    def extract_details_name_author(self):\n",
    "        print(self.name_of_book, self.book_author)"
   ]
  },
  {
   "cell_type": "code",
   "execution_count": 101,
   "id": "c17a7936-65e3-4bf1-8bc2-25175a7636bd",
   "metadata": {},
   "outputs": [
    {
     "name": "stdout",
     "output_type": "stream",
     "text": [
      "DSA Cormen\n"
     ]
    }
   ],
   "source": [
    "student1 = Book()\n",
    "student1.extract_details_name_author()"
   ]
  },
  {
   "cell_type": "code",
   "execution_count": 103,
   "id": "ae712c03-59ee-4d21-9b29-7171d1184314",
   "metadata": {},
   "outputs": [
    {
     "name": "stdout",
     "output_type": "stream",
     "text": [
      "DSA Cormen\n"
     ]
    }
   ],
   "source": [
    "student2 = Book()\n",
    "student2.extract_details_name_author()"
   ]
  },
  {
   "cell_type": "code",
   "execution_count": 104,
   "id": "a96ea0af-64f9-43e3-916b-bfdbe5725839",
   "metadata": {},
   "outputs": [],
   "source": [
    "class Book:\n",
    "    \n",
    "    def __init__(self, name, author, title):\n",
    "        self.name_of_book = name\n",
    "        self.book_author = author\n",
    "        self.title_name = title\n",
    "        \n",
    "    def extract_details_name_title(self):\n",
    "        print(self.name_of_book, self.title_name)\n",
    "        \n",
    "    def extract_details_name_author(self):\n",
    "        print(self.name_of_book, self.book_author)"
   ]
  },
  {
   "cell_type": "code",
   "execution_count": 106,
   "id": "88b7cf3e-4254-4d56-ad7d-711fc2773492",
   "metadata": {},
   "outputs": [
    {
     "name": "stdout",
     "output_type": "stream",
     "text": [
      "ML MURPHY\n"
     ]
    }
   ],
   "source": [
    "student1 = Book(\"ML\", \"MURPHY\", \"Linear Regression\")\n",
    "student1.extract_details_name_author()"
   ]
  },
  {
   "cell_type": "code",
   "execution_count": null,
   "id": "c4ed6287-d8ab-4309-9839-004ab10799db",
   "metadata": {},
   "outputs": [],
   "source": []
  }
 ],
 "metadata": {
  "kernelspec": {
   "display_name": "Python 3 (ipykernel)",
   "language": "python",
   "name": "python3"
  },
  "language_info": {
   "codemirror_mode": {
    "name": "ipython",
    "version": 3
   },
   "file_extension": ".py",
   "mimetype": "text/x-python",
   "name": "python",
   "nbconvert_exporter": "python",
   "pygments_lexer": "ipython3",
   "version": "3.10.8"
  }
 },
 "nbformat": 4,
 "nbformat_minor": 5
}
