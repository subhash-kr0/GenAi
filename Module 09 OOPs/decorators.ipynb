{
 "cells": [
  {
   "cell_type": "code",
   "execution_count": 1,
   "id": "c722bd3d-13ff-40b6-950a-9ba7a482d1b9",
   "metadata": {},
   "outputs": [],
   "source": [
    "#decorators >>allows to modify/extend the existing behaviour of functions or class without modifying it"
   ]
  },
  {
   "cell_type": "code",
   "execution_count": 4,
   "id": "44b6ce14-6c3f-4ed9-8c93-e3a80606f51d",
   "metadata": {},
   "outputs": [],
   "source": [
    "def my_decorator_func():\n",
    "    print(\"The lines being printed before the comp.\")\n",
    "    print(1+11)\n",
    "    print(\"The lines being printed after the comp.\")"
   ]
  },
  {
   "cell_type": "code",
   "execution_count": 5,
   "id": "ec6d7441-3ff2-44a3-bb94-0c453709f8d9",
   "metadata": {},
   "outputs": [
    {
     "name": "stdout",
     "output_type": "stream",
     "text": [
      "The lines being printed before the comp.\n",
      "12\n",
      "The lines being printed after the comp.\n"
     ]
    }
   ],
   "source": [
    "my_decorator_func()"
   ]
  },
  {
   "cell_type": "code",
   "execution_count": 6,
   "id": "5d15e537-8bbc-4fe6-a34c-f8e6a81830a2",
   "metadata": {},
   "outputs": [],
   "source": [
    "def my_decorator(func): #decorator func that takes another function as arguement\n",
    "    def wrapper(): #adds the functionality before and after calling func\n",
    "        print(\"The lines being printed before the func.\")\n",
    "        func()\n",
    "        print(\"The lines being printed after the func.\") \n",
    "    return wrapper"
   ]
  },
  {
   "cell_type": "code",
   "execution_count": 7,
   "id": "dbcc820f-1ca0-4992-bafc-e5360d7501b2",
   "metadata": {},
   "outputs": [],
   "source": [
    "@my_decorator\n",
    "def say_hello():\n",
    "    print(\"hello\")\n",
    "#when say_hello() is called, it is actually calling wrapper() which in turn calls say_hello()"
   ]
  },
  {
   "cell_type": "code",
   "execution_count": 8,
   "id": "3cc7a6c2-5e29-4907-a93d-a2560e94a68b",
   "metadata": {},
   "outputs": [
    {
     "name": "stdout",
     "output_type": "stream",
     "text": [
      "The lines being printed before the func.\n",
      "hello\n",
      "The lines being printed after the func.\n"
     ]
    }
   ],
   "source": [
    "say_hello()"
   ]
  },
  {
   "cell_type": "code",
   "execution_count": 12,
   "id": "454fa953-b120-40e7-b729-8d3cc643fac0",
   "metadata": {},
   "outputs": [],
   "source": [
    "import time\n",
    "def timer_decorator(func):\n",
    "    def timer():\n",
    "        start = time.time()\n",
    "        func()\n",
    "        end = time.time()\n",
    "        print(end-start)\n",
    "    return timer"
   ]
  },
  {
   "cell_type": "code",
   "execution_count": 15,
   "id": "06c08a8f-ac19-42a8-b95d-55f15d27976c",
   "metadata": {},
   "outputs": [],
   "source": [
    "@timer_decorator\n",
    "def func_test():\n",
    "    print(1100*1000000)"
   ]
  },
  {
   "cell_type": "code",
   "execution_count": 16,
   "id": "49787f5e-06bb-45bd-ab51-09d649c044e9",
   "metadata": {},
   "outputs": [
    {
     "name": "stdout",
     "output_type": "stream",
     "text": [
      "1100000000\n",
      "4.792213439941406e-05\n"
     ]
    }
   ],
   "source": [
    "func_test()"
   ]
  },
  {
   "cell_type": "code",
   "execution_count": 17,
   "id": "6f3e9758-7106-4792-becd-f92ce423d81d",
   "metadata": {},
   "outputs": [],
   "source": [
    "class MyDecorator:\n",
    "    def __init__(self, func):\n",
    "        self.func = func\n",
    "    def __call__(self):\n",
    "        print(\"something is happening before func\")\n",
    "        self.func()\n",
    "        print(\"something is happening after func\")"
   ]
  },
  {
   "cell_type": "code",
   "execution_count": 18,
   "id": "a12ee979-fa5a-44da-a9bf-959370ec8d37",
   "metadata": {},
   "outputs": [],
   "source": [
    "@MyDecorator #__call__ is a special method which is invoked when you call a decorator class instance\n",
    "def say_hello():\n",
    "    print(\"hello\")"
   ]
  },
  {
   "cell_type": "code",
   "execution_count": 19,
   "id": "55e0fe98-b89d-4efe-9300-3e96ebf4e6fb",
   "metadata": {},
   "outputs": [
    {
     "name": "stdout",
     "output_type": "stream",
     "text": [
      "something is happening before func\n",
      "hello\n",
      "something is happening after func\n"
     ]
    }
   ],
   "source": [
    "say_hello()"
   ]
  },
  {
   "cell_type": "code",
   "execution_count": 20,
   "id": "8d97cbf2-8478-4ef9-94b4-0e6377cd381e",
   "metadata": {},
   "outputs": [],
   "source": [
    "#Built in decorators >> classmetod, staticmethod property"
   ]
  },
  {
   "cell_type": "code",
   "execution_count": 21,
   "id": "effaa3d9-38dc-40ab-aa51-05eb92ee6322",
   "metadata": {},
   "outputs": [],
   "source": [
    "#static method >> which can be called without createing an instance of class"
   ]
  },
  {
   "cell_type": "code",
   "execution_count": 25,
   "id": "b6efcb5a-7f3a-4f45-9aab-34dc067477bd",
   "metadata": {},
   "outputs": [],
   "source": [
    "class Math:\n",
    "    \n",
    "    def add(self, x, y):\n",
    "        return x+y"
   ]
  },
  {
   "cell_type": "code",
   "execution_count": 26,
   "id": "f592ff9f-d456-4965-8505-090c8bf0d858",
   "metadata": {},
   "outputs": [],
   "source": [
    "a = Math()#make object/instance"
   ]
  },
  {
   "cell_type": "code",
   "execution_count": 27,
   "id": "416e5c56-f9eb-4417-9180-dfb70edd3ed6",
   "metadata": {},
   "outputs": [
    {
     "data": {
      "text/plain": [
       "5"
      ]
     },
     "execution_count": 27,
     "metadata": {},
     "output_type": "execute_result"
    }
   ],
   "source": [
    "a.add(2, 3) #This was regular class"
   ]
  },
  {
   "cell_type": "code",
   "execution_count": 28,
   "id": "d87b3e2c-4276-4051-bc5d-2e51140a4fc4",
   "metadata": {},
   "outputs": [],
   "source": [
    "class Math:\n",
    "    @staticmethod\n",
    "    def add(x, y):\n",
    "        return x+y"
   ]
  },
  {
   "cell_type": "code",
   "execution_count": 29,
   "id": "62dfbc8c-e557-4145-a963-9f51002f62ca",
   "metadata": {},
   "outputs": [
    {
     "data": {
      "text/plain": [
       "5"
      ]
     },
     "execution_count": 29,
     "metadata": {},
     "output_type": "execute_result"
    }
   ],
   "source": [
    "Math.add(2,3)"
   ]
  },
  {
   "cell_type": "code",
   "execution_count": 30,
   "id": "b5179d01-8243-47aa-adb4-8a90dd220ec5",
   "metadata": {},
   "outputs": [],
   "source": [
    "#class method >> takes class itself as first argument\n",
    "\n",
    "class Math:\n",
    "    @classmethod #takes reference to the class itself to modify and access class level attributes\n",
    "    def add(cls, x, y): \n",
    "        return cls.__name__, x+y # cls.__name__ >>Math"
   ]
  },
  {
   "cell_type": "code",
   "execution_count": 31,
   "id": "d1cfc966-cb8a-4ac9-88e2-4f29535a3261",
   "metadata": {},
   "outputs": [
    {
     "data": {
      "text/plain": [
       "('Math', 5)"
      ]
     },
     "execution_count": 31,
     "metadata": {},
     "output_type": "execute_result"
    }
   ],
   "source": [
    "Math.add(2, 3)"
   ]
  },
  {
   "cell_type": "code",
   "execution_count": 36,
   "id": "b449b834-ce36-4440-b5a0-70fea791c8b8",
   "metadata": {},
   "outputs": [],
   "source": [
    "#property decorator >>it allows methods to be accessed as attribute\n",
    "\n",
    "class Circle:\n",
    "    def __init__(self, radius):\n",
    "        self.radius = radius\n",
    "    \n",
    "    def area(self):\n",
    "        radius = self.radius\n",
    "        return 3.14 * radius ** 2\n"
   ]
  },
  {
   "cell_type": "code",
   "execution_count": 35,
   "id": "54264204-c544-4778-b1aa-326cb2e0592b",
   "metadata": {},
   "outputs": [],
   "source": [
    "c = Circle(5)"
   ]
  },
  {
   "cell_type": "code",
   "execution_count": null,
   "id": "2a2ccabe-6709-4b42-9fb2-d09ce8cef62f",
   "metadata": {},
   "outputs": [],
   "source": [
    "c.radius"
   ]
  }
 ],
 "metadata": {
  "kernelspec": {
   "display_name": "Python 3 (ipykernel)",
   "language": "python",
   "name": "python3"
  },
  "language_info": {
   "codemirror_mode": {
    "name": "ipython",
    "version": 3
   },
   "file_extension": ".py",
   "mimetype": "text/x-python",
   "name": "python",
   "nbconvert_exporter": "python",
   "pygments_lexer": "ipython3",
   "version": "3.10.8"
  }
 },
 "nbformat": 4,
 "nbformat_minor": 5
}
