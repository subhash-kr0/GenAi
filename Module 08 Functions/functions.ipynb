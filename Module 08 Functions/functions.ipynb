{
 "cells": [
  {
   "cell_type": "code",
   "execution_count": 1,
   "id": "e35fc0be-481e-43ee-83e4-c13a8236b852",
   "metadata": {},
   "outputs": [
    {
     "name": "stdout",
     "output_type": "stream",
     "text": [
      "hello world\n"
     ]
    }
   ],
   "source": [
    "print(\"hello world\")"
   ]
  },
  {
   "cell_type": "code",
   "execution_count": 2,
   "id": "be10b115-2c8e-43b7-8d57-c9fae539ddfa",
   "metadata": {},
   "outputs": [
    {
     "data": {
      "text/plain": [
       "5"
      ]
     },
     "execution_count": 2,
     "metadata": {},
     "output_type": "execute_result"
    }
   ],
   "source": [
    "len(\"hello\")"
   ]
  },
  {
   "cell_type": "code",
   "execution_count": 3,
   "id": "44b9b8a2-40c8-49a0-90ca-f4c1eeb3e69f",
   "metadata": {},
   "outputs": [
    {
     "data": {
      "text/plain": [
       "int"
      ]
     },
     "execution_count": 3,
     "metadata": {},
     "output_type": "execute_result"
    }
   ],
   "source": [
    "type(5)"
   ]
  },
  {
   "cell_type": "code",
   "execution_count": 4,
   "id": "fc1ab92b-58e2-4b23-872d-68f807b4acfc",
   "metadata": {},
   "outputs": [],
   "source": [
    "#functions\n",
    "#inbuilt>> print, len, type\n",
    "#userdefined\n"
   ]
  },
  {
   "cell_type": "code",
   "execution_count": 5,
   "id": "4e8614e6-f7f9-4953-826b-57d1483fe556",
   "metadata": {},
   "outputs": [],
   "source": [
    "#functions>>it is a block of code that performs some specific computations\n",
    "#it keeps your code neat and clean,organise, reusable"
   ]
  },
  {
   "cell_type": "code",
   "execution_count": 6,
   "id": "24cac69a-cc44-4497-869f-25f8b526841d",
   "metadata": {},
   "outputs": [
    {
     "data": {
      "text/plain": [
       "2"
      ]
     },
     "execution_count": 6,
     "metadata": {},
     "output_type": "execute_result"
    }
   ],
   "source": [
    "int(2.25)"
   ]
  },
  {
   "cell_type": "code",
   "execution_count": 7,
   "id": "659ab853-2953-4d2c-8341-b10b0619765a",
   "metadata": {},
   "outputs": [
    {
     "data": {
      "text/plain": [
       "2.0"
      ]
     },
     "execution_count": 7,
     "metadata": {},
     "output_type": "execute_result"
    }
   ],
   "source": [
    "float(2)"
   ]
  },
  {
   "cell_type": "code",
   "execution_count": 9,
   "id": "5fc812a8-1c6b-4e14-984e-4fc123c1aae3",
   "metadata": {},
   "outputs": [
    {
     "data": {
      "text/plain": [
       "7"
      ]
     },
     "execution_count": 9,
     "metadata": {},
     "output_type": "execute_result"
    }
   ],
   "source": [
    "import math as m\n",
    "m.ceil(6.5)"
   ]
  },
  {
   "cell_type": "code",
   "execution_count": 10,
   "id": "fa303ece-b804-4e7a-8ca3-26e3eadcb127",
   "metadata": {},
   "outputs": [
    {
     "data": {
      "text/plain": [
       "3"
      ]
     },
     "execution_count": 10,
     "metadata": {},
     "output_type": "execute_result"
    }
   ],
   "source": [
    "m.floor(3.5)"
   ]
  },
  {
   "cell_type": "code",
   "execution_count": 11,
   "id": "76201052-6f10-4dbc-a709-b0da43375da4",
   "metadata": {},
   "outputs": [],
   "source": [
    "#syntax of function\n",
    "#def func():\n",
    "    #do something\n",
    "    #do something\n",
    "    #return"
   ]
  },
  {
   "cell_type": "code",
   "execution_count": 12,
   "id": "4d72487d-64e8-48b2-9ae1-2acce4414ca1",
   "metadata": {},
   "outputs": [
    {
     "name": "stdout",
     "output_type": "stream",
     "text": [
      "welcome to class Rahul\n",
      "welcome to class Shweta\n",
      "welcome to class Amruta\n"
     ]
    }
   ],
   "source": [
    "print(\"welcome to class Rahul\")\n",
    "print(\"welcome to class Shweta\")\n",
    "print(\"welcome to class Amruta\")"
   ]
  },
  {
   "cell_type": "code",
   "execution_count": 13,
   "id": "fd0c8b7e-6e06-4730-81e9-5ae8486c3a09",
   "metadata": {},
   "outputs": [],
   "source": [
    "def greet(n):\n",
    "    print(\"welcome to class\", n)"
   ]
  },
  {
   "cell_type": "code",
   "execution_count": 17,
   "id": "3f9ef30d-537a-45c1-9bed-fd134a9c724e",
   "metadata": {},
   "outputs": [
    {
     "name": "stdout",
     "output_type": "stream",
     "text": [
      "welcome to class jaya\n"
     ]
    }
   ],
   "source": [
    "greet(\"jaya\")"
   ]
  },
  {
   "cell_type": "code",
   "execution_count": 18,
   "id": "85888411-cebe-48d3-841b-ca2574c8ff0c",
   "metadata": {},
   "outputs": [],
   "source": [
    "def func():\n",
    "    print(\"this is my first function\")"
   ]
  },
  {
   "cell_type": "code",
   "execution_count": 21,
   "id": "5a7d71af-0f5d-4f3f-8d31-29568e5859cd",
   "metadata": {},
   "outputs": [
    {
     "data": {
      "text/plain": [
       "'this is my first function in Python'"
      ]
     },
     "execution_count": 21,
     "metadata": {},
     "output_type": "execute_result"
    }
   ],
   "source": [
    "\"this is my first function\" + \" in Python\""
   ]
  },
  {
   "cell_type": "code",
   "execution_count": 22,
   "id": "7a6a2f8c-4f56-4ab5-a098-e95483bc837e",
   "metadata": {},
   "outputs": [
    {
     "name": "stdout",
     "output_type": "stream",
     "text": [
      "this is my first function\n"
     ]
    },
    {
     "ename": "TypeError",
     "evalue": "unsupported operand type(s) for +: 'NoneType' and 'str'",
     "output_type": "error",
     "traceback": [
      "\u001b[0;31m---------------------------------------------------------------------------\u001b[0m",
      "\u001b[0;31mTypeError\u001b[0m                                 Traceback (most recent call last)",
      "Cell \u001b[0;32mIn[22], line 1\u001b[0m\n\u001b[0;32m----> 1\u001b[0m \u001b[43mfunc\u001b[49m\u001b[43m(\u001b[49m\u001b[43m)\u001b[49m\u001b[43m \u001b[49m\u001b[38;5;241;43m+\u001b[39;49m\u001b[43m \u001b[49m\u001b[38;5;124;43m\"\u001b[39;49m\u001b[38;5;124;43m in Python\u001b[39;49m\u001b[38;5;124;43m\"\u001b[39;49m\n",
      "\u001b[0;31mTypeError\u001b[0m: unsupported operand type(s) for +: 'NoneType' and 'str'"
     ]
    }
   ],
   "source": [
    "func() + \" in Python\""
   ]
  },
  {
   "cell_type": "code",
   "execution_count": 25,
   "id": "96cd12df-8466-4dfb-abb0-5a816031f0d6",
   "metadata": {},
   "outputs": [
    {
     "name": "stdout",
     "output_type": "stream",
     "text": [
      "this is my first function\n"
     ]
    }
   ],
   "source": [
    "func()"
   ]
  },
  {
   "cell_type": "code",
   "execution_count": 26,
   "id": "36c01fe2-e664-4d40-bd06-15a41847672b",
   "metadata": {},
   "outputs": [
    {
     "name": "stdout",
     "output_type": "stream",
     "text": [
      "this is my first function\n"
     ]
    },
    {
     "data": {
      "text/plain": [
       "NoneType"
      ]
     },
     "execution_count": 26,
     "metadata": {},
     "output_type": "execute_result"
    }
   ],
   "source": [
    "type(func())"
   ]
  },
  {
   "cell_type": "code",
   "execution_count": 27,
   "id": "d358ff53-516a-4179-be03-bf51c30146db",
   "metadata": {},
   "outputs": [],
   "source": [
    "def func():\n",
    "    return \"this is my first function\""
   ]
  },
  {
   "cell_type": "code",
   "execution_count": 28,
   "id": "098a1879-9a5f-40cc-a4ce-dc44139509b6",
   "metadata": {},
   "outputs": [
    {
     "data": {
      "text/plain": [
       "'this is my first function in Python'"
      ]
     },
     "execution_count": 28,
     "metadata": {},
     "output_type": "execute_result"
    }
   ],
   "source": [
    "func()+\" in Python\""
   ]
  },
  {
   "cell_type": "code",
   "execution_count": 29,
   "id": "72a6ca82-6c23-4221-ab83-eac1c719d1d7",
   "metadata": {},
   "outputs": [],
   "source": [
    "def func():\n",
    "    return \"this is my first function\", 2, 4, 3+7j, True"
   ]
  },
  {
   "cell_type": "code",
   "execution_count": 30,
   "id": "ab33736e-eb5a-4257-86f5-11454dccbe69",
   "metadata": {},
   "outputs": [
    {
     "data": {
      "text/plain": [
       "('this is my first function', 2, 4, (3+7j), True)"
      ]
     },
     "execution_count": 30,
     "metadata": {},
     "output_type": "execute_result"
    }
   ],
   "source": [
    "func()"
   ]
  },
  {
   "cell_type": "code",
   "execution_count": 31,
   "id": "f4caba20-a183-4540-9248-17848717fe6b",
   "metadata": {},
   "outputs": [],
   "source": [
    "a = func()"
   ]
  },
  {
   "cell_type": "code",
   "execution_count": 33,
   "id": "af1df0c0-0da7-49a7-aa6a-aa82590d4055",
   "metadata": {},
   "outputs": [
    {
     "data": {
      "text/plain": [
       "tuple"
      ]
     },
     "execution_count": 33,
     "metadata": {},
     "output_type": "execute_result"
    }
   ],
   "source": [
    "type(a)"
   ]
  },
  {
   "cell_type": "code",
   "execution_count": 36,
   "id": "48bf0a32-d375-4fc0-8f81-b51820f2fe99",
   "metadata": {},
   "outputs": [],
   "source": [
    "a, b, c, d, e = func()"
   ]
  },
  {
   "cell_type": "code",
   "execution_count": 37,
   "id": "c7188e02-d1b5-4202-8cdd-2b47a5afca58",
   "metadata": {},
   "outputs": [
    {
     "data": {
      "text/plain": [
       "'this is my first function'"
      ]
     },
     "execution_count": 37,
     "metadata": {},
     "output_type": "execute_result"
    }
   ],
   "source": [
    "a"
   ]
  },
  {
   "cell_type": "code",
   "execution_count": 38,
   "id": "84f2ff5d-9603-42ed-9595-b6d368a19331",
   "metadata": {},
   "outputs": [
    {
     "data": {
      "text/plain": [
       "2"
      ]
     },
     "execution_count": 38,
     "metadata": {},
     "output_type": "execute_result"
    }
   ],
   "source": [
    "b"
   ]
  },
  {
   "cell_type": "code",
   "execution_count": 39,
   "id": "d038ad23-3a99-4466-93e0-c1d59a5bfd16",
   "metadata": {},
   "outputs": [
    {
     "data": {
      "text/plain": [
       "4"
      ]
     },
     "execution_count": 39,
     "metadata": {},
     "output_type": "execute_result"
    }
   ],
   "source": [
    "c"
   ]
  },
  {
   "cell_type": "code",
   "execution_count": 40,
   "id": "fbe7135b-e702-4463-99eb-2146e7d33d50",
   "metadata": {},
   "outputs": [
    {
     "data": {
      "text/plain": [
       "(3+7j)"
      ]
     },
     "execution_count": 40,
     "metadata": {},
     "output_type": "execute_result"
    }
   ],
   "source": [
    "d"
   ]
  },
  {
   "cell_type": "code",
   "execution_count": 41,
   "id": "e3e74a40-d0ef-44be-bcf7-930eda5efd99",
   "metadata": {},
   "outputs": [
    {
     "data": {
      "text/plain": [
       "True"
      ]
     },
     "execution_count": 41,
     "metadata": {},
     "output_type": "execute_result"
    }
   ],
   "source": [
    "e"
   ]
  },
  {
   "cell_type": "code",
   "execution_count": 43,
   "id": "31d07a7a-90e1-40f8-8efb-82d5ce6e7a41",
   "metadata": {},
   "outputs": [],
   "source": [
    "a, b, c, d, e = func()"
   ]
  },
  {
   "cell_type": "code",
   "execution_count": 44,
   "id": "601f5065-4a76-4fad-ab95-3bb3b9c10f43",
   "metadata": {},
   "outputs": [
    {
     "data": {
      "text/plain": [
       "4"
      ]
     },
     "execution_count": 44,
     "metadata": {},
     "output_type": "execute_result"
    }
   ],
   "source": [
    "func()[2]"
   ]
  },
  {
   "cell_type": "code",
   "execution_count": 45,
   "id": "e8ea94f5-e2e9-4239-8d8b-e12997b350d0",
   "metadata": {},
   "outputs": [],
   "source": [
    "def func():\n",
    "    calc = 2+3+6*5\n",
    "    return calc"
   ]
  },
  {
   "cell_type": "code",
   "execution_count": 47,
   "id": "26aace81-0572-4e01-8e5c-d3575897a22b",
   "metadata": {},
   "outputs": [
    {
     "data": {
      "text/plain": [
       "int"
      ]
     },
     "execution_count": 47,
     "metadata": {},
     "output_type": "execute_result"
    }
   ],
   "source": [
    "type(func())"
   ]
  },
  {
   "cell_type": "code",
   "execution_count": 48,
   "id": "91ca1f7c-f04b-4a71-8df2-7501b0442c69",
   "metadata": {},
   "outputs": [],
   "source": [
    "def square_no(a): #a is called as arguement\n",
    "    return a*a"
   ]
  },
  {
   "cell_type": "code",
   "execution_count": 52,
   "id": "2e67f990-5a47-4b82-a828-fcd2c6b824b4",
   "metadata": {},
   "outputs": [
    {
     "data": {
      "text/plain": [
       "3600000000"
      ]
     },
     "execution_count": 52,
     "metadata": {},
     "output_type": "execute_result"
    }
   ],
   "source": [
    "square_no(60000)"
   ]
  },
  {
   "cell_type": "code",
   "execution_count": 53,
   "id": "9418f6e2-e6cb-48c0-b0d6-efcabe18a61b",
   "metadata": {},
   "outputs": [],
   "source": [
    "def sum_(a, b):\n",
    "    return a+b"
   ]
  },
  {
   "cell_type": "code",
   "execution_count": 54,
   "id": "75cde194-7d74-4298-8a9b-51ef03106a85",
   "metadata": {},
   "outputs": [
    {
     "data": {
      "text/plain": [
       "7"
      ]
     },
     "execution_count": 54,
     "metadata": {},
     "output_type": "execute_result"
    }
   ],
   "source": [
    "sum_(3, 4)"
   ]
  },
  {
   "cell_type": "code",
   "execution_count": 55,
   "id": "d51206c9-fd5c-4e1a-9e43-2a4cd1eee405",
   "metadata": {},
   "outputs": [
    {
     "data": {
      "text/plain": [
       "'pwskills'"
      ]
     },
     "execution_count": 55,
     "metadata": {},
     "output_type": "execute_result"
    }
   ],
   "source": [
    "sum_(\"pw\", \"skills\")"
   ]
  },
  {
   "cell_type": "code",
   "execution_count": 56,
   "id": "aa37b52f-0f5b-47c5-9e46-5b41f98a5914",
   "metadata": {},
   "outputs": [
    {
     "data": {
      "text/plain": [
       "[1, 2, 3, 4, 5, 6]"
      ]
     },
     "execution_count": 56,
     "metadata": {},
     "output_type": "execute_result"
    }
   ],
   "source": [
    "sum_([1, 2, 3], [4, 5, 6])"
   ]
  },
  {
   "cell_type": "code",
   "execution_count": 57,
   "id": "5f6a29d6-bcdb-4903-ad26-240c016dd9d3",
   "metadata": {},
   "outputs": [
    {
     "data": {
      "text/plain": [
       "[4, 5, 6, 1, 2, 3]"
      ]
     },
     "execution_count": 57,
     "metadata": {},
     "output_type": "execute_result"
    }
   ],
   "source": [
    "sum_(b = [1, 2, 3], a = [4, 5, 6])"
   ]
  },
  {
   "cell_type": "code",
   "execution_count": 58,
   "id": "7d241805-2b51-4bb4-9bc6-f52f7e12c0da",
   "metadata": {},
   "outputs": [
    {
     "data": {
      "text/plain": [
       "'skillspw'"
      ]
     },
     "execution_count": 58,
     "metadata": {},
     "output_type": "execute_result"
    }
   ],
   "source": [
    "sum_(b = \"pw\", a = \"skills\")"
   ]
  },
  {
   "cell_type": "code",
   "execution_count": 66,
   "id": "7ad7f9ba-c627-41f6-b3d5-bb7cb46b4963",
   "metadata": {},
   "outputs": [],
   "source": [
    "def sum_1(a, b, c):\n",
    "    return a+b+c"
   ]
  },
  {
   "cell_type": "code",
   "execution_count": 68,
   "id": "1052c622-c7be-467e-b93c-510ba7c3695f",
   "metadata": {},
   "outputs": [
    {
     "data": {
      "text/plain": [
       "7"
      ]
     },
     "execution_count": 68,
     "metadata": {},
     "output_type": "execute_result"
    }
   ],
   "source": [
    "sum_1(1, 2, 4)"
   ]
  },
  {
   "cell_type": "code",
   "execution_count": 70,
   "id": "38198c0a-bb30-49b7-b35a-64dffd9285a3",
   "metadata": {},
   "outputs": [],
   "source": [
    "#default arguement\n",
    "\n",
    "def sum_2(a=0, b=0, c=0):\n",
    "    return a+b+c"
   ]
  },
  {
   "cell_type": "code",
   "execution_count": 73,
   "id": "493037d0-cef5-4656-9d77-c66afcdb7a1c",
   "metadata": {},
   "outputs": [
    {
     "data": {
      "text/plain": [
       "5"
      ]
     },
     "execution_count": 73,
     "metadata": {},
     "output_type": "execute_result"
    }
   ],
   "source": [
    "sum_2(a = 2, b = 3)"
   ]
  },
  {
   "cell_type": "code",
   "execution_count": 74,
   "id": "643fa419-632c-489d-9b84-710b73d52205",
   "metadata": {},
   "outputs": [
    {
     "data": {
      "text/plain": [
       "8"
      ]
     },
     "execution_count": 74,
     "metadata": {},
     "output_type": "execute_result"
    }
   ],
   "source": [
    "sum_2(3, 5)"
   ]
  },
  {
   "cell_type": "code",
   "execution_count": 75,
   "id": "0927e835-f640-4bd5-8de8-f4fcc2253d16",
   "metadata": {},
   "outputs": [],
   "source": [
    "def add_two_nos():\n",
    "    a = int(input(\"enter the first no\"))\n",
    "    b = int(input(\"enter the second no\"))\n",
    "    return a+b"
   ]
  },
  {
   "cell_type": "code",
   "execution_count": 76,
   "id": "b1de8751-6771-413e-b32c-218f8ff81ff2",
   "metadata": {},
   "outputs": [
    {
     "name": "stdin",
     "output_type": "stream",
     "text": [
      "enter the first no 1\n",
      "enter the second no 5\n"
     ]
    },
    {
     "data": {
      "text/plain": [
       "6"
      ]
     },
     "execution_count": 76,
     "metadata": {},
     "output_type": "execute_result"
    }
   ],
   "source": [
    "add_two_nos()"
   ]
  },
  {
   "cell_type": "code",
   "execution_count": 77,
   "id": "1f7b6138-49b1-4bee-9091-64ca81baa08f",
   "metadata": {},
   "outputs": [],
   "source": [
    "#write a function that take list as input and retrun me all numeric values"
   ]
  },
  {
   "cell_type": "code",
   "execution_count": 80,
   "id": "1532f943-395e-4d68-8664-dca646279143",
   "metadata": {},
   "outputs": [],
   "source": [
    "def only_numeric(a):\n",
    "    n = []\n",
    "    for i in a:\n",
    "        if type(i) == int or type(i) == float:\n",
    "            n.append(i)\n",
    "            \n",
    "    return n"
   ]
  },
  {
   "cell_type": "code",
   "execution_count": 84,
   "id": "cb71afc4-ab0f-4b3c-b845-7f2712018c95",
   "metadata": {},
   "outputs": [
    {
     "data": {
      "text/plain": [
       "[1, 2, 3, 4.5, 5]"
      ]
     },
     "execution_count": 84,
     "metadata": {},
     "output_type": "execute_result"
    }
   ],
   "source": [
    "only_numeric([1, 2, 3, 4.5, 5, \"Ajay\", \"pwskills\", True, [1, 2, 3, 4]])"
   ]
  },
  {
   "cell_type": "code",
   "execution_count": 85,
   "id": "13fe703f-a156-4c63-9d56-fe11ba77a8e8",
   "metadata": {},
   "outputs": [],
   "source": [
    "def only_numeric(a):\n",
    "    n = []\n",
    "    for i in a:\n",
    "        if type(i) == list:\n",
    "            for j in i:\n",
    "                if type(j) == int or type(j) == float:\n",
    "                    n.append(j)\n",
    "        else:\n",
    "            if type(i) == int or type(i) == float:\n",
    "                n.append(i)\n",
    "            \n",
    "    return n"
   ]
  },
  {
   "cell_type": "code",
   "execution_count": 86,
   "id": "1aeea7dc-faa2-4c9d-a16a-43c58bb3c228",
   "metadata": {},
   "outputs": [
    {
     "data": {
      "text/plain": [
       "[1, 2, 3, 4.5, 5, 1, 2, 3, 4]"
      ]
     },
     "execution_count": 86,
     "metadata": {},
     "output_type": "execute_result"
    }
   ],
   "source": [
    "only_numeric([1, 2, 3, 4.5, 5, \"Ajay\", \"pwskills\", True, [1, 2, 3, 4]])"
   ]
  },
  {
   "cell_type": "code",
   "execution_count": 87,
   "id": "c6b7c541-8073-421d-bee9-82386a8113fd",
   "metadata": {},
   "outputs": [],
   "source": [
    "def sum_(a, b):\n",
    "    return a+b"
   ]
  },
  {
   "cell_type": "code",
   "execution_count": 89,
   "id": "0437a517-231e-46c5-a246-2659567506d2",
   "metadata": {},
   "outputs": [
    {
     "ename": "TypeError",
     "evalue": "sum_() takes 2 positional arguments but 3 were given",
     "output_type": "error",
     "traceback": [
      "\u001b[0;31m---------------------------------------------------------------------------\u001b[0m",
      "\u001b[0;31mTypeError\u001b[0m                                 Traceback (most recent call last)",
      "Cell \u001b[0;32mIn[89], line 1\u001b[0m\n\u001b[0;32m----> 1\u001b[0m \u001b[43msum_\u001b[49m\u001b[43m(\u001b[49m\u001b[38;5;241;43m2\u001b[39;49m\u001b[43m,\u001b[49m\u001b[43m \u001b[49m\u001b[38;5;241;43m3\u001b[39;49m\u001b[43m,\u001b[49m\u001b[43m \u001b[49m\u001b[38;5;241;43m4\u001b[39;49m\u001b[43m)\u001b[49m\n",
      "\u001b[0;31mTypeError\u001b[0m: sum_() takes 2 positional arguments but 3 were given"
     ]
    }
   ],
   "source": [
    "sum_(2, 3, 4)"
   ]
  },
  {
   "cell_type": "code",
   "execution_count": 90,
   "id": "899e5c2f-c581-44f7-b1b3-a116f6d53e43",
   "metadata": {},
   "outputs": [],
   "source": [
    "#variable length arguement\n",
    "\n",
    "def sum_(*args):\n",
    "    s = 0\n",
    "    for i in args:\n",
    "        s = s+i\n",
    "    return s"
   ]
  },
  {
   "cell_type": "code",
   "execution_count": 93,
   "id": "3ab2fe8e-d9e5-4988-86d1-599b3c934ad3",
   "metadata": {},
   "outputs": [
    {
     "data": {
      "text/plain": [
       "36"
      ]
     },
     "execution_count": 93,
     "metadata": {},
     "output_type": "execute_result"
    }
   ],
   "source": [
    "sum_(1,2,3, 4, 5, 6, 7, 8)"
   ]
  },
  {
   "cell_type": "code",
   "execution_count": 94,
   "id": "b3739f67-36b0-4e73-adb0-0d85a62aadc3",
   "metadata": {},
   "outputs": [],
   "source": [
    "def test1(*args):\n",
    "    return args"
   ]
  },
  {
   "cell_type": "code",
   "execution_count": 95,
   "id": "2f253f49-f9f3-45ca-a4b9-28bf581e5fe8",
   "metadata": {},
   "outputs": [
    {
     "data": {
      "text/plain": [
       "(1, 2.3, 4, 4.5, 'Ajay', [1, 2, 3], (12, 3), True)"
      ]
     },
     "execution_count": 95,
     "metadata": {},
     "output_type": "execute_result"
    }
   ],
   "source": [
    "test1(1, 2.3, 4, 4.5, \"Ajay\", [1,2,3], (12,3), True)"
   ]
  },
  {
   "cell_type": "code",
   "execution_count": 96,
   "id": "8cca6b56-39b2-4e0b-a1c6-8363e4ec514c",
   "metadata": {},
   "outputs": [],
   "source": [
    "def test1(*args, a):\n",
    "    return args, a"
   ]
  },
  {
   "cell_type": "code",
   "execution_count": 98,
   "id": "fd1560c8-929f-4635-a61c-430e0a2d4868",
   "metadata": {},
   "outputs": [
    {
     "data": {
      "text/plain": [
       "((1, 2.3, 4, 4.5, 'Ajay', [1, 2, 3], (12, 3), True), 'ram')"
      ]
     },
     "execution_count": 98,
     "metadata": {},
     "output_type": "execute_result"
    }
   ],
   "source": [
    "test1(1, 2.3, 4, 4.5, \"Ajay\", [1,2,3], (12,3), True, a = \"ram\")"
   ]
  },
  {
   "cell_type": "code",
   "execution_count": 99,
   "id": "12aef594-23b2-4703-9afa-343d13880ec9",
   "metadata": {},
   "outputs": [],
   "source": [
    "def return_list(*args):\n",
    "    l = []\n",
    "    for i in args:\n",
    "        if type(i) == list:\n",
    "            l.append(i)\n",
    "    return l"
   ]
  },
  {
   "cell_type": "code",
   "execution_count": 102,
   "id": "92ae642e-2738-436a-b38a-978efc714641",
   "metadata": {},
   "outputs": [
    {
     "data": {
      "text/plain": [
       "[[1, 2, 3], [4, 5, 6, 7]]"
      ]
     },
     "execution_count": 102,
     "metadata": {},
     "output_type": "execute_result"
    }
   ],
   "source": [
    "return_list(1, 2.3, 4, 4.5, \"Ajay\", [1,2,3],[4, 5, 6, 7], (12,3), True)"
   ]
  },
  {
   "cell_type": "code",
   "execution_count": 103,
   "id": "e3cfc4ef-19ac-4a02-a3ff-f9e6f976f226",
   "metadata": {},
   "outputs": [],
   "source": [
    "def team(name, project):\n",
    "    return f\"{name} is working on {project}.\""
   ]
  },
  {
   "cell_type": "code",
   "execution_count": 104,
   "id": "4dba7972-ad90-4b5f-8506-5e8b38963f55",
   "metadata": {},
   "outputs": [
    {
     "data": {
      "text/plain": [
       "'Ajay is working on IR.'"
      ]
     },
     "execution_count": 104,
     "metadata": {},
     "output_type": "execute_result"
    }
   ],
   "source": [
    "team(name = \"Ajay\", project=\"IR\")"
   ]
  },
  {
   "cell_type": "code",
   "execution_count": 105,
   "id": "c958fb40-d9d1-4265-a81f-5975b5845f8b",
   "metadata": {},
   "outputs": [],
   "source": [
    "#it should accept any no of arguement\n",
    "#treated as key value pair"
   ]
  },
  {
   "cell_type": "code",
   "execution_count": 106,
   "id": "59d28829-794b-4d04-9724-447a39f40660",
   "metadata": {},
   "outputs": [],
   "source": [
    "def kwarg_func(**kwargs):\n",
    "    return kwargs"
   ]
  },
  {
   "cell_type": "code",
   "execution_count": 111,
   "id": "761f689e-916c-4d54-a396-69bc20ac07f4",
   "metadata": {},
   "outputs": [
    {
     "data": {
      "text/plain": [
       "{'a': 2, 'b': 3, 'c': 6, 'd': [1, 23], 'e': (12, 3, 4), 'f': [2, 3, 4]}"
      ]
     },
     "execution_count": 111,
     "metadata": {},
     "output_type": "execute_result"
    }
   ],
   "source": [
    "kwarg_func(a = 2, b=3, c= 6, d=[1,23], e=(12,3, 4), f=[2,3,4])"
   ]
  },
  {
   "cell_type": "code",
   "execution_count": 112,
   "id": "7d8ff442-bacc-4441-889b-23a3b3bd2c59",
   "metadata": {},
   "outputs": [],
   "source": [
    "#write a function which takes variable key word argument and return only the values which is a list"
   ]
  },
  {
   "cell_type": "code",
   "execution_count": 113,
   "id": "91b36140-05f7-4faa-b341-fcf788a42792",
   "metadata": {},
   "outputs": [],
   "source": [
    "def test(**kwargs):\n",
    "    for i in kwargs.keys():\n",
    "        if type(kwargs[i]) ==list:\n",
    "            return i, kwargs[i]"
   ]
  },
  {
   "cell_type": "code",
   "execution_count": 115,
   "id": "5e335a02-63a2-40ce-a40f-88bc828de706",
   "metadata": {},
   "outputs": [
    {
     "data": {
      "text/plain": [
       "('d', [1, 23])"
      ]
     },
     "execution_count": 115,
     "metadata": {},
     "output_type": "execute_result"
    }
   ],
   "source": [
    "test(a = 2, b=3, c= 6, d=[1,23], e=(12,3, 4), f=(2,3,4))"
   ]
  },
  {
   "cell_type": "code",
   "execution_count": 116,
   "id": "e7cc8421-8d19-4e57-b8b5-3769cdffde8f",
   "metadata": {},
   "outputs": [],
   "source": [
    "def test1(*ajay, **bijay):\n",
    "    return ajay, bijay"
   ]
  },
  {
   "cell_type": "code",
   "execution_count": 117,
   "id": "dea5feb0-3b46-4830-bac1-2f4e9beaaece",
   "metadata": {},
   "outputs": [
    {
     "data": {
      "text/plain": [
       "((1, 2, 3), {'a': 100, 'c': 200})"
      ]
     },
     "execution_count": 117,
     "metadata": {},
     "output_type": "execute_result"
    }
   ],
   "source": [
    "test1(1, 2, 3, a = 100, c=200)"
   ]
  },
  {
   "cell_type": "code",
   "execution_count": 118,
   "id": "3f916957-8dc8-4c99-8b5a-64646b0bcaf3",
   "metadata": {},
   "outputs": [],
   "source": [
    "#Python namespace\n",
    "def greet():\n",
    "    message = \"hello, welcome\" #message is a local variable\n",
    "    print(message)"
   ]
  },
  {
   "cell_type": "code",
   "execution_count": 119,
   "id": "58f673df-780e-4ca3-8030-19a2a14626b8",
   "metadata": {},
   "outputs": [
    {
     "name": "stdout",
     "output_type": "stream",
     "text": [
      "hello, welcome\n"
     ]
    }
   ],
   "source": [
    "greet()"
   ]
  },
  {
   "cell_type": "code",
   "execution_count": 120,
   "id": "b4584bb5-f008-4cde-9c70-e9dd3733e86b",
   "metadata": {},
   "outputs": [
    {
     "ename": "NameError",
     "evalue": "name 'message' is not defined",
     "output_type": "error",
     "traceback": [
      "\u001b[0;31m---------------------------------------------------------------------------\u001b[0m",
      "\u001b[0;31mNameError\u001b[0m                                 Traceback (most recent call last)",
      "Cell \u001b[0;32mIn[120], line 1\u001b[0m\n\u001b[0;32m----> 1\u001b[0m \u001b[38;5;28mprint\u001b[39m(\u001b[43mmessage\u001b[49m)\n",
      "\u001b[0;31mNameError\u001b[0m: name 'message' is not defined"
     ]
    }
   ],
   "source": [
    "print(message)"
   ]
  },
  {
   "cell_type": "code",
   "execution_count": 121,
   "id": "ad69113f-9910-4d25-985f-1dfe38a60c00",
   "metadata": {},
   "outputs": [],
   "source": [
    "\n",
    "subpart = \" to the course.\" #global variable>> can be accessed in and outside the function\n",
    "def greet():\n",
    "    message = \"hello, welcome\" + subpart\n",
    "    print(message)"
   ]
  },
  {
   "cell_type": "code",
   "execution_count": 122,
   "id": "4e50fe99-0fed-4815-ac8f-0697c89a04c3",
   "metadata": {},
   "outputs": [
    {
     "name": "stdout",
     "output_type": "stream",
     "text": [
      "hello, welcome to the course.\n"
     ]
    }
   ],
   "source": [
    "greet()"
   ]
  },
  {
   "cell_type": "code",
   "execution_count": 123,
   "id": "ed06067f-a91c-4bd9-b582-5287b916b8c6",
   "metadata": {},
   "outputs": [
    {
     "name": "stdout",
     "output_type": "stream",
     "text": [
      " to the course.\n"
     ]
    }
   ],
   "source": [
    "print(subpart)"
   ]
  },
  {
   "cell_type": "code",
   "execution_count": 124,
   "id": "ce25818a-3a79-4009-b810-a97aadcc5514",
   "metadata": {},
   "outputs": [
    {
     "ename": "NameError",
     "evalue": "name 'message' is not defined",
     "output_type": "error",
     "traceback": [
      "\u001b[0;31m---------------------------------------------------------------------------\u001b[0m",
      "\u001b[0;31mNameError\u001b[0m                                 Traceback (most recent call last)",
      "Cell \u001b[0;32mIn[124], line 1\u001b[0m\n\u001b[0;32m----> 1\u001b[0m \u001b[38;5;28mprint\u001b[39m(\u001b[43mmessage\u001b[49m)\n",
      "\u001b[0;31mNameError\u001b[0m: name 'message' is not defined"
     ]
    }
   ],
   "source": [
    "print(message)"
   ]
  },
  {
   "cell_type": "code",
   "execution_count": 131,
   "id": "860751bb-9318-44ab-9184-22bef2ad57a7",
   "metadata": {},
   "outputs": [],
   "source": [
    "#function inside function\n",
    "\n",
    "\n",
    "def marks_in_subjects(**kwargs):\n",
    "    def total_marks(marks_list):\n",
    "        return sum(marks_list)\n",
    "    marks_list = []\n",
    "    for subject, marks in kwargs.items():\n",
    "        marks_list.append(marks)\n",
    "    return total_marks(marks_list)"
   ]
  },
  {
   "cell_type": "code",
   "execution_count": 132,
   "id": "90eaacea-d98f-4d63-a7f4-5b6dbd40162d",
   "metadata": {},
   "outputs": [
    {
     "data": {
      "text/plain": [
       "106"
      ]
     },
     "execution_count": 132,
     "metadata": {},
     "output_type": "execute_result"
    }
   ],
   "source": [
    "marks_in_subjects(a = 37, b=46, c= 23)"
   ]
  },
  {
   "cell_type": "code",
   "execution_count": 133,
   "id": "f50fd801-0e45-4966-9f03-4f15c402249a",
   "metadata": {},
   "outputs": [],
   "source": [
    "#calling from outside\n",
    "def total_marks(marks_list):\n",
    "        return sum(marks_list)\n",
    "def marks_in_subjects(**kwargs):\n",
    "    marks_list = []\n",
    "    for subject, marks in kwargs.items():\n",
    "        marks_list.append(marks)\n",
    "    return total_marks(marks_list)"
   ]
  },
  {
   "cell_type": "code",
   "execution_count": 134,
   "id": "0eabcfe8-6a83-42ab-b376-f42361022bc2",
   "metadata": {},
   "outputs": [
    {
     "data": {
      "text/plain": [
       "106"
      ]
     },
     "execution_count": 134,
     "metadata": {},
     "output_type": "execute_result"
    }
   ],
   "source": [
    "marks_in_subjects(a = 37, b=46, c= 23)"
   ]
  },
  {
   "cell_type": "code",
   "execution_count": 137,
   "id": "a84c93f4-ac9d-4a3b-82fb-cf77cbfa8d0a",
   "metadata": {},
   "outputs": [],
   "source": [
    "def find_power(num, power):\n",
    "    \"\"\" This function returns the power of no\n",
    "    Args:\n",
    "        num(int): insert any integer value\n",
    "        power(int): insert any integer value\n",
    "    Returns:\n",
    "        integer: power of number\n",
    "    \"\"\"\n",
    "    return num**power"
   ]
  },
  {
   "cell_type": "code",
   "execution_count": 138,
   "id": "0e7ce85f-41cf-409f-9601-6f1ca2937c38",
   "metadata": {},
   "outputs": [
    {
     "data": {
      "text/plain": [
       "8"
      ]
     },
     "execution_count": 138,
     "metadata": {},
     "output_type": "execute_result"
    }
   ],
   "source": [
    "find_power(2, 3)"
   ]
  },
  {
   "cell_type": "code",
   "execution_count": 139,
   "id": "3b3aa958-844b-437f-928f-7aa097344164",
   "metadata": {},
   "outputs": [
    {
     "name": "stdout",
     "output_type": "stream",
     "text": [
      "Help on function find_power in module __main__:\n",
      "\n",
      "find_power(num, power)\n",
      "    This function returns the power of no\n",
      "    Args:\n",
      "        num(int): insert any integer value\n",
      "        power(int): insert any integer value\n",
      "    Returns:\n",
      "        integer: power of number\n",
      "\n"
     ]
    }
   ],
   "source": [
    "help(find_power)"
   ]
  },
  {
   "cell_type": "code",
   "execution_count": 141,
   "id": "40397974-e6f8-4566-b9f6-e394ac24a6f6",
   "metadata": {},
   "outputs": [
    {
     "name": "stdout",
     "output_type": "stream",
     "text": [
      " This function returns the power of no\n",
      "    Args:\n",
      "        num(int): insert any integer value\n",
      "        power(int): insert any integer value\n",
      "    Returns:\n",
      "        integer: power of number\n",
      "    \n"
     ]
    }
   ],
   "source": [
    "print(find_power.__doc__)"
   ]
  },
  {
   "cell_type": "code",
   "execution_count": null,
   "id": "9a9d5db6-ec57-49bb-94d6-3c22e77b9f97",
   "metadata": {},
   "outputs": [],
   "source": []
  }
 ],
 "metadata": {
  "kernelspec": {
   "display_name": "Python 3 (ipykernel)",
   "language": "python",
   "name": "python3"
  },
  "language_info": {
   "codemirror_mode": {
    "name": "ipython",
    "version": 3
   },
   "file_extension": ".py",
   "mimetype": "text/x-python",
   "name": "python",
   "nbconvert_exporter": "python",
   "pygments_lexer": "ipython3",
   "version": "3.10.8"
  }
 },
 "nbformat": 4,
 "nbformat_minor": 5
}
