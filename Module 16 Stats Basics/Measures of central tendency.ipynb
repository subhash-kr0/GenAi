{
 "cells": [
  {
   "cell_type": "markdown",
   "id": "79357d00-fd89-4984-999e-c17cc3e6c7d3",
   "metadata": {},
   "source": [
    "# Measures of central tendency"
   ]
  },
  {
   "cell_type": "code",
   "execution_count": 1,
   "id": "59773365-ad75-4778-801c-721a9a09813d",
   "metadata": {},
   "outputs": [],
   "source": [
    "#Mean/average\n",
    "\n",
    "age = [28, 56, 35, 28, 76, 89]"
   ]
  },
  {
   "cell_type": "code",
   "execution_count": 2,
   "id": "ebcb5ceb-752b-45d3-a041-fa95f59779b4",
   "metadata": {},
   "outputs": [
    {
     "data": {
      "text/plain": [
       "52.0"
      ]
     },
     "execution_count": 2,
     "metadata": {},
     "output_type": "execute_result"
    }
   ],
   "source": [
    "(28 + 56 + 35 + 28 + 76 + 89) / 6"
   ]
  },
  {
   "cell_type": "code",
   "execution_count": 3,
   "id": "3a7c979d-f3aa-4a9e-b886-27ef87334096",
   "metadata": {},
   "outputs": [],
   "source": [
    "import numpy as np"
   ]
  },
  {
   "cell_type": "code",
   "execution_count": 4,
   "id": "27811e41-59ad-4184-b47e-83e1fea0048c",
   "metadata": {},
   "outputs": [
    {
     "data": {
      "text/plain": [
       "52.0"
      ]
     },
     "execution_count": 4,
     "metadata": {},
     "output_type": "execute_result"
    }
   ],
   "source": [
    "np.mean(age)"
   ]
  },
  {
   "cell_type": "code",
   "execution_count": 5,
   "id": "b0a596fd-5ec7-415c-a270-280141145c28",
   "metadata": {},
   "outputs": [],
   "source": [
    "height = [160, 120, 125, 340]"
   ]
  },
  {
   "cell_type": "code",
   "execution_count": 6,
   "id": "3142f1c9-1354-40f4-a24c-219083ca6cbf",
   "metadata": {},
   "outputs": [
    {
     "data": {
      "text/plain": [
       "186.25"
      ]
     },
     "execution_count": 6,
     "metadata": {},
     "output_type": "execute_result"
    }
   ],
   "source": [
    "np.mean(height)"
   ]
  },
  {
   "cell_type": "code",
   "execution_count": 7,
   "id": "284930aa-cb5d-4cc3-bb96-0032c6318b51",
   "metadata": {},
   "outputs": [
    {
     "data": {
      "text/plain": [
       "4.0"
      ]
     },
     "execution_count": 7,
     "metadata": {},
     "output_type": "execute_result"
    }
   ],
   "source": [
    "## Median\n",
    "\n",
    "nos = [4, 2, 3, 7, 8]\n",
    "np.median(nos)"
   ]
  },
  {
   "cell_type": "code",
   "execution_count": 8,
   "id": "4cb946ac-d22b-43a6-a2ae-d0c8ee47cc7b",
   "metadata": {},
   "outputs": [
    {
     "ename": "AttributeError",
     "evalue": "module 'numpy' has no attribute 'mode'",
     "output_type": "error",
     "traceback": [
      "\u001b[0;31m---------------------------------------------------------------------------\u001b[0m",
      "\u001b[0;31mAttributeError\u001b[0m                            Traceback (most recent call last)",
      "Cell \u001b[0;32mIn[8], line 4\u001b[0m\n\u001b[1;32m      1\u001b[0m \u001b[38;5;66;03m#Mode\u001b[39;00m\n\u001b[1;32m      3\u001b[0m nos \u001b[38;5;241m=\u001b[39m [\u001b[38;5;241m4\u001b[39m, \u001b[38;5;241m2\u001b[39m, \u001b[38;5;241m3\u001b[39m, \u001b[38;5;241m2\u001b[39m,  \u001b[38;5;241m7\u001b[39m, \u001b[38;5;241m8\u001b[39m]\n\u001b[0;32m----> 4\u001b[0m \u001b[43mnp\u001b[49m\u001b[38;5;241;43m.\u001b[39;49m\u001b[43mmode\u001b[49m(nos)\n",
      "File \u001b[0;32m/opt/conda/lib/python3.10/site-packages/numpy/__init__.py:311\u001b[0m, in \u001b[0;36m__getattr__\u001b[0;34m(attr)\u001b[0m\n\u001b[1;32m    308\u001b[0m     \u001b[38;5;28;01mfrom\u001b[39;00m \u001b[38;5;21;01m.\u001b[39;00m\u001b[38;5;21;01mtesting\u001b[39;00m \u001b[38;5;28;01mimport\u001b[39;00m Tester\n\u001b[1;32m    309\u001b[0m     \u001b[38;5;28;01mreturn\u001b[39;00m Tester\n\u001b[0;32m--> 311\u001b[0m \u001b[38;5;28;01mraise\u001b[39;00m \u001b[38;5;167;01mAttributeError\u001b[39;00m(\u001b[38;5;124m\"\u001b[39m\u001b[38;5;124mmodule \u001b[39m\u001b[38;5;132;01m{!r}\u001b[39;00m\u001b[38;5;124m has no attribute \u001b[39m\u001b[38;5;124m\"\u001b[39m\n\u001b[1;32m    312\u001b[0m                      \u001b[38;5;124m\"\u001b[39m\u001b[38;5;132;01m{!r}\u001b[39;00m\u001b[38;5;124m\"\u001b[39m\u001b[38;5;241m.\u001b[39mformat(\u001b[38;5;18m__name__\u001b[39m, attr))\n",
      "\u001b[0;31mAttributeError\u001b[0m: module 'numpy' has no attribute 'mode'"
     ]
    }
   ],
   "source": [
    "#Mode\n",
    "\n",
    "nos = [4, 2, 3, 2,  7, 8]\n",
    "np.mode(nos)"
   ]
  },
  {
   "cell_type": "code",
   "execution_count": 9,
   "id": "d74737c8-cdfa-4c26-8c8c-8203a0e2bb25",
   "metadata": {},
   "outputs": [],
   "source": [
    "from scipy import stats"
   ]
  },
  {
   "cell_type": "code",
   "execution_count": 10,
   "id": "7124ffd4-63c3-4046-b2cd-62aff07dc9d4",
   "metadata": {},
   "outputs": [
    {
     "name": "stderr",
     "output_type": "stream",
     "text": [
      "/tmp/ipykernel_103/1660545888.py:1: FutureWarning: Unlike other reduction functions (e.g. `skew`, `kurtosis`), the default behavior of `mode` typically preserves the axis it acts along. In SciPy 1.11.0, this behavior will change: the default value of `keepdims` will become False, the `axis` over which the statistic is taken will be eliminated, and the value None will no longer be accepted. Set `keepdims` to True or False to avoid this warning.\n",
      "  stats.mode(nos)\n"
     ]
    },
    {
     "data": {
      "text/plain": [
       "ModeResult(mode=array([2]), count=array([2]))"
      ]
     },
     "execution_count": 10,
     "metadata": {},
     "output_type": "execute_result"
    }
   ],
   "source": [
    "stats.mode(nos)"
   ]
  },
  {
   "cell_type": "code",
   "execution_count": 11,
   "id": "302ac770-450c-4fc9-baa8-5809ff84a8ee",
   "metadata": {},
   "outputs": [],
   "source": [
    "import statistics"
   ]
  },
  {
   "cell_type": "code",
   "execution_count": 12,
   "id": "5561d965-4c91-4a39-b995-629cc221f789",
   "metadata": {},
   "outputs": [
    {
     "data": {
      "text/plain": [
       "2"
      ]
     },
     "execution_count": 12,
     "metadata": {},
     "output_type": "execute_result"
    }
   ],
   "source": [
    "statistics.mode(nos)"
   ]
  },
  {
   "cell_type": "code",
   "execution_count": 13,
   "id": "48704519-a15e-420e-8b55-7bbb542d4088",
   "metadata": {},
   "outputs": [
    {
     "data": {
      "text/plain": [
       "179.0"
      ]
     },
     "execution_count": 13,
     "metadata": {},
     "output_type": "execute_result"
    }
   ],
   "source": [
    "height = [160, 120, 125, 340, 150]\n",
    "\n",
    "np.mean(height)"
   ]
  },
  {
   "cell_type": "code",
   "execution_count": 14,
   "id": "e3b9eca4-5502-4b16-8a31-1f37700cfd9e",
   "metadata": {},
   "outputs": [
    {
     "data": {
      "text/plain": [
       "150.0"
      ]
     },
     "execution_count": 14,
     "metadata": {},
     "output_type": "execute_result"
    }
   ],
   "source": [
    "#outlier affects the mean and not median\n",
    "\n",
    "np.median(height)"
   ]
  },
  {
   "cell_type": "code",
   "execution_count": 15,
   "id": "a40e3897-4851-455a-825d-300fa19b2f01",
   "metadata": {},
   "outputs": [
    {
     "data": {
      "text/plain": [
       "467.0"
      ]
     },
     "execution_count": 15,
     "metadata": {},
     "output_type": "execute_result"
    }
   ],
   "source": [
    "#after outlier\n",
    "\n",
    "height = [1600, 120, 125, 340, 150]\n",
    "\n",
    "np.mean(height)"
   ]
  },
  {
   "cell_type": "code",
   "execution_count": 16,
   "id": "cb53fbaf-d2c9-4953-bcd1-dcb17e977b7a",
   "metadata": {},
   "outputs": [
    {
     "data": {
      "text/plain": [
       "150.0"
      ]
     },
     "execution_count": 16,
     "metadata": {},
     "output_type": "execute_result"
    }
   ],
   "source": [
    "np.median(height)"
   ]
  },
  {
   "cell_type": "code",
   "execution_count": null,
   "id": "64f735af-19ec-4e4d-b1c0-226f17baf9ac",
   "metadata": {},
   "outputs": [],
   "source": []
  }
 ],
 "metadata": {
  "kernelspec": {
   "display_name": "Python 3 (ipykernel)",
   "language": "python",
   "name": "python3"
  },
  "language_info": {
   "codemirror_mode": {
    "name": "ipython",
    "version": 3
   },
   "file_extension": ".py",
   "mimetype": "text/x-python",
   "name": "python",
   "nbconvert_exporter": "python",
   "pygments_lexer": "ipython3",
   "version": "3.10.8"
  }
 },
 "nbformat": 4,
 "nbformat_minor": 5
}
