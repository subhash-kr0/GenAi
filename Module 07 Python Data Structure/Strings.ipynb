{
 "cells": [
  {
   "cell_type": "code",
   "execution_count": 1,
   "id": "a85e77bb-424d-470c-b411-4697a1607ad0",
   "metadata": {},
   "outputs": [],
   "source": [
    "#string is a sequence of character\n",
    "#characterd represented using numerical values\n",
    "#ASCII (7 bits) and UNICODE (16 bits)\n",
    "#UTF-8, UTF 16 >> popular encoding schemes"
   ]
  },
  {
   "cell_type": "code",
   "execution_count": 2,
   "id": "e8434ae5-cf27-426b-81fa-44844e03a14b",
   "metadata": {},
   "outputs": [
    {
     "data": {
      "text/plain": [
       "65"
      ]
     },
     "execution_count": 2,
     "metadata": {},
     "output_type": "execute_result"
    }
   ],
   "source": [
    "#ASCII representation\n",
    "char = \"A\"\n",
    "ord(char)"
   ]
  },
  {
   "cell_type": "code",
   "execution_count": 3,
   "id": "a0ec47a6-0514-4096-96bd-e54f6078a358",
   "metadata": {},
   "outputs": [
    {
     "data": {
      "text/plain": [
       "66"
      ]
     },
     "execution_count": 3,
     "metadata": {},
     "output_type": "execute_result"
    }
   ],
   "source": [
    "ord(\"B\")"
   ]
  },
  {
   "cell_type": "code",
   "execution_count": 4,
   "id": "97e2c1bc-406f-40f3-8854-c5509f0334dd",
   "metadata": {},
   "outputs": [
    {
     "data": {
      "text/plain": [
       "97"
      ]
     },
     "execution_count": 4,
     "metadata": {},
     "output_type": "execute_result"
    }
   ],
   "source": [
    "ord(\"a\")"
   ]
  },
  {
   "cell_type": "code",
   "execution_count": 6,
   "id": "d5d05c3b-ede0-4a2d-abe1-de508b7ef166",
   "metadata": {},
   "outputs": [
    {
     "data": {
      "text/plain": [
       "'e'"
      ]
     },
     "execution_count": 6,
     "metadata": {},
     "output_type": "execute_result"
    }
   ],
   "source": [
    "chr(101)"
   ]
  },
  {
   "cell_type": "code",
   "execution_count": 7,
   "id": "5a8ef026-e3c7-4447-99d2-876986f17f3b",
   "metadata": {},
   "outputs": [
    {
     "data": {
      "text/plain": [
       "'B'"
      ]
     },
     "execution_count": 7,
     "metadata": {},
     "output_type": "execute_result"
    }
   ],
   "source": [
    "chr(66)"
   ]
  },
  {
   "cell_type": "code",
   "execution_count": 8,
   "id": "e90d2fb4-f143-4179-ad2a-025dcbe93527",
   "metadata": {},
   "outputs": [
    {
     "data": {
      "text/plain": [
       "'Ω'"
      ]
     },
     "execution_count": 8,
     "metadata": {},
     "output_type": "execute_result"
    }
   ],
   "source": [
    "#UNICODE representation #omega\n",
    "'\\u03A9'"
   ]
  },
  {
   "cell_type": "code",
   "execution_count": 9,
   "id": "bc1799c1-15ab-4673-96b6-9d279c9e605b",
   "metadata": {},
   "outputs": [
    {
     "data": {
      "text/plain": [
       "'Σ'"
      ]
     },
     "execution_count": 9,
     "metadata": {},
     "output_type": "execute_result"
    }
   ],
   "source": [
    "'\\u03A3'"
   ]
  },
  {
   "cell_type": "code",
   "execution_count": 11,
   "id": "7c1bb763-996a-469b-be5f-61245a09d516",
   "metadata": {},
   "outputs": [
    {
     "data": {
      "text/plain": [
       "'ॳ'"
      ]
     },
     "execution_count": 11,
     "metadata": {},
     "output_type": "execute_result"
    }
   ],
   "source": [
    "'\\u0973'"
   ]
  },
  {
   "cell_type": "code",
   "execution_count": 15,
   "id": "1bfb3b3b-9d45-445e-9a9e-48b737c8fcf2",
   "metadata": {},
   "outputs": [
    {
     "data": {
      "text/plain": [
       "'Ϗ'"
      ]
     },
     "execution_count": 15,
     "metadata": {},
     "output_type": "execute_result"
    }
   ],
   "source": [
    "chr(975)"
   ]
  },
  {
   "cell_type": "code",
   "execution_count": 16,
   "id": "7bff1363-6a1b-41ce-91a4-87837d295d91",
   "metadata": {},
   "outputs": [],
   "source": [
    "string1 = 'pwskills'"
   ]
  },
  {
   "cell_type": "code",
   "execution_count": 17,
   "id": "3045c848-94f2-4110-ba39-f65dac188c4d",
   "metadata": {},
   "outputs": [
    {
     "data": {
      "text/plain": [
       "str"
      ]
     },
     "execution_count": 17,
     "metadata": {},
     "output_type": "execute_result"
    }
   ],
   "source": [
    "type(string1)"
   ]
  },
  {
   "cell_type": "code",
   "execution_count": 19,
   "id": "ec9e5127-a811-4198-80aa-05fef6b938d3",
   "metadata": {},
   "outputs": [
    {
     "data": {
      "text/plain": [
       "'pwskills'"
      ]
     },
     "execution_count": 19,
     "metadata": {},
     "output_type": "execute_result"
    }
   ],
   "source": [
    "'pwskills'"
   ]
  },
  {
   "cell_type": "code",
   "execution_count": 21,
   "id": "b095913e-88d4-4c01-808d-1a21c91010be",
   "metadata": {},
   "outputs": [
    {
     "data": {
      "text/plain": [
       "\"I'm a good student\""
      ]
     },
     "execution_count": 21,
     "metadata": {},
     "output_type": "execute_result"
    }
   ],
   "source": [
    "\"I'm a good student\""
   ]
  },
  {
   "cell_type": "code",
   "execution_count": 23,
   "id": "d16418c7-d618-4ee1-b1d0-7e38f159ea66",
   "metadata": {},
   "outputs": [
    {
     "data": {
      "text/plain": [
       "'I\"m a good student'"
      ]
     },
     "execution_count": 23,
     "metadata": {},
     "output_type": "execute_result"
    }
   ],
   "source": [
    "\"\"\"I\"m a good student\"\"\""
   ]
  },
  {
   "cell_type": "code",
   "execution_count": 24,
   "id": "79ed8e38-aca9-4941-acf8-7354b064934a",
   "metadata": {},
   "outputs": [
    {
     "data": {
      "text/plain": [
       "'I\"m a good student'"
      ]
     },
     "execution_count": 24,
     "metadata": {},
     "output_type": "execute_result"
    }
   ],
   "source": [
    "'''I\"m a good student'''"
   ]
  },
  {
   "cell_type": "code",
   "execution_count": 25,
   "id": "00fc3336-a70f-4a8c-b0e0-ef2f8f919797",
   "metadata": {},
   "outputs": [
    {
     "data": {
      "text/plain": [
       "'I\"m a good student.\\nI study at pwskills\\nI am data scientist'"
      ]
     },
     "execution_count": 25,
     "metadata": {},
     "output_type": "execute_result"
    }
   ],
   "source": [
    "'''I\"m a good student.\n",
    "I study at pwskills\n",
    "I am data scientist'''"
   ]
  },
  {
   "cell_type": "code",
   "execution_count": 27,
   "id": "2b4d0168-8aa9-4c82-aa5b-dadb545af95c",
   "metadata": {},
   "outputs": [
    {
     "data": {
      "text/plain": [
       "'hello, world'"
      ]
     },
     "execution_count": 27,
     "metadata": {},
     "output_type": "execute_result"
    }
   ],
   "source": [
    "#concatenation of string ?? combining of two strings\n",
    "string1 = \"hello\"\n",
    "string2 = \"world\"\n",
    "\n",
    "string1 +\", \" +string2"
   ]
  },
  {
   "cell_type": "code",
   "execution_count": 28,
   "id": "71ad5023-17e8-4709-b159-ca748f03e81e",
   "metadata": {},
   "outputs": [
    {
     "data": {
      "text/plain": [
       "'String>concatenation'"
      ]
     },
     "execution_count": 28,
     "metadata": {},
     "output_type": "execute_result"
    }
   ],
   "source": [
    "\"String\" + \">\" +\"concatenation\""
   ]
  },
  {
   "cell_type": "code",
   "execution_count": 29,
   "id": "a156c82d-2350-4e08-9bd7-730b5c1c2b31",
   "metadata": {},
   "outputs": [
    {
     "data": {
      "text/plain": [
       "'String > concatenation'"
      ]
     },
     "execution_count": 29,
     "metadata": {},
     "output_type": "execute_result"
    }
   ],
   "source": [
    "\"String\" + \" > \" +\"concatenation\""
   ]
  },
  {
   "cell_type": "code",
   "execution_count": 30,
   "id": "1280257f-a61f-4c59-980a-2c916667cf40",
   "metadata": {},
   "outputs": [],
   "source": [
    "#Extract a string\n",
    "string1 = \"I am a good student\""
   ]
  },
  {
   "cell_type": "code",
   "execution_count": 33,
   "id": "8a1737e8-a27a-47fa-968b-2bde67cd456a",
   "metadata": {},
   "outputs": [
    {
     "data": {
      "text/plain": [
       "'I am'"
      ]
     },
     "execution_count": 33,
     "metadata": {},
     "output_type": "execute_result"
    }
   ],
   "source": [
    "string1[0:4]"
   ]
  },
  {
   "cell_type": "code",
   "execution_count": 35,
   "id": "5773e1da-38ec-45cc-beed-9621bb2f6ebf",
   "metadata": {},
   "outputs": [
    {
     "data": {
      "text/plain": [
       "'a good '"
      ]
     },
     "execution_count": 35,
     "metadata": {},
     "output_type": "execute_result"
    }
   ],
   "source": [
    "string1[5:12]"
   ]
  },
  {
   "cell_type": "code",
   "execution_count": 36,
   "id": "07e7b9b0-d115-4736-b55f-e251ccc5340e",
   "metadata": {},
   "outputs": [
    {
     "data": {
      "text/plain": [
       "'wskills'"
      ]
     },
     "execution_count": 36,
     "metadata": {},
     "output_type": "execute_result"
    }
   ],
   "source": [
    "string2 = \"pwskills\"\n",
    "string2[1:]"
   ]
  },
  {
   "cell_type": "code",
   "execution_count": 37,
   "id": "928a4392-3fb3-451d-854b-17afa915d867",
   "metadata": {},
   "outputs": [
    {
     "data": {
      "text/plain": [
       "'s'"
      ]
     },
     "execution_count": 37,
     "metadata": {},
     "output_type": "execute_result"
    }
   ],
   "source": [
    "string2[-1]"
   ]
  },
  {
   "cell_type": "code",
   "execution_count": 38,
   "id": "b90b349b-500e-4aba-b278-4c7f86303b0d",
   "metadata": {},
   "outputs": [
    {
     "data": {
      "text/plain": [
       "'i'"
      ]
     },
     "execution_count": 38,
     "metadata": {},
     "output_type": "execute_result"
    }
   ],
   "source": [
    "string2[-4]"
   ]
  },
  {
   "cell_type": "code",
   "execution_count": 41,
   "id": "a2ce4894-59c0-4956-abf8-de1a1ec53d45",
   "metadata": {},
   "outputs": [
    {
     "data": {
      "text/plain": [
       "'pwski'"
      ]
     },
     "execution_count": 41,
     "metadata": {},
     "output_type": "execute_result"
    }
   ],
   "source": [
    "string2[:-3] #except last three characters"
   ]
  },
  {
   "cell_type": "code",
   "execution_count": 42,
   "id": "9d492509-10d8-4796-b51d-18bf527f77b4",
   "metadata": {},
   "outputs": [
    {
     "data": {
      "text/plain": [
       "'lls'"
      ]
     },
     "execution_count": 42,
     "metadata": {},
     "output_type": "execute_result"
    }
   ],
   "source": [
    "string2[-3:] #last 3 charcters"
   ]
  },
  {
   "cell_type": "code",
   "execution_count": 43,
   "id": "7342b043-0d23-4501-b2f0-cbbcbcab8a55",
   "metadata": {},
   "outputs": [],
   "source": [
    "string2 = \"hello world\""
   ]
  },
  {
   "cell_type": "code",
   "execution_count": 44,
   "id": "d1c80471-5243-42cd-88f2-c155b5f77b49",
   "metadata": {},
   "outputs": [
    {
     "data": {
      "text/plain": [
       "'hello world'"
      ]
     },
     "execution_count": 44,
     "metadata": {},
     "output_type": "execute_result"
    }
   ],
   "source": [
    "string2[::1] #step size is by default 1"
   ]
  },
  {
   "cell_type": "code",
   "execution_count": 45,
   "id": "4248e069-8828-49c1-b7a2-9699bd26641e",
   "metadata": {},
   "outputs": [
    {
     "data": {
      "text/plain": [
       "'hello world'"
      ]
     },
     "execution_count": 45,
     "metadata": {},
     "output_type": "execute_result"
    }
   ],
   "source": [
    "string2[0:]"
   ]
  },
  {
   "cell_type": "code",
   "execution_count": 46,
   "id": "55a29cc0-12b8-4f4a-9b7e-6f6dc3ef3ffd",
   "metadata": {},
   "outputs": [
    {
     "data": {
      "text/plain": [
       "'hell'"
      ]
     },
     "execution_count": 46,
     "metadata": {},
     "output_type": "execute_result"
    }
   ],
   "source": [
    "string2[0:4]"
   ]
  },
  {
   "cell_type": "code",
   "execution_count": 47,
   "id": "ff35b6f8-6b12-4438-a345-737eb226ed18",
   "metadata": {},
   "outputs": [
    {
     "data": {
      "text/plain": [
       "'hello'"
      ]
     },
     "execution_count": 47,
     "metadata": {},
     "output_type": "execute_result"
    }
   ],
   "source": [
    "string2[0:5]"
   ]
  },
  {
   "cell_type": "code",
   "execution_count": 48,
   "id": "a0c74607-aeda-43b1-8466-a239198a59d5",
   "metadata": {},
   "outputs": [
    {
     "data": {
      "text/plain": [
       "'hlow'"
      ]
     },
     "execution_count": 48,
     "metadata": {},
     "output_type": "execute_result"
    }
   ],
   "source": [
    "string2[0:7:2]"
   ]
  },
  {
   "cell_type": "code",
   "execution_count": 49,
   "id": "0c297cd0-84dc-4f34-80c6-9e5a140cbb05",
   "metadata": {},
   "outputs": [
    {
     "data": {
      "text/plain": [
       "'dlrow olleh'"
      ]
     },
     "execution_count": 49,
     "metadata": {},
     "output_type": "execute_result"
    }
   ],
   "source": [
    "string2[::-1]"
   ]
  },
  {
   "cell_type": "code",
   "execution_count": 54,
   "id": "11119027-d53c-4841-be38-d74abb7782b3",
   "metadata": {},
   "outputs": [
    {
     "data": {
      "text/plain": [
       "'s'"
      ]
     },
     "execution_count": 54,
     "metadata": {},
     "output_type": "execute_result"
    }
   ],
   "source": [
    "s = \"pwskills\"\n",
    "s[7]"
   ]
  },
  {
   "cell_type": "code",
   "execution_count": 55,
   "id": "7ad2a762-fe20-4716-bcdf-ea201d1c057d",
   "metadata": {},
   "outputs": [
    {
     "data": {
      "text/plain": [
       "'pwskills'"
      ]
     },
     "execution_count": 55,
     "metadata": {},
     "output_type": "execute_result"
    }
   ],
   "source": [
    "#strings are immutable\n",
    "s"
   ]
  },
  {
   "cell_type": "code",
   "execution_count": 57,
   "id": "d37a2fd3-b11c-45a1-88a3-e9ef1778f4a9",
   "metadata": {},
   "outputs": [
    {
     "ename": "TypeError",
     "evalue": "'str' object does not support item assignment",
     "output_type": "error",
     "traceback": [
      "\u001b[0;31m---------------------------------------------------------------------------\u001b[0m",
      "\u001b[0;31mTypeError\u001b[0m                                 Traceback (most recent call last)",
      "Cell \u001b[0;32mIn[57], line 1\u001b[0m\n\u001b[0;32m----> 1\u001b[0m \u001b[43ms\u001b[49m\u001b[43m[\u001b[49m\u001b[38;5;241;43m1\u001b[39;49m\u001b[43m]\u001b[49m \u001b[38;5;241m=\u001b[39m \u001b[38;5;124m\"\u001b[39m\u001b[38;5;124mx\u001b[39m\u001b[38;5;124m\"\u001b[39m\n",
      "\u001b[0;31mTypeError\u001b[0m: 'str' object does not support item assignment"
     ]
    }
   ],
   "source": [
    "s[1] = \"x\""
   ]
  },
  {
   "cell_type": "code",
   "execution_count": 58,
   "id": "83288f32-7d67-41d8-ae62-6d003ccf0da2",
   "metadata": {},
   "outputs": [
    {
     "data": {
      "text/plain": [
       "'PWSKILLS'"
      ]
     },
     "execution_count": 58,
     "metadata": {},
     "output_type": "execute_result"
    }
   ],
   "source": [
    "\"PW\" + \"SKILLS\""
   ]
  },
  {
   "cell_type": "code",
   "execution_count": 59,
   "id": "476c1e3c-ad04-4260-bc95-c05f80b730e1",
   "metadata": {},
   "outputs": [
    {
     "data": {
      "text/plain": [
       "'pwskills'"
      ]
     },
     "execution_count": 59,
     "metadata": {},
     "output_type": "execute_result"
    }
   ],
   "source": [
    "s"
   ]
  },
  {
   "cell_type": "code",
   "execution_count": 60,
   "id": "051f7187-bf5a-4154-ae24-96e57c203848",
   "metadata": {},
   "outputs": [
    {
     "data": {
      "text/plain": [
       "8"
      ]
     },
     "execution_count": 60,
     "metadata": {},
     "output_type": "execute_result"
    }
   ],
   "source": [
    "len(s)"
   ]
  },
  {
   "cell_type": "code",
   "execution_count": 61,
   "id": "9adc01e9-f4e7-42f0-9cf7-7b91522f7079",
   "metadata": {},
   "outputs": [
    {
     "data": {
      "text/plain": [
       "14"
      ]
     },
     "execution_count": 61,
     "metadata": {},
     "output_type": "execute_result"
    }
   ],
   "source": [
    "s = \"I am a student\"\n",
    "len(s)"
   ]
  },
  {
   "cell_type": "code",
   "execution_count": 63,
   "id": "84532956-fb40-488f-8368-d97f81db1349",
   "metadata": {},
   "outputs": [
    {
     "data": {
      "text/plain": [
       "'I am a teacher'"
      ]
     },
     "execution_count": 63,
     "metadata": {},
     "output_type": "execute_result"
    }
   ],
   "source": [
    "#modification of string\n",
    "s = \"I am a student\"\n",
    "\n",
    "s.replace('student', 'teacher')"
   ]
  },
  {
   "cell_type": "code",
   "execution_count": 64,
   "id": "1e583d28-4fa8-45d3-9211-e09ff15af8d3",
   "metadata": {},
   "outputs": [],
   "source": [
    "address = \"123 suhana apt, marathali, Bangalore\""
   ]
  },
  {
   "cell_type": "code",
   "execution_count": 65,
   "id": "61bd076d-bc92-4643-b537-e2f476a4455e",
   "metadata": {},
   "outputs": [
    {
     "data": {
      "text/plain": [
       "'123 suhana apt, marathali, Bangalore'"
      ]
     },
     "execution_count": 65,
     "metadata": {},
     "output_type": "execute_result"
    }
   ],
   "source": [
    "address"
   ]
  },
  {
   "cell_type": "code",
   "execution_count": 66,
   "id": "4c2705db-cbb2-47e9-a821-e39a6640eb58",
   "metadata": {},
   "outputs": [
    {
     "data": {
      "text/plain": [
       "'123 suhana Apartment, marathali, Bangalore'"
      ]
     },
     "execution_count": 66,
     "metadata": {},
     "output_type": "execute_result"
    }
   ],
   "source": [
    "address.replace(\"apt\", \"Apartment\")"
   ]
  },
  {
   "cell_type": "code",
   "execution_count": 67,
   "id": "3286ae33-6a30-4bb3-8405-d365ab06f997",
   "metadata": {},
   "outputs": [
    {
     "data": {
      "text/plain": [
       "'Be right back, talk to you letter, Laughing out loud'"
      ]
     },
     "execution_count": 67,
     "metadata": {},
     "output_type": "execute_result"
    }
   ],
   "source": [
    "text = \"BRB, TTYL, LOL\"\n",
    "text.replace(\"BRB\", \"Be right back\").replace(\"TTYL\", \"talk to you letter\").replace(\"LOL\", \"Laughing out loud\")"
   ]
  },
  {
   "cell_type": "code",
   "execution_count": 68,
   "id": "9a421e0f-eb84-4550-a3fe-86d2ffc92cfd",
   "metadata": {},
   "outputs": [],
   "source": [
    "text = \"Hello, World\""
   ]
  },
  {
   "cell_type": "code",
   "execution_count": 69,
   "id": "88e88145-698b-4ab3-9609-184ff1a0e7cf",
   "metadata": {},
   "outputs": [
    {
     "data": {
      "text/plain": [
       "'Hello, World'"
      ]
     },
     "execution_count": 69,
     "metadata": {},
     "output_type": "execute_result"
    }
   ],
   "source": [
    "text"
   ]
  },
  {
   "cell_type": "code",
   "execution_count": 70,
   "id": "3e70f9d7-7c69-46fa-b00b-bbd6bef1d116",
   "metadata": {},
   "outputs": [
    {
     "data": {
      "text/plain": [
       "'hello, world'"
      ]
     },
     "execution_count": 70,
     "metadata": {},
     "output_type": "execute_result"
    }
   ],
   "source": [
    "text.lower()"
   ]
  },
  {
   "cell_type": "code",
   "execution_count": 71,
   "id": "59719e64-7562-475c-a058-71b5e0e30e32",
   "metadata": {},
   "outputs": [
    {
     "data": {
      "text/plain": [
       "'HELLO, WORLD'"
      ]
     },
     "execution_count": 71,
     "metadata": {},
     "output_type": "execute_result"
    }
   ],
   "source": [
    "text.upper()"
   ]
  },
  {
   "cell_type": "code",
   "execution_count": 72,
   "id": "e9c23a07-549a-476e-b5bc-45188755c141",
   "metadata": {},
   "outputs": [
    {
     "data": {
      "text/plain": [
       "'Hello, World'"
      ]
     },
     "execution_count": 72,
     "metadata": {},
     "output_type": "execute_result"
    }
   ],
   "source": [
    "text.title()"
   ]
  },
  {
   "cell_type": "code",
   "execution_count": 73,
   "id": "3a145b8f-2193-4397-8142-daddef9bdd97",
   "metadata": {},
   "outputs": [
    {
     "data": {
      "text/plain": [
       "'i AM iS a sTUDENT'"
      ]
     },
     "execution_count": 73,
     "metadata": {},
     "output_type": "execute_result"
    }
   ],
   "source": [
    "text1 = \"I am Is A Student\"\n",
    "text1.swapcase()"
   ]
  },
  {
   "cell_type": "code",
   "execution_count": 75,
   "id": "d132b3eb-8041-4991-9f04-c129197861b0",
   "metadata": {},
   "outputs": [
    {
     "data": {
      "text/plain": [
       "'I am is a student'"
      ]
     },
     "execution_count": 75,
     "metadata": {},
     "output_type": "execute_result"
    }
   ],
   "source": [
    "text1.capitalize()"
   ]
  },
  {
   "cell_type": "code",
   "execution_count": 77,
   "id": "0d2d14fc-13f8-40ba-ae8f-893e018f1bfa",
   "metadata": {},
   "outputs": [
    {
     "data": {
      "text/plain": [
       "True"
      ]
     },
     "execution_count": 77,
     "metadata": {},
     "output_type": "execute_result"
    }
   ],
   "source": [
    "#String searching\n",
    "\n",
    "\n",
    "sentence = \"I am a student at PWSkills\"\n",
    "\"am\" in sentence"
   ]
  },
  {
   "cell_type": "code",
   "execution_count": 80,
   "id": "58d36eb4-7db4-4d26-af1d-b223ce219e48",
   "metadata": {},
   "outputs": [
    {
     "name": "stdout",
     "output_type": "stream",
     "text": [
      "The search word is present\n"
     ]
    }
   ],
   "source": [
    "sentence = \"I am a student at PWSkills\"\n",
    "search_word = \"am\"\n",
    "\n",
    "if search_word in sentence:\n",
    "    print(\"The search word is present\")\n",
    "else:\n",
    "    print(\"Not\")"
   ]
  },
  {
   "cell_type": "code",
   "execution_count": 82,
   "id": "2ad9ebaa-1483-474c-ba69-7a414c9dfdaa",
   "metadata": {},
   "outputs": [
    {
     "name": "stdout",
     "output_type": "stream",
     "text": [
      "Invalid\n"
     ]
    }
   ],
   "source": [
    "email = \"ajay12345gmail.com\"\n",
    "\n",
    "if \"@\" in email:\n",
    "    print(\"valid email\")\n",
    "else:\n",
    "    print(\"Invalid\")"
   ]
  },
  {
   "cell_type": "code",
   "execution_count": 83,
   "id": "47d3bc24-db16-4b90-83cf-3eef25119120",
   "metadata": {},
   "outputs": [
    {
     "name": "stdout",
     "output_type": "stream",
     "text": [
      "its a pdf file\n"
     ]
    }
   ],
   "source": [
    "document = \"some_file.pdf\"\n",
    "if \".pdf\" in document:\n",
    "    print(\"its a pdf file\")\n",
    "else:\n",
    "    print(\"Not\")"
   ]
  },
  {
   "cell_type": "code",
   "execution_count": 84,
   "id": "bb973255-6adc-410b-913c-6574617d9fe7",
   "metadata": {},
   "outputs": [
    {
     "data": {
      "text/plain": [
       "False"
      ]
     },
     "execution_count": 84,
     "metadata": {},
     "output_type": "execute_result"
    }
   ],
   "source": [
    "#string comparison\n",
    "\n",
    "\n",
    "str1 = \"Hello\"\n",
    "str2 = \"hello\"\n",
    "\n",
    "\n",
    "str1 == str2"
   ]
  },
  {
   "cell_type": "code",
   "execution_count": 85,
   "id": "72ba92d4-19d2-4762-b9bb-6c63b8eae9f0",
   "metadata": {},
   "outputs": [
    {
     "data": {
      "text/plain": [
       "True"
      ]
     },
     "execution_count": 85,
     "metadata": {},
     "output_type": "execute_result"
    }
   ],
   "source": [
    "str1 = \"Hello\"\n",
    "str2 = \"Hello\"\n",
    "\n",
    "\n",
    "str1 == str2"
   ]
  },
  {
   "cell_type": "code",
   "execution_count": 87,
   "id": "44cae177-2b76-4f9c-87c8-0201846a4a72",
   "metadata": {},
   "outputs": [
    {
     "data": {
      "text/plain": [
       "True"
      ]
     },
     "execution_count": 87,
     "metadata": {},
     "output_type": "execute_result"
    }
   ],
   "source": [
    "str1 = \"Hello\"\n",
    "str2 = \"hello\"\n",
    "\n",
    "\n",
    "str1.lower() == str2.lower()"
   ]
  },
  {
   "cell_type": "code",
   "execution_count": 91,
   "id": "022aea95-e057-4f49-8ce9-4471cd9f7cac",
   "metadata": {},
   "outputs": [
    {
     "name": "stdout",
     "output_type": "stream",
     "text": [
      "username is available\n"
     ]
    }
   ],
   "source": [
    "reg_username = [\"pw\", \"PW\",\"pW\"]\n",
    "new_user = \"PW1\"\n",
    "\n",
    "if new_user in reg_username:\n",
    "    print(\"already in use\")\n",
    "else:\n",
    "    print(\"username is available\")"
   ]
  },
  {
   "cell_type": "code",
   "execution_count": 3,
   "id": "ae62cbf5-e02b-44ac-9598-90c47c79b709",
   "metadata": {},
   "outputs": [
    {
     "name": "stdin",
     "output_type": "stream",
     "text": [
      "scan the product code 123\n"
     ]
    },
    {
     "name": "stdout",
     "output_type": "stream",
     "text": [
      "talk to reception\n"
     ]
    }
   ],
   "source": [
    "product_code  = \"P123\"\n",
    "scanned_code = input(\"scan the product code\")\n",
    "\n",
    "if product_code == scanned_code:\n",
    "    print(\"The price is 100\")\n",
    "else:\n",
    "    print(\"talk to reception\")"
   ]
  },
  {
   "cell_type": "code",
   "execution_count": 4,
   "id": "37740286-b053-4121-a64e-e00d385f5fe6",
   "metadata": {},
   "outputs": [],
   "source": [
    "#STRING ORDERING"
   ]
  },
  {
   "cell_type": "code",
   "execution_count": 6,
   "id": "25e21a8c-6b21-4079-b83e-19de31ffd996",
   "metadata": {},
   "outputs": [
    {
     "data": {
      "text/plain": [
       "['Ajay', 'Bee', 'Nakula']"
      ]
     },
     "execution_count": 6,
     "metadata": {},
     "output_type": "execute_result"
    }
   ],
   "source": [
    "names = [\"Ajay\", \"Nakula\", \"Bee\"]\n",
    "sorted(names)"
   ]
  },
  {
   "cell_type": "code",
   "execution_count": 7,
   "id": "b195d0bc-1064-4d26-8571-060604d71133",
   "metadata": {},
   "outputs": [
    {
     "data": {
      "text/plain": [
       "['Hello', 'KKHH', 'Magic', 'Magic']"
      ]
     },
     "execution_count": 7,
     "metadata": {},
     "output_type": "execute_result"
    }
   ],
   "source": [
    "playlist = [\"KKHH\", \"Magic\", \"Hello\", \"Magic\"]\n",
    "sorted(playlist)"
   ]
  },
  {
   "cell_type": "code",
   "execution_count": 8,
   "id": "27595b2b-3e61-4ce7-96e7-d861eee75992",
   "metadata": {},
   "outputs": [
    {
     "data": {
      "text/plain": [
       "'PWSKILLS'"
      ]
     },
     "execution_count": 8,
     "metadata": {},
     "output_type": "execute_result"
    }
   ],
   "source": [
    "#common string operations\n",
    "\n",
    "\n",
    "input_str = \"       PWSKILLS        \"\n",
    "input_str.strip()"
   ]
  },
  {
   "cell_type": "code",
   "execution_count": 9,
   "id": "4b6f6554-a89b-4f04-b400-12f44aaf947f",
   "metadata": {},
   "outputs": [
    {
     "data": {
      "text/plain": [
       "'PW SKILLS'"
      ]
     },
     "execution_count": 9,
     "metadata": {},
     "output_type": "execute_result"
    }
   ],
   "source": [
    "input_str = \"       PW SKILLS        \"\n",
    "input_str.strip()"
   ]
  },
  {
   "cell_type": "code",
   "execution_count": 10,
   "id": "567c4ca9-a725-4fed-b739-ba734d15e087",
   "metadata": {},
   "outputs": [
    {
     "data": {
      "text/plain": [
       "'Apple'"
      ]
     },
     "execution_count": 10,
     "metadata": {},
     "output_type": "execute_result"
    }
   ],
   "source": [
    "csv_row = \"Apple     \" \n",
    "csv_row.strip()"
   ]
  },
  {
   "cell_type": "code",
   "execution_count": 11,
   "id": "170a3ffd-164c-4fa3-b6f6-5f1276ab7ef6",
   "metadata": {},
   "outputs": [
    {
     "data": {
      "text/plain": [
       "'Ajay, data science, teacher'"
      ]
     },
     "execution_count": 11,
     "metadata": {},
     "output_type": "execute_result"
    }
   ],
   "source": [
    "#string splitting\n",
    "data = \"Ajay, data science, teacher\"\n",
    "data"
   ]
  },
  {
   "cell_type": "code",
   "execution_count": 13,
   "id": "4b7ac051-d5ae-4a3d-9131-04f83790e5a7",
   "metadata": {},
   "outputs": [],
   "source": [
    "teacher_info  = data.split(',')"
   ]
  },
  {
   "cell_type": "code",
   "execution_count": 14,
   "id": "3fb6fcdb-e717-4548-ac59-2f0bb496561e",
   "metadata": {},
   "outputs": [
    {
     "data": {
      "text/plain": [
       "['Ajay', ' data science', ' teacher']"
      ]
     },
     "execution_count": 14,
     "metadata": {},
     "output_type": "execute_result"
    }
   ],
   "source": [
    "teacher_info"
   ]
  },
  {
   "cell_type": "code",
   "execution_count": 15,
   "id": "962221e7-3747-421a-b6d5-610c02916647",
   "metadata": {},
   "outputs": [],
   "source": [
    "name = teacher_info[0]\n",
    "sub = teacher_info[1]\n",
    "des = teacher_info[2]"
   ]
  },
  {
   "cell_type": "code",
   "execution_count": 19,
   "id": "bbde6b62-cc00-4201-b550-22e367895a45",
   "metadata": {},
   "outputs": [
    {
     "data": {
      "text/plain": [
       "'teacher'"
      ]
     },
     "execution_count": 19,
     "metadata": {},
     "output_type": "execute_result"
    }
   ],
   "source": [
    "des.strip()"
   ]
  },
  {
   "cell_type": "code",
   "execution_count": 17,
   "id": "cfbfcbff-d40c-4cca-b364-d3681bd86af0",
   "metadata": {},
   "outputs": [
    {
     "data": {
      "text/plain": [
       "'Ajay'"
      ]
     },
     "execution_count": 17,
     "metadata": {},
     "output_type": "execute_result"
    }
   ],
   "source": [
    "name"
   ]
  },
  {
   "cell_type": "code",
   "execution_count": 20,
   "id": "ff5eb8dd-5916-4e5b-aa23-030bdcd59c54",
   "metadata": {},
   "outputs": [
    {
     "data": {
      "text/plain": [
       "'data science'"
      ]
     },
     "execution_count": 20,
     "metadata": {},
     "output_type": "execute_result"
    }
   ],
   "source": [
    "sub.strip()"
   ]
  },
  {
   "cell_type": "code",
   "execution_count": 29,
   "id": "471fc4f3-4583-44a0-aa88-19da18c0adff",
   "metadata": {},
   "outputs": [],
   "source": [
    "#Escape sequence >> special combination of characters used within a strings\n",
    "\n",
    "address = \"\"\"123, sanmukha villa, \n",
    "marathali,  \n",
    "bangalore \"\"\""
   ]
  },
  {
   "cell_type": "code",
   "execution_count": 30,
   "id": "b631e66f-3411-4677-93bf-d89de290d1e7",
   "metadata": {},
   "outputs": [
    {
     "name": "stdout",
     "output_type": "stream",
     "text": [
      "123, sanmukha villa, \n",
      "marathali,  \n",
      "bangalore \n"
     ]
    }
   ],
   "source": [
    "print(address)"
   ]
  },
  {
   "cell_type": "code",
   "execution_count": 31,
   "id": "4533b04f-7674-4afd-8b16-72c60253d4f3",
   "metadata": {},
   "outputs": [],
   "source": [
    "address = \"\"\"123, sanmukha villa, \\nmarathali,  \\nbangalore \"\"\""
   ]
  },
  {
   "cell_type": "code",
   "execution_count": 33,
   "id": "20295bcc-446a-46fa-9788-9ec74c586586",
   "metadata": {},
   "outputs": [
    {
     "name": "stdout",
     "output_type": "stream",
     "text": [
      "123, sanmukha villa, \n",
      "marathali,  \n",
      "bangalore \n"
     ]
    }
   ],
   "source": [
    "print(address) #\"\\n\">> to insert a new line character"
   ]
  },
  {
   "cell_type": "code",
   "execution_count": 36,
   "id": "a898e4d7-73fc-465a-b09c-4a66175c3d8d",
   "metadata": {},
   "outputs": [
    {
     "name": "stdout",
     "output_type": "stream",
     "text": [
      "Name\tAge\tGrade\n",
      "Alice\t20\tA\n",
      "Ram\t30\tA+\n"
     ]
    }
   ],
   "source": [
    "#\\t escape charcter\n",
    "table = \"Name\\tAge\\tGrade\\nAlice\\t20\\tA\\nRam\\t30\\tA+\"\n",
    "print(table)"
   ]
  },
  {
   "cell_type": "code",
   "execution_count": 42,
   "id": "a6635021-ff84-4bbf-bcf4-cc559176b3aa",
   "metadata": {},
   "outputs": [
    {
     "name": "stdout",
     "output_type": "stream",
     "text": [
      "C:\\USERS\\DOWNLOAD\\FILES.txt\n"
     ]
    }
   ],
   "source": [
    "file_path = \"C:\\\\USERS\\\\DOWNLOAD\\\\FILES.txt\"\n",
    "print(file_path)"
   ]
  },
  {
   "cell_type": "code",
   "execution_count": 45,
   "id": "7f550187-6469-4837-b60c-e18d25d42c62",
   "metadata": {},
   "outputs": [
    {
     "data": {
      "text/plain": [
       "\"I can't believe its a friday\""
      ]
     },
     "execution_count": 45,
     "metadata": {},
     "output_type": "execute_result"
    }
   ],
   "source": [
    "#\\' single quote escape\n",
    "str1 = 'I can\\'t believe its a friday'\n",
    "str1"
   ]
  },
  {
   "cell_type": "code",
   "execution_count": 47,
   "id": "09e62002-6b8c-4016-b742-4ab4fe58d0cf",
   "metadata": {},
   "outputs": [
    {
     "name": "stdout",
     "output_type": "stream",
     "text": [
      "Ajay. I am going to Delhi\n"
     ]
    }
   ],
   "source": [
    "#Carriage return \\r >> moves the cursor to the beginning of line\n",
    "\n",
    "print(\"Hello, I am \\rAjay. I am going to Delhi\")"
   ]
  },
  {
   "cell_type": "code",
   "execution_count": 56,
   "id": "780e5de1-9f8b-4840-9048-44d9f4c7d036",
   "metadata": {},
   "outputs": [
    {
     "name": "stdout",
     "output_type": "stream",
     "text": [
      "hello Shyam, how are you?\n"
     ]
    }
   ],
   "source": [
    "#string formatting >> creating string with placeholder for variables \n",
    "username = \"Shyam\"\n",
    "greeting = f\"hello {username}, how are you?\"\n",
    "print(greeting)"
   ]
  },
  {
   "cell_type": "code",
   "execution_count": 57,
   "id": "061ee80e-4604-48c4-a86c-4e30d4408149",
   "metadata": {},
   "outputs": [
    {
     "name": "stdout",
     "output_type": "stream",
     "text": [
      "Hello PW SKILLS! wish you a wonderful day\n"
     ]
    }
   ],
   "source": [
    "#string formatting \n",
    "\n",
    "name = \"PW SKILLS\"\n",
    "greeting = \"Hello %s! wish you a wonderful day\" %name\n",
    "print(greeting)"
   ]
  },
  {
   "cell_type": "code",
   "execution_count": 59,
   "id": "a888a280-62c7-4740-b3d2-572e9b5cb703",
   "metadata": {},
   "outputs": [
    {
     "name": "stdout",
     "output_type": "stream",
     "text": [
      "Hello, Bijay Welcome to Data Science\n"
     ]
    }
   ],
   "source": [
    "#.format\n",
    "template = \"Hello, {} Welcome to {}\"\n",
    "message = template.format(\"Bijay\", \"Data Science\")\n",
    "print(message)"
   ]
  },
  {
   "cell_type": "code",
   "execution_count": 64,
   "id": "18949a78-d861-486e-8ad4-d961ee5b4f59",
   "metadata": {},
   "outputs": [
    {
     "data": {
      "text/plain": [
       "'My course is pw data + frontend and its duration is 4 years.'"
      ]
     },
     "execution_count": 64,
     "metadata": {},
     "output_type": "execute_result"
    }
   ],
   "source": [
    "#f strings  (formatted string literals)\n",
    "course = \"pw data + frontend\"\n",
    "duration = 4\n",
    "f\"My course is {course} and its duration is {duration} years.\""
   ]
  },
  {
   "cell_type": "code",
   "execution_count": 66,
   "id": "88f7b615-0adc-4b04-aa63-21f090d656b4",
   "metadata": {},
   "outputs": [
    {
     "name": "stdout",
     "output_type": "stream",
     "text": [
      "Hello user Ajay, Today is 2024-02-22 post\n"
     ]
    }
   ],
   "source": [
    "user_name = \"Ajay\"\n",
    "post_date = \"2024-02-22\"\n",
    "\n",
    "\n",
    "print(f\"Hello user {user_name}, Today is {post_date} post\")"
   ]
  },
  {
   "cell_type": "code",
   "execution_count": 68,
   "id": "03e2368d-b26a-4db2-8d30-1fc0b46b2d32",
   "metadata": {},
   "outputs": [
    {
     "data": {
      "text/plain": [
       "'30 is equals to 86.0F'"
      ]
     },
     "execution_count": 68,
     "metadata": {},
     "output_type": "execute_result"
    }
   ],
   "source": [
    "celsius = 30\n",
    "f\"{celsius} is equals to {(celsius * 9/5) +  32}F\""
   ]
  },
  {
   "cell_type": "code",
   "execution_count": 70,
   "id": "d4c3ab24-4c29-4668-95bc-d2fa5cfa6a7c",
   "metadata": {},
   "outputs": [
    {
     "data": {
      "text/plain": [
       "True"
      ]
     },
     "execution_count": 70,
     "metadata": {},
     "output_type": "execute_result"
    }
   ],
   "source": [
    "str1 = \"pwskills\"\n",
    "str1.startswith(\"p\")"
   ]
  },
  {
   "cell_type": "code",
   "execution_count": 71,
   "id": "865df4df-c767-4231-909f-fc2199d7bd08",
   "metadata": {},
   "outputs": [
    {
     "data": {
      "text/plain": [
       "False"
      ]
     },
     "execution_count": 71,
     "metadata": {},
     "output_type": "execute_result"
    }
   ],
   "source": [
    "str1 = \"pwskills\"\n",
    "str1.startswith(\"q\")"
   ]
  },
  {
   "cell_type": "code",
   "execution_count": 73,
   "id": "a281ad5a-0d4a-4158-9585-60f9fcc442a2",
   "metadata": {},
   "outputs": [
    {
     "data": {
      "text/plain": [
       "True"
      ]
     },
     "execution_count": 73,
     "metadata": {},
     "output_type": "execute_result"
    }
   ],
   "source": [
    "str1 = \"pwskills\"\n",
    "str1.endswith(\"s\")"
   ]
  },
  {
   "cell_type": "code",
   "execution_count": 74,
   "id": "f75cf027-2496-4623-a095-ba87abfc9e5f",
   "metadata": {},
   "outputs": [
    {
     "data": {
      "text/plain": [
       "False"
      ]
     },
     "execution_count": 74,
     "metadata": {},
     "output_type": "execute_result"
    }
   ],
   "source": [
    "str1 = \"pwskills\"\n",
    "str1.endswith(\"A\")"
   ]
  },
  {
   "cell_type": "code",
   "execution_count": 75,
   "id": "17f92325-253d-4fa5-b78e-c92642733924",
   "metadata": {},
   "outputs": [
    {
     "data": {
      "text/plain": [
       "True"
      ]
     },
     "execution_count": 75,
     "metadata": {},
     "output_type": "execute_result"
    }
   ],
   "source": [
    "a = \"acd123\"\n",
    "a.isalnum()"
   ]
  },
  {
   "cell_type": "code",
   "execution_count": 77,
   "id": "ecd6ae4a-d098-4783-997d-e8faa80bf216",
   "metadata": {},
   "outputs": [
    {
     "data": {
      "text/plain": [
       "True"
      ]
     },
     "execution_count": 77,
     "metadata": {},
     "output_type": "execute_result"
    }
   ],
   "source": [
    "a = \"acd\"\n",
    "a.isalnum()"
   ]
  },
  {
   "cell_type": "code",
   "execution_count": 78,
   "id": "c18eec71-9c16-423d-ac8c-6f4f7fcd34f9",
   "metadata": {},
   "outputs": [
    {
     "data": {
      "text/plain": [
       "8"
      ]
     },
     "execution_count": 78,
     "metadata": {},
     "output_type": "execute_result"
    }
   ],
   "source": [
    "s = \"pwskills\"\n",
    "len(s)"
   ]
  },
  {
   "cell_type": "code",
   "execution_count": 82,
   "id": "13b51b74-14df-44a0-8c6e-981eb553b424",
   "metadata": {},
   "outputs": [
    {
     "name": "stdout",
     "output_type": "stream",
     "text": [
      "8\n"
     ]
    }
   ],
   "source": [
    "count = 0\n",
    "for i in s:\n",
    "    #print(i)\n",
    "    count = count+1\n",
    "print(count)"
   ]
  },
  {
   "cell_type": "code",
   "execution_count": 83,
   "id": "dac81cf0-5b0d-46c7-895f-0b1ab0fcbdb6",
   "metadata": {},
   "outputs": [
    {
     "data": {
      "text/plain": [
       "'pwskills'"
      ]
     },
     "execution_count": 83,
     "metadata": {},
     "output_type": "execute_result"
    }
   ],
   "source": [
    "s"
   ]
  },
  {
   "cell_type": "code",
   "execution_count": 87,
   "id": "d897241b-9109-40af-9ca1-7eb69a642d44",
   "metadata": {},
   "outputs": [
    {
     "data": {
      "text/plain": [
       "[0, 1, 2, 3, 4, 5, 6, 7]"
      ]
     },
     "execution_count": 87,
     "metadata": {},
     "output_type": "execute_result"
    }
   ],
   "source": [
    "list(range(len(s)))"
   ]
  },
  {
   "cell_type": "code",
   "execution_count": 89,
   "id": "a0028ed7-8c0c-4e18-8689-c329667eab6c",
   "metadata": {},
   "outputs": [
    {
     "name": "stdout",
     "output_type": "stream",
     "text": [
      "0\n",
      "p\n",
      "1\n",
      "w\n",
      "2\n",
      "s\n",
      "3\n",
      "k\n",
      "4\n",
      "i\n",
      "5\n",
      "l\n",
      "6\n",
      "l\n",
      "7\n",
      "s\n"
     ]
    }
   ],
   "source": [
    "for ch in range(len(s)):\n",
    "    print(ch)\n",
    "    print(s[ch])"
   ]
  },
  {
   "cell_type": "code",
   "execution_count": null,
   "id": "cbd5bfb6-d4bf-4789-94eb-312869f7964a",
   "metadata": {},
   "outputs": [],
   "source": []
  }
 ],
 "metadata": {
  "kernelspec": {
   "display_name": "Python 3 (ipykernel)",
   "language": "python",
   "name": "python3"
  },
  "language_info": {
   "codemirror_mode": {
    "name": "ipython",
    "version": 3
   },
   "file_extension": ".py",
   "mimetype": "text/x-python",
   "name": "python",
   "nbconvert_exporter": "python",
   "pygments_lexer": "ipython3",
   "version": "3.10.8"
  }
 },
 "nbformat": 4,
 "nbformat_minor": 5
}
