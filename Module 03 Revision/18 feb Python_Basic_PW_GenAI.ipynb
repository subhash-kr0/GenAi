{
  "nbformat": 4,
  "nbformat_minor": 0,
  "metadata": {
    "colab": {
      "provenance": []
    },
    "kernelspec": {
      "name": "python3",
      "display_name": "Python 3"
    },
    "language_info": {
      "name": "python"
    }
  },
  "cells": [
    {
      "cell_type": "code",
      "source": [
        "help('keywords')"
      ],
      "metadata": {
        "colab": {
          "base_uri": "https://localhost:8080/"
        },
        "id": "CbnbCCOhjW7B",
        "outputId": "6df2bf6d-ca21-4ac7-c8e4-f7aed5201b9d"
      },
      "execution_count": null,
      "outputs": [
        {
          "output_type": "stream",
          "name": "stdout",
          "text": [
            "\n",
            "Here is a list of the Python keywords.  Enter any keyword to get more help.\n",
            "\n",
            "False               class               from                or\n",
            "None                continue            global              pass\n",
            "True                def                 if                  raise\n",
            "and                 del                 import              return\n",
            "as                  elif                in                  try\n",
            "assert              else                is                  while\n",
            "async               except              lambda              with\n",
            "await               finally             nonlocal            yield\n",
            "break               for                 not                 \n",
            "\n"
          ]
        }
      ]
    },
    {
      "cell_type": "code",
      "execution_count": null,
      "metadata": {
        "id": "OYJ-1zwufeZN"
      },
      "outputs": [],
      "source": [
        "# data types\n",
        "# numeric - integers , float , complex\n",
        "\n",
        "num = 1  # 1,2, 3, -10 , 100 , -3532\n",
        "decimal = 1.3 # 2.3, 4.0 , -10.2\n",
        "iota = 2 +8j # root(-1)"
      ]
    },
    {
      "cell_type": "code",
      "source": [
        "# boolean\n",
        "is_learning = False"
      ],
      "metadata": {
        "id": "bkOL5_Kxi3lh"
      },
      "execution_count": null,
      "outputs": []
    },
    {
      "cell_type": "code",
      "source": [
        "print(type(num))"
      ],
      "metadata": {
        "colab": {
          "base_uri": "https://localhost:8080/"
        },
        "id": "uPucokWmk5KK",
        "outputId": "9d8820ce-5e9d-4ecf-bc9a-518ef4d35ad0"
      },
      "execution_count": null,
      "outputs": [
        {
          "output_type": "stream",
          "name": "stdout",
          "text": [
            "<class 'int'>\n"
          ]
        }
      ]
    },
    {
      "cell_type": "code",
      "source": [
        "# arithmatic operator - + - * / % //\n",
        "\n",
        "num - 3"
      ],
      "metadata": {
        "colab": {
          "base_uri": "https://localhost:8080/"
        },
        "id": "FF7F05aDlNmM",
        "outputId": "719a335e-0f31-4fbb-fd4c-a013e2ac3ee6"
      },
      "execution_count": null,
      "outputs": [
        {
          "output_type": "execute_result",
          "data": {
            "text/plain": [
              "-2"
            ]
          },
          "metadata": {},
          "execution_count": 11
        }
      ]
    },
    {
      "cell_type": "code",
      "source": [
        "# string\n",
        "\n",
        "name = \"Sahil Garg\"\n",
        "print(type(name))"
      ],
      "metadata": {
        "colab": {
          "base_uri": "https://localhost:8080/"
        },
        "id": "S7BQUNqalfm0",
        "outputId": "d45d4861-ebd3-4d65-f8f1-32d88e6eb746"
      },
      "execution_count": null,
      "outputs": [
        {
          "output_type": "stream",
          "name": "stdout",
          "text": [
            "<class 'str'>\n"
          ]
        }
      ]
    },
    {
      "cell_type": "code",
      "source": [
        "\"i am just righting a text to showcase you us of ' in strings \""
      ],
      "metadata": {
        "id": "hS9Pgh1hmfWQ"
      },
      "execution_count": null,
      "outputs": []
    },
    {
      "cell_type": "code",
      "source": [
        "lst = ['Sahil', 29, 'noida',5.8 ,[1,2,3]] # mutable\n",
        "countries = (\"india\", \"usa\", \"uk\") # immutable"
      ],
      "metadata": {
        "id": "zlJ0Bqublso9"
      },
      "execution_count": 30,
      "outputs": []
    },
    {
      "cell_type": "code",
      "source": [
        "lst.extend(countries)"
      ],
      "metadata": {
        "id": "ZkAd6HvnuKa-"
      },
      "execution_count": 42,
      "outputs": []
    },
    {
      "cell_type": "code",
      "source": [
        "lst"
      ],
      "metadata": {
        "colab": {
          "base_uri": "https://localhost:8080/"
        },
        "id": "72eXvfLiuRIH",
        "outputId": "ed951ec7-e799-4b82-fd6f-94db5ed73562"
      },
      "execution_count": 43,
      "outputs": [
        {
          "output_type": "execute_result",
          "data": {
            "text/plain": [
              "['Sahil', 29, 'noida', 5.8, [1, 2, 3], 'india', 'usa', 'uk']"
            ]
          },
          "metadata": {},
          "execution_count": 43
        }
      ]
    },
    {
      "cell_type": "code",
      "source": [
        "states = ['Delhi', 'new york', 'london']"
      ],
      "metadata": {
        "id": "afUDmny8tIGE"
      },
      "execution_count": 34,
      "outputs": []
    },
    {
      "cell_type": "code",
      "source": [
        "country = dict.fromkeys(countries, states)\n",
        "country"
      ],
      "metadata": {
        "colab": {
          "base_uri": "https://localhost:8080/"
        },
        "id": "gHZ93C5al451",
        "outputId": "cad9718b-0188-4f2c-a884-1220a67985ed"
      },
      "execution_count": 36,
      "outputs": [
        {
          "output_type": "execute_result",
          "data": {
            "text/plain": [
              "{'india': ['Delhi', 'new york', 'london'],\n",
              " 'usa': ['Delhi', 'new york', 'london'],\n",
              " 'uk': ['Delhi', 'new york', 'london']}"
            ]
          },
          "metadata": {},
          "execution_count": 36
        }
      ]
    },
    {
      "cell_type": "code",
      "source": [
        "country['india'] = [\"punjab\", \"haryana\", \"uP\"]"
      ],
      "metadata": {
        "id": "6MrB5aChs3_t"
      },
      "execution_count": 32,
      "outputs": []
    },
    {
      "cell_type": "code",
      "source": [
        "country"
      ],
      "metadata": {
        "colab": {
          "base_uri": "https://localhost:8080/"
        },
        "id": "Qpv_5Kf1s9ge",
        "outputId": "90c75480-8cbf-4735-e8d1-a4b596b76f4a"
      },
      "execution_count": 33,
      "outputs": [
        {
          "output_type": "execute_result",
          "data": {
            "text/plain": [
              "{'india': ['punjab', 'haryana', 'uP'], 'usa': 'states', 'uk': 'states'}"
            ]
          },
          "metadata": {},
          "execution_count": 33
        }
      ]
    },
    {
      "cell_type": "code",
      "source": [
        "print(lst)"
      ],
      "metadata": {
        "colab": {
          "base_uri": "https://localhost:8080/"
        },
        "id": "EX-8kGqHmbef",
        "outputId": "9b64abc8-26c8-41f4-90d5-fe087aab592d"
      },
      "execution_count": null,
      "outputs": [
        {
          "output_type": "stream",
          "name": "stdout",
          "text": [
            "['Sahil', 29, 'noida', 5.8, [1, 2, 3]]\n"
          ]
        }
      ]
    },
    {
      "cell_type": "code",
      "source": [
        "# set , frozanset and dict\n",
        "\n",
        "var_set = {8, 1,2,3,5,5,4,5,7}\n",
        "print(var_set)"
      ],
      "metadata": {
        "colab": {
          "base_uri": "https://localhost:8080/"
        },
        "id": "XhaZz1d5mtwk",
        "outputId": "692fd710-e8bf-48d9-bcae-e30027109d26"
      },
      "execution_count": null,
      "outputs": [
        {
          "output_type": "stream",
          "name": "stdout",
          "text": [
            "{1, 2, 3, 4, 5, 7, 8}\n"
          ]
        }
      ]
    },
    {
      "cell_type": "code",
      "source": [
        "fset = frozenset(var_set)"
      ],
      "metadata": {
        "colab": {
          "base_uri": "https://localhost:8080/"
        },
        "id": "3dR88DSvnYcD",
        "outputId": "b0855e91-ca0f-46da-a984-78899d248fc5"
      },
      "execution_count": null,
      "outputs": [
        {
          "output_type": "execute_result",
          "data": {
            "text/plain": [
              "frozenset({1, 2, 3, 4, 5, 7, 8})"
            ]
          },
          "metadata": {},
          "execution_count": 18
        }
      ]
    },
    {
      "cell_type": "code",
      "source": [
        "dic = {'india': [\"punjab\", \"haryana\", \"uP\"], 'key2': 'values'}"
      ],
      "metadata": {
        "id": "_KhqvixWnrwi"
      },
      "execution_count": 3,
      "outputs": []
    },
    {
      "cell_type": "code",
      "source": [
        "lst = dic.get('india')"
      ],
      "metadata": {
        "id": "ASbRCpxXtJ7t"
      },
      "execution_count": 5,
      "outputs": []
    },
    {
      "cell_type": "code",
      "source": [
        "lst.append(\"UP\")"
      ],
      "metadata": {
        "id": "UCP3Vvg6oR74"
      },
      "execution_count": 8,
      "outputs": []
    },
    {
      "cell_type": "code",
      "source": [
        "dic"
      ],
      "metadata": {
        "colab": {
          "base_uri": "https://localhost:8080/"
        },
        "id": "SiPANYd4oW33",
        "outputId": "02f8efa8-48fb-4e05-b65f-4528f4e06158"
      },
      "execution_count": 9,
      "outputs": [
        {
          "output_type": "execute_result",
          "data": {
            "text/plain": [
              "{'india': ['punjab', 'haryana', 'chandigarh', 'UP'], 'key2': 'values'}"
            ]
          },
          "metadata": {},
          "execution_count": 9
        }
      ]
    },
    {
      "cell_type": "code",
      "source": [
        "# inbuilt method\n",
        "print()\n",
        "name = input(\"'Enter you name: \")\n",
        "len(name)\n",
        "type()"
      ],
      "metadata": {
        "id": "asH9ASSvn4DZ"
      },
      "execution_count": null,
      "outputs": []
    },
    {
      "cell_type": "code",
      "source": [
        "lst.append(\"from pw\")"
      ],
      "metadata": {
        "id": "GamXd91looaW"
      },
      "execution_count": 10,
      "outputs": []
    },
    {
      "cell_type": "code",
      "source": [
        "lst.reverse()"
      ],
      "metadata": {
        "id": "EqUU_q77pYqq"
      },
      "execution_count": 11,
      "outputs": []
    },
    {
      "cell_type": "code",
      "source": [
        "lst."
      ],
      "metadata": {
        "id": "mPuwJyXgphcX"
      },
      "execution_count": null,
      "outputs": []
    },
    {
      "cell_type": "code",
      "source": [
        "lst.insert(2, [2,4 , 6])"
      ],
      "metadata": {
        "id": "0bp7uet6p6Xu"
      },
      "execution_count": null,
      "outputs": []
    },
    {
      "cell_type": "code",
      "source": [
        "var_set."
      ],
      "metadata": {
        "id": "qAY4N0JNpxz8"
      },
      "execution_count": null,
      "outputs": []
    },
    {
      "cell_type": "code",
      "source": [
        "dic."
      ],
      "metadata": {
        "id": "OrYrYk1vp3vw"
      },
      "execution_count": null,
      "outputs": []
    },
    {
      "cell_type": "code",
      "source": [
        "n=[1,2,3,4]\n",
        "\n",
        "a={'a':1,'b':2,'c':3}\n"
      ],
      "metadata": {
        "id": "gTLNg1pKqaF7"
      },
      "execution_count": 23,
      "outputs": []
    },
    {
      "cell_type": "code",
      "source": [
        "a"
      ],
      "metadata": {
        "colab": {
          "base_uri": "https://localhost:8080/"
        },
        "id": "uxf6dml1rUOl",
        "outputId": "aa4aaba1-fac7-4eb4-de3a-aaf146f4d4f2"
      },
      "execution_count": 28,
      "outputs": [
        {
          "output_type": "execute_result",
          "data": {
            "text/plain": [
              "{'a': 1, 'b': 2, 'c': 3}"
            ]
          },
          "metadata": {},
          "execution_count": 28
        }
      ]
    },
    {
      "cell_type": "code",
      "source": [
        "type(a)"
      ],
      "metadata": {
        "colab": {
          "base_uri": "https://localhost:8080/"
        },
        "id": "1EVdo9tDruDv",
        "outputId": "a74d1299-4d3f-427b-9228-1b081cc9e2df"
      },
      "execution_count": 29,
      "outputs": [
        {
          "output_type": "execute_result",
          "data": {
            "text/plain": [
              "dict"
            ]
          },
          "metadata": {},
          "execution_count": 29
        }
      ]
    },
    {
      "cell_type": "code",
      "source": [],
      "metadata": {
        "id": "aeaaNfOUsQMe"
      },
      "execution_count": null,
      "outputs": []
    },
    {
      "cell_type": "code",
      "source": [
        "x = dict.fromkeys((1,2,3,4), \"a\")\n",
        "x"
      ],
      "metadata": {
        "colab": {
          "base_uri": "https://localhost:8080/"
        },
        "id": "DQAYeE_8qgTr",
        "outputId": "02170254-59e4-49dd-d32c-6f0916bd79b9"
      },
      "execution_count": 27,
      "outputs": [
        {
          "output_type": "execute_result",
          "data": {
            "text/plain": [
              "{1: 'a', 2: 'a', 3: 'a', 4: 'a'}"
            ]
          },
          "metadata": {},
          "execution_count": 27
        }
      ]
    },
    {
      "cell_type": "code",
      "source": [
        "lst"
      ],
      "metadata": {
        "colab": {
          "base_uri": "https://localhost:8080/"
        },
        "id": "y2M63rTUqSnW",
        "outputId": "f2f69589-e888-4514-ce2b-f42d3e4c078e"
      },
      "execution_count": null,
      "outputs": [
        {
          "output_type": "execute_result",
          "data": {
            "text/plain": [
              "['from pw', [1, 2, 3], [2, 4, 6], 5.8, 'noida', 29, 'Sahil']"
            ]
          },
          "metadata": {},
          "execution_count": 28
        }
      ]
    },
    {
      "cell_type": "code",
      "source": [
        "lst"
      ],
      "metadata": {
        "colab": {
          "base_uri": "https://localhost:8080/"
        },
        "id": "XFZjjIj-tgqb",
        "outputId": "17b76665-1e17-4d4e-e023-b767bcab633c"
      },
      "execution_count": 38,
      "outputs": [
        {
          "output_type": "execute_result",
          "data": {
            "text/plain": [
              "['Sahil', 29, 'noida', 5.8, [1, 2, 3]]"
            ]
          },
          "metadata": {},
          "execution_count": 38
        }
      ]
    },
    {
      "cell_type": "code",
      "source": [
        "lst[-1][1] # list.[start , stop , jump]"
      ],
      "metadata": {
        "colab": {
          "base_uri": "https://localhost:8080/"
        },
        "id": "QAo1v5_dqaXl",
        "outputId": "3e7048bc-6d83-4161-a210-7074b2cfb2d8"
      },
      "execution_count": 39,
      "outputs": [
        {
          "output_type": "execute_result",
          "data": {
            "text/plain": [
              "2"
            ]
          },
          "metadata": {},
          "execution_count": 39
        }
      ]
    },
    {
      "cell_type": "code",
      "source": [
        "lst[0 : 4 : 2]"
      ],
      "metadata": {
        "colab": {
          "base_uri": "https://localhost:8080/"
        },
        "id": "QD0lqlXyqxwz",
        "outputId": "ef67f56c-fb86-43a3-9b97-b0e1d0aeef2b"
      },
      "execution_count": 40,
      "outputs": [
        {
          "output_type": "execute_result",
          "data": {
            "text/plain": [
              "['Sahil', 'noida']"
            ]
          },
          "metadata": {},
          "execution_count": 40
        }
      ]
    },
    {
      "cell_type": "code",
      "source": [],
      "metadata": {
        "id": "-LBQZrMOuFei"
      },
      "execution_count": null,
      "outputs": []
    },
    {
      "cell_type": "code",
      "source": [
        "# implicit conversion\n",
        "1 + 2.3"
      ],
      "metadata": {
        "colab": {
          "base_uri": "https://localhost:8080/"
        },
        "id": "MdgmhXY9rIBG",
        "outputId": "6c281139-dd7d-4389-c033-56a69e0c9aa6"
      },
      "execution_count": null,
      "outputs": [
        {
          "output_type": "execute_result",
          "data": {
            "text/plain": [
              "3.3"
            ]
          },
          "metadata": {},
          "execution_count": 39
        }
      ]
    },
    {
      "cell_type": "code",
      "source": [
        "# explicit conversion\n",
        "number = input(\"Enter a number: \")\n",
        "number = int(number)\n",
        "number/2"
      ],
      "metadata": {
        "colab": {
          "base_uri": "https://localhost:8080/"
        },
        "id": "cLUXtZfht1XI",
        "outputId": "ed3eb253-1c5a-4673-8181-20456b85fda5"
      },
      "execution_count": null,
      "outputs": [
        {
          "name": "stdout",
          "output_type": "stream",
          "text": [
            "Enter a number: 3\n"
          ]
        },
        {
          "output_type": "execute_result",
          "data": {
            "text/plain": [
              "1"
            ]
          },
          "metadata": {},
          "execution_count": 45
        }
      ]
    },
    {
      "cell_type": "code",
      "source": [
        "# flow statment"
      ],
      "metadata": {
        "id": "BTZ6dgJuuR1e"
      },
      "execution_count": null,
      "outputs": []
    },
    {
      "cell_type": "code",
      "source": [
        "# assignment operator = += -="
      ],
      "metadata": {
        "id": "0TKlb8xsw4YA"
      },
      "execution_count": null,
      "outputs": []
    },
    {
      "cell_type": "code",
      "source": [
        "a = 1\n",
        "a"
      ],
      "metadata": {
        "colab": {
          "base_uri": "https://localhost:8080/"
        },
        "id": "5BBna-DPxi04",
        "outputId": "f2012021-afa4-43c1-b96e-ff4826047244"
      },
      "execution_count": null,
      "outputs": [
        {
          "output_type": "execute_result",
          "data": {
            "text/plain": [
              "1"
            ]
          },
          "metadata": {},
          "execution_count": 50
        }
      ]
    },
    {
      "cell_type": "code",
      "source": [
        "a -= 1\n",
        "a"
      ],
      "metadata": {
        "colab": {
          "base_uri": "https://localhost:8080/"
        },
        "id": "l3wyqrJWxlLu",
        "outputId": "f38b66ad-37e9-4ca7-e14a-3ad184370c16"
      },
      "execution_count": null,
      "outputs": [
        {
          "output_type": "execute_result",
          "data": {
            "text/plain": [
              "-3"
            ]
          },
          "metadata": {},
          "execution_count": 56
        }
      ]
    },
    {
      "cell_type": "code",
      "source": [
        "# comparision operator- < > == <= >= !="
      ],
      "metadata": {
        "id": "C6fOS4Fhwwcj"
      },
      "execution_count": null,
      "outputs": []
    },
    {
      "cell_type": "code",
      "source": [
        "# conditional statement- if elif else\n",
        "\n",
        "number = int(input(\"Enter a number : \"))\n",
        "\n",
        "if number > 10:\n",
        "  print(\"number is greater than 10\")\n",
        "elif number == 10:\n",
        "  print(\"number is 10\")\n",
        "else:\n",
        "  print('number is less than 10')"
      ],
      "metadata": {
        "colab": {
          "base_uri": "https://localhost:8080/"
        },
        "id": "bQpsPKgQvtf3",
        "outputId": "dfc7b3fb-9f28-4dd5-fbf2-5f7dd9ff5f0d"
      },
      "execution_count": null,
      "outputs": [
        {
          "output_type": "stream",
          "name": "stdout",
          "text": [
            "Enter a number : 10\n",
            "number is 10\n"
          ]
        }
      ]
    },
    {
      "cell_type": "code",
      "source": [
        "# conditional statement- if elif else\n",
        "\n",
        "number = int(input(\"Enter a number : \"))\n",
        "\n",
        "if number > 10:\n",
        "\n",
        "  if number <100:\n",
        "    print(\"number is less than 100 and greater then 10\")\n",
        "  elif number >1000:\n",
        "    if number > 500:\n",
        "\n",
        "  else:\n",
        "    print(\"nnumber is greater than 100\")\n",
        "\n",
        "elif number == 10:\n",
        "  print(\"number is 10\")\n",
        "  print(\"elif statment\")\n",
        "\n",
        "elif not number > 0 and number < 10:\n",
        "  print(\"number is positive\")\n",
        "else:\n",
        "  print('number is less than 10')"
      ],
      "metadata": {
        "colab": {
          "base_uri": "https://localhost:8080/"
        },
        "id": "M3gxgvoAx2Hz",
        "outputId": "cdd5d68c-a0da-445a-a390-e28da96db856"
      },
      "execution_count": null,
      "outputs": [
        {
          "output_type": "stream",
          "name": "stdout",
          "text": [
            "Enter a number : 80\n",
            "number is less than 100 and greater then 10\n"
          ]
        }
      ]
    },
    {
      "cell_type": "code",
      "source": [
        "# logical operator  and or  not"
      ],
      "metadata": {
        "id": "NDmVQnb6ze2j"
      },
      "execution_count": null,
      "outputs": []
    },
    {
      "cell_type": "code",
      "source": [
        "5 - 101"
      ],
      "metadata": {
        "id": "zaN7pq-B1VbM"
      },
      "execution_count": null,
      "outputs": []
    },
    {
      "cell_type": "code",
      "source": [
        "# bitwise operator - 64 bit processor\n",
        "1 2 4 8 16 32 64 128 256 512 1024 2048 4096 ......"
      ],
      "metadata": {
        "id": "Ufgd5KWlz6Bs"
      },
      "execution_count": null,
      "outputs": []
    },
    {
      "cell_type": "code",
      "source": [
        "# looping statments - for while\n",
        "[ 0 , 1, 2, 3, 4, 5, 6, 7, 8 ,9]\n",
        "for i in range(10):\n",
        "  print(f\"number {i}   --- {i*2} loop\")"
      ],
      "metadata": {
        "colab": {
          "base_uri": "https://localhost:8080/",
          "height": 141
        },
        "id": "UT_bvdoeyU4_",
        "outputId": "4b17fba7-e32e-441d-b585-b1e5c585a43f"
      },
      "execution_count": null,
      "outputs": [
        {
          "output_type": "error",
          "ename": "SyntaxError",
          "evalue": "invalid syntax. Perhaps you forgot a comma? (<ipython-input-67-a8c963bc185b>, line 4)",
          "traceback": [
            "\u001b[0;36m  File \u001b[0;32m\"<ipython-input-67-a8c963bc185b>\"\u001b[0;36m, line \u001b[0;32m4\u001b[0m\n\u001b[0;31m    print(\"number {%s}   --- {%s} loop\".format i)\u001b[0m\n\u001b[0m          ^\u001b[0m\n\u001b[0;31mSyntaxError\u001b[0m\u001b[0;31m:\u001b[0m invalid syntax. Perhaps you forgot a comma?\n"
          ]
        }
      ]
    },
    {
      "cell_type": "code",
      "source": [
        "number = [ 0 , 1, 2, 3, 4, 5, 6, 7, 8 ,9]\n",
        "\n",
        "sq_list = []\n",
        "\n",
        "for i in number:\n",
        "  j = i**2\n",
        "  sq_list.append(j)\n",
        "\n",
        "print(j)\n",
        "sq_list"
      ],
      "metadata": {
        "colab": {
          "base_uri": "https://localhost:8080/"
        },
        "id": "d7AWlgOW2pWW",
        "outputId": "3311d835-a572-40fb-d1d1-1df57a1e32a8"
      },
      "execution_count": null,
      "outputs": [
        {
          "output_type": "stream",
          "name": "stdout",
          "text": [
            "81\n"
          ]
        },
        {
          "output_type": "execute_result",
          "data": {
            "text/plain": [
              "[0, 1, 4, 9, 16, 25, 36, 49, 64, 81]"
            ]
          },
          "metadata": {},
          "execution_count": 72
        }
      ]
    },
    {
      "cell_type": "code",
      "source": [
        "def sq_number(number):\n",
        "  z = 2 *number\n",
        "  print(z)\n",
        "  return z\n",
        "\n",
        "\n",
        "x = 2\n",
        "\n",
        "x = sq_number(x)"
      ],
      "metadata": {
        "id": "wMcjQ4bXB__c"
      },
      "execution_count": null,
      "outputs": []
    },
    {
      "cell_type": "code",
      "source": [
        "print(x)\n",
        "print(z)"
      ],
      "metadata": {
        "colab": {
          "base_uri": "https://localhost:8080/",
          "height": 211
        },
        "id": "tpV4xd9YCN82",
        "outputId": "1d8ea4be-9d93-4428-9fdd-11e3637afa7c"
      },
      "execution_count": null,
      "outputs": [
        {
          "output_type": "stream",
          "name": "stdout",
          "text": [
            "4\n"
          ]
        },
        {
          "output_type": "error",
          "ename": "NameError",
          "evalue": "name 'z' is not defined",
          "traceback": [
            "\u001b[0;31m---------------------------------------------------------------------------\u001b[0m",
            "\u001b[0;31mNameError\u001b[0m                                 Traceback (most recent call last)",
            "\u001b[0;32m<ipython-input-76-f97abd7dfd31>\u001b[0m in \u001b[0;36m<cell line: 2>\u001b[0;34m()\u001b[0m\n\u001b[1;32m      1\u001b[0m \u001b[0mprint\u001b[0m\u001b[0;34m(\u001b[0m\u001b[0mx\u001b[0m\u001b[0;34m)\u001b[0m\u001b[0;34m\u001b[0m\u001b[0;34m\u001b[0m\u001b[0m\n\u001b[0;32m----> 2\u001b[0;31m \u001b[0mprint\u001b[0m\u001b[0;34m(\u001b[0m\u001b[0mz\u001b[0m\u001b[0;34m)\u001b[0m\u001b[0;34m\u001b[0m\u001b[0;34m\u001b[0m\u001b[0m\n\u001b[0m",
            "\u001b[0;31mNameError\u001b[0m: name 'z' is not defined"
          ]
        }
      ]
    },
    {
      "cell_type": "code",
      "source": [],
      "metadata": {
        "id": "rxeVc5ZO634l"
      },
      "execution_count": null,
      "outputs": []
    },
    {
      "cell_type": "code",
      "source": [
        "x = 1\n",
        "while x < 10:\n",
        "  print(x)\n",
        "  x += 1"
      ],
      "metadata": {
        "colab": {
          "base_uri": "https://localhost:8080/"
        },
        "id": "vb922p6O4Ghu",
        "outputId": "e6ba963f-bdcb-49d6-a95e-9925a4affc65"
      },
      "execution_count": null,
      "outputs": [
        {
          "output_type": "stream",
          "name": "stdout",
          "text": [
            "1\n",
            "2\n",
            "3\n",
            "4\n",
            "5\n",
            "6\n",
            "7\n",
            "8\n",
            "9\n"
          ]
        }
      ]
    },
    {
      "cell_type": "code",
      "source": [
        "a = \"abhc\"\n",
        "c = \"a\"\n",
        "a= f\"abc{c}\""
      ],
      "metadata": {
        "id": "Vk1sTme0DRFp"
      },
      "execution_count": null,
      "outputs": []
    },
    {
      "cell_type": "code",
      "source": [
        "a"
      ],
      "metadata": {
        "id": "JTvcaYBzDY1V",
        "outputId": "0ac6a27b-836f-4926-d9ef-2f2221ed8b48",
        "colab": {
          "base_uri": "https://localhost:8080/",
          "height": 35
        }
      },
      "execution_count": null,
      "outputs": [
        {
          "output_type": "execute_result",
          "data": {
            "text/plain": [
              "'abca'"
            ],
            "application/vnd.google.colaboratory.intrinsic+json": {
              "type": "string"
            }
          },
          "metadata": {},
          "execution_count": 86
        }
      ]
    },
    {
      "cell_type": "code",
      "source": [
        "for i in range(5):\n",
        "  for j in range(i):\n",
        "    print(f\"j loop {j}\" , end = \" \")\n",
        "  print(f\"i loop {i}\")"
      ],
      "metadata": {
        "colab": {
          "base_uri": "https://localhost:8080/"
        },
        "id": "1uqlqmlp_9UZ",
        "outputId": "f91ada1c-14c2-4aca-8c47-670ba692eb2f"
      },
      "execution_count": null,
      "outputs": [
        {
          "output_type": "stream",
          "name": "stdout",
          "text": [
            "i loop 0\n",
            "j loop 0 i loop 1\n",
            "j loop 0 j loop 1 i loop 2\n",
            "j loop 0 j loop 1 j loop 2 i loop 3\n",
            "j loop 0 j loop 1 j loop 2 j loop 3 i loop 4\n"
          ]
        }
      ]
    },
    {
      "cell_type": "code",
      "source": [
        "# user defined functions\n",
        "\n",
        "# void function\n",
        "def greetings(name, des):\n",
        "  print(f\"Hello {name}, how are you  {des}?\")"
      ],
      "metadata": {
        "id": "ORXGNwCHumid"
      },
      "execution_count": 56,
      "outputs": []
    },
    {
      "cell_type": "code",
      "source": [
        "# non - void function\n",
        "def multiplication(x, y):\n",
        "  return x*y"
      ],
      "metadata": {
        "id": "SyCCX63iv__D"
      },
      "execution_count": 61,
      "outputs": []
    },
    {
      "cell_type": "code",
      "source": [
        "2*4"
      ],
      "metadata": {
        "colab": {
          "base_uri": "https://localhost:8080/"
        },
        "id": "55Zjv1NUx8KG",
        "outputId": "f49fedd4-8d1e-4c2c-e9ad-1ab6af99935c"
      },
      "execution_count": 65,
      "outputs": [
        {
          "output_type": "execute_result",
          "data": {
            "text/plain": [
              "8"
            ]
          },
          "metadata": {},
          "execution_count": 65
        }
      ]
    },
    {
      "cell_type": "code",
      "source": [
        "def argment(name , message, *mul):\n",
        "  print(name)\n",
        "  print(message)\n",
        "  for arg in mul:\n",
        "    print(arg)"
      ],
      "metadata": {
        "id": "ZaJOOrpSy3eO"
      },
      "execution_count": 73,
      "outputs": []
    },
    {
      "cell_type": "code",
      "source": [
        "argment('sahil', 'message' ,1,2,3,4,5,6)"
      ],
      "metadata": {
        "colab": {
          "base_uri": "https://localhost:8080/"
        },
        "id": "FnCEUd7ozAWo",
        "outputId": "79721b8c-ca39-4408-d23a-99cb7717e075"
      },
      "execution_count": 74,
      "outputs": [
        {
          "output_type": "stream",
          "name": "stdout",
          "text": [
            "sahil\n",
            "message\n",
            "1\n",
            "2\n",
            "3\n",
            "4\n",
            "5\n",
            "6\n"
          ]
        }
      ]
    },
    {
      "cell_type": "code",
      "source": [
        "greet = greetings(\"Rahul\", 'mr')"
      ],
      "metadata": {
        "colab": {
          "base_uri": "https://localhost:8080/"
        },
        "id": "CGxmyZTvviQc",
        "outputId": "ffc6b670-43de-4acc-926b-c3b4a994a782"
      },
      "execution_count": 58,
      "outputs": [
        {
          "output_type": "stream",
          "name": "stdout",
          "text": [
            "Hello Rahul, how are you  mr?\n"
          ]
        }
      ]
    },
    {
      "cell_type": "code",
      "source": [
        "multiple = multiplication(3,5)"
      ],
      "metadata": {
        "id": "ztqJR2RvvxT4"
      },
      "execution_count": 62,
      "outputs": []
    },
    {
      "cell_type": "code",
      "source": [
        "multiple"
      ],
      "metadata": {
        "colab": {
          "base_uri": "https://localhost:8080/"
        },
        "id": "KcC86yI8wxsI",
        "outputId": "7af0fb08-e19e-41d0-a7bc-4dcbcc1ed4b9"
      },
      "execution_count": 64,
      "outputs": [
        {
          "output_type": "execute_result",
          "data": {
            "text/plain": [
              "15"
            ]
          },
          "metadata": {},
          "execution_count": 64
        }
      ]
    },
    {
      "cell_type": "code",
      "source": [
        "# create a calculator function which takes a 2 variables and operator\n",
        "def calculator(x , y , operation):\n",
        "  \"\"\"\n",
        "  docstring:\n",
        "\n",
        "  use of this function\n",
        "\n",
        "  x\n",
        "  y\n",
        "  operation\n",
        "\n",
        "  return\n",
        "\n",
        "  \"\"\"\n",
        "\n",
        "  result = 0\n",
        "\n",
        "  if operation == '+':\n",
        "    result = x+y\n",
        "  elif operation == '-':\n",
        "    result = x-y\n",
        "  elif operation == '*':\n",
        "    result = x*y\n",
        "  else:\n",
        "    result = x/y\n",
        "\n",
        "  return result\n"
      ],
      "metadata": {
        "id": "EgEPY8BVyiAp"
      },
      "execution_count": 77,
      "outputs": []
    },
    {
      "cell_type": "code",
      "source": [
        "calculator(4,2,'+')"
      ],
      "metadata": {
        "colab": {
          "base_uri": "https://localhost:8080/"
        },
        "id": "tsM0g0cW26PB",
        "outputId": "89c1f555-f9f5-42d5-d9fb-1da84a7fe79e"
      },
      "execution_count": 79,
      "outputs": [
        {
          "output_type": "execute_result",
          "data": {
            "text/plain": [
              "6"
            ]
          },
          "metadata": {},
          "execution_count": 79
        }
      ]
    },
    {
      "cell_type": "code",
      "source": [
        "def add(x,y):\n",
        "  return x + y\n",
        "def sub(x,y):\n",
        "  return x - y\n",
        "def multiplication(x,y):\n",
        "  return x*y\n",
        "def div(x,y):\n",
        "  return x/y\n",
        "\n",
        "one = float(input(\"Enter a number: \"))\n",
        "choice = input(\"Enter the operator: \")\n",
        "another = float(input(\"Enter another number: \"))\n",
        "if choice == '+':\n",
        "  print(add(one,another))\n",
        "elif choice == '-':\n",
        "  print(sub(one, another))\n",
        "elif choice == '*':\n",
        "  print(multiplication(one,another))\n",
        "elif choice == '/':\n",
        "  print(div(one, another))\n"
      ],
      "metadata": {
        "id": "k_pmPdq6z9c8"
      },
      "execution_count": null,
      "outputs": []
    },
    {
      "cell_type": "code",
      "source": [
        "greetings('arjun', 'mr')"
      ],
      "metadata": {
        "colab": {
          "base_uri": "https://localhost:8080/"
        },
        "id": "k8mL3-f42I98",
        "outputId": "8a3b43db-e98e-4189-9cdd-182b5e1a0a4d"
      },
      "execution_count": 76,
      "outputs": [
        {
          "output_type": "stream",
          "name": "stdout",
          "text": [
            "Hello arjun, how are you  mr?\n"
          ]
        }
      ]
    },
    {
      "cell_type": "code",
      "source": [
        "# lambda - anonymous function\n",
        "\n",
        "add = lambda x , y : x+y"
      ],
      "metadata": {
        "id": "HiVQgpeM3L8w"
      },
      "execution_count": 80,
      "outputs": []
    },
    {
      "cell_type": "code",
      "source": [
        "add(3,4)"
      ],
      "metadata": {
        "colab": {
          "base_uri": "https://localhost:8080/"
        },
        "id": "t3vKHt003YZj",
        "outputId": "4ce5118a-7396-4471-d027-af6cfb205006"
      },
      "execution_count": 81,
      "outputs": [
        {
          "output_type": "execute_result",
          "data": {
            "text/plain": [
              "7"
            ]
          },
          "metadata": {},
          "execution_count": 81
        }
      ]
    },
    {
      "cell_type": "code",
      "source": [
        "sq = lambda x: x**2\n",
        "\n",
        "sq(9)"
      ],
      "metadata": {
        "colab": {
          "base_uri": "https://localhost:8080/"
        },
        "id": "4nyV9Tna3n_o",
        "outputId": "84137980-c039-4373-c448-17e4d498a2b6"
      },
      "execution_count": 82,
      "outputs": [
        {
          "output_type": "execute_result",
          "data": {
            "text/plain": [
              "81"
            ]
          },
          "metadata": {},
          "execution_count": 82
        }
      ]
    },
    {
      "cell_type": "code",
      "source": [
        "sq(10)"
      ],
      "metadata": {
        "colab": {
          "base_uri": "https://localhost:8080/"
        },
        "id": "IWTnIbof3vFo",
        "outputId": "a1238b69-3ce8-4903-8818-39c077d1fc31"
      },
      "execution_count": 83,
      "outputs": [
        {
          "output_type": "execute_result",
          "data": {
            "text/plain": [
              "100"
            ]
          },
          "metadata": {},
          "execution_count": 83
        }
      ]
    },
    {
      "cell_type": "code",
      "source": [
        "# create a lambda for temperature converter celius to farh\n",
        "\n",
        "temp = lambda x: (x*9/5)+32\n",
        "\n",
        "temp(37) # 98.6"
      ],
      "metadata": {
        "colab": {
          "base_uri": "https://localhost:8080/"
        },
        "id": "dpkSJfgi4H5y",
        "outputId": "2797c0cf-3a3b-4c65-f371-0a78ade62ee1"
      },
      "execution_count": 84,
      "outputs": [
        {
          "output_type": "execute_result",
          "data": {
            "text/plain": [
              "98.6"
            ]
          },
          "metadata": {},
          "execution_count": 84
        }
      ]
    },
    {
      "cell_type": "code",
      "source": [
        "# list comprehension\n",
        "\n",
        "even_num = [temp(i) for i in range(40, 50) ]\n",
        "even_num"
      ],
      "metadata": {
        "colab": {
          "base_uri": "https://localhost:8080/"
        },
        "id": "3YEbNHTw38rx",
        "outputId": "c8be30ec-54ca-43d2-a5e3-e66bda1a670b"
      },
      "execution_count": 97,
      "outputs": [
        {
          "output_type": "execute_result",
          "data": {
            "text/plain": [
              "[104.0, 105.8, 107.6, 109.4, 111.2, 113.0, 114.8, 116.6, 118.4, 120.2]"
            ]
          },
          "metadata": {},
          "execution_count": 97
        }
      ]
    },
    {
      "cell_type": "code",
      "source": [
        "#Analogy: Collecting email addresses from a @example.com.\n",
        "email_addresses = ['user1@example.com', 'user2@gmail.com', 'user3@example.com', 'user4@yahoo.com']"
      ],
      "metadata": {
        "id": "faLGjdmk76-y"
      },
      "execution_count": 98,
      "outputs": []
    },
    {
      "cell_type": "code",
      "source": [
        "var = \"abc\"\n"
      ],
      "metadata": {
        "id": "I4IR1aSR87P2"
      },
      "execution_count": 101,
      "outputs": []
    },
    {
      "cell_type": "code",
      "source": [
        "lst = [email for email in email_addresses if email.endswith('@example.com')]\n",
        "lst"
      ],
      "metadata": {
        "colab": {
          "base_uri": "https://localhost:8080/"
        },
        "id": "9fPFca_n8J-1",
        "outputId": "76cd8219-ead2-4bc9-c1f0-1acd46fcb851"
      },
      "execution_count": 99,
      "outputs": [
        {
          "output_type": "execute_result",
          "data": {
            "text/plain": [
              "['user1@example.com', 'user3@example.com']"
            ]
          },
          "metadata": {},
          "execution_count": 99
        }
      ]
    },
    {
      "cell_type": "code",
      "source": [
        "var.capitalize()"
      ],
      "metadata": {
        "colab": {
          "base_uri": "https://localhost:8080/",
          "height": 35
        },
        "id": "FBXNGbRI9TMl",
        "outputId": "1ab99364-0af4-46c2-d89e-7da311d056c4"
      },
      "execution_count": 102,
      "outputs": [
        {
          "output_type": "execute_result",
          "data": {
            "text/plain": [
              "'Abc'"
            ],
            "application/vnd.google.colaboratory.intrinsic+json": {
              "type": "string"
            }
          },
          "metadata": {},
          "execution_count": 102
        }
      ]
    },
    {
      "cell_type": "code",
      "source": [
        "## map , filter\n",
        "\n",
        "number = [i for i in range(10)]\n",
        "\n",
        "squared_num = [(lambda x: x**2)(i) for i in number]\n",
        "print(squared_num)\n",
        "squared_num_map = list(map(lambda x:x**2, number))\n",
        "print(squared_num_map)"
      ],
      "metadata": {
        "colab": {
          "base_uri": "https://localhost:8080/"
        },
        "id": "wtCYmxO-9ORk",
        "outputId": "d380da21-7996-4433-e4c1-be7fb8ca4b3e"
      },
      "execution_count": 105,
      "outputs": [
        {
          "output_type": "stream",
          "name": "stdout",
          "text": [
            "[0, 1, 4, 9, 16, 25, 36, 49, 64, 81]\n",
            "[0, 1, 4, 9, 16, 25, 36, 49, 64, 81]\n"
          ]
        }
      ]
    },
    {
      "cell_type": "code",
      "source": [
        "even_num = list(filter(lambda x: x %2 == 0, number))"
      ],
      "metadata": {
        "id": "9n4V7XcW-V9c"
      },
      "execution_count": 107,
      "outputs": []
    },
    {
      "cell_type": "code",
      "source": [
        "even_num"
      ],
      "metadata": {
        "colab": {
          "base_uri": "https://localhost:8080/"
        },
        "id": "g759d9w9-q_g",
        "outputId": "563a492d-7699-46bc-9949-205430e0fd7a"
      },
      "execution_count": 108,
      "outputs": [
        {
          "output_type": "execute_result",
          "data": {
            "text/plain": [
              "[0, 2, 4, 6, 8]"
            ]
          },
          "metadata": {},
          "execution_count": 108
        }
      ]
    },
    {
      "cell_type": "code",
      "source": [
        "lst = [email for email in email_addresses if '@example.com' in email]\n",
        "lst"
      ],
      "metadata": {
        "colab": {
          "base_uri": "https://localhost:8080/"
        },
        "id": "mzbyEaAP8zTw",
        "outputId": "25c6bfa0-6793-400a-c63d-7221d61d1f38"
      },
      "execution_count": 100,
      "outputs": [
        {
          "output_type": "execute_result",
          "data": {
            "text/plain": [
              "['user1@example.com', 'user3@example.com']"
            ]
          },
          "metadata": {},
          "execution_count": 100
        }
      ]
    },
    {
      "cell_type": "code",
      "source": [],
      "metadata": {
        "colab": {
          "base_uri": "https://localhost:8080/"
        },
        "id": "5pvnJeHB5tz8",
        "outputId": "ebfec2fb-2aef-467e-e5de-f26f6e16b62d"
      },
      "execution_count": 89,
      "outputs": [
        {
          "output_type": "execute_result",
          "data": {
            "text/plain": [
              "[0, 1, 2, 3, 4, 5, 6, 7, 8, 9]"
            ]
          },
          "metadata": {},
          "execution_count": 89
        }
      ]
    },
    {
      "cell_type": "code",
      "source": [
        "temp(98)"
      ],
      "metadata": {
        "colab": {
          "base_uri": "https://localhost:8080/"
        },
        "id": "70G6lqZ35L7u",
        "outputId": "be12880f-73c9-4cfe-a95f-b08152d4688c"
      },
      "execution_count": 85,
      "outputs": [
        {
          "output_type": "execute_result",
          "data": {
            "text/plain": [
              "208.4"
            ]
          },
          "metadata": {},
          "execution_count": 85
        }
      ]
    },
    {
      "cell_type": "code",
      "source": [
        "# loops - for , while\n",
        "\n",
        "for i in range(10):\n"
      ],
      "metadata": {
        "colab": {
          "base_uri": "https://localhost:8080/"
        },
        "id": "McJoA9sE_s6r",
        "outputId": "62688bf3-36f3-481f-e9db-7684fb3f2850"
      },
      "execution_count": 109,
      "outputs": [
        {
          "output_type": "stream",
          "name": "stdout",
          "text": [
            "even number\n",
            "odd number\n",
            "even number\n",
            "odd number\n",
            "even number\n",
            "odd number\n",
            "even number\n",
            "odd number\n",
            "even number\n",
            "odd number\n"
          ]
        }
      ]
    },
    {
      "cell_type": "code",
      "source": [
        "i = 0\n",
        "while i < 10:\n",
        "  if i %2 ==0:\n",
        "    print(\"even number\")\n",
        "  else:\n",
        "    print('odd number')\n",
        "  i = i+1"
      ],
      "metadata": {
        "colab": {
          "base_uri": "https://localhost:8080/"
        },
        "id": "E_kRk0_VAK6c",
        "outputId": "0e9cceee-0e1e-4f2b-ce05-794be0888176"
      },
      "execution_count": 112,
      "outputs": [
        {
          "output_type": "stream",
          "name": "stdout",
          "text": [
            "even number\n",
            "odd number\n",
            "even number\n",
            "odd number\n",
            "even number\n",
            "odd number\n",
            "even number\n",
            "odd number\n",
            "even number\n",
            "odd number\n"
          ]
        }
      ]
    },
    {
      "cell_type": "code",
      "source": [
        "#matrix multiplication\n",
        "\n",
        "matrix_A = [[1,2,3],[4,5,6],[7,8,9]]\n",
        "matrix_B = [[9,8,7],[6,5,4],[3,2,1]]\n",
        "result = [[0,0,0],[0,0,0],[0,0,0]]\n",
        "\n",
        "for i in range(len(matrix_A)):\n",
        "  for j in range(len(matrix_B[0])):\n",
        "    for k in range(len(matrix_B)):\n",
        "      result[i][j] += matrix_A[i][k] * matrix_B[k][j]\n",
        "      print(result[i][j])\n",
        "for row in result:\n",
        "  print(row)\n"
      ],
      "metadata": {
        "colab": {
          "base_uri": "https://localhost:8080/"
        },
        "id": "ywIfDgqeApZW",
        "outputId": "4139f018-e31e-4c3b-d02b-e602e2575ffe"
      },
      "execution_count": 116,
      "outputs": [
        {
          "output_type": "stream",
          "name": "stdout",
          "text": [
            "9\n",
            "21\n",
            "30\n",
            "8\n",
            "18\n",
            "24\n",
            "7\n",
            "15\n",
            "18\n",
            "36\n",
            "66\n",
            "84\n",
            "32\n",
            "57\n",
            "69\n",
            "28\n",
            "48\n",
            "54\n",
            "63\n",
            "111\n",
            "138\n",
            "56\n",
            "96\n",
            "114\n",
            "49\n",
            "81\n",
            "90\n",
            "[30, 24, 18]\n",
            "[84, 69, 54]\n",
            "[138, 114, 90]\n"
          ]
        }
      ]
    },
    {
      "cell_type": "code",
      "source": [
        "for i in range(len(matrix_A)):\n",
        "  print(i)"
      ],
      "metadata": {
        "colab": {
          "base_uri": "https://localhost:8080/"
        },
        "id": "e2DQP2nvBxVn",
        "outputId": "d5ed27ab-fb38-451a-ead8-19b23ff5690a"
      },
      "execution_count": 114,
      "outputs": [
        {
          "output_type": "stream",
          "name": "stdout",
          "text": [
            "0\n",
            "1\n",
            "2\n"
          ]
        }
      ]
    },
    {
      "cell_type": "code",
      "source": [
        "for j in range(len(matrix_B[0])):\n",
        "  print(j)"
      ],
      "metadata": {
        "colab": {
          "base_uri": "https://localhost:8080/"
        },
        "id": "UUFmgGv7B4k9",
        "outputId": "6afbf1fc-2796-4511-f388-89284061df02"
      },
      "execution_count": 115,
      "outputs": [
        {
          "output_type": "stream",
          "name": "stdout",
          "text": [
            "0\n",
            "1\n",
            "2\n"
          ]
        }
      ]
    }
  ]
}