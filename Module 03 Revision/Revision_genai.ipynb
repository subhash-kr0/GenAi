{
 "cells": [
  {
   "cell_type": "code",
   "execution_count": 1,
   "id": "428a8a0a-9b60-4cb6-8f7f-16a494167fe5",
   "metadata": {},
   "outputs": [],
   "source": [
    "#conditions>>loops>>data structure"
   ]
  },
  {
   "cell_type": "code",
   "execution_count": 2,
   "id": "1bdd981c-4442-4de8-8f02-590ae47d9ed8",
   "metadata": {},
   "outputs": [
    {
     "name": "stdout",
     "output_type": "stream",
     "text": [
      "Go to play cricket\n"
     ]
    }
   ],
   "source": [
    "ask_parents = True\n",
    "if ask_parents:\n",
    "    print(\"Go to play cricket\")"
   ]
  },
  {
   "cell_type": "code",
   "execution_count": 4,
   "id": "47917e0f-7352-448e-b8ea-6efad886e0a0",
   "metadata": {},
   "outputs": [
    {
     "name": "stdout",
     "output_type": "stream",
     "text": [
      "I will cry\n"
     ]
    }
   ],
   "source": [
    "ask_parents = False\n",
    "if ask_parents:\n",
    "    print(\"Go to play cricket\")\n",
    "else:\n",
    "    print(\"I will cry\")"
   ]
  },
  {
   "cell_type": "code",
   "execution_count": 6,
   "id": "cf0fed21-e870-49f1-bcbc-7e9cd4be8f19",
   "metadata": {},
   "outputs": [
    {
     "name": "stdout",
     "output_type": "stream",
     "text": [
      "This is greater than 100\n"
     ]
    }
   ],
   "source": [
    "a = 120\n",
    "if a > 100:\n",
    "    print(\"This is greater than 100\")\n",
    "else:\n",
    "    print(\"The no is not greater than 100\")"
   ]
  },
  {
   "cell_type": "code",
   "execution_count": 7,
   "id": "0d00f232-1cb6-4524-ac62-5a03d8464b83",
   "metadata": {},
   "outputs": [
    {
     "name": "stdout",
     "output_type": "stream",
     "text": [
      "The no is exactly equals to 100\n"
     ]
    }
   ],
   "source": [
    "a = 100\n",
    "if a > 100:\n",
    "    print(\"The no is greater than 100\")\n",
    "elif a == 100:\n",
    "    print(\"The no is exactly equals to 100\")\n",
    "else:\n",
    "    print(\"The no is smaller than 100\")"
   ]
  },
  {
   "cell_type": "code",
   "execution_count": 8,
   "id": "11444616-a59e-4f9e-934e-f03736b4675f",
   "metadata": {},
   "outputs": [
    {
     "data": {
      "text/plain": [
       "False"
      ]
     },
     "execution_count": 8,
     "metadata": {},
     "output_type": "execute_result"
    }
   ],
   "source": [
    "a > 100"
   ]
  },
  {
   "cell_type": "code",
   "execution_count": 9,
   "id": "8791db1e-25dc-451d-8d1a-654b8f3246a8",
   "metadata": {},
   "outputs": [
    {
     "data": {
      "text/plain": [
       "True"
      ]
     },
     "execution_count": 9,
     "metadata": {},
     "output_type": "execute_result"
    }
   ],
   "source": [
    "a == 100"
   ]
  },
  {
   "cell_type": "code",
   "execution_count": 10,
   "id": "a71458b8-51b7-4e1c-903b-8a47e6ef7264",
   "metadata": {},
   "outputs": [
    {
     "name": "stdout",
     "output_type": "stream",
     "text": [
      "The number is positive\n"
     ]
    }
   ],
   "source": [
    "num =10\n",
    "if (num >= 0):\n",
    "    if num == 0:\n",
    "        print(\"num is 0\")\n",
    "    else:\n",
    "        print(\"The number is positive\")\n",
    "else:\n",
    "    print(\"The number is negative\")"
   ]
  },
  {
   "cell_type": "code",
   "execution_count": 15,
   "id": "d753af68-19c9-4ed5-a701-18053a55be22",
   "metadata": {},
   "outputs": [
    {
     "name": "stdin",
     "output_type": "stream",
     "text": [
      "Please enter your name ajay\n",
      "Please enter your email aj@g\n",
      "Please enter your pasword hasfjlkfskfsbnskbjsncskcvsjc,\n"
     ]
    },
    {
     "name": "stdout",
     "output_type": "stream",
     "text": [
      "reg completed\n"
     ]
    }
   ],
   "source": [
    "name = input(\"Please enter your name\")\n",
    "email = input(\"Please enter your email\")\n",
    "pwd = input(\"Please enter your pasword\")\n",
    "\n",
    "\n",
    "if name == \"\":\n",
    "    print(\"name can not be empty, required field\")\n",
    "else:\n",
    "    if \"@\" not in email:\n",
    "        print(\"Invalid email\")\n",
    "    else:\n",
    "        if len(pwd) < 10:\n",
    "            print(\"Password len should be greater than 10\")\n",
    "        else:\n",
    "            print(\"reg completed\")"
   ]
  },
  {
   "cell_type": "code",
   "execution_count": 16,
   "id": "48beeff6-d6f5-486a-a981-f77062d7141e",
   "metadata": {},
   "outputs": [
    {
     "data": {
      "text/plain": [
       "3"
      ]
     },
     "execution_count": 16,
     "metadata": {},
     "output_type": "execute_result"
    }
   ],
   "source": [
    "a = \"Ram\"\n",
    "len(a)"
   ]
  },
  {
   "cell_type": "code",
   "execution_count": 17,
   "id": "a4872dee-6c0e-43c2-8625-bd1a0d57e149",
   "metadata": {},
   "outputs": [
    {
     "name": "stdin",
     "output_type": "stream",
     "text": [
      "Samjh me aaya so enter Happy if not then not Happy happy\n"
     ]
    },
    {
     "name": "stdout",
     "output_type": "stream",
     "text": [
      "Samjh me aa gya sir\n"
     ]
    }
   ],
   "source": [
    "user = input(\"Samjh me aaya so enter Happy if not then not Happy\")\n",
    "\n",
    "if user == \"Happy\".lower():\n",
    "    print(\"Samjh me aa gya sir\")\n",
    "else:\n",
    "    print(\"Nahi samjh aaya sir\")\n"
   ]
  },
  {
   "cell_type": "code",
   "execution_count": 18,
   "id": "a267ec96-0ea2-44c7-957e-acc9e2133f90",
   "metadata": {},
   "outputs": [
    {
     "name": "stdout",
     "output_type": "stream",
     "text": [
      "1\n",
      "2\n",
      "3\n",
      "4\n",
      "5\n",
      "6\n",
      "7\n",
      "8\n",
      "9\n"
     ]
    }
   ],
   "source": [
    "#while repeatedly executes a code as long as condition is true\n",
    "n=10\n",
    "i=1\n",
    "while i < n:\n",
    "    print(i)\n",
    "    i = i+1"
   ]
  },
  {
   "cell_type": "code",
   "execution_count": 20,
   "id": "0a459065-9860-4db8-b2ec-b4528e3f46c6",
   "metadata": {},
   "outputs": [
    {
     "name": "stdout",
     "output_type": "stream",
     "text": [
      "1\n",
      "2\n"
     ]
    }
   ],
   "source": [
    "n=10\n",
    "i=1\n",
    "while i < n:\n",
    "    print(i)\n",
    "    i = i+1\n",
    "    if i == 3:\n",
    "        break\n",
    "else:\n",
    "    print(\"This will be executed once the while loop is completed without any break\")"
   ]
  },
  {
   "cell_type": "code",
   "execution_count": 22,
   "id": "90dbd9bc-6bd4-4614-a3a0-a739cda86362",
   "metadata": {},
   "outputs": [
    {
     "name": "stdout",
     "output_type": "stream",
     "text": [
      "2\n",
      "4\n",
      "5\n",
      "6\n",
      "7\n",
      "8\n",
      "9\n",
      "10\n",
      "This will be executed once the while loop is completed without any break\n"
     ]
    }
   ],
   "source": [
    "n=10\n",
    "i=1\n",
    "while i < n:\n",
    "    i = i+1\n",
    "    if i == 3:\n",
    "        continue\n",
    "    print(i)\n",
    "else:\n",
    "    print(\"This will be executed once the while loop is completed without any break\")"
   ]
  },
  {
   "cell_type": "code",
   "execution_count": 23,
   "id": "58cd9369-4c5c-4721-9325-c7d681abcff2",
   "metadata": {},
   "outputs": [
    {
     "name": "stdout",
     "output_type": "stream",
     "text": [
      "p\n",
      "w\n",
      "s\n",
      "k\n",
      "i\n",
      "l\n",
      "l\n",
      "s\n"
     ]
    }
   ],
   "source": [
    "a = \"pwskills\"\n",
    "for char in a:\n",
    "    print(char)"
   ]
  },
  {
   "cell_type": "code",
   "execution_count": 24,
   "id": "d846bcaf-944e-4084-9290-41447de0358c",
   "metadata": {},
   "outputs": [
    {
     "name": "stdout",
     "output_type": "stream",
     "text": [
      "1\n",
      "2\n",
      "3\n",
      "4\n"
     ]
    }
   ],
   "source": [
    "l = [1, 2, 3, 4]\n",
    "for i in l:\n",
    "    print(i)"
   ]
  },
  {
   "cell_type": "code",
   "execution_count": 25,
   "id": "dbe7dd3e-8cc2-40ee-b2af-33bf68c9eaaf",
   "metadata": {},
   "outputs": [
    {
     "name": "stdout",
     "output_type": "stream",
     "text": [
      "1\n",
      "2\n",
      "3\n",
      "4\n",
      "Once For is completed\n"
     ]
    }
   ],
   "source": [
    "l = [1, 2, 3, 4]\n",
    "for i in l:\n",
    "    print(i)\n",
    "else:\n",
    "    print(\"Once For is completed\")"
   ]
  },
  {
   "cell_type": "code",
   "execution_count": 26,
   "id": "5653bb23-4a43-48c7-b723-d752a45deb4d",
   "metadata": {},
   "outputs": [
    {
     "name": "stdout",
     "output_type": "stream",
     "text": [
      "1\n",
      "2\n"
     ]
    }
   ],
   "source": [
    "l = [1, 2,\"Ajay\", 3, 4]\n",
    "for i in l:\n",
    "    if i==\"Ajay\":\n",
    "        break\n",
    "    print(i)\n",
    "else:\n",
    "    print(\"Once For is completed\")"
   ]
  },
  {
   "cell_type": "code",
   "execution_count": 27,
   "id": "373e0924-3dc6-445f-bfe3-9eee62023ade",
   "metadata": {},
   "outputs": [
    {
     "name": "stdout",
     "output_type": "stream",
     "text": [
      "1\n",
      "2\n",
      "3\n",
      "4\n",
      "Once For is completed\n"
     ]
    }
   ],
   "source": [
    "l = [1, 2,\"Ajay\", 3, 4]\n",
    "for i in l:\n",
    "    if i==\"Ajay\":\n",
    "        continue\n",
    "    print(i)\n",
    "else:\n",
    "    print(\"Once For is completed\")"
   ]
  },
  {
   "cell_type": "code",
   "execution_count": 28,
   "id": "fe4084d2-151c-4bae-8397-f6044cd388ff",
   "metadata": {},
   "outputs": [],
   "source": [
    "# *\n",
    "# **\n",
    "# ***\n",
    "# ****"
   ]
  },
  {
   "cell_type": "code",
   "execution_count": 176,
   "id": "1a74f949-2414-4f9b-90d4-a198bbb28d15",
   "metadata": {},
   "outputs": [
    {
     "name": "stdout",
     "output_type": "stream",
     "text": [
      "*\n",
      "**\n",
      "***\n",
      "****\n"
     ]
    }
   ],
   "source": [
    "row = 1\n",
    "while row <= 4:\n",
    "    col = 1\n",
    "    while col <= row:\n",
    "        print(\"*\", end = \"\")\n",
    "        col = col+1\n",
    "    print()\n",
    "    row = row + 1\n",
    "    "
   ]
  },
  {
   "cell_type": "code",
   "execution_count": 31,
   "id": "0916f623-31ef-4c54-a200-db451a3cd462",
   "metadata": {},
   "outputs": [
    {
     "name": "stdout",
     "output_type": "stream",
     "text": [
      "12 3 1 "
     ]
    }
   ],
   "source": [
    "l = [12, 3, 1]\n",
    "for i in l:\n",
    "    print(i, end = \" \")"
   ]
  },
  {
   "cell_type": "code",
   "execution_count": 34,
   "id": "55c36123-2684-4951-bdb5-288414ba10c3",
   "metadata": {},
   "outputs": [
    {
     "name": "stdout",
     "output_type": "stream",
     "text": [
      "*\n",
      "**\n",
      "***\n",
      "****\n"
     ]
    }
   ],
   "source": [
    "for i in range(4):\n",
    "    for j in range(i+1):\n",
    "        print(\"*\", end = \"\")\n",
    "    print()"
   ]
  },
  {
   "cell_type": "code",
   "execution_count": 36,
   "id": "154df3e5-5bb6-4e9d-b482-c59fcb439ef4",
   "metadata": {},
   "outputs": [
    {
     "data": {
      "text/plain": [
       "[0, 1, 2, 3]"
      ]
     },
     "execution_count": 36,
     "metadata": {},
     "output_type": "execute_result"
    }
   ],
   "source": [
    "list(range(4))"
   ]
  },
  {
   "cell_type": "code",
   "execution_count": 37,
   "id": "8129f514-d7b8-4db2-95a7-f3197daca06a",
   "metadata": {},
   "outputs": [],
   "source": [
    "#data structure >> way of organizing and storing data so that it can be accessed and manipulated effectively"
   ]
  },
  {
   "cell_type": "code",
   "execution_count": 38,
   "id": "ecb7747f-45e7-4c86-b2b0-ecbece2d4ced",
   "metadata": {},
   "outputs": [],
   "source": [
    "l = [1, 2, 3, 4, 5, True, \"Baingan\", \"comb\", 2+3j]"
   ]
  },
  {
   "cell_type": "code",
   "execution_count": 39,
   "id": "309af0fa-70fb-4556-9d1a-43887a5256cd",
   "metadata": {},
   "outputs": [
    {
     "data": {
      "text/plain": [
       "list"
      ]
     },
     "execution_count": 39,
     "metadata": {},
     "output_type": "execute_result"
    }
   ],
   "source": [
    "type(l)"
   ]
  },
  {
   "cell_type": "code",
   "execution_count": 40,
   "id": "d539a534-2712-4cc7-8ef2-b9cc5c440696",
   "metadata": {},
   "outputs": [
    {
     "data": {
      "text/plain": [
       "1"
      ]
     },
     "execution_count": 40,
     "metadata": {},
     "output_type": "execute_result"
    }
   ],
   "source": [
    "l[0]"
   ]
  },
  {
   "cell_type": "code",
   "execution_count": 41,
   "id": "405b1e08-fd1c-4dde-93a2-4095e6bf543b",
   "metadata": {},
   "outputs": [
    {
     "data": {
      "text/plain": [
       "2"
      ]
     },
     "execution_count": 41,
     "metadata": {},
     "output_type": "execute_result"
    }
   ],
   "source": [
    "l[1]"
   ]
  },
  {
   "cell_type": "code",
   "execution_count": 42,
   "id": "4fcbae20-8653-4428-abbe-05396f36e15f",
   "metadata": {},
   "outputs": [
    {
     "data": {
      "text/plain": [
       "(2+3j)"
      ]
     },
     "execution_count": 42,
     "metadata": {},
     "output_type": "execute_result"
    }
   ],
   "source": [
    "l[-1]"
   ]
  },
  {
   "cell_type": "code",
   "execution_count": 46,
   "id": "f66ae221-9933-44dc-b287-c0d7a228a5c8",
   "metadata": {},
   "outputs": [],
   "source": [
    "l[0] = \"lipstick\"#list is mutable"
   ]
  },
  {
   "cell_type": "code",
   "execution_count": 47,
   "id": "1346341f-1293-4f1a-baef-eaa665cc5fc4",
   "metadata": {},
   "outputs": [
    {
     "data": {
      "text/plain": [
       "['lipstick', 2, 3, 4, 5, True, 'Baingan', 'comb', (2+3j)]"
      ]
     },
     "execution_count": 47,
     "metadata": {},
     "output_type": "execute_result"
    }
   ],
   "source": [
    "l"
   ]
  },
  {
   "cell_type": "code",
   "execution_count": 48,
   "id": "4b9db33c-939a-45ae-a307-669983f8a688",
   "metadata": {},
   "outputs": [],
   "source": [
    "l.append(\"Ajay\")"
   ]
  },
  {
   "cell_type": "code",
   "execution_count": 49,
   "id": "d36dba0e-39f7-4447-83f7-b643989252f3",
   "metadata": {},
   "outputs": [
    {
     "data": {
      "text/plain": [
       "['lipstick', 2, 3, 4, 5, True, 'Baingan', 'comb', (2+3j), 'Ajay']"
      ]
     },
     "execution_count": 49,
     "metadata": {},
     "output_type": "execute_result"
    }
   ],
   "source": [
    "l"
   ]
  },
  {
   "cell_type": "code",
   "execution_count": 166,
   "id": "f7b6dc15-7452-4706-b9ed-9d762e0fe301",
   "metadata": {},
   "outputs": [],
   "source": [
    "l = [\"Ajay\", \"Bijay\"]\n",
    "l1 = [\"Sanjay\"]\n",
    "\n",
    "l1.extend(l)"
   ]
  },
  {
   "cell_type": "code",
   "execution_count": 167,
   "id": "3062577a-67cf-4ba1-aae5-15cf04eb1bce",
   "metadata": {},
   "outputs": [
    {
     "data": {
      "text/plain": [
       "['Sanjay', 'Ajay', 'Bijay']"
      ]
     },
     "execution_count": 167,
     "metadata": {},
     "output_type": "execute_result"
    }
   ],
   "source": [
    "l1"
   ]
  },
  {
   "cell_type": "code",
   "execution_count": 169,
   "id": "ff70b9db-43fc-47c2-8a03-4ce0fd46d724",
   "metadata": {},
   "outputs": [],
   "source": [
    "extended = l + l1"
   ]
  },
  {
   "cell_type": "code",
   "execution_count": 50,
   "id": "f7bf2434-3b18-4189-a012-296fae3b9036",
   "metadata": {},
   "outputs": [],
   "source": [
    "l.remove(\"Ajay\")"
   ]
  },
  {
   "cell_type": "code",
   "execution_count": 51,
   "id": "93754f78-650f-4932-8794-b10017aa6a5e",
   "metadata": {},
   "outputs": [
    {
     "data": {
      "text/plain": [
       "['lipstick', 2, 3, 4, 5, True, 'Baingan', 'comb', (2+3j)]"
      ]
     },
     "execution_count": 51,
     "metadata": {},
     "output_type": "execute_result"
    }
   ],
   "source": [
    "l"
   ]
  },
  {
   "cell_type": "code",
   "execution_count": 52,
   "id": "bbea5863-d1b8-431c-b191-d44e36ea4c12",
   "metadata": {},
   "outputs": [],
   "source": [
    "l.remove(\"comb\")"
   ]
  },
  {
   "cell_type": "code",
   "execution_count": 53,
   "id": "8c4085fb-dd97-439a-b010-add966edad16",
   "metadata": {},
   "outputs": [
    {
     "data": {
      "text/plain": [
       "['lipstick', 2, 3, 4, 5, True, 'Baingan', (2+3j)]"
      ]
     },
     "execution_count": 53,
     "metadata": {},
     "output_type": "execute_result"
    }
   ],
   "source": [
    "l"
   ]
  },
  {
   "cell_type": "code",
   "execution_count": 54,
   "id": "fefafe55-ae58-4261-83d4-eea75af51b67",
   "metadata": {},
   "outputs": [],
   "source": [
    "l1 = [\"Ram\", 1, \"Shyam\"]"
   ]
  },
  {
   "cell_type": "code",
   "execution_count": 55,
   "id": "97ce930e-48e3-419e-9d57-0a4c7d31bad2",
   "metadata": {},
   "outputs": [
    {
     "data": {
      "text/plain": [
       "['lipstick', 2, 3, 4, 5, True, 'Baingan', (2+3j)]"
      ]
     },
     "execution_count": 55,
     "metadata": {},
     "output_type": "execute_result"
    }
   ],
   "source": [
    "l"
   ]
  },
  {
   "cell_type": "code",
   "execution_count": 56,
   "id": "8efe1304-891a-4095-a132-7d9842f50cbb",
   "metadata": {},
   "outputs": [
    {
     "data": {
      "text/plain": [
       "['Ram', 1, 'Shyam']"
      ]
     },
     "execution_count": 56,
     "metadata": {},
     "output_type": "execute_result"
    }
   ],
   "source": [
    "l1"
   ]
  },
  {
   "cell_type": "code",
   "execution_count": 57,
   "id": "0408042b-aed3-4504-87e5-204528cf388b",
   "metadata": {},
   "outputs": [
    {
     "data": {
      "text/plain": [
       "['lipstick', 2, 3, 4, 5, True, 'Baingan', (2+3j), 'Ram', 1, 'Shyam']"
      ]
     },
     "execution_count": 57,
     "metadata": {},
     "output_type": "execute_result"
    }
   ],
   "source": [
    "l + l1"
   ]
  },
  {
   "cell_type": "code",
   "execution_count": 58,
   "id": "79b25dcd-d50e-4568-89e6-ea029d91a26b",
   "metadata": {},
   "outputs": [],
   "source": [
    "l.extend(l1)"
   ]
  },
  {
   "cell_type": "code",
   "execution_count": 59,
   "id": "27bb438b-bec9-4310-87e7-43c6c05e1dd5",
   "metadata": {},
   "outputs": [
    {
     "data": {
      "text/plain": [
       "['lipstick', 2, 3, 4, 5, True, 'Baingan', (2+3j), 'Ram', 1, 'Shyam']"
      ]
     },
     "execution_count": 59,
     "metadata": {},
     "output_type": "execute_result"
    }
   ],
   "source": [
    "l"
   ]
  },
  {
   "cell_type": "code",
   "execution_count": 60,
   "id": "e6b43da6-4181-4b47-b89a-ab5ecda5112f",
   "metadata": {},
   "outputs": [
    {
     "data": {
      "text/plain": [
       "[1, 2, 3, 1, 2, 3, 1, 2, 3, 1, 2, 3, 1, 2, 3]"
      ]
     },
     "execution_count": 60,
     "metadata": {},
     "output_type": "execute_result"
    }
   ],
   "source": [
    "[1, 2, 3]*5"
   ]
  },
  {
   "cell_type": "code",
   "execution_count": 61,
   "id": "8ae9759c-46be-47d5-b0aa-1627e7fe94eb",
   "metadata": {},
   "outputs": [
    {
     "data": {
      "text/plain": [
       "['lipstick', 2, 3, 4, 5, True, 'Baingan', (2+3j), 'Ram', 1, 'Shyam']"
      ]
     },
     "execution_count": 61,
     "metadata": {},
     "output_type": "execute_result"
    }
   ],
   "source": [
    "l"
   ]
  },
  {
   "cell_type": "code",
   "execution_count": 62,
   "id": "3b74d778-b06e-4f00-a090-c60a5b926c84",
   "metadata": {},
   "outputs": [
    {
     "data": {
      "text/plain": [
       "True"
      ]
     },
     "execution_count": 62,
     "metadata": {},
     "output_type": "execute_result"
    }
   ],
   "source": [
    "\"lipstick\" in l"
   ]
  },
  {
   "cell_type": "code",
   "execution_count": 63,
   "id": "3814e4fe-c923-4277-873a-d31595b974f3",
   "metadata": {},
   "outputs": [
    {
     "data": {
      "text/plain": [
       "8"
      ]
     },
     "execution_count": 63,
     "metadata": {},
     "output_type": "execute_result"
    }
   ],
   "source": [
    "l.index(\"Ram\")"
   ]
  },
  {
   "cell_type": "code",
   "execution_count": 64,
   "id": "7bed370c-d751-492d-9978-bcffc6b374ad",
   "metadata": {},
   "outputs": [],
   "source": [
    "del l1"
   ]
  },
  {
   "cell_type": "code",
   "execution_count": 65,
   "id": "f651e515-866d-4007-bfe3-24f5ecdaafe3",
   "metadata": {},
   "outputs": [
    {
     "ename": "NameError",
     "evalue": "name 'l1' is not defined",
     "output_type": "error",
     "traceback": [
      "\u001b[0;31m---------------------------------------------------------------------------\u001b[0m",
      "\u001b[0;31mNameError\u001b[0m                                 Traceback (most recent call last)",
      "Cell \u001b[0;32mIn[65], line 1\u001b[0m\n\u001b[0;32m----> 1\u001b[0m \u001b[43ml1\u001b[49m\n",
      "\u001b[0;31mNameError\u001b[0m: name 'l1' is not defined"
     ]
    }
   ],
   "source": [
    "l1"
   ]
  },
  {
   "cell_type": "code",
   "execution_count": 66,
   "id": "354d624c-9f4f-4ea3-9ba6-638044f03abd",
   "metadata": {},
   "outputs": [],
   "source": [
    "l = [[1, 2, 3], [4, 5, 6]]"
   ]
  },
  {
   "cell_type": "code",
   "execution_count": 67,
   "id": "e291e535-b9bc-4c79-b39e-e58328c634d6",
   "metadata": {},
   "outputs": [
    {
     "data": {
      "text/plain": [
       "[[1, 2, 3], [4, 5, 6]]"
      ]
     },
     "execution_count": 67,
     "metadata": {},
     "output_type": "execute_result"
    }
   ],
   "source": [
    "l"
   ]
  },
  {
   "cell_type": "code",
   "execution_count": 68,
   "id": "afb29f45-32fc-4c00-b3cc-0b756d7ae773",
   "metadata": {},
   "outputs": [],
   "source": [
    "#Tuples >> immutable"
   ]
  },
  {
   "cell_type": "code",
   "execution_count": 69,
   "id": "d3b46cd7-94bd-4211-a145-71413cf49208",
   "metadata": {},
   "outputs": [],
   "source": [
    "t = (1, \"Ajay\", 2, \"Ram\")"
   ]
  },
  {
   "cell_type": "code",
   "execution_count": 71,
   "id": "8cdb84d9-2af3-41d1-9fc4-14d0c014ea46",
   "metadata": {},
   "outputs": [
    {
     "data": {
      "text/plain": [
       "tuple"
      ]
     },
     "execution_count": 71,
     "metadata": {},
     "output_type": "execute_result"
    }
   ],
   "source": [
    "type(t)"
   ]
  },
  {
   "cell_type": "code",
   "execution_count": 73,
   "id": "8dbdf468-63d2-4e10-b3d5-ff8ecc899c83",
   "metadata": {},
   "outputs": [
    {
     "data": {
      "text/plain": [
       "'Ajay'"
      ]
     },
     "execution_count": 73,
     "metadata": {},
     "output_type": "execute_result"
    }
   ],
   "source": [
    "t[1]"
   ]
  },
  {
   "cell_type": "code",
   "execution_count": 74,
   "id": "b06529a1-c4a0-4179-853d-86abe4d1ba8f",
   "metadata": {},
   "outputs": [
    {
     "ename": "TypeError",
     "evalue": "'tuple' object does not support item assignment",
     "output_type": "error",
     "traceback": [
      "\u001b[0;31m---------------------------------------------------------------------------\u001b[0m",
      "\u001b[0;31mTypeError\u001b[0m                                 Traceback (most recent call last)",
      "Cell \u001b[0;32mIn[74], line 1\u001b[0m\n\u001b[0;32m----> 1\u001b[0m \u001b[43mt\u001b[49m\u001b[43m[\u001b[49m\u001b[38;5;241;43m1\u001b[39;49m\u001b[43m]\u001b[49m \u001b[38;5;241m=\u001b[39m \u001b[38;5;124m\"\u001b[39m\u001b[38;5;124mRam\u001b[39m\u001b[38;5;124m\"\u001b[39m\n",
      "\u001b[0;31mTypeError\u001b[0m: 'tuple' object does not support item assignment"
     ]
    }
   ],
   "source": [
    "t[1] = \"Ram\""
   ]
  },
  {
   "cell_type": "code",
   "execution_count": 76,
   "id": "bee43805-f0da-45fb-be5e-80195646facd",
   "metadata": {},
   "outputs": [],
   "source": [
    "t = (1, 2, 3, 4, True, \"Ram\")"
   ]
  },
  {
   "cell_type": "code",
   "execution_count": 78,
   "id": "8015123c-8884-4e10-bef1-bb2af55c6f81",
   "metadata": {},
   "outputs": [
    {
     "data": {
      "text/plain": [
       "'Ram'"
      ]
     },
     "execution_count": 78,
     "metadata": {},
     "output_type": "execute_result"
    }
   ],
   "source": [
    "t[5]"
   ]
  },
  {
   "cell_type": "code",
   "execution_count": 79,
   "id": "9e383128-d923-42e3-9397-12417ee3558b",
   "metadata": {},
   "outputs": [
    {
     "data": {
      "text/plain": [
       "5"
      ]
     },
     "execution_count": 79,
     "metadata": {},
     "output_type": "execute_result"
    }
   ],
   "source": [
    "t.index(\"Ram\")"
   ]
  },
  {
   "cell_type": "code",
   "execution_count": 80,
   "id": "5a8460b8-dc2d-4d94-bb0a-6029cbf44b72",
   "metadata": {},
   "outputs": [
    {
     "data": {
      "text/plain": [
       "(1,\n",
       " 2,\n",
       " 3,\n",
       " 4,\n",
       " True,\n",
       " 'Ram',\n",
       " 1,\n",
       " 2,\n",
       " 3,\n",
       " 4,\n",
       " True,\n",
       " 'Ram',\n",
       " 1,\n",
       " 2,\n",
       " 3,\n",
       " 4,\n",
       " True,\n",
       " 'Ram',\n",
       " 1,\n",
       " 2,\n",
       " 3,\n",
       " 4,\n",
       " True,\n",
       " 'Ram',\n",
       " 1,\n",
       " 2,\n",
       " 3,\n",
       " 4,\n",
       " True,\n",
       " 'Ram')"
      ]
     },
     "execution_count": 80,
     "metadata": {},
     "output_type": "execute_result"
    }
   ],
   "source": [
    "t * 5"
   ]
  },
  {
   "cell_type": "code",
   "execution_count": 81,
   "id": "9291b480-a5f8-4f01-baaa-7833ff41de72",
   "metadata": {},
   "outputs": [
    {
     "data": {
      "text/plain": [
       "('Ram', True, 4, 3, 2, 1)"
      ]
     },
     "execution_count": 81,
     "metadata": {},
     "output_type": "execute_result"
    }
   ],
   "source": [
    "t[::-1]"
   ]
  },
  {
   "cell_type": "code",
   "execution_count": 82,
   "id": "73593c20-c0b7-4737-a98e-47d949a4d6a4",
   "metadata": {},
   "outputs": [
    {
     "data": {
      "text/plain": [
       "(1, 2, 3, 4, True, 'Ram')"
      ]
     },
     "execution_count": 82,
     "metadata": {},
     "output_type": "execute_result"
    }
   ],
   "source": [
    "t"
   ]
  },
  {
   "cell_type": "code",
   "execution_count": 83,
   "id": "51a7e34d-1ae4-4e1c-b102-96c474e3ea4e",
   "metadata": {},
   "outputs": [
    {
     "data": {
      "text/plain": [
       "(1, 2, 3, 4, True, 'Ram')"
      ]
     },
     "execution_count": 83,
     "metadata": {},
     "output_type": "execute_result"
    }
   ],
   "source": [
    "t"
   ]
  },
  {
   "cell_type": "code",
   "execution_count": 84,
   "id": "05de1672-2b34-4b3f-87ba-8125b9648bb6",
   "metadata": {},
   "outputs": [],
   "source": [
    "t1 = (\"Ajay\")"
   ]
  },
  {
   "cell_type": "code",
   "execution_count": 86,
   "id": "3630ee04-f64e-49d9-a9a8-139f8a64ab73",
   "metadata": {},
   "outputs": [
    {
     "data": {
      "text/plain": [
       "3"
      ]
     },
     "execution_count": 86,
     "metadata": {},
     "output_type": "execute_result"
    }
   ],
   "source": [
    "t = (1, 2, 3)\n",
    "max(t)"
   ]
  },
  {
   "cell_type": "code",
   "execution_count": 87,
   "id": "27aeec92-386b-461b-82d9-a1bf761d25ce",
   "metadata": {},
   "outputs": [
    {
     "data": {
      "text/plain": [
       "1"
      ]
     },
     "execution_count": 87,
     "metadata": {},
     "output_type": "execute_result"
    }
   ],
   "source": [
    "min(t)"
   ]
  },
  {
   "cell_type": "code",
   "execution_count": 88,
   "id": "ccbf4f2e-6b60-41d1-98c9-33ffd0550446",
   "metadata": {},
   "outputs": [
    {
     "data": {
      "text/plain": [
       "3"
      ]
     },
     "execution_count": 88,
     "metadata": {},
     "output_type": "execute_result"
    }
   ],
   "source": [
    "len(t)"
   ]
  },
  {
   "cell_type": "code",
   "execution_count": 89,
   "id": "dd9f20bb-14b9-4503-9981-733c679c04e1",
   "metadata": {},
   "outputs": [],
   "source": [
    "del t"
   ]
  },
  {
   "cell_type": "code",
   "execution_count": 90,
   "id": "6c36970a-0b98-4509-9c06-1487efddd2ed",
   "metadata": {},
   "outputs": [
    {
     "ename": "NameError",
     "evalue": "name 't' is not defined",
     "output_type": "error",
     "traceback": [
      "\u001b[0;31m---------------------------------------------------------------------------\u001b[0m",
      "\u001b[0;31mNameError\u001b[0m                                 Traceback (most recent call last)",
      "Cell \u001b[0;32mIn[90], line 1\u001b[0m\n\u001b[0;32m----> 1\u001b[0m \u001b[43mt\u001b[49m\n",
      "\u001b[0;31mNameError\u001b[0m: name 't' is not defined"
     ]
    }
   ],
   "source": [
    "t"
   ]
  },
  {
   "cell_type": "code",
   "execution_count": null,
   "id": "9b13c227-f95a-4142-974b-eff258bfdd31",
   "metadata": {},
   "outputs": [],
   "source": [
    "t."
   ]
  },
  {
   "cell_type": "code",
   "execution_count": 92,
   "id": "046f3e16-a3ef-42fd-b28e-742faf01b672",
   "metadata": {},
   "outputs": [
    {
     "data": {
      "text/plain": [
       "(1, 2, 3, 4, 5, 6)"
      ]
     },
     "execution_count": 92,
     "metadata": {},
     "output_type": "execute_result"
    }
   ],
   "source": [
    "t = (1, 2, 3)\n",
    "t2 = (4, 5, 6)\n",
    "t+t2"
   ]
  },
  {
   "cell_type": "code",
   "execution_count": 93,
   "id": "c61c873b-e39c-4138-892d-48f5520576dd",
   "metadata": {},
   "outputs": [
    {
     "data": {
      "text/plain": [
       "{'blue', 'red'}"
      ]
     },
     "execution_count": 93,
     "metadata": {},
     "output_type": "execute_result"
    }
   ],
   "source": [
    "s = {\"red\", \"blue\", \"blue\"}\n",
    "s"
   ]
  },
  {
   "cell_type": "code",
   "execution_count": 95,
   "id": "1aa03f1f-b6f3-4d2f-a354-7edc1c426d87",
   "metadata": {},
   "outputs": [
    {
     "ename": "TypeError",
     "evalue": "'set' object does not support item assignment",
     "output_type": "error",
     "traceback": [
      "\u001b[0;31m---------------------------------------------------------------------------\u001b[0m",
      "\u001b[0;31mTypeError\u001b[0m                                 Traceback (most recent call last)",
      "Cell \u001b[0;32mIn[95], line 1\u001b[0m\n\u001b[0;32m----> 1\u001b[0m \u001b[43ms\u001b[49m\u001b[43m[\u001b[49m\u001b[38;5;241;43m0\u001b[39;49m\u001b[43m]\u001b[49m \u001b[38;5;241m=\u001b[39m \u001b[38;5;124m\"\u001b[39m\u001b[38;5;124mRam\u001b[39m\u001b[38;5;124m\"\u001b[39m\n",
      "\u001b[0;31mTypeError\u001b[0m: 'set' object does not support item assignment"
     ]
    }
   ],
   "source": [
    "#set is mutable, frozen set is immutable\n",
    "s[0]"
   ]
  },
  {
   "cell_type": "code",
   "execution_count": 97,
   "id": "befd51d2-b24c-46f1-9113-c04d71079ec4",
   "metadata": {},
   "outputs": [],
   "source": [
    "s.add(\"Pankaj\")"
   ]
  },
  {
   "cell_type": "code",
   "execution_count": 98,
   "id": "faace119-53e0-4a2d-9902-43adc184adac",
   "metadata": {},
   "outputs": [
    {
     "data": {
      "text/plain": [
       "{'Pankaj', 'blue', 'red'}"
      ]
     },
     "execution_count": 98,
     "metadata": {},
     "output_type": "execute_result"
    }
   ],
   "source": [
    "s"
   ]
  },
  {
   "cell_type": "code",
   "execution_count": 99,
   "id": "ffd0ac66-2272-4ed1-bf38-3fc5cff1cfda",
   "metadata": {},
   "outputs": [
    {
     "ename": "TypeError",
     "evalue": "'set' object is not subscriptable",
     "output_type": "error",
     "traceback": [
      "\u001b[0;31m---------------------------------------------------------------------------\u001b[0m",
      "\u001b[0;31mTypeError\u001b[0m                                 Traceback (most recent call last)",
      "Cell \u001b[0;32mIn[99], line 1\u001b[0m\n\u001b[0;32m----> 1\u001b[0m \u001b[43ms\u001b[49m\u001b[43m[\u001b[49m\u001b[43m:\u001b[49m\u001b[43m:\u001b[49m\u001b[38;5;241;43m-\u001b[39;49m\u001b[38;5;241;43m1\u001b[39;49m\u001b[43m]\u001b[49m\n",
      "\u001b[0;31mTypeError\u001b[0m: 'set' object is not subscriptable"
     ]
    }
   ],
   "source": [
    "s[::-1]"
   ]
  },
  {
   "cell_type": "code",
   "execution_count": 100,
   "id": "b5cd1b09-5001-400c-b9e4-209530082761",
   "metadata": {},
   "outputs": [
    {
     "data": {
      "text/plain": [
       "3"
      ]
     },
     "execution_count": 100,
     "metadata": {},
     "output_type": "execute_result"
    }
   ],
   "source": [
    "len(s)"
   ]
  },
  {
   "cell_type": "code",
   "execution_count": 101,
   "id": "349616bb-1891-4791-a48c-c422dbdb9a04",
   "metadata": {},
   "outputs": [
    {
     "data": {
      "text/plain": [
       "{'Pankaj', 'blue', 'red'}"
      ]
     },
     "execution_count": 101,
     "metadata": {},
     "output_type": "execute_result"
    }
   ],
   "source": [
    "s"
   ]
  },
  {
   "cell_type": "code",
   "execution_count": 102,
   "id": "cb28f327-8662-4a1f-a11f-5e9e52c03cd6",
   "metadata": {},
   "outputs": [
    {
     "data": {
      "text/plain": [
       "'Pankaj'"
      ]
     },
     "execution_count": 102,
     "metadata": {},
     "output_type": "execute_result"
    }
   ],
   "source": [
    "s.pop()"
   ]
  },
  {
   "cell_type": "code",
   "execution_count": 104,
   "id": "cfe644c5-764d-4b43-9e3b-e5f712c5b65b",
   "metadata": {},
   "outputs": [],
   "source": [
    "a = {1, 2, 3}"
   ]
  },
  {
   "cell_type": "code",
   "execution_count": 107,
   "id": "e6e0a32c-f008-4723-93c2-9587ac6a36a5",
   "metadata": {},
   "outputs": [],
   "source": [
    "a.remove(3) #reove is used only with integer"
   ]
  },
  {
   "cell_type": "code",
   "execution_count": 108,
   "id": "9ffec97a-29a8-44e7-8fb0-ea27cb00309f",
   "metadata": {},
   "outputs": [
    {
     "data": {
      "text/plain": [
       "{1}"
      ]
     },
     "execution_count": 108,
     "metadata": {},
     "output_type": "execute_result"
    }
   ],
   "source": [
    "a"
   ]
  },
  {
   "cell_type": "code",
   "execution_count": 109,
   "id": "acf3f7b8-7b18-4e63-aa2a-dbfa164facf1",
   "metadata": {},
   "outputs": [],
   "source": [
    "del a"
   ]
  },
  {
   "cell_type": "code",
   "execution_count": 110,
   "id": "dd9e1ac6-3185-48a2-8e0a-07f348a6f305",
   "metadata": {},
   "outputs": [
    {
     "ename": "NameError",
     "evalue": "name 'a' is not defined",
     "output_type": "error",
     "traceback": [
      "\u001b[0;31m---------------------------------------------------------------------------\u001b[0m",
      "\u001b[0;31mNameError\u001b[0m                                 Traceback (most recent call last)",
      "Cell \u001b[0;32mIn[110], line 1\u001b[0m\n\u001b[0;32m----> 1\u001b[0m \u001b[43ma\u001b[49m\n",
      "\u001b[0;31mNameError\u001b[0m: name 'a' is not defined"
     ]
    }
   ],
   "source": [
    "a"
   ]
  },
  {
   "cell_type": "code",
   "execution_count": 111,
   "id": "0ac7c6ab-8a9d-492a-ac7a-c5016e5546dc",
   "metadata": {},
   "outputs": [
    {
     "data": {
      "text/plain": [
       "{'blue', 'red'}"
      ]
     },
     "execution_count": 111,
     "metadata": {},
     "output_type": "execute_result"
    }
   ],
   "source": [
    "s"
   ]
  },
  {
   "cell_type": "code",
   "execution_count": 112,
   "id": "8549cdaf-72b5-484c-bf4e-652687abf4b0",
   "metadata": {},
   "outputs": [],
   "source": [
    "s.clear()"
   ]
  },
  {
   "cell_type": "code",
   "execution_count": 113,
   "id": "05b45375-266c-4a1c-9806-8bca05c28262",
   "metadata": {},
   "outputs": [
    {
     "data": {
      "text/plain": [
       "set()"
      ]
     },
     "execution_count": 113,
     "metadata": {},
     "output_type": "execute_result"
    }
   ],
   "source": [
    "s"
   ]
  },
  {
   "cell_type": "code",
   "execution_count": 114,
   "id": "2580ba42-38a9-4732-88cb-276db26bfd5b",
   "metadata": {},
   "outputs": [],
   "source": [
    "s = {1, 2,3}\n",
    "s.remove(3)"
   ]
  },
  {
   "cell_type": "code",
   "execution_count": 116,
   "id": "35cb5cde-951f-419b-aefa-6e6edebd2bea",
   "metadata": {},
   "outputs": [],
   "source": [
    "s = {\"Pankak\", \"Mohan\"}\n",
    "s.remove(\"Pankak\")"
   ]
  },
  {
   "cell_type": "code",
   "execution_count": 117,
   "id": "b0af0a79-545f-400c-92b0-adb6c083e102",
   "metadata": {},
   "outputs": [
    {
     "data": {
      "text/plain": [
       "{'Mohan'}"
      ]
     },
     "execution_count": 117,
     "metadata": {},
     "output_type": "execute_result"
    }
   ],
   "source": [
    "s"
   ]
  },
  {
   "cell_type": "code",
   "execution_count": 118,
   "id": "60d600e1-275f-4a60-b3e1-adbfe949acd8",
   "metadata": {},
   "outputs": [],
   "source": [
    "s1 = {1, 2, 3, 4, 5}\n",
    "s2 = {6,  7, 8, 9, 10}"
   ]
  },
  {
   "cell_type": "code",
   "execution_count": 119,
   "id": "da79c26c-0a62-4a07-9488-07afd34146f3",
   "metadata": {},
   "outputs": [
    {
     "data": {
      "text/plain": [
       "{1, 2, 3, 4, 5, 6, 7, 8, 9, 10}"
      ]
     },
     "execution_count": 119,
     "metadata": {},
     "output_type": "execute_result"
    }
   ],
   "source": [
    "s1 | s2"
   ]
  },
  {
   "cell_type": "code",
   "execution_count": 120,
   "id": "0d7c97a2-9c7c-4391-907f-f7c815773fdb",
   "metadata": {},
   "outputs": [
    {
     "data": {
      "text/plain": [
       "set()"
      ]
     },
     "execution_count": 120,
     "metadata": {},
     "output_type": "execute_result"
    }
   ],
   "source": [
    "s1 & s2"
   ]
  },
  {
   "cell_type": "code",
   "execution_count": 121,
   "id": "2b364217-01c7-43ff-8cfb-8e1d5a5804ad",
   "metadata": {},
   "outputs": [
    {
     "data": {
      "text/plain": [
       "{1, 2, 3, 4, 5}"
      ]
     },
     "execution_count": 121,
     "metadata": {},
     "output_type": "execute_result"
    }
   ],
   "source": [
    "s1-s2"
   ]
  },
  {
   "cell_type": "code",
   "execution_count": 122,
   "id": "cb6ce9f3-e798-4b5f-9082-392cb745f48b",
   "metadata": {},
   "outputs": [
    {
     "data": {
      "text/plain": [
       "{1, 2, 3, 4, 5, 6, 7, 8, 9, 10}"
      ]
     },
     "execution_count": 122,
     "metadata": {},
     "output_type": "execute_result"
    }
   ],
   "source": [
    "s1 ^ s2"
   ]
  },
  {
   "cell_type": "code",
   "execution_count": 124,
   "id": "602b9c8b-013f-46dc-ad39-e710e66682ea",
   "metadata": {},
   "outputs": [],
   "source": [
    "s = frozenset([1, 2, 3, ])"
   ]
  },
  {
   "cell_type": "code",
   "execution_count": 125,
   "id": "9f6846e8-d3f6-43a1-8794-3fcde31081c2",
   "metadata": {},
   "outputs": [
    {
     "data": {
      "text/plain": [
       "frozenset"
      ]
     },
     "execution_count": 125,
     "metadata": {},
     "output_type": "execute_result"
    }
   ],
   "source": [
    "type(s)"
   ]
  },
  {
   "cell_type": "code",
   "execution_count": 126,
   "id": "f857398d-e8f3-4387-819a-8d6e58dd85e0",
   "metadata": {},
   "outputs": [
    {
     "ename": "AttributeError",
     "evalue": "'frozenset' object has no attribute 'add'",
     "output_type": "error",
     "traceback": [
      "\u001b[0;31m---------------------------------------------------------------------------\u001b[0m",
      "\u001b[0;31mAttributeError\u001b[0m                            Traceback (most recent call last)",
      "Cell \u001b[0;32mIn[126], line 1\u001b[0m\n\u001b[0;32m----> 1\u001b[0m \u001b[43ms\u001b[49m\u001b[38;5;241;43m.\u001b[39;49m\u001b[43madd\u001b[49m(\u001b[38;5;241m5\u001b[39m)\n",
      "\u001b[0;31mAttributeError\u001b[0m: 'frozenset' object has no attribute 'add'"
     ]
    }
   ],
   "source": [
    "s.add(5)"
   ]
  },
  {
   "cell_type": "code",
   "execution_count": 128,
   "id": "1c0ccba1-33bc-4900-9747-c1495a2fa17f",
   "metadata": {},
   "outputs": [],
   "source": [
    "s1.add(3)"
   ]
  },
  {
   "cell_type": "code",
   "execution_count": 129,
   "id": "4865e0ef-63c9-49bd-954e-8ba6adc11ba1",
   "metadata": {},
   "outputs": [
    {
     "data": {
      "text/plain": [
       "{1, 2, 3, 4, 5}"
      ]
     },
     "execution_count": 129,
     "metadata": {},
     "output_type": "execute_result"
    }
   ],
   "source": [
    "s1"
   ]
  },
  {
   "cell_type": "code",
   "execution_count": 130,
   "id": "fdf09f4f-c9c4-49e9-b87a-16cd1575b687",
   "metadata": {},
   "outputs": [
    {
     "ename": "AttributeError",
     "evalue": "'frozenset' object has no attribute 'pop'",
     "output_type": "error",
     "traceback": [
      "\u001b[0;31m---------------------------------------------------------------------------\u001b[0m",
      "\u001b[0;31mAttributeError\u001b[0m                            Traceback (most recent call last)",
      "Cell \u001b[0;32mIn[130], line 1\u001b[0m\n\u001b[0;32m----> 1\u001b[0m \u001b[43ms\u001b[49m\u001b[38;5;241;43m.\u001b[39;49m\u001b[43mpop\u001b[49m()\n",
      "\u001b[0;31mAttributeError\u001b[0m: 'frozenset' object has no attribute 'pop'"
     ]
    }
   ],
   "source": [
    "s.pop()"
   ]
  },
  {
   "cell_type": "code",
   "execution_count": 131,
   "id": "e5ade0ee-8788-4477-bfa9-70efb36ff047",
   "metadata": {},
   "outputs": [],
   "source": [
    "d={\"name\": \"Ajay\"}"
   ]
  },
  {
   "cell_type": "code",
   "execution_count": 132,
   "id": "ad39bb1d-81c5-4606-aec2-1d2f616cd394",
   "metadata": {},
   "outputs": [
    {
     "data": {
      "text/plain": [
       "dict"
      ]
     },
     "execution_count": 132,
     "metadata": {},
     "output_type": "execute_result"
    }
   ],
   "source": [
    "type(d)"
   ]
  },
  {
   "cell_type": "code",
   "execution_count": 134,
   "id": "9c61539e-0702-4150-8a8b-a9bc4db9c7ce",
   "metadata": {},
   "outputs": [],
   "source": [
    "d[\"name\"] = \"bijay\""
   ]
  },
  {
   "cell_type": "code",
   "execution_count": 135,
   "id": "2bbc6815-6adf-4157-a873-ffb21e0931d9",
   "metadata": {},
   "outputs": [
    {
     "data": {
      "text/plain": [
       "{'name': 'bijay'}"
      ]
     },
     "execution_count": 135,
     "metadata": {},
     "output_type": "execute_result"
    }
   ],
   "source": [
    "d"
   ]
  },
  {
   "cell_type": "code",
   "execution_count": 136,
   "id": "555460bb-79bd-4214-b0ac-cf147d57c170",
   "metadata": {},
   "outputs": [],
   "source": [
    "del d"
   ]
  },
  {
   "cell_type": "code",
   "execution_count": 137,
   "id": "dde8ad41-1acc-464f-8fa7-c3b3f7a4c2df",
   "metadata": {},
   "outputs": [
    {
     "ename": "NameError",
     "evalue": "name 'd' is not defined",
     "output_type": "error",
     "traceback": [
      "\u001b[0;31m---------------------------------------------------------------------------\u001b[0m",
      "\u001b[0;31mNameError\u001b[0m                                 Traceback (most recent call last)",
      "Cell \u001b[0;32mIn[137], line 1\u001b[0m\n\u001b[0;32m----> 1\u001b[0m \u001b[43md\u001b[49m\n",
      "\u001b[0;31mNameError\u001b[0m: name 'd' is not defined"
     ]
    }
   ],
   "source": [
    "d"
   ]
  },
  {
   "cell_type": "code",
   "execution_count": 139,
   "id": "b583057c-d6d3-42d8-8384-25e480698af1",
   "metadata": {},
   "outputs": [],
   "source": [
    "d={\"name\": \"Ajay\"}\n",
    "d1={\"course\":\"GenAi\"}"
   ]
  },
  {
   "cell_type": "code",
   "execution_count": 140,
   "id": "a8fd50f8-5275-42b1-a70c-802c145c117d",
   "metadata": {},
   "outputs": [
    {
     "data": {
      "text/plain": [
       "{'name': 'Ajay'}"
      ]
     },
     "execution_count": 140,
     "metadata": {},
     "output_type": "execute_result"
    }
   ],
   "source": [
    "d"
   ]
  },
  {
   "cell_type": "code",
   "execution_count": 141,
   "id": "e2d29bde-4541-4c60-8828-92aa5e90b698",
   "metadata": {},
   "outputs": [
    {
     "data": {
      "text/plain": [
       "{'course': 'GenAi'}"
      ]
     },
     "execution_count": 141,
     "metadata": {},
     "output_type": "execute_result"
    }
   ],
   "source": [
    "d1"
   ]
  },
  {
   "cell_type": "code",
   "execution_count": 143,
   "id": "f8c96964-6159-44c8-93e6-828f1902e188",
   "metadata": {},
   "outputs": [],
   "source": [
    "d.update(d1)"
   ]
  },
  {
   "cell_type": "code",
   "execution_count": 144,
   "id": "42ddd778-5281-46c6-a9c2-14a2b65d9c06",
   "metadata": {},
   "outputs": [
    {
     "data": {
      "text/plain": [
       "{'name': 'Ajay', 'course': 'GenAi'}"
      ]
     },
     "execution_count": 144,
     "metadata": {},
     "output_type": "execute_result"
    }
   ],
   "source": [
    "d"
   ]
  },
  {
   "cell_type": "code",
   "execution_count": 145,
   "id": "21fe6bcc-edf2-4d27-8ee7-33864a83edb2",
   "metadata": {},
   "outputs": [
    {
     "data": {
      "text/plain": [
       "dict_keys(['name', 'course'])"
      ]
     },
     "execution_count": 145,
     "metadata": {},
     "output_type": "execute_result"
    }
   ],
   "source": [
    "d.keys()"
   ]
  },
  {
   "cell_type": "code",
   "execution_count": 146,
   "id": "e9ed9359-9176-411f-8359-fb86c8563983",
   "metadata": {},
   "outputs": [
    {
     "data": {
      "text/plain": [
       "dict_values(['Ajay', 'GenAi'])"
      ]
     },
     "execution_count": 146,
     "metadata": {},
     "output_type": "execute_result"
    }
   ],
   "source": [
    "d.values()"
   ]
  },
  {
   "cell_type": "code",
   "execution_count": 147,
   "id": "f6117a01-a1ed-407b-b4b6-06b6640bf6d2",
   "metadata": {},
   "outputs": [],
   "source": [
    "char = \"Ajay\""
   ]
  },
  {
   "cell_type": "code",
   "execution_count": 148,
   "id": "11bbb3e3-5d0b-4180-9897-ecca6730e2eb",
   "metadata": {},
   "outputs": [
    {
     "data": {
      "text/plain": [
       "str"
      ]
     },
     "execution_count": 148,
     "metadata": {},
     "output_type": "execute_result"
    }
   ],
   "source": [
    "type(char)"
   ]
  },
  {
   "cell_type": "code",
   "execution_count": 149,
   "id": "7496d6ed-281a-439a-ba7d-4aa1f7826392",
   "metadata": {},
   "outputs": [],
   "source": [
    "char1= \"Bijay\""
   ]
  },
  {
   "cell_type": "code",
   "execution_count": 150,
   "id": "88942cdc-6f71-4884-b99f-2aa3beb1ab11",
   "metadata": {},
   "outputs": [
    {
     "data": {
      "text/plain": [
       "'AjayBijay'"
      ]
     },
     "execution_count": 150,
     "metadata": {},
     "output_type": "execute_result"
    }
   ],
   "source": [
    "char + char1"
   ]
  },
  {
   "cell_type": "code",
   "execution_count": 151,
   "id": "6659c7e3-206b-4527-94ff-e5a0c9cdff3f",
   "metadata": {},
   "outputs": [
    {
     "data": {
      "text/plain": [
       "'ja'"
      ]
     },
     "execution_count": 151,
     "metadata": {},
     "output_type": "execute_result"
    }
   ],
   "source": [
    "char[1:3]"
   ]
  },
  {
   "cell_type": "code",
   "execution_count": 152,
   "id": "84929bbb-98d8-4519-9c94-c64fe42d9263",
   "metadata": {},
   "outputs": [
    {
     "data": {
      "text/plain": [
       "'yajA'"
      ]
     },
     "execution_count": 152,
     "metadata": {},
     "output_type": "execute_result"
    }
   ],
   "source": [
    "char[::-1]"
   ]
  },
  {
   "cell_type": "code",
   "execution_count": 154,
   "id": "db5350d1-5597-42d4-b366-8556f20abd23",
   "metadata": {},
   "outputs": [
    {
     "ename": "TypeError",
     "evalue": "'str' object does not support item assignment",
     "output_type": "error",
     "traceback": [
      "\u001b[0;31m---------------------------------------------------------------------------\u001b[0m",
      "\u001b[0;31mTypeError\u001b[0m                                 Traceback (most recent call last)",
      "Cell \u001b[0;32mIn[154], line 1\u001b[0m\n\u001b[0;32m----> 1\u001b[0m \u001b[43mchar\u001b[49m\u001b[43m[\u001b[49m\u001b[38;5;241;43m0\u001b[39;49m\u001b[43m]\u001b[49m \u001b[38;5;241m=\u001b[39m \u001b[38;5;124m\"\u001b[39m\u001b[38;5;124mB\u001b[39m\u001b[38;5;124m\"\u001b[39m\n",
      "\u001b[0;31mTypeError\u001b[0m: 'str' object does not support item assignment"
     ]
    }
   ],
   "source": [
    "char[0] = \"B\""
   ]
  },
  {
   "cell_type": "code",
   "execution_count": 155,
   "id": "7a6a3953-dd07-4a0e-a550-7950baa07458",
   "metadata": {},
   "outputs": [
    {
     "data": {
      "text/plain": [
       "'123, Ananda city'"
      ]
     },
     "execution_count": 155,
     "metadata": {},
     "output_type": "execute_result"
    }
   ],
   "source": [
    "address = \"123, Ananda nagar\"\n",
    "address.replace(\"nagar\", \"city\")"
   ]
  },
  {
   "cell_type": "code",
   "execution_count": 161,
   "id": "3b79af4b-8401-4f95-859d-f8dcd1a614dd",
   "metadata": {},
   "outputs": [
    {
     "data": {
      "text/plain": [
       "'Saman'"
      ]
     },
     "execution_count": 161,
     "metadata": {},
     "output_type": "execute_result"
    }
   ],
   "source": [
    "s = \"Raman\"\n",
    "s.replace(\"R\", \"S\")"
   ]
  },
  {
   "cell_type": "code",
   "execution_count": 156,
   "id": "57e15f2d-444a-47b9-a6a6-f7a21ce959ab",
   "metadata": {},
   "outputs": [
    {
     "data": {
      "text/plain": [
       "'123, ananda nagar'"
      ]
     },
     "execution_count": 156,
     "metadata": {},
     "output_type": "execute_result"
    }
   ],
   "source": [
    "address.lower()"
   ]
  },
  {
   "cell_type": "code",
   "execution_count": 157,
   "id": "6ab00ea6-9ee6-40f8-a3e2-c6633af3384e",
   "metadata": {},
   "outputs": [
    {
     "data": {
      "text/plain": [
       "'123, ANANDA NAGAR'"
      ]
     },
     "execution_count": 157,
     "metadata": {},
     "output_type": "execute_result"
    }
   ],
   "source": [
    "address.upper()"
   ]
  },
  {
   "cell_type": "code",
   "execution_count": null,
   "id": "67db4387-c0dc-41d5-a43a-46dae806c0ef",
   "metadata": {},
   "outputs": [],
   "source": []
  }
 ],
 "metadata": {
  "kernelspec": {
   "display_name": "Python 3 (ipykernel)",
   "language": "python",
   "name": "python3"
  },
  "language_info": {
   "codemirror_mode": {
    "name": "ipython",
    "version": 3
   },
   "file_extension": ".py",
   "mimetype": "text/x-python",
   "name": "python",
   "nbconvert_exporter": "python",
   "pygments_lexer": "ipython3",
   "version": "3.10.8"
  }
 },
 "nbformat": 4,
 "nbformat_minor": 5
}
