{
 "cells": [
  {
   "cell_type": "code",
   "execution_count": 54,
   "id": "eff0e955-3208-4d4c-8c3b-67247affdb68",
   "metadata": {},
   "outputs": [
    {
     "data": {
      "text/plain": [
       "0.6666666666666666"
      ]
     },
     "execution_count": 54,
     "metadata": {},
     "output_type": "execute_result"
    }
   ],
   "source": [
    "2 /3"
   ]
  },
  {
   "cell_type": "code",
   "execution_count": 55,
   "id": "0f9d146e-66a4-4bfa-ad33-09237d424a42",
   "metadata": {},
   "outputs": [
    {
     "data": {
      "text/plain": [
       "0.8"
      ]
     },
     "execution_count": 55,
     "metadata": {},
     "output_type": "execute_result"
    }
   ],
   "source": [
    "4/5"
   ]
  },
  {
   "cell_type": "code",
   "execution_count": 56,
   "id": "ba750664-7998-410f-bc5e-f24bd86b5661",
   "metadata": {},
   "outputs": [
    {
     "data": {
      "text/plain": [
       "4.0"
      ]
     },
     "execution_count": 56,
     "metadata": {},
     "output_type": "execute_result"
    }
   ],
   "source": [
    "8/2"
   ]
  },
  {
   "cell_type": "code",
   "execution_count": 57,
   "id": "9d618bba-caa5-4407-9644-1b869c3a2a66",
   "metadata": {},
   "outputs": [
    {
     "ename": "ZeroDivisionError",
     "evalue": "division by zero",
     "output_type": "error",
     "traceback": [
      "\u001b[0;31m---------------------------------------------------------------------------\u001b[0m",
      "\u001b[0;31mZeroDivisionError\u001b[0m                         Traceback (most recent call last)",
      "Cell \u001b[0;32mIn[57], line 1\u001b[0m\n\u001b[0;32m----> 1\u001b[0m \u001b[38;5;241;43m9\u001b[39;49m\u001b[38;5;241;43m/\u001b[39;49m\u001b[38;5;241;43m0\u001b[39;49m\n",
      "\u001b[0;31mZeroDivisionError\u001b[0m: division by zero"
     ]
    }
   ],
   "source": [
    "9/0"
   ]
  },
  {
   "cell_type": "code",
   "execution_count": 58,
   "id": "0407c6fc-13da-4f77-bac1-e6cd0216de60",
   "metadata": {},
   "outputs": [
    {
     "name": "stdout",
     "output_type": "stream",
     "text": [
      "0.75\n",
      "3.0\n"
     ]
    },
    {
     "ename": "ZeroDivisionError",
     "evalue": "division by zero",
     "output_type": "error",
     "traceback": [
      "\u001b[0;31m---------------------------------------------------------------------------\u001b[0m",
      "\u001b[0;31mZeroDivisionError\u001b[0m                         Traceback (most recent call last)",
      "Cell \u001b[0;32mIn[58], line 3\u001b[0m\n\u001b[1;32m      1\u001b[0m \u001b[38;5;28mprint\u001b[39m(\u001b[38;5;241m3\u001b[39m\u001b[38;5;241m/\u001b[39m\u001b[38;5;241m4\u001b[39m)\n\u001b[1;32m      2\u001b[0m \u001b[38;5;28mprint\u001b[39m(\u001b[38;5;241m6\u001b[39m\u001b[38;5;241m/\u001b[39m\u001b[38;5;241m2\u001b[39m)\n\u001b[0;32m----> 3\u001b[0m \u001b[38;5;28mprint\u001b[39m(\u001b[38;5;241;43m8\u001b[39;49m\u001b[38;5;241;43m/\u001b[39;49m\u001b[38;5;241;43m0\u001b[39;49m)\n\u001b[1;32m      4\u001b[0m \u001b[38;5;28mprint\u001b[39m(\u001b[38;5;241m10\u001b[39m\u001b[38;5;241m/\u001b[39m\u001b[38;5;241m3\u001b[39m)\n\u001b[1;32m      5\u001b[0m \u001b[38;5;28mprint\u001b[39m(\u001b[38;5;124m\"\u001b[39m\u001b[38;5;124mEverything is done\u001b[39m\u001b[38;5;124m\"\u001b[39m)\n",
      "\u001b[0;31mZeroDivisionError\u001b[0m: division by zero"
     ]
    }
   ],
   "source": [
    "print(3/4)\n",
    "print(6/2)\n",
    "print(8/0)\n",
    "print(10/3)\n",
    "print(\"Everything is done\")"
   ]
  },
  {
   "cell_type": "code",
   "execution_count": 59,
   "id": "b096639e-f8d0-4236-a3e4-7273312a0f00",
   "metadata": {},
   "outputs": [
    {
     "name": "stdout",
     "output_type": "stream",
     "text": [
      "The file is opened and lets execute someything else\n"
     ]
    }
   ],
   "source": [
    "f = open(\"file.txt\", 'r')\n",
    "print(\"The file is opened and lets execute someything else\")"
   ]
  },
  {
   "cell_type": "code",
   "execution_count": 60,
   "id": "2eadbadb-c520-4f98-9f15-177fe166f394",
   "metadata": {},
   "outputs": [
    {
     "name": "stdout",
     "output_type": "stream",
     "text": [
      "Somone else\n",
      "Someone else\n"
     ]
    }
   ],
   "source": [
    "try:\n",
    "    f = open(\"file.txt\", 'r')\n",
    "except Exception as e:\n",
    "    print(\"There is some issue with my gf/bf\", e)\n",
    "print(\"Somone else\")\n",
    "print(\"Someone else\")"
   ]
  },
  {
   "cell_type": "code",
   "execution_count": 61,
   "id": "eda197ec-536d-4001-be3f-bf490cb16df6",
   "metadata": {},
   "outputs": [
    {
     "name": "stdout",
     "output_type": "stream",
     "text": [
      "Somone else\n",
      "Someone else\n"
     ]
    }
   ],
   "source": [
    "try:\n",
    "    f = open(\"file.txt\", 'r')\n",
    "except FileNotFoundError:\n",
    "    print(\"There is some issue with my gf/bf\")\n",
    "print(\"Somone else\")\n",
    "print(\"Someone else\")"
   ]
  },
  {
   "cell_type": "code",
   "execution_count": 62,
   "id": "0479673a-99e8-4ac3-a023-50b71d75986b",
   "metadata": {},
   "outputs": [
    {
     "ename": "ZeroDivisionError",
     "evalue": "division by zero",
     "output_type": "error",
     "traceback": [
      "\u001b[0;31m---------------------------------------------------------------------------\u001b[0m",
      "\u001b[0;31mZeroDivisionError\u001b[0m                         Traceback (most recent call last)",
      "Cell \u001b[0;32mIn[62], line 1\u001b[0m\n\u001b[0;32m----> 1\u001b[0m \u001b[38;5;241;43m5\u001b[39;49m\u001b[38;5;241;43m/\u001b[39;49m\u001b[38;5;241;43m0\u001b[39;49m\n",
      "\u001b[0;31mZeroDivisionError\u001b[0m: division by zero"
     ]
    }
   ],
   "source": [
    "5/0"
   ]
  },
  {
   "cell_type": "code",
   "execution_count": 63,
   "id": "b6a6235a-5b52-4879-a73b-b2eb394be3da",
   "metadata": {},
   "outputs": [
    {
     "name": "stdout",
     "output_type": "stream",
     "text": [
      "There is issue with denominator division by zero\n"
     ]
    }
   ],
   "source": [
    "try:\n",
    "    5/0\n",
    "except Exception as e:\n",
    "    print(\"There is issue with denominator\", e)"
   ]
  },
  {
   "cell_type": "code",
   "execution_count": 64,
   "id": "3e2dd97c-73c2-44a8-96d6-9ace9a00ca50",
   "metadata": {},
   "outputs": [
    {
     "name": "stdout",
     "output_type": "stream",
     "text": [
      "This will be executed if try except block is executed without any exception\n"
     ]
    }
   ],
   "source": [
    "try:\n",
    "    5/3\n",
    "except Exception as e:\n",
    "    print(\"There is issue with denominator\", e)\n",
    "else:\n",
    "    print(\"This will be executed if try except block is executed without any exception\")"
   ]
  },
  {
   "cell_type": "code",
   "execution_count": 65,
   "id": "81f3eec8-75d9-44e9-9b50-c78cc4d8b305",
   "metadata": {},
   "outputs": [
    {
     "name": "stdout",
     "output_type": "stream",
     "text": [
      "This will be executed if try except block is executed without any exception\n",
      "Somone else\n",
      "Someone else\n"
     ]
    }
   ],
   "source": [
    "try:\n",
    "    f = open(\"file.txt\", 'w')\n",
    "except Exception as e:\n",
    "    print(\"There is some issue with my gf/bf\")\n",
    "else:\n",
    "    f.close()\n",
    "    print(\"This will be executed if try except block is executed without any exception\")\n",
    "print(\"Somone else\")\n",
    "print(\"Someone else\")"
   ]
  },
  {
   "cell_type": "code",
   "execution_count": 66,
   "id": "5e314c20-278e-4871-9bfe-6e1f0270c91d",
   "metadata": {},
   "outputs": [
    {
     "name": "stdout",
     "output_type": "stream",
     "text": [
      "There is some issue with my gf/bf\n",
      "I will print always\n",
      "Somone else\n",
      "Someone else\n"
     ]
    }
   ],
   "source": [
    "try:\n",
    "    f = open(\"file.txt\", 'w')\n",
    "    5/0\n",
    "except Exception as e:\n",
    "    print(\"There is some issue with my gf/bf\")\n",
    "else:\n",
    "    f.close()\n",
    "    print(\"This will be executed if try except block is executed without any exception\")\n",
    "finally:\n",
    "    print(\"I will print always\")\n",
    "print(\"Somone else\")\n",
    "print(\"Someone else\")"
   ]
  },
  {
   "cell_type": "code",
   "execution_count": 67,
   "id": "2684f57e-b9a0-4b03-9d59-6e976fbbd5b4",
   "metadata": {},
   "outputs": [],
   "source": [
    "# lis1 = [1, 2, 3, 4, 5]\n",
    "# lis2 = [2, 0]"
   ]
  },
  {
   "cell_type": "code",
   "execution_count": 68,
   "id": "2610e0d6-ead1-480f-adb6-08371baa0324",
   "metadata": {},
   "outputs": [],
   "source": [
    "#speed = distance/Time\n",
    "#0th, 1st, 2nd hours\n",
    "\n",
    "#rate of return>> invest/profit\n",
    "\n",
    "#1------100\n",
    "#file read____kuch kuch operation___2nd file__read__operation"
   ]
  },
  {
   "cell_type": "code",
   "execution_count": 69,
   "id": "c0c7aa0a-2cdf-45ca-81d4-f8538e01b1e4",
   "metadata": {},
   "outputs": [],
   "source": [
    "#custom exception"
   ]
  },
  {
   "cell_type": "code",
   "execution_count": 71,
   "id": "4cde947d-c896-4b8e-9529-f41fc635e6fd",
   "metadata": {},
   "outputs": [
    {
     "name": "stdin",
     "output_type": "stream",
     "text": [
      "Please enter your salary 2\n"
     ]
    }
   ],
   "source": [
    "income = int(input(\"Please enter your salary\"))"
   ]
  },
  {
   "cell_type": "code",
   "execution_count": 72,
   "id": "b3c843fb-da6e-4a71-8c7a-9d696f46eb65",
   "metadata": {},
   "outputs": [
    {
     "data": {
      "text/plain": [
       "2"
      ]
     },
     "execution_count": 72,
     "metadata": {},
     "output_type": "execute_result"
    }
   ],
   "source": [
    "income"
   ]
  },
  {
   "cell_type": "code",
   "execution_count": 73,
   "id": "8fbce3a2-8a89-4208-b921-ba561a743b8f",
   "metadata": {},
   "outputs": [],
   "source": [
    "class ValidateSalary(Exception):\n",
    "    def __init__(self, message):\n",
    "        self.msg = message\n",
    "\n",
    "def validate_salary(salary):\n",
    "    if salary <= 0:\n",
    "        raise ValidateSalary(\"Salary can not be negative\")\n",
    "    elif salary >= 200000000:\n",
    "        raise ValidateSalary(\"This much high salary is not possible\")\n",
    "    else:\n",
    "        print(\"salary is valid\")"
   ]
  },
  {
   "cell_type": "code",
   "execution_count": 74,
   "id": "343b4da4-f1d4-4847-a90e-90fe0af89784",
   "metadata": {},
   "outputs": [
    {
     "name": "stdin",
     "output_type": "stream",
     "text": [
      "Please enter your salary 4\n"
     ]
    },
    {
     "name": "stdout",
     "output_type": "stream",
     "text": [
      "salary is valid\n"
     ]
    }
   ],
   "source": [
    "try:\n",
    "    salary = int(input(\"Please enter your salary\"))\n",
    "    validate_salary(salary)\n",
    "except ValidateSalary as e:\n",
    "    print(e)"
   ]
  },
  {
   "cell_type": "code",
   "execution_count": 75,
   "id": "4a3e7403-f71c-494b-a174-989237dc6634",
   "metadata": {},
   "outputs": [
    {
     "name": "stdout",
     "output_type": "stream",
     "text": [
      "division by zero\n"
     ]
    }
   ],
   "source": [
    "try:\n",
    "    6/2\n",
    "    try:\n",
    "        5/0\n",
    "    except Exception as e:\n",
    "        print(e)\n",
    "except Exception as e:\n",
    "    print(\"This error is of 6\")"
   ]
  },
  {
   "cell_type": "code",
   "execution_count": 76,
   "id": "e723ce0c-ae32-49c4-93a5-a3ee5de96ac2",
   "metadata": {},
   "outputs": [
    {
     "data": {
      "text/plain": [
       "2.5"
      ]
     },
     "execution_count": 76,
     "metadata": {},
     "output_type": "execute_result"
    }
   ],
   "source": [
    "#use of exceptions and best practices\\\n",
    "10/4"
   ]
  },
  {
   "cell_type": "code",
   "execution_count": 77,
   "id": "ae862d2d-429f-4677-816c-cfa91f6e6fd3",
   "metadata": {},
   "outputs": [
    {
     "ename": "ZeroDivisionError",
     "evalue": "division by zero",
     "output_type": "error",
     "traceback": [
      "\u001b[0;31m---------------------------------------------------------------------------\u001b[0m",
      "\u001b[0;31mZeroDivisionError\u001b[0m                         Traceback (most recent call last)",
      "Cell \u001b[0;32mIn[77], line 1\u001b[0m\n\u001b[0;32m----> 1\u001b[0m \u001b[38;5;241;43m10\u001b[39;49m\u001b[38;5;241;43m/\u001b[39;49m\u001b[38;5;241;43m0\u001b[39;49m\n",
      "\u001b[0;31mZeroDivisionError\u001b[0m: division by zero"
     ]
    }
   ],
   "source": [
    "10/0"
   ]
  },
  {
   "cell_type": "code",
   "execution_count": 78,
   "id": "f4a2a677-ba0e-4df8-9ca3-79801b8439ce",
   "metadata": {},
   "outputs": [
    {
     "name": "stdout",
     "output_type": "stream",
     "text": [
      "I am handling 0 division error division by zero\n"
     ]
    }
   ],
   "source": [
    "try:\n",
    "    10/0\n",
    "except ZeroDivisionError as e:\n",
    "    print(\"I am handling 0 division error\", e)"
   ]
  },
  {
   "cell_type": "code",
   "execution_count": 79,
   "id": "b9008881-76d5-48e5-aac0-247cd958a1dd",
   "metadata": {},
   "outputs": [
    {
     "name": "stdout",
     "output_type": "stream",
     "text": [
      "There is some error\n"
     ]
    }
   ],
   "source": [
    "try:\n",
    "    7/0\n",
    "except:\n",
    "    print(\"There is some error\")"
   ]
  },
  {
   "cell_type": "code",
   "execution_count": 80,
   "id": "040a5308-490d-4cfe-b41a-676125ddb71c",
   "metadata": {},
   "outputs": [
    {
     "data": {
      "text/plain": [
       "7"
      ]
     },
     "execution_count": 80,
     "metadata": {},
     "output_type": "execute_result"
    }
   ],
   "source": [
    "int(7.9)"
   ]
  },
  {
   "cell_type": "code",
   "execution_count": 81,
   "id": "87b429f3-83d9-416f-8d20-4e2151aee914",
   "metadata": {},
   "outputs": [
    {
     "ename": "ValueError",
     "evalue": "invalid literal for int() with base 10: 'Ajay'",
     "output_type": "error",
     "traceback": [
      "\u001b[0;31m---------------------------------------------------------------------------\u001b[0m",
      "\u001b[0;31mValueError\u001b[0m                                Traceback (most recent call last)",
      "Cell \u001b[0;32mIn[81], line 1\u001b[0m\n\u001b[0;32m----> 1\u001b[0m \u001b[38;5;28;43mint\u001b[39;49m\u001b[43m(\u001b[49m\u001b[38;5;124;43m\"\u001b[39;49m\u001b[38;5;124;43mAjay\u001b[39;49m\u001b[38;5;124;43m\"\u001b[39;49m\u001b[43m)\u001b[49m\n",
      "\u001b[0;31mValueError\u001b[0m: invalid literal for int() with base 10: 'Ajay'"
     ]
    }
   ],
   "source": [
    "int(\"Ajay\")"
   ]
  },
  {
   "cell_type": "code",
   "execution_count": 85,
   "id": "4d63f4ee-ad74-43b2-a153-23e80589e2a8",
   "metadata": {},
   "outputs": [
    {
     "name": "stdout",
     "output_type": "stream",
     "text": [
      "I am handling Type error unsupported operand type(s) for +: 'int' and 'str'\n"
     ]
    }
   ],
   "source": [
    "try:\n",
    "    int(6.7)\n",
    "    5+\"Aj\"\n",
    "except ValueError as e:\n",
    "    print(\"I am handling Value error\",e)\n",
    "except TypeError as e:\n",
    "    print(\"I am handling Type error\", e)"
   ]
  },
  {
   "cell_type": "code",
   "execution_count": 86,
   "id": "f8291819-ab4a-49b0-acc8-9c8de15ea2bd",
   "metadata": {},
   "outputs": [
    {
     "name": "stdout",
     "output_type": "stream",
     "text": [
      "The string can not be integer unsupported operand type(s) for +: 'int' and 'str'\n"
     ]
    }
   ],
   "source": [
    "try:\n",
    "    int(6.7)\n",
    "    5+\"Aj\"\n",
    "except (ValueError, TypeError) as e:\n",
    "    print(\"The string can not be integer\",e)"
   ]
  },
  {
   "cell_type": "code",
   "execution_count": 87,
   "id": "3157e3ac-11c9-4781-b4ea-26469ebb8974",
   "metadata": {},
   "outputs": [
    {
     "name": "stdout",
     "output_type": "stream",
     "text": [
      "There is no element as such\n"
     ]
    }
   ],
   "source": [
    "try:\n",
    "    li = [1,2, 3]\n",
    "    li[5]\n",
    "except IndexError as e:\n",
    "    print(\"There is no element as such\")"
   ]
  },
  {
   "cell_type": "code",
   "execution_count": 91,
   "id": "78da0f9c-7f4a-4c13-9b05-bcd6e8177090",
   "metadata": {},
   "outputs": [
    {
     "name": "stdout",
     "output_type": "stream",
     "text": [
      "There is no element as such\n"
     ]
    }
   ],
   "source": [
    "try:\n",
    "    li = [1,2, 3]\n",
    "    li[5]\n",
    "except IndexError as e:\n",
    "    print(\"There is no element as such\")\n",
    "except Exception as e:\n",
    "    print(e)"
   ]
  },
  {
   "cell_type": "code",
   "execution_count": 89,
   "id": "0c01ecb3-9a10-49c3-8485-8f186067fa80",
   "metadata": {},
   "outputs": [],
   "source": [
    "#logging and debugging"
   ]
  },
  {
   "cell_type": "code",
   "execution_count": 92,
   "id": "c6ef99de-ade1-4a29-a3ce-b3b79399066c",
   "metadata": {},
   "outputs": [
    {
     "name": "stdout",
     "output_type": "stream",
     "text": [
      "The current no is 0\n",
      "The current no is 1\n",
      "The current no is 2\n",
      "The current no is 3\n",
      "The current no is 4\n",
      "The current no is 5\n",
      "The current no is 6\n",
      "The current no is 7\n",
      "The current no is 8\n",
      "The current no is 9\n"
     ]
    }
   ],
   "source": [
    "for i in range(10):\n",
    "    print('The current no is', i)"
   ]
  },
  {
   "cell_type": "code",
   "execution_count": 93,
   "id": "9ff7d534-3cf4-4988-902c-f346665e2afc",
   "metadata": {},
   "outputs": [],
   "source": [
    "#logging >> keep track of\n",
    "#logging module keep track of events in a software run"
   ]
  },
  {
   "cell_type": "code",
   "execution_count": 117,
   "id": "893c6ec9-bb2f-4029-969f-ec67e34072bc",
   "metadata": {},
   "outputs": [],
   "source": [
    "import logging"
   ]
  },
  {
   "cell_type": "code",
   "execution_count": 118,
   "id": "55456f6c-8250-4a50-8539-6fafa327c0f3",
   "metadata": {},
   "outputs": [],
   "source": [
    "logging.basicConfig(filename = \"test1.log\", level = logging.INFO)"
   ]
  },
  {
   "cell_type": "code",
   "execution_count": 119,
   "id": "c2b718db-8066-46e4-a9a5-90efb6b529e9",
   "metadata": {},
   "outputs": [],
   "source": [
    "logging.info(\"This is my normal message for software run\")\n",
    "logging.error(\"This is error message\")\n",
    "logging.warning(\"This is warning message\")\n",
    "logging.debug(\"This is a debug msg\")\n",
    "logging.fatal(\"This is a fatal msg\")\n"
   ]
  },
  {
   "cell_type": "code",
   "execution_count": 120,
   "id": "a2e8db24-2514-49df-8ab7-0e34a5431a92",
   "metadata": {},
   "outputs": [],
   "source": [
    "logging.shutdown()"
   ]
  },
  {
   "cell_type": "code",
   "execution_count": 3,
   "id": "0b4f4466-5a85-43c4-90e7-cce2ff718299",
   "metadata": {},
   "outputs": [],
   "source": [
    "#Debug >> lowest level\n",
    "#Info >> this is info about the program\n",
    "#warning >> potenial issues\n",
    "#Error >> seriors problem\n",
    "#Critical >> terminat the program\n",
    "#fatal >> very very serious to shut the program and related dependencies"
   ]
  },
  {
   "cell_type": "code",
   "execution_count": 1,
   "id": "09277754-9dc5-4071-a862-d48e44ad2998",
   "metadata": {},
   "outputs": [],
   "source": [
    "import logging\n",
    "logging.basicConfig(filename = \"test_new.log\", level = logging.DEBUG, format = '%(asctime)s %(levelname)s %(message)s')"
   ]
  },
  {
   "cell_type": "code",
   "execution_count": 2,
   "id": "61bc9497-c7b4-4b08-a015-3e6841338e9f",
   "metadata": {},
   "outputs": [],
   "source": [
    "logging.debug(\"This is debug message\")\n",
    "logging.info(\"info message\")\n",
    "logging.critical(\"This is critical message\")\n",
    "logging.error(\"This is error\")\n",
    "logging.info(\"info message2\")"
   ]
  },
  {
   "cell_type": "code",
   "execution_count": 3,
   "id": "9aed995d-948d-47dc-ba3f-af9b3277f731",
   "metadata": {},
   "outputs": [],
   "source": [
    "logging.shutdown()"
   ]
  },
  {
   "cell_type": "code",
   "execution_count": 2,
   "id": "7ebebaa5-3207-4bde-9648-5b56b852417e",
   "metadata": {},
   "outputs": [],
   "source": [
    "import logging\n",
    "logging.basicConfig(filename = 'program.log', level = logging.DEBUG)\n",
    "\n",
    "try:\n",
    "    f = open(\"ecample.txt\", 'r')\n",
    "    f.read()\n",
    "except FileNotFoundError as e:\n",
    "    logging.error(f\"This is my file not found error {e}\")\n",
    "    \n",
    "logging.shutdown()"
   ]
  },
  {
   "cell_type": "code",
   "execution_count": 4,
   "id": "c6c16360-d9dc-4b1c-9d3d-1869beb8305f",
   "metadata": {},
   "outputs": [],
   "source": [
    "#multi threading and multiprocessing\n"
   ]
  },
  {
   "cell_type": "code",
   "execution_count": 5,
   "id": "4bd2903b-63a4-4bdb-a6f2-5abab738a58a",
   "metadata": {},
   "outputs": [
    {
     "name": "stdout",
     "output_type": "stream",
     "text": [
      "do something\n",
      "sleep for 1 sec\n",
      "done with sleeping\n",
      "The program finished in  1.0014841631054878\n"
     ]
    }
   ],
   "source": [
    "import time\n",
    "start = time.perf_counter()\n",
    "\n",
    "def test_func():\n",
    "    print(\"do something\")\n",
    "    print(\"sleep for 1 sec\")\n",
    "    time.sleep(1)\n",
    "    print(\"done with sleeping\")\n",
    "test_func()\n",
    "\n",
    "end = time.perf_counter()\n",
    "print(\"The program finished in \", end-start)"
   ]
  },
  {
   "cell_type": "code",
   "execution_count": 6,
   "id": "5e5bb9ed-34ed-4801-b5a5-8f1671f9409c",
   "metadata": {},
   "outputs": [
    {
     "name": "stdout",
     "output_type": "stream",
     "text": [
      "do something\n",
      "sleep for 1 sec\n",
      "done with sleeping\n",
      "do something\n",
      "sleep for 1 sec\n",
      "done with sleeping\n",
      "do something\n",
      "sleep for 1 sec\n",
      "done with sleeping\n",
      "do something\n",
      "sleep for 1 sec\n",
      "done with sleeping\n",
      "do something\n",
      "sleep for 1 sec\n",
      "done with sleeping\n",
      "The program finished in  5.006621785461903\n"
     ]
    }
   ],
   "source": [
    "import time\n",
    "start = time.perf_counter()\n",
    "\n",
    "def test_func():\n",
    "    print(\"do something\")\n",
    "    print(\"sleep for 1 sec\")\n",
    "    time.sleep(1)\n",
    "    print(\"done with sleeping\")\n",
    "test_func()\n",
    "test_func()\n",
    "test_func()\n",
    "test_func()\n",
    "test_func()\n",
    "\n",
    "end = time.perf_counter()\n",
    "print(\"The program finished in \", end-start)"
   ]
  },
  {
   "cell_type": "code",
   "execution_count": 8,
   "id": "62f7ceae-bba4-4f1b-9586-fda9037128fc",
   "metadata": {},
   "outputs": [
    {
     "name": "stdout",
     "output_type": "stream",
     "text": [
      "do something\n",
      "sleep for 1 sec\n",
      "do something\n",
      "sleep for 1 sec\n",
      "done with sleeping\n",
      "done with sleeping\n",
      "The program finished in  1.0028017982840538\n"
     ]
    }
   ],
   "source": [
    "import time\n",
    "import threading\n",
    "start = time.perf_counter()\n",
    "\n",
    "def test_func():\n",
    "    print(\"do something\")\n",
    "    print(\"sleep for 1 sec\")\n",
    "    time.sleep(1)\n",
    "    print(\"done with sleeping\")\n",
    "\n",
    "t1 = threading.Thread(target = test_func)\n",
    "t2 = threading.Thread(target = test_func)\n",
    "\n",
    "t1.start()\n",
    "t2.start()\n",
    "\n",
    "t1.join()\n",
    "t2.join()\n",
    "\n",
    "\n",
    "end = time.perf_counter()\n",
    "print(\"The program finished in \", end-start)"
   ]
  },
  {
   "cell_type": "code",
   "execution_count": 9,
   "id": "2797ea25-504a-4c14-81fb-e8044df9f145",
   "metadata": {},
   "outputs": [
    {
     "name": "stdout",
     "output_type": "stream",
     "text": [
      "do something\n",
      "sleep for 1 secdo something\n",
      "\n",
      "sleep for 1 sec\n",
      "done with sleeping\n",
      "done with sleeping\n",
      "The program finished in  1.0620186254382133\n"
     ]
    }
   ],
   "source": [
    "import time\n",
    "import multiprocessing\n",
    "start = time.perf_counter()\n",
    "\n",
    "def test_func():\n",
    "    print(\"do something\")\n",
    "    print(\"sleep for 1 sec\")\n",
    "    time.sleep(1)\n",
    "    print(\"done with sleeping\")\n",
    "\n",
    "p1 = multiprocessing.Process(target = test_func)\n",
    "p2 = multiprocessing.Process(target = test_func)\n",
    "\n",
    "p1.start()\n",
    "p2.start()\n",
    "\n",
    "p1.join()\n",
    "p2.join()\n",
    "\n",
    "\n",
    "end = time.perf_counter()\n",
    "print(\"The program finished in \", end-start)"
   ]
  },
  {
   "cell_type": "code",
   "execution_count": null,
   "id": "36895d48-fa67-4d2e-9383-bc8652f6cf15",
   "metadata": {},
   "outputs": [],
   "source": []
  }
 ],
 "metadata": {
  "kernelspec": {
   "display_name": "Python 3 (ipykernel)",
   "language": "python",
   "name": "python3"
  },
  "language_info": {
   "codemirror_mode": {
    "name": "ipython",
    "version": 3
   },
   "file_extension": ".py",
   "mimetype": "text/x-python",
   "name": "python",
   "nbconvert_exporter": "python",
   "pygments_lexer": "ipython3",
   "version": "3.10.8"
  }
 },
 "nbformat": 4,
 "nbformat_minor": 5
}
