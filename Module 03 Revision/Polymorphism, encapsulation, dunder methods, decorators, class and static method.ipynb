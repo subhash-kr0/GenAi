{
 "cells": [
  {
   "cell_type": "code",
   "execution_count": 1,
   "id": "5273a209",
   "metadata": {},
   "outputs": [],
   "source": [
    "#poly morphism >> many, morphism >>states\n",
    "#many forms\n",
    "#object taking several forms depending on the data"
   ]
  },
  {
   "cell_type": "code",
   "execution_count": 2,
   "id": "2a566393",
   "metadata": {},
   "outputs": [
    {
     "data": {
      "text/plain": [
       "5"
      ]
     },
     "execution_count": 2,
     "metadata": {},
     "output_type": "execute_result"
    }
   ],
   "source": [
    "len(\"Mohit\")"
   ]
  },
  {
   "cell_type": "code",
   "execution_count": 3,
   "id": "8787cf23",
   "metadata": {},
   "outputs": [
    {
     "data": {
      "text/plain": [
       "5"
      ]
     },
     "execution_count": 3,
     "metadata": {},
     "output_type": "execute_result"
    }
   ],
   "source": [
    "len([1, 2, 3, 4, 5])"
   ]
  },
  {
   "cell_type": "code",
   "execution_count": 4,
   "id": "37b3a3e9",
   "metadata": {},
   "outputs": [],
   "source": [
    "def func(a, b):\n",
    "    return a+b"
   ]
  },
  {
   "cell_type": "code",
   "execution_count": 5,
   "id": "ecc428ce",
   "metadata": {},
   "outputs": [
    {
     "data": {
      "text/plain": [
       "8"
      ]
     },
     "execution_count": 5,
     "metadata": {},
     "output_type": "execute_result"
    }
   ],
   "source": [
    "func(3, 5)"
   ]
  },
  {
   "cell_type": "code",
   "execution_count": 6,
   "id": "4521b69f",
   "metadata": {},
   "outputs": [
    {
     "data": {
      "text/plain": [
       "'pwskills'"
      ]
     },
     "execution_count": 6,
     "metadata": {},
     "output_type": "execute_result"
    }
   ],
   "source": [
    "func(\"pw\", \"skills\")"
   ]
  },
  {
   "cell_type": "code",
   "execution_count": 7,
   "id": "5631fe2f",
   "metadata": {},
   "outputs": [
    {
     "data": {
      "text/plain": [
       "[1, 2, 3, 4, 5, 6]"
      ]
     },
     "execution_count": 7,
     "metadata": {},
     "output_type": "execute_result"
    }
   ],
   "source": [
    "func([1, 2,3], [4, 5, 6])"
   ]
  },
  {
   "cell_type": "code",
   "execution_count": 8,
   "id": "bab85873",
   "metadata": {},
   "outputs": [],
   "source": [
    "class student_lecture:\n",
    "    def lec_info(self):\n",
    "        print(\"This is lec with student perspective\")"
   ]
  },
  {
   "cell_type": "code",
   "execution_count": 10,
   "id": "000ff25f",
   "metadata": {},
   "outputs": [],
   "source": [
    "class teacher_lecture:\n",
    "    def lec_info(self):\n",
    "        print(\"This is lec with teacher perspective\")"
   ]
  },
  {
   "cell_type": "code",
   "execution_count": 11,
   "id": "8a86a57b",
   "metadata": {},
   "outputs": [],
   "source": [
    "def parcer(class_obj):\n",
    "    for i in class_obj:\n",
    "        i.lec_info()"
   ]
  },
  {
   "cell_type": "code",
   "execution_count": 12,
   "id": "ad91cbf9",
   "metadata": {},
   "outputs": [],
   "source": [
    "obj1 = student_lecture()\n",
    "obj2 = teacher_lecture()"
   ]
  },
  {
   "cell_type": "code",
   "execution_count": 13,
   "id": "23964281",
   "metadata": {},
   "outputs": [],
   "source": [
    "class_obj = [obj1, obj2]"
   ]
  },
  {
   "cell_type": "code",
   "execution_count": 14,
   "id": "02978df8",
   "metadata": {},
   "outputs": [
    {
     "name": "stdout",
     "output_type": "stream",
     "text": [
      "This is lec with student perspective\n",
      "This is lec with teacher perspective\n"
     ]
    }
   ],
   "source": [
    "parcer(class_obj)"
   ]
  },
  {
   "cell_type": "code",
   "execution_count": 15,
   "id": "08dcba19",
   "metadata": {},
   "outputs": [],
   "source": [
    "class Student:\n",
    "    def student(self):\n",
    "        print(\"Welcome to pwskills\")\n",
    "    def student(self, name = \"\"):\n",
    "        print(\"Welcome to pwskills\", name)\n",
    "    def student(self, name = \"\", course = \"\"):\n",
    "        print(\"Welcome to pwskills\", name, course)"
   ]
  },
  {
   "cell_type": "code",
   "execution_count": 16,
   "id": "cb265458",
   "metadata": {},
   "outputs": [],
   "source": [
    "stud = Student()"
   ]
  },
  {
   "cell_type": "code",
   "execution_count": 17,
   "id": "d6609a7f",
   "metadata": {},
   "outputs": [
    {
     "name": "stdout",
     "output_type": "stream",
     "text": [
      "Welcome to pwskills  \n"
     ]
    }
   ],
   "source": [
    "stud.student()"
   ]
  },
  {
   "cell_type": "code",
   "execution_count": 18,
   "id": "87b776af",
   "metadata": {},
   "outputs": [
    {
     "name": "stdout",
     "output_type": "stream",
     "text": [
      "Welcome to pwskills Chander \n"
     ]
    }
   ],
   "source": [
    "stud.student(\"Chander\")"
   ]
  },
  {
   "cell_type": "code",
   "execution_count": 19,
   "id": "0e3ab4cb",
   "metadata": {},
   "outputs": [
    {
     "name": "stdout",
     "output_type": "stream",
     "text": [
      "Welcome to pwskills Chander ML\n"
     ]
    }
   ],
   "source": [
    "stud.student(\"Chander\", \"ML\")"
   ]
  },
  {
   "cell_type": "code",
   "execution_count": 25,
   "id": "74d1cf6c",
   "metadata": {},
   "outputs": [],
   "source": [
    "#Method overloading>> student is taking differnet forms, the last method overwrites the previous one\n",
    "class Student:\n",
    "    def student(self, name = \"\", course = \"\"):\n",
    "        print(\"Welcome to pwskills\", name, course)"
   ]
  },
  {
   "cell_type": "code",
   "execution_count": 26,
   "id": "d562809e",
   "metadata": {},
   "outputs": [],
   "source": [
    "stud = Student()"
   ]
  },
  {
   "cell_type": "code",
   "execution_count": 27,
   "id": "eafa15c1",
   "metadata": {},
   "outputs": [
    {
     "name": "stdout",
     "output_type": "stream",
     "text": [
      "Welcome to pwskills  \n"
     ]
    }
   ],
   "source": [
    "stud.student()"
   ]
  },
  {
   "cell_type": "code",
   "execution_count": 28,
   "id": "910e51b2",
   "metadata": {},
   "outputs": [
    {
     "name": "stdout",
     "output_type": "stream",
     "text": [
      "Welcome to pwskills Ajay \n"
     ]
    }
   ],
   "source": [
    "stud.student(\"Ajay\")"
   ]
  },
  {
   "cell_type": "code",
   "execution_count": 29,
   "id": "a85e3b64",
   "metadata": {},
   "outputs": [
    {
     "name": "stdout",
     "output_type": "stream",
     "text": [
      "Welcome to pwskills Ajay DS\n"
     ]
    }
   ],
   "source": [
    "stud.student(\"Ajay\", \"DS\")"
   ]
  },
  {
   "cell_type": "code",
   "execution_count": 30,
   "id": "01f9e33d",
   "metadata": {},
   "outputs": [],
   "source": [
    "#method overriding  >> child class is always powerful"
   ]
  },
  {
   "cell_type": "code",
   "execution_count": 31,
   "id": "25adc820",
   "metadata": {},
   "outputs": [],
   "source": [
    "class Animal:\n",
    "    def sound(self):\n",
    "        print(\"Animal sound\")\n",
    "class Cat(Animal):\n",
    "    def sound(self):\n",
    "        print(\"Cat meows\")"
   ]
  },
  {
   "cell_type": "code",
   "execution_count": 32,
   "id": "58420061",
   "metadata": {},
   "outputs": [],
   "source": [
    "a = Cat()"
   ]
  },
  {
   "cell_type": "code",
   "execution_count": 33,
   "id": "40e27892",
   "metadata": {},
   "outputs": [
    {
     "name": "stdout",
     "output_type": "stream",
     "text": [
      "Cat meows\n"
     ]
    }
   ],
   "source": [
    "a.sound()"
   ]
  },
  {
   "cell_type": "code",
   "execution_count": 34,
   "id": "d1bcb62c",
   "metadata": {},
   "outputs": [],
   "source": [
    "#Encapsulation>> means hiding something\n",
    "#data and methods\n",
    "#public, protected, private"
   ]
  },
  {
   "cell_type": "code",
   "execution_count": 35,
   "id": "0cafde31",
   "metadata": {},
   "outputs": [],
   "source": [
    "class Student:\n",
    "    def __init__(self, name, degree):\n",
    "        self.name = name\n",
    "        self.degree = degree"
   ]
  },
  {
   "cell_type": "code",
   "execution_count": 36,
   "id": "856e1eca",
   "metadata": {},
   "outputs": [],
   "source": [
    "stud = Student(\"Apsara\", \"Masters\")"
   ]
  },
  {
   "cell_type": "code",
   "execution_count": 37,
   "id": "7ae8df30",
   "metadata": {},
   "outputs": [
    {
     "data": {
      "text/plain": [
       "'Apsara'"
      ]
     },
     "execution_count": 37,
     "metadata": {},
     "output_type": "execute_result"
    }
   ],
   "source": [
    "stud.name"
   ]
  },
  {
   "cell_type": "code",
   "execution_count": 38,
   "id": "5b16bff8",
   "metadata": {},
   "outputs": [
    {
     "data": {
      "text/plain": [
       "'Masters'"
      ]
     },
     "execution_count": 38,
     "metadata": {},
     "output_type": "execute_result"
    }
   ],
   "source": [
    "stud.degree"
   ]
  },
  {
   "cell_type": "code",
   "execution_count": 40,
   "id": "14962949",
   "metadata": {},
   "outputs": [],
   "source": [
    "stud.degree = \"PhD\""
   ]
  },
  {
   "cell_type": "code",
   "execution_count": 41,
   "id": "f816e059",
   "metadata": {},
   "outputs": [
    {
     "data": {
      "text/plain": [
       "'PhD'"
      ]
     },
     "execution_count": 41,
     "metadata": {},
     "output_type": "execute_result"
    }
   ],
   "source": [
    "stud.degree"
   ]
  },
  {
   "cell_type": "code",
   "execution_count": 42,
   "id": "c2e38fdb",
   "metadata": {},
   "outputs": [],
   "source": [
    "#private >> accessible within the class, bahar se no access, __"
   ]
  },
  {
   "cell_type": "code",
   "execution_count": 43,
   "id": "c68401f7",
   "metadata": {},
   "outputs": [],
   "source": [
    "class Student:\n",
    "    def __init__(self, name, degree):\n",
    "        self.name = name\n",
    "        self.__degree = degree"
   ]
  },
  {
   "cell_type": "code",
   "execution_count": 44,
   "id": "a2848a8f",
   "metadata": {},
   "outputs": [],
   "source": [
    "stud = Student(\"Apsara\", \"Masters\")"
   ]
  },
  {
   "cell_type": "code",
   "execution_count": 45,
   "id": "0031868c",
   "metadata": {},
   "outputs": [
    {
     "data": {
      "text/plain": [
       "'Apsara'"
      ]
     },
     "execution_count": 45,
     "metadata": {},
     "output_type": "execute_result"
    }
   ],
   "source": [
    "stud.name"
   ]
  },
  {
   "cell_type": "code",
   "execution_count": 46,
   "id": "23055866",
   "metadata": {},
   "outputs": [
    {
     "ename": "AttributeError",
     "evalue": "'Student' object has no attribute 'degree'",
     "output_type": "error",
     "traceback": [
      "\u001b[1;31m---------------------------------------------------------------------------\u001b[0m",
      "\u001b[1;31mAttributeError\u001b[0m                            Traceback (most recent call last)",
      "Cell \u001b[1;32mIn[46], line 1\u001b[0m\n\u001b[1;32m----> 1\u001b[0m stud\u001b[38;5;241m.\u001b[39mdegree\n",
      "\u001b[1;31mAttributeError\u001b[0m: 'Student' object has no attribute 'degree'"
     ]
    }
   ],
   "source": [
    "stud.degree"
   ]
  },
  {
   "cell_type": "code",
   "execution_count": 47,
   "id": "4d20eef4",
   "metadata": {},
   "outputs": [
    {
     "data": {
      "text/plain": [
       "'Masters'"
      ]
     },
     "execution_count": 47,
     "metadata": {},
     "output_type": "execute_result"
    }
   ],
   "source": [
    "stud._Student__degree"
   ]
  },
  {
   "cell_type": "code",
   "execution_count": 51,
   "id": "496a9809",
   "metadata": {},
   "outputs": [],
   "source": [
    "class Bank:\n",
    "    def __init__(self, balance):\n",
    "        self.__balance = balance\n",
    "    def deposit(self, amount):\n",
    "        self.__balance = self.__balance + amount\n",
    "        \n",
    "    def get_balance(self):\n",
    "        return self.__balance"
   ]
  },
  {
   "cell_type": "code",
   "execution_count": 52,
   "id": "af2bab7e",
   "metadata": {},
   "outputs": [],
   "source": [
    "acc = Bank(1000)"
   ]
  },
  {
   "cell_type": "code",
   "execution_count": 53,
   "id": "ff9be064",
   "metadata": {},
   "outputs": [],
   "source": [
    "acc.deposit(100)"
   ]
  },
  {
   "cell_type": "code",
   "execution_count": 54,
   "id": "e72bf36e",
   "metadata": {},
   "outputs": [
    {
     "data": {
      "text/plain": [
       "<bound method Bank.deposit of <__main__.Bank object at 0x000001B40EB2E810>>"
      ]
     },
     "execution_count": 54,
     "metadata": {},
     "output_type": "execute_result"
    }
   ],
   "source": [
    "acc.deposit"
   ]
  },
  {
   "cell_type": "code",
   "execution_count": 55,
   "id": "683f98ba",
   "metadata": {},
   "outputs": [
    {
     "data": {
      "text/plain": [
       "1100"
      ]
     },
     "execution_count": 55,
     "metadata": {},
     "output_type": "execute_result"
    }
   ],
   "source": [
    "acc.get_balance()"
   ]
  },
  {
   "cell_type": "code",
   "execution_count": 56,
   "id": "812cc802",
   "metadata": {},
   "outputs": [],
   "source": [
    "#protected >> within the class and its subclass"
   ]
  },
  {
   "cell_type": "code",
   "execution_count": 57,
   "id": "eb77d05f",
   "metadata": {},
   "outputs": [],
   "source": [
    "class College:\n",
    "    def __init__(self):\n",
    "        self._college_name = \"pwskills\"\n",
    "class Student(College):\n",
    "    def __init__(self, name):\n",
    "        self.name = name\n",
    "        College.__init__(self)\n",
    "    def show(self):\n",
    "        print(\"name\", self.name, \"college\", self._college_name)"
   ]
  },
  {
   "cell_type": "code",
   "execution_count": 58,
   "id": "9c150ba4",
   "metadata": {},
   "outputs": [],
   "source": [
    "stud = Student(\"Ajay\")"
   ]
  },
  {
   "cell_type": "code",
   "execution_count": 59,
   "id": "cfcbbcd1",
   "metadata": {},
   "outputs": [
    {
     "name": "stdout",
     "output_type": "stream",
     "text": [
      "name Ajay college pwskills\n"
     ]
    }
   ],
   "source": [
    "stud.show()"
   ]
  },
  {
   "cell_type": "code",
   "execution_count": 63,
   "id": "e4bf1044",
   "metadata": {},
   "outputs": [
    {
     "data": {
      "text/plain": [
       "'pwskills'"
      ]
     },
     "execution_count": 63,
     "metadata": {},
     "output_type": "execute_result"
    }
   ],
   "source": [
    "\n",
    "coll = College()\n",
    "coll._college_name"
   ]
  },
  {
   "cell_type": "code",
   "execution_count": 64,
   "id": "240484f0",
   "metadata": {},
   "outputs": [],
   "source": [
    "#dunder methods, special methods or magic methods "
   ]
  },
  {
   "cell_type": "code",
   "execution_count": 65,
   "id": "251eb592",
   "metadata": {},
   "outputs": [
    {
     "data": {
      "text/plain": [
       "'pwskills'"
      ]
     },
     "execution_count": 65,
     "metadata": {},
     "output_type": "execute_result"
    }
   ],
   "source": [
    "\"pw\" + \"skills\""
   ]
  },
  {
   "cell_type": "code",
   "execution_count": 66,
   "id": "da03b1a5",
   "metadata": {},
   "outputs": [
    {
     "data": {
      "text/plain": [
       "'pwskills'"
      ]
     },
     "execution_count": 66,
     "metadata": {},
     "output_type": "execute_result"
    }
   ],
   "source": [
    "a = \"pw\"\n",
    "b = \"skills\"\n",
    "a+b"
   ]
  },
  {
   "cell_type": "code",
   "execution_count": 67,
   "id": "89b7c694",
   "metadata": {},
   "outputs": [
    {
     "data": {
      "text/plain": [
       "'pwskills'"
      ]
     },
     "execution_count": 67,
     "metadata": {},
     "output_type": "execute_result"
    }
   ],
   "source": [
    "a.__add__(b)"
   ]
  },
  {
   "cell_type": "code",
   "execution_count": 68,
   "id": "64400699",
   "metadata": {},
   "outputs": [
    {
     "data": {
      "text/plain": [
       "['__add__',\n",
       " '__class__',\n",
       " '__contains__',\n",
       " '__delattr__',\n",
       " '__dir__',\n",
       " '__doc__',\n",
       " '__eq__',\n",
       " '__format__',\n",
       " '__ge__',\n",
       " '__getattribute__',\n",
       " '__getitem__',\n",
       " '__getnewargs__',\n",
       " '__getstate__',\n",
       " '__gt__',\n",
       " '__hash__',\n",
       " '__init__',\n",
       " '__init_subclass__',\n",
       " '__iter__',\n",
       " '__le__',\n",
       " '__len__',\n",
       " '__lt__',\n",
       " '__mod__',\n",
       " '__mul__',\n",
       " '__ne__',\n",
       " '__new__',\n",
       " '__reduce__',\n",
       " '__reduce_ex__',\n",
       " '__repr__',\n",
       " '__rmod__',\n",
       " '__rmul__',\n",
       " '__setattr__',\n",
       " '__sizeof__',\n",
       " '__str__',\n",
       " '__subclasshook__',\n",
       " 'capitalize',\n",
       " 'casefold',\n",
       " 'center',\n",
       " 'count',\n",
       " 'encode',\n",
       " 'endswith',\n",
       " 'expandtabs',\n",
       " 'find',\n",
       " 'format',\n",
       " 'format_map',\n",
       " 'index',\n",
       " 'isalnum',\n",
       " 'isalpha',\n",
       " 'isascii',\n",
       " 'isdecimal',\n",
       " 'isdigit',\n",
       " 'isidentifier',\n",
       " 'islower',\n",
       " 'isnumeric',\n",
       " 'isprintable',\n",
       " 'isspace',\n",
       " 'istitle',\n",
       " 'isupper',\n",
       " 'join',\n",
       " 'ljust',\n",
       " 'lower',\n",
       " 'lstrip',\n",
       " 'maketrans',\n",
       " 'partition',\n",
       " 'removeprefix',\n",
       " 'removesuffix',\n",
       " 'replace',\n",
       " 'rfind',\n",
       " 'rindex',\n",
       " 'rjust',\n",
       " 'rpartition',\n",
       " 'rsplit',\n",
       " 'rstrip',\n",
       " 'split',\n",
       " 'splitlines',\n",
       " 'startswith',\n",
       " 'strip',\n",
       " 'swapcase',\n",
       " 'title',\n",
       " 'translate',\n",
       " 'upper',\n",
       " 'zfill']"
      ]
     },
     "execution_count": 68,
     "metadata": {},
     "output_type": "execute_result"
    }
   ],
   "source": [
    "dir(str)"
   ]
  },
  {
   "cell_type": "code",
   "execution_count": 69,
   "id": "f7d8dfa3",
   "metadata": {},
   "outputs": [
    {
     "data": {
      "text/plain": [
       "['__abs__',\n",
       " '__add__',\n",
       " '__and__',\n",
       " '__bool__',\n",
       " '__ceil__',\n",
       " '__class__',\n",
       " '__delattr__',\n",
       " '__dir__',\n",
       " '__divmod__',\n",
       " '__doc__',\n",
       " '__eq__',\n",
       " '__float__',\n",
       " '__floor__',\n",
       " '__floordiv__',\n",
       " '__format__',\n",
       " '__ge__',\n",
       " '__getattribute__',\n",
       " '__getnewargs__',\n",
       " '__getstate__',\n",
       " '__gt__',\n",
       " '__hash__',\n",
       " '__index__',\n",
       " '__init__',\n",
       " '__init_subclass__',\n",
       " '__int__',\n",
       " '__invert__',\n",
       " '__le__',\n",
       " '__lshift__',\n",
       " '__lt__',\n",
       " '__mod__',\n",
       " '__mul__',\n",
       " '__ne__',\n",
       " '__neg__',\n",
       " '__new__',\n",
       " '__or__',\n",
       " '__pos__',\n",
       " '__pow__',\n",
       " '__radd__',\n",
       " '__rand__',\n",
       " '__rdivmod__',\n",
       " '__reduce__',\n",
       " '__reduce_ex__',\n",
       " '__repr__',\n",
       " '__rfloordiv__',\n",
       " '__rlshift__',\n",
       " '__rmod__',\n",
       " '__rmul__',\n",
       " '__ror__',\n",
       " '__round__',\n",
       " '__rpow__',\n",
       " '__rrshift__',\n",
       " '__rshift__',\n",
       " '__rsub__',\n",
       " '__rtruediv__',\n",
       " '__rxor__',\n",
       " '__setattr__',\n",
       " '__sizeof__',\n",
       " '__str__',\n",
       " '__sub__',\n",
       " '__subclasshook__',\n",
       " '__truediv__',\n",
       " '__trunc__',\n",
       " '__xor__',\n",
       " 'as_integer_ratio',\n",
       " 'bit_count',\n",
       " 'bit_length',\n",
       " 'conjugate',\n",
       " 'denominator',\n",
       " 'from_bytes',\n",
       " 'imag',\n",
       " 'numerator',\n",
       " 'real',\n",
       " 'to_bytes']"
      ]
     },
     "execution_count": 69,
     "metadata": {},
     "output_type": "execute_result"
    }
   ],
   "source": [
    "dir(int)"
   ]
  },
  {
   "cell_type": "code",
   "execution_count": 70,
   "id": "45d47b9b",
   "metadata": {},
   "outputs": [],
   "source": [
    "class Student:\n",
    "    def __init__(self):\n",
    "        print(\"This will be executed first when you make the instance/object of the class\")"
   ]
  },
  {
   "cell_type": "code",
   "execution_count": 71,
   "id": "916b921e",
   "metadata": {},
   "outputs": [
    {
     "name": "stdout",
     "output_type": "stream",
     "text": [
      "This will be executed first when you make the instance/object of the class\n"
     ]
    },
    {
     "data": {
      "text/plain": [
       "<__main__.Student at 0x1b40ec1fd10>"
      ]
     },
     "execution_count": 71,
     "metadata": {},
     "output_type": "execute_result"
    }
   ],
   "source": [
    "Student()"
   ]
  },
  {
   "cell_type": "code",
   "execution_count": 72,
   "id": "3da053ea",
   "metadata": {},
   "outputs": [],
   "source": [
    "class Student:\n",
    "    def __new__(cls):\n",
    "        print(\"This will be executed even before init\")\n",
    "    def __init__(self):\n",
    "        print(\"This will be executed first when you make the instance/object of the class\")"
   ]
  },
  {
   "cell_type": "code",
   "execution_count": 73,
   "id": "e2908d84",
   "metadata": {},
   "outputs": [
    {
     "name": "stdout",
     "output_type": "stream",
     "text": [
      "This will be executed even before init\n"
     ]
    }
   ],
   "source": [
    "Student()"
   ]
  },
  {
   "cell_type": "code",
   "execution_count": 74,
   "id": "75fac847",
   "metadata": {},
   "outputs": [],
   "source": [
    "##__eq__, __repr__"
   ]
  },
  {
   "cell_type": "code",
   "execution_count": 75,
   "id": "9adebb11",
   "metadata": {},
   "outputs": [],
   "source": [
    "#decorators >> allows to modify the existing behaviour of class"
   ]
  },
  {
   "cell_type": "code",
   "execution_count": 76,
   "id": "58ebad4d",
   "metadata": {},
   "outputs": [],
   "source": [
    "def my_func():\n",
    "    print(\"before calculation\")\n",
    "    print(1+11)\n",
    "    print(\"after calculation\")"
   ]
  },
  {
   "cell_type": "code",
   "execution_count": 77,
   "id": "7fa6d305",
   "metadata": {},
   "outputs": [
    {
     "name": "stdout",
     "output_type": "stream",
     "text": [
      "before calculation\n",
      "12\n",
      "after calculation\n"
     ]
    }
   ],
   "source": [
    "my_func()"
   ]
  },
  {
   "cell_type": "code",
   "execution_count": 78,
   "id": "8fc2767f",
   "metadata": {},
   "outputs": [],
   "source": [
    "def my_decorator(func):\n",
    "    def wrapper():\n",
    "        print(\"The line before func\")\n",
    "        func()\n",
    "        print(\"The line after func\")\n",
    "    return wrapper"
   ]
  },
  {
   "cell_type": "code",
   "execution_count": 79,
   "id": "06086e9d",
   "metadata": {},
   "outputs": [],
   "source": [
    "@my_decorator\n",
    "def say_hello():\n",
    "    print(\"hello\")"
   ]
  },
  {
   "cell_type": "code",
   "execution_count": 80,
   "id": "033700c7",
   "metadata": {},
   "outputs": [
    {
     "name": "stdout",
     "output_type": "stream",
     "text": [
      "The line before func\n",
      "hello\n",
      "The line after func\n"
     ]
    }
   ],
   "source": [
    "say_hello()"
   ]
  },
  {
   "cell_type": "code",
   "execution_count": 87,
   "id": "98306822",
   "metadata": {},
   "outputs": [],
   "source": [
    "import time\n",
    "def time_decorator(func):\n",
    "    def timer():\n",
    "        start = time.time()\n",
    "        func()\n",
    "        end = time.time()\n",
    "        print(end-start)\n",
    "    return timer"
   ]
  },
  {
   "cell_type": "code",
   "execution_count": 88,
   "id": "e880afe9",
   "metadata": {},
   "outputs": [],
   "source": [
    "@time_decorator\n",
    "def func_test():\n",
    "    print(1000*10000000000000)"
   ]
  },
  {
   "cell_type": "code",
   "execution_count": 89,
   "id": "5595444d",
   "metadata": {},
   "outputs": [
    {
     "name": "stdout",
     "output_type": "stream",
     "text": [
      "10000000000000000\n",
      "0.0\n"
     ]
    }
   ],
   "source": [
    "func_test()"
   ]
  },
  {
   "cell_type": "code",
   "execution_count": 90,
   "id": "008b3bea",
   "metadata": {},
   "outputs": [],
   "source": [
    "class MyDecorator:\n",
    "    def __init__(self, func):\n",
    "        self.func = func\n",
    "    def __call__(self):\n",
    "        print(\"something before func\")\n",
    "        self.func()\n",
    "        print(\"something after func\")"
   ]
  },
  {
   "cell_type": "code",
   "execution_count": 92,
   "id": "ed5cc9f3",
   "metadata": {},
   "outputs": [],
   "source": [
    "@MyDecorator\n",
    "def say_hello():\n",
    "    print(\"hello\")"
   ]
  },
  {
   "cell_type": "code",
   "execution_count": 93,
   "id": "8b835890",
   "metadata": {},
   "outputs": [
    {
     "name": "stdout",
     "output_type": "stream",
     "text": [
      "something before func\n",
      "hello\n",
      "something after func\n"
     ]
    }
   ],
   "source": [
    "say_hello()"
   ]
  },
  {
   "cell_type": "code",
   "execution_count": 94,
   "id": "559e17ff",
   "metadata": {},
   "outputs": [],
   "source": [
    "#Builtin decorators >> class method, statics"
   ]
  },
  {
   "cell_type": "code",
   "execution_count": null,
   "id": "72653e09",
   "metadata": {},
   "outputs": [],
   "source": [
    "#class method is bound to the class and not the instance/object\n",
    "#can access or modify class level variable and properties\n",
    "#@classmethod\n",
    "#cls"
   ]
  },
  {
   "cell_type": "code",
   "execution_count": 95,
   "id": "c934d0ea",
   "metadata": {},
   "outputs": [],
   "source": [
    "class Math:\n",
    "    @classmethod\n",
    "    def add(cls, x, y): #takes reference to the class itself to modify the class attributes\n",
    "        return x+y"
   ]
  },
  {
   "cell_type": "code",
   "execution_count": 96,
   "id": "3b32c566",
   "metadata": {},
   "outputs": [
    {
     "data": {
      "text/plain": [
       "5"
      ]
     },
     "execution_count": 96,
     "metadata": {},
     "output_type": "execute_result"
    }
   ],
   "source": [
    "Math.add(2, 3)"
   ]
  },
  {
   "cell_type": "code",
   "execution_count": 102,
   "id": "df04853c",
   "metadata": {},
   "outputs": [
    {
     "data": {
      "text/plain": [
       "11"
      ]
     },
     "execution_count": 102,
     "metadata": {},
     "output_type": "execute_result"
    }
   ],
   "source": [
    "Math.add(5, 6)"
   ]
  },
  {
   "cell_type": "code",
   "execution_count": 97,
   "id": "2c3b6a56",
   "metadata": {},
   "outputs": [],
   "source": [
    "class Student:\n",
    "    total_student = 0\n",
    "    def __init__(self, name):\n",
    "        self.name = name\n",
    "        Student.total_student =  Student.total_student + 1\n",
    "        \n",
    "    @classmethod #bound to class\n",
    "    def get_total_students(cls):\n",
    "        return cls.total_student\n"
   ]
  },
  {
   "cell_type": "code",
   "execution_count": 98,
   "id": "dd7aa261",
   "metadata": {},
   "outputs": [
    {
     "data": {
      "text/plain": [
       "<bound method Student.get_total_students of <class '__main__.Student'>>"
      ]
     },
     "execution_count": 98,
     "metadata": {},
     "output_type": "execute_result"
    }
   ],
   "source": [
    "Student.get_total_students"
   ]
  },
  {
   "cell_type": "code",
   "execution_count": 99,
   "id": "018bee00",
   "metadata": {},
   "outputs": [],
   "source": [
    "std1  =Student(\"Ajay\")"
   ]
  },
  {
   "cell_type": "code",
   "execution_count": 100,
   "id": "32168675",
   "metadata": {},
   "outputs": [],
   "source": [
    "std2 = Student(\"Bijay\")"
   ]
  },
  {
   "cell_type": "code",
   "execution_count": 101,
   "id": "571489db",
   "metadata": {},
   "outputs": [
    {
     "data": {
      "text/plain": [
       "2"
      ]
     },
     "execution_count": 101,
     "metadata": {},
     "output_type": "execute_result"
    }
   ],
   "source": [
    "Student.get_total_students()"
   ]
  },
  {
   "cell_type": "code",
   "execution_count": 106,
   "id": "a57435de",
   "metadata": {},
   "outputs": [],
   "source": [
    "def course_details(cls, course_name):\n",
    "    print(\"The details of the course\", course_name)"
   ]
  },
  {
   "cell_type": "code",
   "execution_count": 107,
   "id": "0eaa36ae",
   "metadata": {},
   "outputs": [],
   "source": [
    "Student.course_details = classmethod(course_details)"
   ]
  },
  {
   "cell_type": "code",
   "execution_count": 108,
   "id": "4f6eb90c",
   "metadata": {},
   "outputs": [
    {
     "name": "stdout",
     "output_type": "stream",
     "text": [
      "The details of the course DS\n"
     ]
    }
   ],
   "source": [
    "Student.course_details(\"DS\")"
   ]
  },
  {
   "cell_type": "code",
   "execution_count": 109,
   "id": "00b11f9e",
   "metadata": {},
   "outputs": [],
   "source": [
    "del Student.course_details"
   ]
  },
  {
   "cell_type": "code",
   "execution_count": 110,
   "id": "04f40d55",
   "metadata": {},
   "outputs": [
    {
     "data": {
      "text/plain": [
       "2"
      ]
     },
     "execution_count": 110,
     "metadata": {},
     "output_type": "execute_result"
    }
   ],
   "source": [
    "Student.get_total_students()"
   ]
  },
  {
   "cell_type": "code",
   "execution_count": 111,
   "id": "68146b8c",
   "metadata": {},
   "outputs": [],
   "source": [
    "delattr(Student, \"get_total_students\")"
   ]
  },
  {
   "cell_type": "code",
   "execution_count": 112,
   "id": "f2f25552",
   "metadata": {},
   "outputs": [
    {
     "ename": "AttributeError",
     "evalue": "type object 'Student' has no attribute 'get_total_students'",
     "output_type": "error",
     "traceback": [
      "\u001b[1;31m---------------------------------------------------------------------------\u001b[0m",
      "\u001b[1;31mAttributeError\u001b[0m                            Traceback (most recent call last)",
      "Cell \u001b[1;32mIn[112], line 1\u001b[0m\n\u001b[1;32m----> 1\u001b[0m Student\u001b[38;5;241m.\u001b[39mget_total_students()\n",
      "\u001b[1;31mAttributeError\u001b[0m: type object 'Student' has no attribute 'get_total_students'"
     ]
    }
   ],
   "source": [
    "Student.get_total_students()"
   ]
  },
  {
   "cell_type": "code",
   "execution_count": 113,
   "id": "e47ba3c1",
   "metadata": {},
   "outputs": [],
   "source": [
    "#static method >> doent take self, cls as argement>> behaves like a regurlar function"
   ]
  },
  {
   "cell_type": "code",
   "execution_count": 114,
   "id": "6a8c8e82",
   "metadata": {},
   "outputs": [],
   "source": [
    "class Calculator:\n",
    "    @staticmethod\n",
    "    def add(x, y):\n",
    "        return x+y"
   ]
  },
  {
   "cell_type": "code",
   "execution_count": 115,
   "id": "82e7e4f3",
   "metadata": {},
   "outputs": [
    {
     "data": {
      "text/plain": [
       "13"
      ]
     },
     "execution_count": 115,
     "metadata": {},
     "output_type": "execute_result"
    }
   ],
   "source": [
    "Calculator.add(6, 7)"
   ]
  },
  {
   "cell_type": "code",
   "execution_count": null,
   "id": "24f51c91",
   "metadata": {},
   "outputs": [],
   "source": []
  }
 ],
 "metadata": {
  "kernelspec": {
   "display_name": "Python 3 (ipykernel)",
   "language": "python",
   "name": "python3"
  },
  "language_info": {
   "codemirror_mode": {
    "name": "ipython",
    "version": 3
   },
   "file_extension": ".py",
   "mimetype": "text/x-python",
   "name": "python",
   "nbconvert_exporter": "python",
   "pygments_lexer": "ipython3",
   "version": "3.11.4"
  }
 },
 "nbformat": 4,
 "nbformat_minor": 5
}
