{
 "cells": [
  {
   "cell_type": "code",
   "execution_count": 1,
   "id": "f0b3d1cf-1557-45db-a47b-78124a521f2d",
   "metadata": {},
   "outputs": [],
   "source": [
    "#r >>read mode\n",
    "#w >> write\n",
    "#a >> append\n",
    "#r+ >> both read and write\n"
   ]
  },
  {
   "cell_type": "code",
   "execution_count": 4,
   "id": "65ec7697-7581-4fc4-a122-080dd788e562",
   "metadata": {},
   "outputs": [],
   "source": [
    "file = open(\"file.txt\", 'w')"
   ]
  },
  {
   "cell_type": "code",
   "execution_count": 5,
   "id": "4b599f2f-a0c7-48f5-afa3-149552caf226",
   "metadata": {},
   "outputs": [
    {
     "data": {
      "text/plain": [
       "31"
      ]
     },
     "execution_count": 5,
     "metadata": {},
     "output_type": "execute_result"
    }
   ],
   "source": [
    "file.write(\"Hey, wass up!! I am missing you\")"
   ]
  },
  {
   "cell_type": "code",
   "execution_count": 6,
   "id": "c11b042c-78df-4cd2-b5ad-4ebb87fcf8fa",
   "metadata": {},
   "outputs": [],
   "source": [
    "file.close()"
   ]
  },
  {
   "cell_type": "code",
   "execution_count": 7,
   "id": "458b5d43-118e-4207-81ac-a1e0572f80e5",
   "metadata": {},
   "outputs": [],
   "source": [
    "#file attributes"
   ]
  },
  {
   "cell_type": "code",
   "execution_count": 8,
   "id": "bce61ad9-8a5c-4d7c-8aac-c7c651d9aee1",
   "metadata": {},
   "outputs": [
    {
     "data": {
      "text/plain": [
       "<_io.TextIOWrapper name='file.txt' mode='w' encoding='UTF-8'>"
      ]
     },
     "execution_count": 8,
     "metadata": {},
     "output_type": "execute_result"
    }
   ],
   "source": [
    "file"
   ]
  },
  {
   "cell_type": "code",
   "execution_count": 10,
   "id": "bcabf1a2-f848-49b3-a8a2-9b838ed12c77",
   "metadata": {},
   "outputs": [
    {
     "data": {
      "text/plain": [
       "True"
      ]
     },
     "execution_count": 10,
     "metadata": {},
     "output_type": "execute_result"
    }
   ],
   "source": [
    "file.closed"
   ]
  },
  {
   "cell_type": "code",
   "execution_count": 11,
   "id": "dc9ea612-4a97-4a23-b2fc-cb28ff750d4c",
   "metadata": {},
   "outputs": [
    {
     "data": {
      "text/plain": [
       "'file.txt'"
      ]
     },
     "execution_count": 11,
     "metadata": {},
     "output_type": "execute_result"
    }
   ],
   "source": [
    "file.name"
   ]
  },
  {
   "cell_type": "code",
   "execution_count": 12,
   "id": "16e1019e-c07e-4a45-ab96-99b52d02d964",
   "metadata": {},
   "outputs": [
    {
     "data": {
      "text/plain": [
       "'w'"
      ]
     },
     "execution_count": 12,
     "metadata": {},
     "output_type": "execute_result"
    }
   ],
   "source": [
    "file.mode"
   ]
  },
  {
   "cell_type": "code",
   "execution_count": 13,
   "id": "016a81d5-a8ef-475b-9cfa-e133b3768f0d",
   "metadata": {},
   "outputs": [
    {
     "ename": "ValueError",
     "evalue": "I/O operation on closed file.",
     "output_type": "error",
     "traceback": [
      "\u001b[0;31m---------------------------------------------------------------------------\u001b[0m",
      "\u001b[0;31mValueError\u001b[0m                                Traceback (most recent call last)",
      "Cell \u001b[0;32mIn[13], line 1\u001b[0m\n\u001b[0;32m----> 1\u001b[0m \u001b[43mfile\u001b[49m\u001b[38;5;241;43m.\u001b[39;49m\u001b[43mwrite\u001b[49m\u001b[43m(\u001b[49m\u001b[38;5;124;43m\"\u001b[39;49m\u001b[38;5;124;43mSince morning\u001b[39;49m\u001b[38;5;124;43m\"\u001b[39;49m\u001b[43m)\u001b[49m\n",
      "\u001b[0;31mValueError\u001b[0m: I/O operation on closed file."
     ]
    }
   ],
   "source": [
    "file.write(\"Since morning\")"
   ]
  },
  {
   "cell_type": "code",
   "execution_count": 15,
   "id": "79aed80e-508a-425b-be70-8270945451e5",
   "metadata": {},
   "outputs": [],
   "source": [
    "file = open(\"file.txt\", 'w')\n",
    "file.write(\"Hi \\n\")\n",
    "file.write(\"How are you \\n\")\n",
    "file.write(\"I am missing you\")\n",
    "file.close()"
   ]
  },
  {
   "cell_type": "code",
   "execution_count": 16,
   "id": "1c14da88-f844-4427-ae16-84e6b61c41fa",
   "metadata": {},
   "outputs": [],
   "source": [
    "file = open(\"file.txt\", 'a')\n",
    "file.close()"
   ]
  },
  {
   "cell_type": "code",
   "execution_count": 17,
   "id": "5e3fd244-4c4f-4eed-8d0e-b4f274a86d0b",
   "metadata": {},
   "outputs": [],
   "source": [
    "file = open(\"file.txt\", 'r')"
   ]
  },
  {
   "cell_type": "code",
   "execution_count": 18,
   "id": "cc788b2e-f1e7-4b58-a680-fc344a36251d",
   "metadata": {},
   "outputs": [
    {
     "data": {
      "text/plain": [
       "<_io.TextIOWrapper name='file.txt' mode='r' encoding='UTF-8'>"
      ]
     },
     "execution_count": 18,
     "metadata": {},
     "output_type": "execute_result"
    }
   ],
   "source": [
    "file"
   ]
  },
  {
   "cell_type": "code",
   "execution_count": 19,
   "id": "7e458f65-8a78-4b0b-99c3-4d757cd5bc22",
   "metadata": {},
   "outputs": [
    {
     "name": "stdout",
     "output_type": "stream",
     "text": [
      "Hi \n",
      "\n",
      "How are you \n",
      "\n",
      "I am missing you\n"
     ]
    }
   ],
   "source": [
    "for i in file:\n",
    "    print(i)"
   ]
  },
  {
   "cell_type": "code",
   "execution_count": 21,
   "id": "713e4ce5-ef71-43e2-a80b-8bbd36161470",
   "metadata": {},
   "outputs": [
    {
     "name": "stdout",
     "output_type": "stream",
     "text": [
      "\n"
     ]
    }
   ],
   "source": [
    "print(file.read())"
   ]
  },
  {
   "cell_type": "code",
   "execution_count": 22,
   "id": "2371a5cd-d84a-43f0-beda-c5812e9b28ca",
   "metadata": {},
   "outputs": [
    {
     "data": {
      "text/plain": [
       "''"
      ]
     },
     "execution_count": 22,
     "metadata": {},
     "output_type": "execute_result"
    }
   ],
   "source": [
    "file.read() #cursor/pointer is at the last position"
   ]
  },
  {
   "cell_type": "code",
   "execution_count": 23,
   "id": "9ce28d9c-0535-46f0-93c7-20b42275edca",
   "metadata": {},
   "outputs": [
    {
     "data": {
      "text/plain": [
       "33"
      ]
     },
     "execution_count": 23,
     "metadata": {},
     "output_type": "execute_result"
    }
   ],
   "source": [
    "file.tell()"
   ]
  },
  {
   "cell_type": "code",
   "execution_count": 24,
   "id": "affa71de-f627-45b9-aff3-e51010675b86",
   "metadata": {},
   "outputs": [
    {
     "data": {
      "text/plain": [
       "''"
      ]
     },
     "execution_count": 24,
     "metadata": {},
     "output_type": "execute_result"
    }
   ],
   "source": [
    "file.read()"
   ]
  },
  {
   "cell_type": "code",
   "execution_count": 33,
   "id": "309c3310-03f9-4719-8710-2d3870355d09",
   "metadata": {},
   "outputs": [
    {
     "data": {
      "text/plain": [
       "0"
      ]
     },
     "execution_count": 33,
     "metadata": {},
     "output_type": "execute_result"
    }
   ],
   "source": [
    "file.seek(0)"
   ]
  },
  {
   "cell_type": "code",
   "execution_count": 34,
   "id": "a6ae7e0f-514e-4091-ad28-da1a736f2026",
   "metadata": {},
   "outputs": [
    {
     "data": {
      "text/plain": [
       "'Hi \\nHow are you \\nI am missing you'"
      ]
     },
     "execution_count": 34,
     "metadata": {},
     "output_type": "execute_result"
    }
   ],
   "source": [
    "file.read()"
   ]
  },
  {
   "cell_type": "code",
   "execution_count": 35,
   "id": "5c439b84-b7ec-4c60-a28b-2390a784181c",
   "metadata": {},
   "outputs": [
    {
     "name": "stdout",
     "output_type": "stream",
     "text": [
      "Hi \n",
      "How are you \n",
      "I am missing you\n"
     ]
    }
   ],
   "source": [
    "file = open('file.txt', 'r')\n",
    "file.seek(0)\n",
    "print(file.read())\n",
    "file.close()"
   ]
  },
  {
   "cell_type": "code",
   "execution_count": 36,
   "id": "a9ca2c14-20a4-405a-bdb6-2670df34e1f5",
   "metadata": {},
   "outputs": [
    {
     "name": "stdout",
     "output_type": "stream",
     "text": [
      "['Hi \\n', 'How are you \\n', 'I am missing you']\n"
     ]
    }
   ],
   "source": [
    "file = open('file.txt', 'r')\n",
    "print(file.readlines())\n",
    "file.close()"
   ]
  },
  {
   "cell_type": "code",
   "execution_count": 37,
   "id": "ee784884-099f-439b-b74a-19771aad971e",
   "metadata": {},
   "outputs": [],
   "source": [
    "import os"
   ]
  },
  {
   "cell_type": "code",
   "execution_count": 38,
   "id": "050fe5b1-1253-44bb-b2f0-39cd012c4fc4",
   "metadata": {},
   "outputs": [
    {
     "data": {
      "text/plain": [
       "'/home/jovyan/work'"
      ]
     },
     "execution_count": 38,
     "metadata": {},
     "output_type": "execute_result"
    }
   ],
   "source": [
    "pwd"
   ]
  },
  {
   "cell_type": "code",
   "execution_count": 39,
   "id": "4dd477ba-1ca5-4f67-99ac-46458b8521f2",
   "metadata": {},
   "outputs": [
    {
     "data": {
      "text/plain": [
       "'/home/jovyan/work'"
      ]
     },
     "execution_count": 39,
     "metadata": {},
     "output_type": "execute_result"
    }
   ],
   "source": [
    "os.getcwd()"
   ]
  },
  {
   "cell_type": "code",
   "execution_count": 41,
   "id": "2481b215-742a-4f44-a937-3d6897f98930",
   "metadata": {},
   "outputs": [
    {
     "name": "stdout",
     "output_type": "stream",
     "text": [
      "'file handling, and file reading and writing.ipynb'   README.md\n",
      " file.txt                                             sample-code.ipynb\n"
     ]
    }
   ],
   "source": [
    "ls"
   ]
  },
  {
   "cell_type": "code",
   "execution_count": 42,
   "id": "ad5ef6e5-de2d-41e7-b783-f74c8127b059",
   "metadata": {},
   "outputs": [
    {
     "name": "stdout",
     "output_type": "stream",
     "text": [
      "total 24\n",
      "-rw-r--r-- 1 jovyan 9297 Apr 20 11:48 'file handling, and file reading and writing.ipynb'\n",
      "-rw-r--r-- 1 jovyan   33 Apr 20 11:40  file.txt\n",
      "-rw-r--r-- 1 jovyan  198 Apr 20 11:28  README.md\n",
      "-rw-r--r-- 1 jovyan 3151 Apr 20 11:28  sample-code.ipynb\n"
     ]
    }
   ],
   "source": [
    "ll"
   ]
  },
  {
   "cell_type": "code",
   "execution_count": 43,
   "id": "733438c3-21e8-416e-8a7d-15546693252d",
   "metadata": {},
   "outputs": [
    {
     "data": {
      "text/plain": [
       "33"
      ]
     },
     "execution_count": 43,
     "metadata": {},
     "output_type": "execute_result"
    }
   ],
   "source": [
    "os.path.getsize(\"file.txt\")"
   ]
  },
  {
   "cell_type": "code",
   "execution_count": 45,
   "id": "eb0025b3-04c3-4f2f-8392-e882e9644686",
   "metadata": {},
   "outputs": [],
   "source": [
    "os.mkdir(\"test\")"
   ]
  },
  {
   "cell_type": "code",
   "execution_count": 46,
   "id": "52ff968a-2a1b-45ef-b1b8-b445eed6a80e",
   "metadata": {},
   "outputs": [],
   "source": [
    "os.mkdir(\"test/test1\")"
   ]
  },
  {
   "cell_type": "code",
   "execution_count": 48,
   "id": "79629240-f51c-4aa8-8954-46caf7b25cf5",
   "metadata": {},
   "outputs": [],
   "source": [
    "os.makedirs(\"1/2/3/4/5\")"
   ]
  },
  {
   "cell_type": "code",
   "execution_count": 49,
   "id": "422da897-a2b4-40bd-9232-ba0e10cd08a8",
   "metadata": {},
   "outputs": [
    {
     "data": {
      "text/plain": [
       "['test',\n",
       " 'file.txt',\n",
       " '.ipynb_checkpoints',\n",
       " '1',\n",
       " 'sample-code.ipynb',\n",
       " 'file handling, and file reading and writing.ipynb',\n",
       " '.git',\n",
       " 'README.md']"
      ]
     },
     "execution_count": 49,
     "metadata": {},
     "output_type": "execute_result"
    }
   ],
   "source": [
    "os.listdir()"
   ]
  },
  {
   "cell_type": "code",
   "execution_count": 50,
   "id": "92016d56-f45c-4261-8fca-130a24d61e44",
   "metadata": {},
   "outputs": [],
   "source": [
    "os.mkdir(\"feat\")"
   ]
  },
  {
   "cell_type": "code",
   "execution_count": 51,
   "id": "00d9e5b3-b40c-4b65-8248-e3eeceac35f3",
   "metadata": {},
   "outputs": [],
   "source": [
    "os.rmdir(\"feat\")"
   ]
  },
  {
   "cell_type": "code",
   "execution_count": 52,
   "id": "3db086c9-43f5-4320-9627-0a184819c451",
   "metadata": {},
   "outputs": [
    {
     "ename": "OSError",
     "evalue": "[Errno 39] Directory not empty: '1'",
     "output_type": "error",
     "traceback": [
      "\u001b[0;31m---------------------------------------------------------------------------\u001b[0m",
      "\u001b[0;31mOSError\u001b[0m                                   Traceback (most recent call last)",
      "Cell \u001b[0;32mIn[52], line 1\u001b[0m\n\u001b[0;32m----> 1\u001b[0m \u001b[43mos\u001b[49m\u001b[38;5;241;43m.\u001b[39;49m\u001b[43mrmdir\u001b[49m\u001b[43m(\u001b[49m\u001b[38;5;124;43m\"\u001b[39;49m\u001b[38;5;124;43m1\u001b[39;49m\u001b[38;5;124;43m\"\u001b[39;49m\u001b[43m)\u001b[49m\n",
      "\u001b[0;31mOSError\u001b[0m: [Errno 39] Directory not empty: '1'"
     ]
    }
   ],
   "source": [
    "os.rmdir(\"1\")"
   ]
  },
  {
   "cell_type": "code",
   "execution_count": 53,
   "id": "1e2bd2b7-42f7-46d0-8055-b3a18c3195f6",
   "metadata": {},
   "outputs": [],
   "source": [
    "import shutil\n",
    "shutil.rmtree(\"1\")"
   ]
  },
  {
   "cell_type": "code",
   "execution_count": 54,
   "id": "f2822164-7dd5-42cf-bc62-62ac2797328a",
   "metadata": {},
   "outputs": [
    {
     "data": {
      "text/plain": [
       "'/home/jovyan/work'"
      ]
     },
     "execution_count": 54,
     "metadata": {},
     "output_type": "execute_result"
    }
   ],
   "source": [
    "pwd"
   ]
  },
  {
   "cell_type": "code",
   "execution_count": 55,
   "id": "5b03eaf9-e23b-427c-8c95-68b30c6d6f54",
   "metadata": {},
   "outputs": [],
   "source": [
    "f = open(\"/home/jovyan/work/test/test1/file_test.txt\", \"w\")"
   ]
  },
  {
   "cell_type": "code",
   "execution_count": 56,
   "id": "6fb7674e-e7cf-4646-b626-0e942102d010",
   "metadata": {},
   "outputs": [
    {
     "data": {
      "text/plain": [
       "'/home/jovyan/work/file_test.txt'"
      ]
     },
     "execution_count": 56,
     "metadata": {},
     "output_type": "execute_result"
    }
   ],
   "source": [
    "shutil.copy(\"/home/jovyan/work/test/test1/file_test.txt\", \"/home/jovyan/work\")"
   ]
  },
  {
   "cell_type": "code",
   "execution_count": 57,
   "id": "60592a79-60b0-4681-8c9b-bac8e8e0d569",
   "metadata": {},
   "outputs": [
    {
     "data": {
      "text/plain": [
       "'/home/jovyan/work/test_move/file_test.txt'"
      ]
     },
     "execution_count": 57,
     "metadata": {},
     "output_type": "execute_result"
    }
   ],
   "source": [
    "shutil.move(\"/home/jovyan/work/test/test1/file_test.txt\", \"/home/jovyan/work/test_move\")"
   ]
  },
  {
   "cell_type": "code",
   "execution_count": 58,
   "id": "17d40cab-9c97-40b1-832e-d6eeacec999d",
   "metadata": {},
   "outputs": [],
   "source": [
    "os.remove(\"file.txt\")"
   ]
  },
  {
   "cell_type": "code",
   "execution_count": 60,
   "id": "1e1df0b1-fe27-47a9-b1df-863fc1c6c847",
   "metadata": {},
   "outputs": [
    {
     "name": "stdout",
     "output_type": "stream",
     "text": [
      "I am Ajay\n"
     ]
    }
   ],
   "source": [
    "with open(\"file_test.txt\", 'r') as f:\n",
    "    line = f.readline()\n",
    "    print(line)"
   ]
  },
  {
   "cell_type": "code",
   "execution_count": 61,
   "id": "b9af17bd-423d-4310-a09a-63912fd3a32e",
   "metadata": {},
   "outputs": [],
   "source": [
    "#file reading and writing"
   ]
  },
  {
   "cell_type": "code",
   "execution_count": 62,
   "id": "f6e05663-2f5b-4c91-8925-4892b319db4b",
   "metadata": {},
   "outputs": [],
   "source": [
    "text_content = \"\"\"\"\n",
    "This is pwskills class\n",
    "I am a mentor\n",
    "\n",
    "\"\"\""
   ]
  },
  {
   "cell_type": "code",
   "execution_count": 63,
   "id": "52c51351-c24a-4977-b437-47658ac0a0d0",
   "metadata": {},
   "outputs": [],
   "source": [
    "with open(\"example.txt\", \"w\") as file:\n",
    "    file.write(text_content)"
   ]
  },
  {
   "cell_type": "code",
   "execution_count": 64,
   "id": "d46a9579-f04d-489d-a091-1066fcecc8f6",
   "metadata": {},
   "outputs": [],
   "source": [
    "with open(\"example.txt\", \"r\") as file:\n",
    "    data = file.read()"
   ]
  },
  {
   "cell_type": "code",
   "execution_count": 65,
   "id": "920501c1-a6ca-4465-a233-6dbe635a056f",
   "metadata": {},
   "outputs": [
    {
     "name": "stdout",
     "output_type": "stream",
     "text": [
      "\"\n",
      "This is pwskills class\n",
      "I am a mentor\n",
      "\n",
      "\n"
     ]
    }
   ],
   "source": [
    "print(data)"
   ]
  },
  {
   "cell_type": "code",
   "execution_count": 67,
   "id": "e13fe871-e45d-456a-842d-030ad63fda53",
   "metadata": {},
   "outputs": [],
   "source": [
    "#csv>> comma separated files\n",
    "\n",
    "data = [[\"Name\", \"course\", \"Fee\"],\n",
    "       [\"Ajay\", \"DS\", \"15000\"]]"
   ]
  },
  {
   "cell_type": "code",
   "execution_count": 68,
   "id": "245e0fd8-c562-4b53-9d2a-614a93940c62",
   "metadata": {},
   "outputs": [
    {
     "data": {
      "text/plain": [
       "[['Name', 'course', 'Fee'], ['Ajay', 'DS', '15000']]"
      ]
     },
     "execution_count": 68,
     "metadata": {},
     "output_type": "execute_result"
    }
   ],
   "source": [
    "data"
   ]
  },
  {
   "cell_type": "code",
   "execution_count": 69,
   "id": "c7e915e7-44f8-4284-9c95-e662c495d1e4",
   "metadata": {},
   "outputs": [
    {
     "name": "stdout",
     "output_type": "stream",
     "text": [
      "['Name', 'course', 'Fee']\n",
      "['Ajay', 'DS', '15000']\n"
     ]
    }
   ],
   "source": [
    "for i in data:\n",
    "    print(i)"
   ]
  },
  {
   "cell_type": "code",
   "execution_count": 71,
   "id": "077254ed-1600-4fde-8ab8-f4150afbb29a",
   "metadata": {},
   "outputs": [],
   "source": [
    "import csv\n",
    "\n",
    "with open(\"example_csv.csv\", 'w') as f:\n",
    "    w = csv.writer(f)\n",
    "    for i in data:\n",
    "        w.writerow(i)"
   ]
  },
  {
   "cell_type": "code",
   "execution_count": 72,
   "id": "c157003f-33ee-4338-9d4b-7c5bdc6e3bdf",
   "metadata": {},
   "outputs": [
    {
     "name": "stdout",
     "output_type": "stream",
     "text": [
      "['Name', 'course', 'Fee']\n",
      "['Ajay', 'DS', '15000']\n"
     ]
    }
   ],
   "source": [
    "with open(\"example_csv.csv\", 'r') as f:\n",
    "    r = csv.reader(f)\n",
    "    for i in r:\n",
    "        print(i)"
   ]
  },
  {
   "cell_type": "code",
   "execution_count": 74,
   "id": "a2fcbde0-daff-43c7-bf1f-49a6d431f86b",
   "metadata": {},
   "outputs": [
    {
     "data": {
      "text/html": [
       "<div>\n",
       "<style scoped>\n",
       "    .dataframe tbody tr th:only-of-type {\n",
       "        vertical-align: middle;\n",
       "    }\n",
       "\n",
       "    .dataframe tbody tr th {\n",
       "        vertical-align: top;\n",
       "    }\n",
       "\n",
       "    .dataframe thead th {\n",
       "        text-align: right;\n",
       "    }\n",
       "</style>\n",
       "<table border=\"1\" class=\"dataframe\">\n",
       "  <thead>\n",
       "    <tr style=\"text-align: right;\">\n",
       "      <th></th>\n",
       "      <th>Name</th>\n",
       "      <th>course</th>\n",
       "      <th>Fee</th>\n",
       "    </tr>\n",
       "  </thead>\n",
       "  <tbody>\n",
       "    <tr>\n",
       "      <th>0</th>\n",
       "      <td>Ajay</td>\n",
       "      <td>DS</td>\n",
       "      <td>15000</td>\n",
       "    </tr>\n",
       "  </tbody>\n",
       "</table>\n",
       "</div>"
      ],
      "text/plain": [
       "   Name course    Fee\n",
       "0  Ajay     DS  15000"
      ]
     },
     "execution_count": 74,
     "metadata": {},
     "output_type": "execute_result"
    }
   ],
   "source": [
    "import pandas as pd\n",
    "pd.read_csv(\"example_csv.csv\")"
   ]
  },
  {
   "cell_type": "code",
   "execution_count": 75,
   "id": "4e0d219f-6142-4b72-bca6-50c69445b22d",
   "metadata": {},
   "outputs": [],
   "source": [
    "#json file >> javascript object notation\n",
    "data = {\"name\":\"Ajay\",\n",
    "       \"course\": \"DA\",\n",
    "       \"Fee\": 4000}"
   ]
  },
  {
   "cell_type": "code",
   "execution_count": 76,
   "id": "f6e08820-fde1-4b94-a404-9254c1101b01",
   "metadata": {},
   "outputs": [
    {
     "data": {
      "text/plain": [
       "dict"
      ]
     },
     "execution_count": 76,
     "metadata": {},
     "output_type": "execute_result"
    }
   ],
   "source": [
    "type(data)"
   ]
  },
  {
   "cell_type": "code",
   "execution_count": 81,
   "id": "6f50b71b-7bda-4b18-94fb-a386ed04ab9a",
   "metadata": {},
   "outputs": [],
   "source": [
    "import json\n",
    "with open(\"file.json\", \"w\") as f:\n",
    "    json.dump(data, f)"
   ]
  },
  {
   "cell_type": "code",
   "execution_count": 82,
   "id": "db9440b3-4a78-491d-b3a3-5a6c20b2f6a7",
   "metadata": {},
   "outputs": [
    {
     "name": "stdout",
     "output_type": "stream",
     "text": [
      "{'name': 'Ajay', 'course': 'DA', 'Fee': 4000}\n"
     ]
    }
   ],
   "source": [
    "with open(\"file.json\", \"r\") as f:\n",
    "    data = json.load(f)\n",
    "print(data)"
   ]
  },
  {
   "cell_type": "code",
   "execution_count": null,
   "id": "611813a1-039c-4d49-a58d-5aef78388005",
   "metadata": {},
   "outputs": [],
   "source": []
  }
 ],
 "metadata": {
  "kernelspec": {
   "display_name": "Python 3 (ipykernel)",
   "language": "python",
   "name": "python3"
  },
  "language_info": {
   "codemirror_mode": {
    "name": "ipython",
    "version": 3
   },
   "file_extension": ".py",
   "mimetype": "text/x-python",
   "name": "python",
   "nbconvert_exporter": "python",
   "pygments_lexer": "ipython3",
   "version": "3.10.8"
  }
 },
 "nbformat": 4,
 "nbformat_minor": 5
}
