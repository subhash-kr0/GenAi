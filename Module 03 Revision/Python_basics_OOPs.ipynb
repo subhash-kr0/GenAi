{
  "nbformat": 4,
  "nbformat_minor": 0,
  "metadata": {
    "colab": {
      "provenance": []
    },
    "kernelspec": {
      "name": "python3",
      "display_name": "Python 3"
    },
    "language_info": {
      "name": "python"
    }
  },
  "cells": [
    {
      "cell_type": "markdown",
      "source": [
        "# Data Science with Generative AI\n",
        "\n",
        "## Mentor - Dr. Ayan Debnath,             \n",
        "###         IIT Delhi Alumni,\n",
        "###         Senior Data Scientist\n",
        "\n",
        "\n",
        "---\n",
        "\n",
        "# Title - Basic Python, OOPs concept\n"
      ],
      "metadata": {
        "id": "VUPXaHBn4ZY8"
      }
    },
    {
      "cell_type": "markdown",
      "source": [
        "Python is an object-oriented programming language, which means it deals with objects. Everything in Python is an object, including numbers, strings, lists, and even functions. Objects have attributes and methods associated with them."
      ],
      "metadata": {
        "id": "_edTDrqmD2Hn"
      }
    },
    {
      "cell_type": "code",
      "source": [
        "print(\"Hello World\")"
      ],
      "metadata": {
        "colab": {
          "base_uri": "https://localhost:8080/"
        },
        "id": "2pNRNcP_FoUC",
        "outputId": "6eeb39e6-c395-4835-df89-f124a0fafff8"
      },
      "execution_count": null,
      "outputs": [
        {
          "output_type": "stream",
          "name": "stdout",
          "text": [
            "Hello World\n"
          ]
        }
      ]
    },
    {
      "cell_type": "markdown",
      "source": [
        "### Types of Variables\n",
        "\n",
        "###### variables are placeholders where we can assign some value"
      ],
      "metadata": {
        "id": "Ozj2iS0kGRas"
      }
    },
    {
      "cell_type": "code",
      "execution_count": null,
      "metadata": {
        "colab": {
          "base_uri": "https://localhost:8080/"
        },
        "id": "l5Ulci6a4I3B",
        "outputId": "c08442d3-fe9a-419a-ba50-08b8e7687d50"
      },
      "outputs": [
        {
          "output_type": "stream",
          "name": "stdout",
          "text": [
            "4\n",
            "<class 'int'>\n"
          ]
        }
      ],
      "source": [
        "num_int = 4\n",
        "print(num_int)\n",
        "print(type(num_int))"
      ]
    },
    {
      "cell_type": "code",
      "source": [
        "num = 4.2\n",
        "print(num)\n",
        "print(type(num))"
      ],
      "metadata": {
        "colab": {
          "base_uri": "https://localhost:8080/"
        },
        "id": "pqnAOdsRGTmD",
        "outputId": "0306e6cd-5f70-402a-f4e3-3461cf33e2d0"
      },
      "execution_count": null,
      "outputs": [
        {
          "output_type": "stream",
          "name": "stdout",
          "text": [
            "0.2\n",
            "<class 'float'>\n"
          ]
        }
      ]
    },
    {
      "cell_type": "code",
      "source": [
        "# complex - > (4,3)\n",
        "num = 4 + 3j\n",
        "print(num)\n",
        "print(type(num))"
      ],
      "metadata": {
        "colab": {
          "base_uri": "https://localhost:8080/"
        },
        "id": "V_vgRVJYGhPq",
        "outputId": "a2891b25-a610-4570-f571-908cf94e8a7a"
      },
      "execution_count": null,
      "outputs": [
        {
          "output_type": "stream",
          "name": "stdout",
          "text": [
            "(4+3j)\n",
            "<class 'complex'>\n"
          ]
        }
      ]
    },
    {
      "cell_type": "code",
      "source": [
        "num_int=complex(4,3)\n",
        "print(num_int)\n",
        "print(type(num_int))"
      ],
      "metadata": {
        "colab": {
          "base_uri": "https://localhost:8080/"
        },
        "id": "xgrmnpF2HDXO",
        "outputId": "9053efb4-051d-4f58-f11d-bd3cfd157974"
      },
      "execution_count": null,
      "outputs": [
        {
          "output_type": "stream",
          "name": "stdout",
          "text": [
            "(4+3j)\n",
            "<class 'complex'>\n"
          ]
        }
      ]
    },
    {
      "cell_type": "code",
      "source": [
        "a = 4\n",
        "if a==4:   # True\n",
        "  print(\"a\")\n",
        "else:   # False\n",
        "  print()\n",
        "\n",
        "\n",
        "if a ==3:   #False\n",
        "  print()\n",
        "#"
      ],
      "metadata": {
        "id": "QbOmRKcCHgGk"
      },
      "execution_count": null,
      "outputs": []
    },
    {
      "cell_type": "code",
      "source": [
        "bool_true = True\n",
        "print(bool_true)\n",
        "print(type(bool_true))"
      ],
      "metadata": {
        "colab": {
          "base_uri": "https://localhost:8080/"
        },
        "id": "IyMtyVN-HgQe",
        "outputId": "3569bcce-091f-40db-fac5-9e83a336c3aa"
      },
      "execution_count": null,
      "outputs": [
        {
          "output_type": "stream",
          "name": "stdout",
          "text": [
            "True\n",
            "<class 'bool'>\n"
          ]
        }
      ]
    },
    {
      "cell_type": "code",
      "source": [
        "bool_true = False\n",
        "print(bool_true)\n",
        "print(type(bool_true))"
      ],
      "metadata": {
        "colab": {
          "base_uri": "https://localhost:8080/"
        },
        "id": "0Uk6KfL7IJcr",
        "outputId": "a770e5bb-1767-43db-825d-1b5611a780a1"
      },
      "execution_count": null,
      "outputs": [
        {
          "output_type": "stream",
          "name": "stdout",
          "text": [
            "False\n",
            "<class 'bool'>\n"
          ]
        }
      ]
    },
    {
      "cell_type": "code",
      "source": [
        "print = 4    # variable name\n",
        "print()   # inbuilt function, keyword"
      ],
      "metadata": {
        "colab": {
          "base_uri": "https://localhost:8080/",
          "height": 159
        },
        "id": "eVVykH_FIU1E",
        "outputId": "f370d3ad-80f4-4dd0-c162-4023882b262a"
      },
      "execution_count": null,
      "outputs": [
        {
          "output_type": "error",
          "ename": "TypeError",
          "evalue": "'int' object is not callable",
          "traceback": [
            "\u001b[0;31m---------------------------------------------------------------------------\u001b[0m",
            "\u001b[0;31mTypeError\u001b[0m                                 Traceback (most recent call last)",
            "\u001b[0;32m<ipython-input-14-c99b4951afa8>\u001b[0m in \u001b[0;36m<cell line: 2>\u001b[0;34m()\u001b[0m\n\u001b[1;32m      1\u001b[0m \u001b[0mprint\u001b[0m \u001b[0;34m=\u001b[0m \u001b[0;36m4\u001b[0m\u001b[0;34m\u001b[0m\u001b[0;34m\u001b[0m\u001b[0m\n\u001b[0;32m----> 2\u001b[0;31m \u001b[0mprint\u001b[0m\u001b[0;34m(\u001b[0m\u001b[0mprint\u001b[0m\u001b[0;34m)\u001b[0m\u001b[0;34m\u001b[0m\u001b[0;34m\u001b[0m\u001b[0m\n\u001b[0m",
            "\u001b[0;31mTypeError\u001b[0m: 'int' object is not callable"
          ]
        }
      ]
    },
    {
      "cell_type": "markdown",
      "source": [
        "# OOPs"
      ],
      "metadata": {
        "id": "aTMR4i9sJyjH"
      }
    },
    {
      "cell_type": "code",
      "source": [
        "#oops>> object oriented programming system\n",
        "a = 4"
      ],
      "metadata": {
        "id": "d46IO0NKJ-jA"
      },
      "execution_count": null,
      "outputs": []
    },
    {
      "cell_type": "code",
      "source": [
        "print(type(a))"
      ],
      "metadata": {
        "colab": {
          "base_uri": "https://localhost:8080/"
        },
        "id": "Yy3rH0yuRsIZ",
        "outputId": "e72100c6-7ed7-4f34-cea0-e22cff89c913"
      },
      "execution_count": null,
      "outputs": [
        {
          "output_type": "stream",
          "name": "stdout",
          "text": [
            "<class 'int'>\n"
          ]
        }
      ]
    },
    {
      "cell_type": "code",
      "source": [
        "pw = \"pwskills\"\n",
        "print(type(pw))"
      ],
      "metadata": {
        "colab": {
          "base_uri": "https://localhost:8080/"
        },
        "id": "5moWozncRwNO",
        "outputId": "879450bc-c6d1-40b8-eea8-fe7dd8e48644"
      },
      "execution_count": null,
      "outputs": [
        {
          "output_type": "stream",
          "name": "stdout",
          "text": [
            "<class 'str'>\n"
          ]
        }
      ]
    },
    {
      "cell_type": "code",
      "source": [
        "class Car: #naming convention>> UpperCamelCase\n",
        "  pass"
      ],
      "metadata": {
        "id": "3x7Qf8dGR4im"
      },
      "execution_count": null,
      "outputs": []
    },
    {
      "cell_type": "code",
      "source": [
        "a = Car() # object, instance"
      ],
      "metadata": {
        "id": "YEqbm9AjSF5x"
      },
      "execution_count": null,
      "outputs": []
    },
    {
      "cell_type": "code",
      "source": [
        "print(type(a))"
      ],
      "metadata": {
        "colab": {
          "base_uri": "https://localhost:8080/"
        },
        "id": "Rlb1NFbVSPD8",
        "outputId": "2ecdd18c-307d-44c2-ecf9-592f55bcdad7"
      },
      "execution_count": null,
      "outputs": [
        {
          "output_type": "stream",
          "name": "stdout",
          "text": [
            "<class '__main__.Car'>\n"
          ]
        }
      ]
    },
    {
      "cell_type": "code",
      "source": [
        "class Car: #function/method of a car\n",
        "  def accelarate(self):\n",
        "    print(\"car is accelrating\")"
      ],
      "metadata": {
        "id": "L04eYJw1SVD6"
      },
      "execution_count": null,
      "outputs": []
    },
    {
      "cell_type": "code",
      "source": [
        "a = Car()"
      ],
      "metadata": {
        "id": "hawmB7XjSnAH"
      },
      "execution_count": null,
      "outputs": []
    },
    {
      "cell_type": "code",
      "source": [
        "a.accelarate"
      ],
      "metadata": {
        "colab": {
          "base_uri": "https://localhost:8080/",
          "height": 103
        },
        "id": "FzBWNvQSSxYY",
        "outputId": "92790f20-1e3b-42eb-f90d-1c014966cf81"
      },
      "execution_count": null,
      "outputs": [
        {
          "output_type": "execute_result",
          "data": {
            "text/plain": [
              "<bound method Car.accelarate of <__main__.Car object at 0x7df1c0adca90>>"
            ],
            "text/html": [
              "<div style=\"max-width:800px; border: 1px solid var(--colab-border-color);\"><style>\n",
              "      pre.function-repr-contents {\n",
              "        overflow-x: auto;\n",
              "        padding: 8px 12px;\n",
              "        max-height: 500px;\n",
              "      }\n",
              "\n",
              "      pre.function-repr-contents.function-repr-contents-collapsed {\n",
              "        cursor: pointer;\n",
              "        max-height: 100px;\n",
              "      }\n",
              "    </style>\n",
              "    <pre style=\"white-space: initial; background:\n",
              "         var(--colab-secondary-surface-color); padding: 8px 12px;\n",
              "         border-bottom: 1px solid var(--colab-border-color);\"><b>Car.accelarate</b><br/>def accelarate()</pre><pre class=\"function-repr-contents function-repr-contents-collapsed\" style=\"\"><a class=\"filepath\" style=\"display:none\" href=\"#\">/content/&lt;ipython-input-9-c8db7ef05363&gt;</a>&lt;no docstring&gt;</pre></div>"
            ]
          },
          "metadata": {},
          "execution_count": 13
        }
      ]
    },
    {
      "cell_type": "code",
      "source": [
        "class Car():\n",
        "  def accelarate(self):\n",
        "    print(\"car is accelrating\")\n",
        "  def brake(self):\n",
        "    print(\"car is stopping\")\n",
        "\n"
      ],
      "metadata": {
        "id": "rqpKEFQvS9Z2"
      },
      "execution_count": null,
      "outputs": []
    },
    {
      "cell_type": "code",
      "source": [],
      "metadata": {
        "id": "BYw5Wn01TZI_"
      },
      "execution_count": null,
      "outputs": []
    },
    {
      "cell_type": "code",
      "source": [
        "a = Car()\n",
        "a.brake()"
      ],
      "metadata": {
        "colab": {
          "base_uri": "https://localhost:8080/"
        },
        "id": "tFH3JHAyS8hZ",
        "outputId": "1644f9ce-e58d-4388-fb2f-530046413eee"
      },
      "execution_count": null,
      "outputs": [
        {
          "output_type": "stream",
          "name": "stdout",
          "text": [
            "car is stopping\n"
          ]
        }
      ]
    },
    {
      "cell_type": "code",
      "source": [
        "class Bank:\n",
        "  def deposit(self, amount):\n",
        "    print(\"I am trying to deopsit some money\")\n",
        "  def withdrawal(self, amount):\n",
        "    print(\"I am trying to withdraw some money\")\n"
      ],
      "metadata": {
        "id": "-Fov8wqcTaIy"
      },
      "execution_count": null,
      "outputs": []
    },
    {
      "cell_type": "markdown",
      "source": [
        "### self > a variable that represents instance of the class using which you can access attribute and method"
      ],
      "metadata": {
        "id": "vi4GTEi_UNlo"
      }
    },
    {
      "cell_type": "code",
      "source": [
        "SBI = Bank()\n",
        "RBI = Bank()\n",
        "HDFC = Bank()\n",
        "\n",
        "# Bank is a class\n",
        "# SBI is a object\n",
        "# RBI is a object\n",
        "# HDFC is a object\n",
        "\n"
      ],
      "metadata": {
        "id": "_F6ihf5STuVz"
      },
      "execution_count": null,
      "outputs": []
    },
    {
      "cell_type": "code",
      "source": [
        "ayan.deposit(10)"
      ],
      "metadata": {
        "colab": {
          "base_uri": "https://localhost:8080/"
        },
        "id": "rMKeWOrTTxwb",
        "outputId": "d52683cd-7ca6-4b15-ac0f-89e64d7fbf5e"
      },
      "execution_count": null,
      "outputs": [
        {
          "output_type": "stream",
          "name": "stdout",
          "text": [
            "I am trying to deopsit some money\n"
          ]
        }
      ]
    },
    {
      "cell_type": "code",
      "source": [
        "a = 5\n",
        "if a > 2:\n",
        "  print(\"a is greater than 2\")\n",
        "else:\n",
        "  print(\"a is lesser than 2\")\n",
        "\n",
        "if a > 2:\n",
        "  pass\n",
        "else:\n",
        "  print(\"a is lesser than 2\")"
      ],
      "metadata": {
        "id": "P-S8iXhWVx5R"
      },
      "execution_count": null,
      "outputs": []
    },
    {
      "cell_type": "code",
      "source": [
        "class Student():\n",
        "  def name(self):   # method / function\n",
        "    print(\"name of the student\")\n",
        "  def age(self):   # method / function\n",
        "    print(\"age of the student\")"
      ],
      "metadata": {
        "id": "_Eop2FbxVyCX"
      },
      "execution_count": null,
      "outputs": []
    },
    {
      "cell_type": "code",
      "source": [
        "tejas = Student()\n",
        "\n",
        "tejas.name()\n",
        "tejas.age()"
      ],
      "metadata": {
        "colab": {
          "base_uri": "https://localhost:8080/"
        },
        "id": "3mbVI6HYW5gs",
        "outputId": "c1608a85-a037-48ce-c7e3-e2856452d496"
      },
      "execution_count": null,
      "outputs": [
        {
          "output_type": "stream",
          "name": "stdout",
          "text": [
            "name of the student\n",
            "age of the student\n"
          ]
        }
      ]
    },
    {
      "cell_type": "code",
      "source": [
        "class Bank:\n",
        "  amount = 10000\n",
        "  def deposit(self, amount):\n",
        "    print(\"I am trying to deopsit some money\")\n",
        "  def withdrawal(self, amount):\n",
        "    print(\"I am trying to withdraw some money\")"
      ],
      "metadata": {
        "id": "nm0FvXGcYKDV"
      },
      "execution_count": null,
      "outputs": []
    },
    {
      "cell_type": "code",
      "source": [
        "sbi = Bank()\n",
        "sbi.deposit(10000)"
      ],
      "metadata": {
        "colab": {
          "base_uri": "https://localhost:8080/"
        },
        "id": "7MU9rjEwYTtb",
        "outputId": "f1ce1f52-4f78-49fb-f0d9-678cb19eb251"
      },
      "execution_count": null,
      "outputs": [
        {
          "output_type": "stream",
          "name": "stdout",
          "text": [
            "I am trying to deopsit some money\n"
          ]
        }
      ]
    },
    {
      "cell_type": "code",
      "source": [
        "a = [1,2,3,4,5]\n",
        "class Listops:\n",
        "  def __init__(self,l):\n",
        "    self.l = l\n",
        "\n",
        "  def extract_even(self):\n",
        "    l_1 = self.l\n",
        "    l1 = []\n",
        "    for i in l_1:\n",
        "      if i % 2 ==0:\n",
        "        l1.append(i)\n",
        "    return l1\n",
        "\n",
        "  def extract_odd(self):\n",
        "    l = self.l\n",
        "    l1 = []\n",
        "    for i in l:\n",
        "      if i % 2 !=0:\n",
        "        l1.append(i)\n",
        "    return l1"
      ],
      "metadata": {
        "id": "fEmm0C33ZKuk"
      },
      "execution_count": null,
      "outputs": []
    },
    {
      "cell_type": "code",
      "source": [
        "obj1 = Listops([1,2,3,4,5])"
      ],
      "metadata": {
        "id": "bhkFUDmIaS0B"
      },
      "execution_count": null,
      "outputs": []
    },
    {
      "cell_type": "code",
      "source": [
        "obj1.l"
      ],
      "metadata": {
        "colab": {
          "base_uri": "https://localhost:8080/"
        },
        "id": "xpRo811Xa_TS",
        "outputId": "b97e1ff0-e395-4437-e689-f5b5e39c4a3c"
      },
      "execution_count": null,
      "outputs": [
        {
          "output_type": "execute_result",
          "data": {
            "text/plain": [
              "[1, 2, 3, 4, 5]"
            ]
          },
          "metadata": {},
          "execution_count": 48
        }
      ]
    },
    {
      "cell_type": "code",
      "source": [
        "obj1.extract_even()"
      ],
      "metadata": {
        "colab": {
          "base_uri": "https://localhost:8080/"
        },
        "id": "8Ewtp734bK9w",
        "outputId": "0384c20d-f89a-47f0-c9e2-83ae963f0c77"
      },
      "execution_count": null,
      "outputs": [
        {
          "output_type": "execute_result",
          "data": {
            "text/plain": [
              "[2, 4]"
            ]
          },
          "metadata": {},
          "execution_count": 49
        }
      ]
    },
    {
      "cell_type": "code",
      "source": [
        "obj1.extract_odd()"
      ],
      "metadata": {
        "colab": {
          "base_uri": "https://localhost:8080/"
        },
        "id": "nv3jAoetbPUd",
        "outputId": "60e68329-25c3-49ac-d442-e93e928435d4"
      },
      "execution_count": null,
      "outputs": [
        {
          "output_type": "execute_result",
          "data": {
            "text/plain": [
              "[1, 3, 5]"
            ]
          },
          "metadata": {},
          "execution_count": 50
        }
      ]
    },
    {
      "cell_type": "code",
      "source": [
        "# class Bank:\n",
        "#   def deposit(self, amount):\n",
        "#     self.amount=amount\n",
        "#     print(f\"Enter the deposit amount {self.amount}\")\n",
        "#   def withdraw(self, amount):\n",
        "#     self.amount=self.amount-amount\n",
        "#     print(f\"The balance amount is {self.amount}\")\n",
        "\n",
        "# obj=Bank()\n",
        "# obj.deposit(1000)\n",
        "# obj.withdraw(100)\n"
      ],
      "metadata": {
        "colab": {
          "base_uri": "https://localhost:8080/"
        },
        "id": "YhH3zB4ObtEs",
        "outputId": "c66d6a44-843d-4f63-9d64-d928e20d0273"
      },
      "execution_count": null,
      "outputs": [
        {
          "output_type": "stream",
          "name": "stdout",
          "text": [
            "Enter the deposit amount 1000\n",
            "The balance amount is 900\n"
          ]
        }
      ]
    }
  ]
}