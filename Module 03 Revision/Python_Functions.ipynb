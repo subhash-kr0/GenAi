{
  "nbformat": 4,
  "nbformat_minor": 0,
  "metadata": {
    "colab": {
      "provenance": []
    },
    "kernelspec": {
      "name": "python3",
      "display_name": "Python 3"
    },
    "language_info": {
      "name": "python"
    }
  },
  "cells": [
    {
      "cell_type": "markdown",
      "source": [
        "# 1. User-Define Function\n",
        "\n",
        "User-defined functions in programming languages like Python allow you to create your own reusable blocks of code to perform specific tasks. Functions encapsulate logic, making the code modular, easier to understand, and maintainable.\n",
        "\n",
        "#### Syntax\n",
        "\n",
        "    def function_name(parameters):\n",
        "        \"\"\"docstring (optional)\"\"\"\n",
        "        # Function body - code block\n",
        "        # Perform operations\n",
        "        return value  # (optional) - return statement\n",
        "        \n",
        "    def: Keyword used to define a function.\n",
        "    function_name: Name of the function that you're defining. Choose a descriptive name following naming conventions.\n",
        "    parameters: Input parameters (arguments) that the function can accept (optional).\n",
        "    \"\"\"docstring\"\"\" (optional): A docstring providing information about the function's purpose, usage, and parameters. It's a good practice to document functions for better understanding.\n",
        "    Function body: Actual code block where the operations or tasks are performed.\n",
        "    return: Statement used to return a value from the function (optional). It ends the execution of the function and can provide the result of the operation back to the caller.\n"
      ],
      "metadata": {
        "id": "cFu591QIvqKI"
      }
    },
    {
      "cell_type": "code",
      "execution_count": null,
      "metadata": {
        "colab": {
          "base_uri": "https://localhost:8080/"
        },
        "id": "9iuDOEppu1rz",
        "outputId": "fa58748b-fa3f-44d4-e325-90bd73f75766"
      },
      "outputs": [
        {
          "output_type": "stream",
          "name": "stdout",
          "text": [
            "Help on built-in function len in module builtins:\n",
            "\n",
            "len(obj, /)\n",
            "    Return the number of items in a container.\n",
            "\n"
          ]
        }
      ],
      "source": [
        "help(len)"
      ]
    },
    {
      "cell_type": "code",
      "source": [
        "help(input)"
      ],
      "metadata": {
        "colab": {
          "base_uri": "https://localhost:8080/"
        },
        "id": "ZIz7YYoiv1YJ",
        "outputId": "e923061b-5585-4294-b991-c3a8c7e66b2c"
      },
      "execution_count": null,
      "outputs": [
        {
          "output_type": "stream",
          "name": "stdout",
          "text": [
            "Help on method raw_input in module ipykernel.kernelbase:\n",
            "\n",
            "raw_input(prompt='') method of google.colab._kernel.Kernel instance\n",
            "    Forward raw_input to frontends\n",
            "    \n",
            "    Raises\n",
            "    ------\n",
            "    StdinNotImplementedError if active frontend doesn't support stdin.\n",
            "\n"
          ]
        }
      ]
    },
    {
      "cell_type": "code",
      "source": [
        "def greetings(name):\n",
        "  print(\"Hello World\", name)"
      ],
      "metadata": {
        "id": "i1Bt5tYvv46_"
      },
      "execution_count": null,
      "outputs": []
    },
    {
      "cell_type": "code",
      "source": [
        "greetings('Ekta')"
      ],
      "metadata": {
        "colab": {
          "base_uri": "https://localhost:8080/"
        },
        "id": "FYq8_4vrwXfe",
        "outputId": "648e9f87-d6bc-4038-d8bc-44e25cb54888"
      },
      "execution_count": null,
      "outputs": [
        {
          "output_type": "stream",
          "name": "stdout",
          "text": [
            "Hello World Ekta\n"
          ]
        }
      ]
    },
    {
      "cell_type": "code",
      "source": [
        "greetings('Rahul')"
      ],
      "metadata": {
        "colab": {
          "base_uri": "https://localhost:8080/"
        },
        "id": "CMMYLRFKwakJ",
        "outputId": "955a6abe-46df-49de-d1a1-e6e610740e0d"
      },
      "execution_count": null,
      "outputs": [
        {
          "output_type": "stream",
          "name": "stdout",
          "text": [
            "Hello World Rahul\n"
          ]
        }
      ]
    },
    {
      "cell_type": "code",
      "source": [
        "def add(a,b):\n",
        "  print(a+b)"
      ],
      "metadata": {
        "id": "s8kOGkwjwksC"
      },
      "execution_count": null,
      "outputs": []
    },
    {
      "cell_type": "code",
      "source": [
        "add(2,4)"
      ],
      "metadata": {
        "colab": {
          "base_uri": "https://localhost:8080/"
        },
        "id": "hXjl1esPwv-i",
        "outputId": "cf2820e6-4b5b-4777-ec00-b1ce28cc5394"
      },
      "execution_count": null,
      "outputs": [
        {
          "output_type": "stream",
          "name": "stdout",
          "text": [
            "6\n"
          ]
        }
      ]
    },
    {
      "cell_type": "code",
      "source": [
        "add(4,5)"
      ],
      "metadata": {
        "colab": {
          "base_uri": "https://localhost:8080/"
        },
        "id": "eNzgYk8gwxrx",
        "outputId": "77f3d751-6dff-43f5-ba03-07187c7a7901"
      },
      "execution_count": null,
      "outputs": [
        {
          "output_type": "stream",
          "name": "stdout",
          "text": [
            "9\n"
          ]
        }
      ]
    },
    {
      "cell_type": "code",
      "source": [
        "add(3,5,6)"
      ],
      "metadata": {
        "colab": {
          "base_uri": "https://localhost:8080/",
          "height": 141
        },
        "id": "rVD8MokUw0NJ",
        "outputId": "4a9ea5d7-95e8-4c0c-84ab-9c0112b57745"
      },
      "execution_count": null,
      "outputs": [
        {
          "output_type": "error",
          "ename": "TypeError",
          "evalue": "add() takes 2 positional arguments but 3 were given",
          "traceback": [
            "\u001b[0;31m---------------------------------------------------------------------------\u001b[0m",
            "\u001b[0;31mTypeError\u001b[0m                                 Traceback (most recent call last)",
            "\u001b[0;32m<ipython-input-10-014f8a1a3b4e>\u001b[0m in \u001b[0;36m<cell line: 1>\u001b[0;34m()\u001b[0m\n\u001b[0;32m----> 1\u001b[0;31m \u001b[0madd\u001b[0m\u001b[0;34m(\u001b[0m\u001b[0;36m3\u001b[0m\u001b[0;34m,\u001b[0m\u001b[0;36m5\u001b[0m\u001b[0;34m,\u001b[0m\u001b[0;36m6\u001b[0m\u001b[0;34m)\u001b[0m\u001b[0;34m\u001b[0m\u001b[0;34m\u001b[0m\u001b[0m\n\u001b[0m",
            "\u001b[0;31mTypeError\u001b[0m: add() takes 2 positional arguments but 3 were given"
          ]
        }
      ]
    },
    {
      "cell_type": "code",
      "source": [
        "# write a function to mutiple the pass arugment with number 5 and return the value\n",
        "\n",
        "def mult(n):\n",
        "  return 5 * n\n",
        "r1 = mult(2)"
      ],
      "metadata": {
        "id": "rgMNZ4l-w2Nt"
      },
      "execution_count": null,
      "outputs": []
    },
    {
      "cell_type": "code",
      "source": [
        "def mult2(n):\n",
        "  print( 5 * n)\n",
        "r2 = mult2(2)"
      ],
      "metadata": {
        "colab": {
          "base_uri": "https://localhost:8080/"
        },
        "id": "WMnFj1dzxZKH",
        "outputId": "836a3784-3a2b-44b5-8156-e85d64388bf4"
      },
      "execution_count": null,
      "outputs": [
        {
          "output_type": "stream",
          "name": "stdout",
          "text": [
            "10\n"
          ]
        }
      ]
    },
    {
      "cell_type": "code",
      "source": [
        "type(r1)"
      ],
      "metadata": {
        "colab": {
          "base_uri": "https://localhost:8080/"
        },
        "id": "-S8XjWuHxhzY",
        "outputId": "bf291219-67ec-4635-e8dc-72a20fc77be2"
      },
      "execution_count": null,
      "outputs": [
        {
          "output_type": "execute_result",
          "data": {
            "text/plain": [
              "int"
            ]
          },
          "metadata": {},
          "execution_count": 15
        }
      ]
    },
    {
      "cell_type": "code",
      "source": [
        "type(r2)"
      ],
      "metadata": {
        "colab": {
          "base_uri": "https://localhost:8080/"
        },
        "id": "rkzX2A2nxmnk",
        "outputId": "a0c3d3a2-2eeb-4a84-b154-5bba1b77f745"
      },
      "execution_count": null,
      "outputs": [
        {
          "output_type": "execute_result",
          "data": {
            "text/plain": [
              "NoneType"
            ]
          },
          "metadata": {},
          "execution_count": 16
        }
      ]
    },
    {
      "cell_type": "code",
      "source": [
        "def add(a,b,c,d):\n",
        "  return a + b + c + d\n",
        "\n",
        "r1 = add(2,3,4,5)\n",
        "r1"
      ],
      "metadata": {
        "colab": {
          "base_uri": "https://localhost:8080/"
        },
        "id": "OafrC0TYxoKL",
        "outputId": "9e7d6a00-8f75-43e3-91d5-fbf09be3fb87"
      },
      "execution_count": null,
      "outputs": [
        {
          "output_type": "execute_result",
          "data": {
            "text/plain": [
              "14"
            ]
          },
          "metadata": {},
          "execution_count": 17
        }
      ]
    },
    {
      "cell_type": "code",
      "source": [
        "type(r1)"
      ],
      "metadata": {
        "colab": {
          "base_uri": "https://localhost:8080/"
        },
        "id": "832jc_PIyJwW",
        "outputId": "c8e3d4d6-d6bf-48e3-84f2-f91cf6a8e9a2"
      },
      "execution_count": null,
      "outputs": [
        {
          "output_type": "execute_result",
          "data": {
            "text/plain": [
              "int"
            ]
          },
          "metadata": {},
          "execution_count": 18
        }
      ]
    },
    {
      "cell_type": "code",
      "source": [
        "def add(a,b,c,d):\n",
        "  print( a + b + c + d)\n",
        "\n",
        "r2 = add(2,3,4,5)\n",
        "r2"
      ],
      "metadata": {
        "colab": {
          "base_uri": "https://localhost:8080/"
        },
        "id": "1WiLhGixyL6f",
        "outputId": "eacb6cf8-c5f5-4e00-fae8-a8ff93aca2a2"
      },
      "execution_count": null,
      "outputs": [
        {
          "output_type": "stream",
          "name": "stdout",
          "text": [
            "14\n"
          ]
        }
      ]
    },
    {
      "cell_type": "code",
      "source": [
        "type(r2)"
      ],
      "metadata": {
        "colab": {
          "base_uri": "https://localhost:8080/"
        },
        "id": "1zvjbaBFyTeD",
        "outputId": "0ce108f1-e9f6-4dad-81fa-d5f089a50ec2"
      },
      "execution_count": null,
      "outputs": [
        {
          "output_type": "execute_result",
          "data": {
            "text/plain": [
              "NoneType"
            ]
          },
          "metadata": {},
          "execution_count": 20
        }
      ]
    },
    {
      "cell_type": "markdown",
      "source": [
        "    1.Required arguments\n",
        "    2.Keyword arguments\n",
        "    3.Default arguments\n",
        "    4.Variable-length arguments\n",
        "        "
      ],
      "metadata": {
        "id": "5Pcxzwvqyvie"
      }
    },
    {
      "cell_type": "code",
      "source": [
        "add(2,2,2,2)"
      ],
      "metadata": {
        "colab": {
          "base_uri": "https://localhost:8080/"
        },
        "id": "XT4q4pEVyUnF",
        "outputId": "65d159dd-395f-44cc-8542-0d4182b8a02b"
      },
      "execution_count": null,
      "outputs": [
        {
          "output_type": "stream",
          "name": "stdout",
          "text": [
            "8\n"
          ]
        }
      ]
    },
    {
      "cell_type": "code",
      "source": [
        "def greet(name, message):\n",
        "  print('Hello',name,',',message)"
      ],
      "metadata": {
        "id": "zZ5TAbN3y_qa"
      },
      "execution_count": null,
      "outputs": []
    },
    {
      "cell_type": "code",
      "source": [
        "greet('Ekta','How are you')"
      ],
      "metadata": {
        "colab": {
          "base_uri": "https://localhost:8080/"
        },
        "id": "98sxrsewzVFB",
        "outputId": "fefd86da-02d1-4344-e589-c425753c2c91"
      },
      "execution_count": null,
      "outputs": [
        {
          "output_type": "stream",
          "name": "stdout",
          "text": [
            "Hello Ekta , How are you\n"
          ]
        }
      ]
    },
    {
      "cell_type": "code",
      "source": [
        "greet('How are you', 'Ekta')"
      ],
      "metadata": {
        "colab": {
          "base_uri": "https://localhost:8080/"
        },
        "id": "NjVe7KALzYl6",
        "outputId": "a6a2ce53-a912-43e2-bb88-ac38e3531d5e"
      },
      "execution_count": null,
      "outputs": [
        {
          "output_type": "stream",
          "name": "stdout",
          "text": [
            "Hello How are you , Ekta\n"
          ]
        }
      ]
    },
    {
      "cell_type": "code",
      "source": [
        "greet(message = 'How are you', name = 'Ekta')"
      ],
      "metadata": {
        "colab": {
          "base_uri": "https://localhost:8080/"
        },
        "id": "jMpa0k3nzdmF",
        "outputId": "b8adf1e9-2a4b-42cc-cefa-86cf4bc7d3f0"
      },
      "execution_count": null,
      "outputs": [
        {
          "output_type": "stream",
          "name": "stdout",
          "text": [
            "Hello Ekta , How are you\n"
          ]
        }
      ]
    },
    {
      "cell_type": "code",
      "source": [
        "def greet(name, message):\n",
        "  print(f'Hello {name},{message}')"
      ],
      "metadata": {
        "id": "JppZRKjUzlI3"
      },
      "execution_count": null,
      "outputs": []
    },
    {
      "cell_type": "code",
      "source": [
        "greet('Ekta','Whats up')"
      ],
      "metadata": {
        "colab": {
          "base_uri": "https://localhost:8080/"
        },
        "id": "7QPCPtk_z6w_",
        "outputId": "c1c35570-67de-4410-ed02-b5de78a8682b"
      },
      "execution_count": null,
      "outputs": [
        {
          "output_type": "stream",
          "name": "stdout",
          "text": [
            "Hello Ekta,Whats up\n"
          ]
        }
      ]
    },
    {
      "cell_type": "code",
      "source": [
        "def add(a,b,c,d):\n",
        "  return a + b + c + d\n",
        "\n",
        "add(2,3,4)"
      ],
      "metadata": {
        "colab": {
          "base_uri": "https://localhost:8080/",
          "height": 176
        },
        "id": "OfiFmJaO0AYX",
        "outputId": "ec114171-f66e-442c-8d34-f2a03dfb4fb2"
      },
      "execution_count": null,
      "outputs": [
        {
          "output_type": "error",
          "ename": "TypeError",
          "evalue": "add() missing 1 required positional argument: 'd'",
          "traceback": [
            "\u001b[0;31m---------------------------------------------------------------------------\u001b[0m",
            "\u001b[0;31mTypeError\u001b[0m                                 Traceback (most recent call last)",
            "\u001b[0;32m<ipython-input-31-569c1de07a03>\u001b[0m in \u001b[0;36m<cell line: 4>\u001b[0;34m()\u001b[0m\n\u001b[1;32m      2\u001b[0m   \u001b[0;32mreturn\u001b[0m \u001b[0ma\u001b[0m \u001b[0;34m+\u001b[0m \u001b[0mb\u001b[0m \u001b[0;34m+\u001b[0m \u001b[0mc\u001b[0m \u001b[0;34m+\u001b[0m \u001b[0md\u001b[0m\u001b[0;34m\u001b[0m\u001b[0;34m\u001b[0m\u001b[0m\n\u001b[1;32m      3\u001b[0m \u001b[0;34m\u001b[0m\u001b[0m\n\u001b[0;32m----> 4\u001b[0;31m \u001b[0madd\u001b[0m\u001b[0;34m(\u001b[0m\u001b[0;36m2\u001b[0m\u001b[0;34m,\u001b[0m\u001b[0;36m3\u001b[0m\u001b[0;34m,\u001b[0m\u001b[0;36m4\u001b[0m\u001b[0;34m)\u001b[0m\u001b[0;34m\u001b[0m\u001b[0;34m\u001b[0m\u001b[0m\n\u001b[0m",
            "\u001b[0;31mTypeError\u001b[0m: add() missing 1 required positional argument: 'd'"
          ]
        }
      ]
    },
    {
      "cell_type": "code",
      "source": [
        "def add(a,b,c,d = 0):\n",
        "  return a + b + c + d\n",
        "\n",
        "add(2,3,4)"
      ],
      "metadata": {
        "colab": {
          "base_uri": "https://localhost:8080/"
        },
        "id": "plDpsDBH0Udx",
        "outputId": "ff7e484b-56cb-4d90-f95c-b9a2941db1d8"
      },
      "execution_count": null,
      "outputs": [
        {
          "output_type": "execute_result",
          "data": {
            "text/plain": [
              "9"
            ]
          },
          "metadata": {},
          "execution_count": 32
        }
      ]
    },
    {
      "cell_type": "code",
      "source": [
        "add(3,4,5,6)"
      ],
      "metadata": {
        "colab": {
          "base_uri": "https://localhost:8080/"
        },
        "id": "Z5CR0_j50a46",
        "outputId": "bef82418-f4ca-456f-bcc4-86182913547d"
      },
      "execution_count": null,
      "outputs": [
        {
          "output_type": "execute_result",
          "data": {
            "text/plain": [
              "18"
            ]
          },
          "metadata": {},
          "execution_count": 33
        }
      ]
    },
    {
      "cell_type": "code",
      "source": [
        "def greet(name, message = \"How are you\"):\n",
        "  print(f'Hello {name},{message}')\n",
        "greet('Geet')"
      ],
      "metadata": {
        "colab": {
          "base_uri": "https://localhost:8080/"
        },
        "id": "a5yWAl1P0fMK",
        "outputId": "48f77ac2-962c-44ed-a071-107e8fb4526b"
      },
      "execution_count": null,
      "outputs": [
        {
          "output_type": "stream",
          "name": "stdout",
          "text": [
            "Hello Geet,How are you\n"
          ]
        }
      ]
    },
    {
      "cell_type": "code",
      "source": [
        "greet('Geet', 'See you ')"
      ],
      "metadata": {
        "colab": {
          "base_uri": "https://localhost:8080/"
        },
        "id": "P0IOuY5Q0oJu",
        "outputId": "22b5802b-f5df-4b81-875f-411fa8435482"
      },
      "execution_count": null,
      "outputs": [
        {
          "output_type": "stream",
          "name": "stdout",
          "text": [
            "Hello Geet,See you \n"
          ]
        }
      ]
    },
    {
      "cell_type": "markdown",
      "source": [
        "*args and *kwargs"
      ],
      "metadata": {
        "id": "5boBSGlK09ur"
      }
    },
    {
      "cell_type": "markdown",
      "source": [
        "### # *args in function definitions in python is used to pass a variable number of arguments to a function\n",
        "\n",
        "*args is a special syntax in Python that allows a function to accept a variable number of positional arguments. When you're not sure how many arguments might be passed to your function, you can use *args as a parameter, and it will gather all the positional arguments into a tuple.\n",
        "\n",
        "You can use any name instead of args, but the * before the parameter name is what indicates that it will collect all the positional arguments into a tuple."
      ],
      "metadata": {
        "id": "yC_eZ5dC1PFE"
      }
    },
    {
      "cell_type": "code",
      "source": [
        "def add(*a):\n",
        "  print(a)\n",
        "  return sum(a)"
      ],
      "metadata": {
        "id": "LcQHRRxz09Q_"
      },
      "execution_count": null,
      "outputs": []
    },
    {
      "cell_type": "code",
      "source": [
        "add(2,3,4,5,6,7,8,9)"
      ],
      "metadata": {
        "colab": {
          "base_uri": "https://localhost:8080/"
        },
        "id": "WP01juQq0tnT",
        "outputId": "86391c85-6814-420e-e415-2eb890ab7a92"
      },
      "execution_count": null,
      "outputs": [
        {
          "output_type": "stream",
          "name": "stdout",
          "text": [
            "(2, 3, 4, 5, 6, 7, 8, 9)\n"
          ]
        },
        {
          "output_type": "execute_result",
          "data": {
            "text/plain": [
              "44"
            ]
          },
          "metadata": {},
          "execution_count": 39
        }
      ]
    },
    {
      "cell_type": "code",
      "source": [
        "def student_name(*name):\n",
        "  for i in name:\n",
        "    print(i)"
      ],
      "metadata": {
        "id": "j9JGDqde1XF9"
      },
      "execution_count": null,
      "outputs": []
    },
    {
      "cell_type": "code",
      "source": [
        "student_name('Amit','Sahil', 'Akshay', 'Preeti')"
      ],
      "metadata": {
        "colab": {
          "base_uri": "https://localhost:8080/"
        },
        "id": "GC_VfZ6Y1noM",
        "outputId": "ca3e7986-28f7-4b15-8a68-c64b38af8bc9"
      },
      "execution_count": null,
      "outputs": [
        {
          "output_type": "stream",
          "name": "stdout",
          "text": [
            "Amit\n",
            "Sahil\n",
            "Akshay\n",
            "Preeti\n"
          ]
        }
      ]
    },
    {
      "cell_type": "markdown",
      "source": [
        "### **kwargs in function definitions in python is used to pass a keyworded, variable-length argument list\n",
        "\n",
        "***kwargs in Python allows a function to accept a variable number of keyword arguments, capturing them into a dictionary within the function. This syntax is particularly useful when you want to handle named arguments within a function where the number of arguments is not known in advance.\n",
        "Just like with *args, you can use any name instead of kwargs, but the *** before the parameter name is what indicates that it will collect all the keyword arguments into a dictionary."
      ],
      "metadata": {
        "id": "vNPEUBQf12Vg"
      }
    },
    {
      "cell_type": "code",
      "source": [
        "def my_func(**kwargs):\n",
        "  for i in kwargs.items():\n",
        "    print(i)"
      ],
      "metadata": {
        "id": "P7VXb5ZP1tuJ"
      },
      "execution_count": null,
      "outputs": []
    },
    {
      "cell_type": "code",
      "source": [
        "my_func(one = 'A',two = 'B',three = 'C')"
      ],
      "metadata": {
        "colab": {
          "base_uri": "https://localhost:8080/"
        },
        "id": "wb2fDMBt2MsS",
        "outputId": "7dbbf1c6-7e30-4481-a849-2859a547c353"
      },
      "execution_count": null,
      "outputs": [
        {
          "output_type": "stream",
          "name": "stdout",
          "text": [
            "('one', 'A')\n",
            "('two', 'B')\n",
            "('three', 'C')\n"
          ]
        }
      ]
    },
    {
      "cell_type": "markdown",
      "source": [
        "farhen = (cel * 9/5) + 32"
      ],
      "metadata": {
        "id": "i0g8zbpa2sEg"
      }
    },
    {
      "cell_type": "code",
      "source": [
        "# Write a function to convert celsius to fahrenheit\n",
        "def farhentocel(t):\n",
        "  \"\"\" t = temperture in farheneit\n",
        "      returns the temperature in degrees Fahrenheit \"\"\"\n",
        "  c = (t * 9/5) + 32\n",
        "  return c"
      ],
      "metadata": {
        "id": "mHEZUQUs2Ree"
      },
      "execution_count": null,
      "outputs": []
    },
    {
      "cell_type": "code",
      "source": [
        "farhentocel(22.6)"
      ],
      "metadata": {
        "colab": {
          "base_uri": "https://localhost:8080/"
        },
        "id": "zT8N3izc3Alm",
        "outputId": "3714918f-2f9c-458b-f621-1b5a507f7986"
      },
      "execution_count": null,
      "outputs": [
        {
          "output_type": "execute_result",
          "data": {
            "text/plain": [
              "72.68"
            ]
          },
          "metadata": {},
          "execution_count": 48
        }
      ]
    },
    {
      "cell_type": "code",
      "source": [
        "help(farhentocel)"
      ],
      "metadata": {
        "colab": {
          "base_uri": "https://localhost:8080/"
        },
        "id": "3BmbF_ut3DIG",
        "outputId": "1526930a-56d4-44eb-abfb-b9ac9dc73c98"
      },
      "execution_count": null,
      "outputs": [
        {
          "output_type": "stream",
          "name": "stdout",
          "text": [
            "Help on function farhentocel in module __main__:\n",
            "\n",
            "farhentocel(t)\n",
            "    t = temperture in farheneit \n",
            "    returns the temperature in degrees Fahrenheit\n",
            "\n"
          ]
        }
      ]
    },
    {
      "cell_type": "code",
      "source": [
        "def square(number):\n",
        "    \"\"\"\n",
        "    Function to find the square of a number.\n",
        "\n",
        "    Parameters:\n",
        "        number (int or float): The number whose square is to be calculated.\n",
        "\n",
        "    Returns:\n",
        "        int or float: The square of the input number.\n",
        "    \"\"\"\n",
        "    return number ** 2\n",
        "\n",
        "square(8)"
      ],
      "metadata": {
        "colab": {
          "base_uri": "https://localhost:8080/"
        },
        "id": "knx_7BPr3JjJ",
        "outputId": "fcf98a96-f331-445f-b772-ebdfc819103b"
      },
      "execution_count": null,
      "outputs": [
        {
          "output_type": "execute_result",
          "data": {
            "text/plain": [
              "64"
            ]
          },
          "metadata": {},
          "execution_count": 52
        }
      ]
    },
    {
      "cell_type": "code",
      "source": [
        "# power of any number\n",
        "\n",
        "def power(base, exponent):\n",
        "    \"\"\"\n",
        "    Function to calculate the power of any number.\n",
        "\n",
        "    Parameters:\n",
        "        base (int or float): The base number.\n",
        "        exponent (int): The exponent to which the base is raised.\n",
        "\n",
        "    Returns:\n",
        "        int or float: The result of raising the base to the exponent.\n",
        "    \"\"\"\n",
        "    return base ** exponent\n",
        "power(8,3)\n"
      ],
      "metadata": {
        "colab": {
          "base_uri": "https://localhost:8080/"
        },
        "id": "PLpxpOvk3qIQ",
        "outputId": "6ec3bd8f-aab8-445d-dfb6-536e70387039"
      },
      "execution_count": null,
      "outputs": [
        {
          "output_type": "execute_result",
          "data": {
            "text/plain": [
              "512"
            ]
          },
          "metadata": {},
          "execution_count": 53
        }
      ]
    },
    {
      "cell_type": "code",
      "source": [
        "l = [1,2,3,4,5]\n",
        "sum(l)"
      ],
      "metadata": {
        "colab": {
          "base_uri": "https://localhost:8080/"
        },
        "id": "edbDuj0t4Chw",
        "outputId": "b0da4905-da95-4712-d755-a0edb7db039c"
      },
      "execution_count": null,
      "outputs": [
        {
          "output_type": "execute_result",
          "data": {
            "text/plain": [
              "15"
            ]
          },
          "metadata": {},
          "execution_count": 54
        }
      ]
    },
    {
      "cell_type": "code",
      "source": [
        "# sum of numbers in list\n",
        "\n",
        "def sum_of_numbers(numbers):\n",
        "    \"\"\"\n",
        "    Function to find the sum of numbers in a list.\n",
        "\n",
        "    Parameters:\n",
        "        numbers (list of int or float): List of numbers.\n",
        "\n",
        "    Returns:\n",
        "        int or float: The sum of numbers in the list.\n",
        "    \"\"\"\n",
        "    total = 0\n",
        "    for num in numbers:\n",
        "        total += num\n",
        "    return total\n",
        "sum_of_numbers([4,2,3,4,5])"
      ],
      "metadata": {
        "colab": {
          "base_uri": "https://localhost:8080/"
        },
        "id": "udb7YZrh4J7e",
        "outputId": "ba2ff7d6-95e9-4d0a-de17-c760ff585757"
      },
      "execution_count": null,
      "outputs": [
        {
          "output_type": "execute_result",
          "data": {
            "text/plain": [
              "18"
            ]
          },
          "metadata": {},
          "execution_count": 55
        }
      ]
    },
    {
      "cell_type": "code",
      "source": [
        "def detail():\n",
        "  name = input(\"Please enter your name: \")\n",
        "  country = input('Enter your Country: ')\n",
        "  return name, country"
      ],
      "metadata": {
        "id": "9_iSK7c3423-"
      },
      "execution_count": null,
      "outputs": []
    },
    {
      "cell_type": "code",
      "source": [
        "detail() # no default input"
      ],
      "metadata": {
        "colab": {
          "base_uri": "https://localhost:8080/"
        },
        "id": "RQPYC-o35qHK",
        "outputId": "638595ff-ad18-4b87-c87b-ad8d5f7689cc"
      },
      "execution_count": null,
      "outputs": [
        {
          "name": "stdout",
          "output_type": "stream",
          "text": [
            "Please enter your name: Ekta\n",
            "Enter your Country: India\n"
          ]
        },
        {
          "output_type": "execute_result",
          "data": {
            "text/plain": [
              "('Ekta', 'India')"
            ]
          },
          "metadata": {},
          "execution_count": 57
        }
      ]
    },
    {
      "cell_type": "code",
      "source": [
        "# find the sum of 2 or more numbers\n",
        "def sum_up(*num):\n",
        "  s = 0\n",
        "  for i in num:\n",
        "    s+=i\n",
        "  return s\n",
        "sum_up(1,2,3,4,5,7,6,5)"
      ],
      "metadata": {
        "colab": {
          "base_uri": "https://localhost:8080/"
        },
        "id": "fOXB3lrq5uUV",
        "outputId": "5767ca47-3521-4991-e832-27c1a4705d47"
      },
      "execution_count": null,
      "outputs": [
        {
          "output_type": "execute_result",
          "data": {
            "text/plain": [
              "33"
            ]
          },
          "metadata": {},
          "execution_count": 60
        }
      ]
    },
    {
      "cell_type": "code",
      "source": [
        "def branch_and_subjects_in_graduation(*subject, branch):\n",
        "  return f\"My branch is {branch}. I'm studying following subjects {subject}\""
      ],
      "metadata": {
        "id": "Kx144RE-6OlM"
      },
      "execution_count": null,
      "outputs": []
    },
    {
      "cell_type": "code",
      "source": [
        "results = branch_and_subjects_in_graduation(\"Digital Image Processing\", \"Microprocessor\", branch = 'Electronics')\n",
        "print(results)"
      ],
      "metadata": {
        "colab": {
          "base_uri": "https://localhost:8080/"
        },
        "id": "vaBBEQWK7EYF",
        "outputId": "7d98aec8-ff28-45a0-c68f-e4b775eafdb7"
      },
      "execution_count": null,
      "outputs": [
        {
          "output_type": "stream",
          "name": "stdout",
          "text": [
            "My branch is Electronics. I'm studying following subjects ('Digital Image Processing', 'Microprocessor')\n"
          ]
        }
      ]
    },
    {
      "cell_type": "code",
      "source": [
        "def branch_and_subjects_in_graduation(branch ,*subject):\n",
        "  return f\"My branch is {branch}. I'm studying following subjects {subject}\""
      ],
      "metadata": {
        "id": "3xBGNzjv7GZN"
      },
      "execution_count": null,
      "outputs": []
    },
    {
      "cell_type": "code",
      "source": [
        "branch_and_subjects_in_graduation('Electronics', \"Digital Image Processing\", \"Microprocessor\")"
      ],
      "metadata": {
        "colab": {
          "base_uri": "https://localhost:8080/",
          "height": 35
        },
        "id": "zNuoQwaq7TuF",
        "outputId": "9f49a583-cdc6-4bec-9735-72e3ae0eba9c"
      },
      "execution_count": null,
      "outputs": [
        {
          "output_type": "execute_result",
          "data": {
            "text/plain": [
              "\"My branch is Electronics. I'm studying following subjects ('Digital Image Processing', 'Microprocessor')\""
            ],
            "application/vnd.google.colaboratory.intrinsic+json": {
              "type": "string"
            }
          },
          "metadata": {},
          "execution_count": 67
        }
      ]
    },
    {
      "cell_type": "markdown",
      "source": [
        "    def outer_function():\n",
        "        # Outer function definition\n",
        "        def inner_function():\n",
        "            # Inner function definition\n",
        "            pass\n",
        "        # Outer function code\n",
        "        inner_function()  # Calling the inner function\n"
      ],
      "metadata": {
        "id": "sESQkXC87igD"
      }
    },
    {
      "cell_type": "code",
      "source": [
        "def marks_in_sem(**kwargs):\n",
        "  def total_marks(marks_list):\n",
        "    return sum(marks_list)\n",
        "  marks_list = []\n",
        "  for subject, marks in kwargs.items():\n",
        "    marks_list.append(marks)\n",
        "    print(f\"Score in {subject} is {marks}\")\n",
        "  return total_marks(marks_list)\n",
        "marks_in_sem(Digital_Image_Processing = 78, Microprocessor= 79, Signals_and_systems=83)"
      ],
      "metadata": {
        "colab": {
          "base_uri": "https://localhost:8080/"
        },
        "id": "pdETpUzC7ZgY",
        "outputId": "5ba6d2ac-411f-40f1-d0e0-258c7dd22281"
      },
      "execution_count": null,
      "outputs": [
        {
          "output_type": "stream",
          "name": "stdout",
          "text": [
            "Score in Digital_Image_Processing is 78\n",
            "Score in Microprocessor is 79\n",
            "Score in Signals_and_systems is 83\n"
          ]
        },
        {
          "output_type": "execute_result",
          "data": {
            "text/plain": [
              "240"
            ]
          },
          "metadata": {},
          "execution_count": 69
        }
      ]
    },
    {
      "cell_type": "code",
      "source": [
        "## write a program to swap the variable through function\n",
        "a = 5\n",
        "b = 2\n",
        "\n",
        "a,b = b,a\n",
        "b"
      ],
      "metadata": {
        "colab": {
          "base_uri": "https://localhost:8080/"
        },
        "id": "HnaeUtz_8ben",
        "outputId": "8693d10b-5a82-4e8c-84ea-222521b02b9d"
      },
      "execution_count": null,
      "outputs": [
        {
          "output_type": "execute_result",
          "data": {
            "text/plain": [
              "5"
            ]
          },
          "metadata": {},
          "execution_count": 72
        }
      ]
    },
    {
      "cell_type": "code",
      "source": [
        "a"
      ],
      "metadata": {
        "colab": {
          "base_uri": "https://localhost:8080/"
        },
        "id": "kR0VhuN8Akdb",
        "outputId": "2c557cb8-5fec-487b-a2a9-e7dfd9d6a731"
      },
      "execution_count": null,
      "outputs": [
        {
          "output_type": "execute_result",
          "data": {
            "text/plain": [
              "2"
            ]
          },
          "metadata": {},
          "execution_count": 73
        }
      ]
    },
    {
      "cell_type": "code",
      "source": [
        "def swap(x, y):\n",
        "    temp = x;\n",
        "    x = y;\n",
        "    y = temp;\n",
        "\n",
        "# call the function\n",
        "x = 2\n",
        "y = 3\n",
        "swap(x, y)\n",
        "print(x)\n",
        "print(y)"
      ],
      "metadata": {
        "colab": {
          "base_uri": "https://localhost:8080/"
        },
        "id": "fGzYuke-A56k",
        "outputId": "cc1485fe-76af-4ff5-8c4e-3e72fe1f7806"
      },
      "execution_count": null,
      "outputs": [
        {
          "output_type": "stream",
          "name": "stdout",
          "text": [
            "2\n",
            "3\n"
          ]
        }
      ]
    },
    {
      "cell_type": "code",
      "source": [
        "# define a function palindrome\n",
        "# get the list of all the inputs values, find if each word is a palindrome or not\n",
        "# display the result in 2 different list\n",
        "def pal(a):\n",
        "    pal = []\n",
        "    nonpal = []\n",
        "\n",
        "    for i in a:\n",
        "        i1 = i[::-1]\n",
        "        if(i == i1):\n",
        "            pal.append(i)\n",
        "        else:\n",
        "            nonpal.append(i)\n",
        "\n",
        "    print(\"pal : \", pal)\n",
        "    print(\"nonpal :\",nonpal)\n",
        "a = [\"greet\",\"wow\",\"learning\",\"madam\",\"awesome\"]\n",
        "pal(a)"
      ],
      "metadata": {
        "colab": {
          "base_uri": "https://localhost:8080/"
        },
        "id": "ar2SYl-u873H",
        "outputId": "14672a73-c118-4ff2-ed02-e868142c2a70"
      },
      "execution_count": null,
      "outputs": [
        {
          "output_type": "stream",
          "name": "stdout",
          "text": [
            "pal :  ['wow', 'madam']\n",
            "nonpal : ['greet', 'learning', 'awesome']\n"
          ]
        }
      ]
    },
    {
      "cell_type": "code",
      "source": [
        "#check if a given number is positive, negative or zero\n",
        "num = float(input(\"Enter a number: \"))\n",
        "\n",
        "def num_ver(num):\n",
        "    if num >= 0:\n",
        "       if num == 0:\n",
        "           print(\"Zero\")\n",
        "       else:\n",
        "           print(\"Positive number\")\n",
        "    else:\n",
        "       print(\"Negative number\")\n",
        "\n",
        "num_ver(num)"
      ],
      "metadata": {
        "colab": {
          "base_uri": "https://localhost:8080/"
        },
        "id": "H9sWsimx9KuC",
        "outputId": "0baa58b6-8b47-43fb-f9f0-93def9d86928"
      },
      "execution_count": null,
      "outputs": [
        {
          "output_type": "stream",
          "name": "stdout",
          "text": [
            "Enter a number: -1\n",
            "Negative number\n"
          ]
        }
      ]
    },
    {
      "cell_type": "code",
      "source": [
        "#### 2. Write a Python function to reverse a string use the while loop also?\n",
        "def reverse(string):\n",
        "    rstr1 = ''\n",
        "    index = len(string)\n",
        "    while index > 0:\n",
        "        rstr1 += string[ index - 1 ]\n",
        "        index = index - 1\n",
        "    return rstr1\n",
        "print(reverse('ASDFGHJKUYTREWQ654321123456'))"
      ],
      "metadata": {
        "colab": {
          "base_uri": "https://localhost:8080/"
        },
        "id": "HZqWvPiy9LwS",
        "outputId": "b97d110e-f187-4ad0-d458-852d4ff226ae"
      },
      "execution_count": null,
      "outputs": [
        {
          "output_type": "stream",
          "name": "stdout",
          "text": [
            "654321123456QWERTYUKJHGFDSA\n"
          ]
        }
      ]
    },
    {
      "cell_type": "code",
      "source": [
        "len(s) # 0-4"
      ],
      "metadata": {
        "colab": {
          "base_uri": "https://localhost:8080/"
        },
        "id": "awoqQizQDMoB",
        "outputId": "777dc032-d5ec-4df8-bb19-5176e165e59d"
      },
      "execution_count": null,
      "outputs": [
        {
          "output_type": "execute_result",
          "data": {
            "text/plain": [
              "5"
            ]
          },
          "metadata": {},
          "execution_count": 83
        }
      ]
    },
    {
      "cell_type": "code",
      "source": [
        "s = '12345'\n",
        "\n",
        "r = ''\n",
        "l = len(s)\n",
        "while l > 0:\n",
        "  r += s[l-1]\n",
        "  l =l- 1\n",
        "print(r)\n"
      ],
      "metadata": {
        "colab": {
          "base_uri": "https://localhost:8080/"
        },
        "id": "ZgSBop4tCwu6",
        "outputId": "d695dff5-a186-43db-c7b8-ab121e7a7e39"
      },
      "execution_count": null,
      "outputs": [
        {
          "output_type": "stream",
          "name": "stdout",
          "text": [
            "54321\n"
          ]
        }
      ]
    },
    {
      "cell_type": "markdown",
      "source": [
        "### Lambda Function\n",
        "\n",
        "A lambda function in Python is a small anonymous function defined using the lambda keyword. It's typically used for simple operations and is a way to create functions without a formal def declaration. Lambda functions are often used in scenarios where a short function is needed for a specific operation, especially in functional programming contexts or when a function is required as an argument to another function (map(), filter(), sorted(), etc.). However, they are typically not used for complex or lengthy operations, as their readability might decrease for such cases.\n",
        "\n",
        "#### Lambda Function syntax:\n",
        "\n",
        "    lambda arguments: expression\n",
        "    \n",
        "    \n",
        "    lambda: Keyword used to indicate the start of a lambda function.\n",
        "    arguments: Input parameters (arguments) that the lambda function can take. It can have zero or more arguments separated by commas, but it's typically used for simple functions with one or a few arguments.\n",
        "    expression: The operation or computation to be performed using the arguments. This expression is evaluated and returned as the result of the lambda function.\n"
      ],
      "metadata": {
        "id": "4Vh0u6y5CrCs"
      }
    },
    {
      "cell_type": "code",
      "source": [
        "# Regular function to add two numbers\n",
        "def add(x, y):\n",
        "    return x + y\n",
        "add_lambda = lambda x,y : x+y"
      ],
      "metadata": {
        "id": "0nG4iWOHAyJb"
      },
      "execution_count": null,
      "outputs": []
    },
    {
      "cell_type": "code",
      "source": [
        "add(2,3)"
      ],
      "metadata": {
        "colab": {
          "base_uri": "https://localhost:8080/"
        },
        "id": "ocvYHFf1EW_V",
        "outputId": "f8963108-54dc-4226-cfb3-843829c081d3"
      },
      "execution_count": null,
      "outputs": [
        {
          "output_type": "execute_result",
          "data": {
            "text/plain": [
              "5"
            ]
          },
          "metadata": {},
          "execution_count": 90
        }
      ]
    },
    {
      "cell_type": "code",
      "source": [
        "add_lambda(2,3)"
      ],
      "metadata": {
        "colab": {
          "base_uri": "https://localhost:8080/"
        },
        "id": "uyIgBESwEX_I",
        "outputId": "73a3682e-c21d-4b25-d8e1-dd2b36d9202e"
      },
      "execution_count": null,
      "outputs": [
        {
          "output_type": "execute_result",
          "data": {
            "text/plain": [
              "5"
            ]
          },
          "metadata": {},
          "execution_count": 92
        }
      ]
    },
    {
      "cell_type": "code",
      "source": [
        "def fun(x,y):\n",
        "    if(x>y):\n",
        "        return x\n",
        "    else:\n",
        "        return y\n",
        "print(fun(3,4))"
      ],
      "metadata": {
        "colab": {
          "base_uri": "https://localhost:8080/"
        },
        "id": "xBPQtRa1EYkn",
        "outputId": "b1726c03-7d20-481d-e633-c7703b2b1214"
      },
      "execution_count": null,
      "outputs": [
        {
          "output_type": "stream",
          "name": "stdout",
          "text": [
            "4\n"
          ]
        }
      ]
    },
    {
      "cell_type": "code",
      "source": [
        "fun_lambda = lambda x,y : x if x > y else y\n",
        "fun_lambda(8,12)"
      ],
      "metadata": {
        "colab": {
          "base_uri": "https://localhost:8080/"
        },
        "id": "BxfYU0f-EnSX",
        "outputId": "7ae27a31-2dd5-4584-a4b1-c8ff4a9f24b9"
      },
      "execution_count": null,
      "outputs": [
        {
          "output_type": "execute_result",
          "data": {
            "text/plain": [
              "12"
            ]
          },
          "metadata": {},
          "execution_count": 94
        }
      ]
    },
    {
      "cell_type": "code",
      "source": [
        "fun_lambda(2,12)"
      ],
      "metadata": {
        "colab": {
          "base_uri": "https://localhost:8080/"
        },
        "id": "1BrsG_kPE0de",
        "outputId": "b66fd83f-f933-4bf9-cc5a-59c958cc5233"
      },
      "execution_count": null,
      "outputs": [
        {
          "output_type": "execute_result",
          "data": {
            "text/plain": [
              "12"
            ]
          },
          "metadata": {},
          "execution_count": 95
        }
      ]
    },
    {
      "cell_type": "code",
      "source": [
        "fun_lambda(17,33)"
      ],
      "metadata": {
        "colab": {
          "base_uri": "https://localhost:8080/"
        },
        "id": "VqnJ7aHCE2i0",
        "outputId": "4822ac1b-c6be-4781-db41-161ea26de398"
      },
      "execution_count": null,
      "outputs": [
        {
          "output_type": "execute_result",
          "data": {
            "text/plain": [
              "33"
            ]
          },
          "metadata": {},
          "execution_count": 96
        }
      ]
    },
    {
      "cell_type": "code",
      "source": [
        "####  a is an argument and a+10 is an expression which got evaluated and returned.\n",
        "\n",
        "x = lambda a:a+10\n",
        "print(\"sum = \",x(20))"
      ],
      "metadata": {
        "colab": {
          "base_uri": "https://localhost:8080/"
        },
        "id": "4r4SpQp6E5Me",
        "outputId": "26f6f093-d5c6-4c17-93ae-0a1114cce7d8"
      },
      "execution_count": null,
      "outputs": [
        {
          "output_type": "stream",
          "name": "stdout",
          "text": [
            "sum =  30\n"
          ]
        }
      ]
    },
    {
      "cell_type": "code",
      "source": [
        "# cube using lambda function\n",
        "\n",
        "g = lambda x: x*x*x\n",
        "print(g(5))"
      ],
      "metadata": {
        "colab": {
          "base_uri": "https://localhost:8080/"
        },
        "id": "FVytjo3zFF9l",
        "outputId": "11f2fb0f-b173-402a-ef15-3cc8f7d8aecd"
      },
      "execution_count": null,
      "outputs": [
        {
          "output_type": "stream",
          "name": "stdout",
          "text": [
            "125\n"
          ]
        }
      ]
    },
    {
      "cell_type": "code",
      "source": [
        "mult = lambda a,b,c,d,e : a*b*c*d*e\n",
        "mult(2,3,4,5,6)"
      ],
      "metadata": {
        "colab": {
          "base_uri": "https://localhost:8080/"
        },
        "id": "4RkRYuD8FZg7",
        "outputId": "6231619b-a81f-4949-b690-98563c317a41"
      },
      "execution_count": null,
      "outputs": [
        {
          "output_type": "execute_result",
          "data": {
            "text/plain": [
              "720"
            ]
          },
          "metadata": {},
          "execution_count": 99
        }
      ]
    },
    {
      "cell_type": "code",
      "source": [
        "add = lambda *args : sum(args)"
      ],
      "metadata": {
        "id": "1aBFGWQrFilo"
      },
      "execution_count": null,
      "outputs": []
    },
    {
      "cell_type": "code",
      "source": [
        "add(2,3,4,5,5)"
      ],
      "metadata": {
        "colab": {
          "base_uri": "https://localhost:8080/"
        },
        "id": "JDgJTLW_FzGZ",
        "outputId": "23771d9d-e4e8-4948-b94f-d8e17e6769af"
      },
      "execution_count": null,
      "outputs": [
        {
          "output_type": "execute_result",
          "data": {
            "text/plain": [
              "19"
            ]
          },
          "metadata": {},
          "execution_count": 102
        }
      ]
    },
    {
      "cell_type": "markdown",
      "source": [
        "## Map function\n",
        "\n",
        "The map() function in Python is used to apply a specified function to each item in an iterable (like a list) and returns an iterator that yields the results. It's a way to efficiently perform operations on all elements of a sequence without using explicit loops.\n",
        "\n",
        "### Map function syntax\n",
        "\n",
        "    map(function, iterable)\n",
        "\n",
        "    function: A function that will be applied to each item of the iterable.\n",
        "    iterable: An iterable (e.g., list, tuple, etc.) whose elements will be passed to the function one by one.\n",
        "    \n",
        "The map() function is useful when you want to transform each element of an iterable using a specific function. It's often used in combination with lambda functions to perform quick operations on elements without writing explicit loops."
      ],
      "metadata": {
        "id": "8yktcUEBGMus"
      }
    },
    {
      "cell_type": "code",
      "source": [
        "def square(x):\n",
        "    return x * x\n",
        "square(6)"
      ],
      "metadata": {
        "colab": {
          "base_uri": "https://localhost:8080/"
        },
        "id": "khs-Yc5OF1G7",
        "outputId": "9d4e6948-84c8-4821-c23f-3cd1593c2674"
      },
      "execution_count": null,
      "outputs": [
        {
          "output_type": "execute_result",
          "data": {
            "text/plain": [
              "36"
            ]
          },
          "metadata": {},
          "execution_count": 104
        }
      ]
    },
    {
      "cell_type": "code",
      "source": [
        "numbers = [1, 2, 3, 4, 5]"
      ],
      "metadata": {
        "id": "qR2yXkViGsd2"
      },
      "execution_count": null,
      "outputs": []
    },
    {
      "cell_type": "code",
      "source": [
        "list(map(square,numbers ))"
      ],
      "metadata": {
        "colab": {
          "base_uri": "https://localhost:8080/"
        },
        "id": "0tXdCI45Ghgc",
        "outputId": "19eb3799-7f10-43f3-b68e-ad28a6b6d2c9"
      },
      "execution_count": null,
      "outputs": [
        {
          "output_type": "execute_result",
          "data": {
            "text/plain": [
              "[1, 4, 9, 16, 25]"
            ]
          },
          "metadata": {},
          "execution_count": 107
        }
      ]
    },
    {
      "cell_type": "code",
      "source": [
        "map(square,numbers )"
      ],
      "metadata": {
        "colab": {
          "base_uri": "https://localhost:8080/"
        },
        "id": "mTGm3u1gGmJb",
        "outputId": "b8965604-88c5-4de3-a4ec-638b91b5bab8"
      },
      "execution_count": null,
      "outputs": [
        {
          "output_type": "execute_result",
          "data": {
            "text/plain": [
              "<map at 0x7a96b8619690>"
            ]
          },
          "metadata": {},
          "execution_count": 108
        }
      ]
    },
    {
      "cell_type": "code",
      "source": [
        "str(numbers)"
      ],
      "metadata": {
        "colab": {
          "base_uri": "https://localhost:8080/",
          "height": 35
        },
        "id": "Z8j3iEqkG3Yc",
        "outputId": "67bbed0d-41ce-4104-f8bf-987ca47648c8"
      },
      "execution_count": null,
      "outputs": [
        {
          "output_type": "execute_result",
          "data": {
            "text/plain": [
              "'[1, 2, 3, 4, 5]'"
            ],
            "application/vnd.google.colaboratory.intrinsic+json": {
              "type": "string"
            }
          },
          "metadata": {},
          "execution_count": 109
        }
      ]
    },
    {
      "cell_type": "code",
      "source": [
        "r = []\n",
        "for i in numbers:\n",
        "  r.append(str(i))"
      ],
      "metadata": {
        "id": "FRIZ-WvIHDm9"
      },
      "execution_count": null,
      "outputs": []
    },
    {
      "cell_type": "code",
      "source": [
        "r"
      ],
      "metadata": {
        "colab": {
          "base_uri": "https://localhost:8080/"
        },
        "id": "pFReiKtcHLSM",
        "outputId": "d12d6151-5489-4d14-ecd9-0d3874eadec1"
      },
      "execution_count": null,
      "outputs": [
        {
          "output_type": "execute_result",
          "data": {
            "text/plain": [
              "['1', '2', '3', '4', '5']"
            ]
          },
          "metadata": {},
          "execution_count": 111
        }
      ]
    },
    {
      "cell_type": "code",
      "source": [
        "tuple(map(str, numbers))"
      ],
      "metadata": {
        "colab": {
          "base_uri": "https://localhost:8080/"
        },
        "id": "xQ3DF8UHHLxB",
        "outputId": "2cb6d689-37e1-4fc4-91f8-9c719b0308bb"
      },
      "execution_count": null,
      "outputs": [
        {
          "output_type": "execute_result",
          "data": {
            "text/plain": [
              "('1', '2', '3', '4', '5')"
            ]
          },
          "metadata": {},
          "execution_count": 112
        }
      ]
    },
    {
      "cell_type": "code",
      "source": [
        "words = ['apple', 'banana', 'orange', 'kiwi']\n",
        "word_lengths = map(len, words)\n",
        "print(list(word_lengths))"
      ],
      "metadata": {
        "colab": {
          "base_uri": "https://localhost:8080/"
        },
        "id": "UKisSLTjHRA0",
        "outputId": "c2857cff-4aae-492e-ad59-1b904aad0f2c"
      },
      "execution_count": null,
      "outputs": [
        {
          "output_type": "stream",
          "name": "stdout",
          "text": [
            "[5, 6, 6, 4]\n"
          ]
        }
      ]
    },
    {
      "cell_type": "markdown",
      "source": [
        "#### Lambda with Map Syntax:\n",
        "\n",
        "    map(lambda arguments: expression, iterable)\n"
      ],
      "metadata": {
        "id": "E1YqPq2hHxX8"
      }
    },
    {
      "cell_type": "code",
      "source": [
        "# Map will return all the element of the status for which the condition is satisfied\n",
        "n = [2,11,5,7]\n",
        "list(map(lambda x : x >10, n))"
      ],
      "metadata": {
        "colab": {
          "base_uri": "https://localhost:8080/"
        },
        "id": "rb05lN7nHq9N",
        "outputId": "d8f276cf-8549-403e-a261-237929ae1bac"
      },
      "execution_count": null,
      "outputs": [
        {
          "output_type": "execute_result",
          "data": {
            "text/plain": [
              "[False, True, False, False]"
            ]
          },
          "metadata": {},
          "execution_count": 114
        }
      ]
    },
    {
      "cell_type": "code",
      "source": [
        "def fun1(list1):\n",
        "    list2 = []\n",
        "    for number in list1:\n",
        "        list2.append(number**2)\n",
        "    return list2\n",
        "print(fun1([2,1,5,7]))"
      ],
      "metadata": {
        "colab": {
          "base_uri": "https://localhost:8080/"
        },
        "id": "hjNm6BJ2ID-c",
        "outputId": "b7b0fc88-d0a0-4610-f1e0-feaa6a5ab1e4"
      },
      "execution_count": null,
      "outputs": [
        {
          "output_type": "stream",
          "name": "stdout",
          "text": [
            "[4, 1, 25, 49]\n"
          ]
        }
      ]
    },
    {
      "cell_type": "code",
      "source": [
        "n = [2,1,5,7]\n",
        "list(map(lambda x : x ** 2, n))"
      ],
      "metadata": {
        "colab": {
          "base_uri": "https://localhost:8080/"
        },
        "id": "XHNB8rdhINJh",
        "outputId": "83d16423-34e2-4e6d-8d66-bb9b679bf2aa"
      },
      "execution_count": null,
      "outputs": [
        {
          "output_type": "execute_result",
          "data": {
            "text/plain": [
              "[4, 1, 25, 49]"
            ]
          },
          "metadata": {},
          "execution_count": 116
        }
      ]
    },
    {
      "cell_type": "code",
      "source": [
        "numbers=[1,2,3,4,5,6,7,8,9,10,14]\n",
        "list(map(lambda x : x % 3 == 0,numbers))"
      ],
      "metadata": {
        "colab": {
          "base_uri": "https://localhost:8080/"
        },
        "id": "n7GISX-dItCO",
        "outputId": "b390a3cf-f840-4abb-bc4b-c21e8a979fb7"
      },
      "execution_count": null,
      "outputs": [
        {
          "output_type": "execute_result",
          "data": {
            "text/plain": [
              "[False, False, True, False, False, True, False, False, True, False, False]"
            ]
          },
          "metadata": {},
          "execution_count": 117
        }
      ]
    },
    {
      "cell_type": "markdown",
      "source": [],
      "metadata": {
        "id": "r0GM07gjJTe6"
      }
    },
    {
      "cell_type": "code",
      "source": [
        "#### 1.Program to triple each number of the list using map\n",
        "\n",
        "l = [1,2,3,4,10,123,22]\n",
        "r = []\n",
        "for i in l:\n",
        "  r.append(i**3)"
      ],
      "metadata": {
        "id": "C2iy5T8iI9pH"
      },
      "execution_count": null,
      "outputs": []
    },
    {
      "cell_type": "code",
      "source": [
        "r"
      ],
      "metadata": {
        "colab": {
          "base_uri": "https://localhost:8080/"
        },
        "id": "lLwDQqWLJUhX",
        "outputId": "2e042e9d-fa02-47d7-f01b-838327c8f4fa"
      },
      "execution_count": null,
      "outputs": [
        {
          "output_type": "execute_result",
          "data": {
            "text/plain": [
              "[1, 8, 27, 64, 1000, 1860867, 10648]"
            ]
          },
          "metadata": {},
          "execution_count": 120
        }
      ]
    },
    {
      "cell_type": "code",
      "source": [
        "list(map(lambda x : x ** 3, l))"
      ],
      "metadata": {
        "colab": {
          "base_uri": "https://localhost:8080/"
        },
        "id": "OP5mKsLfJe0c",
        "outputId": "f3a17978-690b-48d8-f360-243e2b96e6a1"
      },
      "execution_count": null,
      "outputs": [
        {
          "output_type": "execute_result",
          "data": {
            "text/plain": [
              "[1, 8, 27, 64, 1000, 1860867, 10648]"
            ]
          },
          "metadata": {},
          "execution_count": 122
        }
      ]
    },
    {
      "cell_type": "code",
      "source": [
        "#### 2.Create lambda function calculate the remainder after dividing each number by 2?\n",
        "numbers_list = [2, 6, 8, 10, 11, 4, 12, 7, 13, 17, 0, 3, 21]\n",
        "\n",
        "mapped_list = list(map(lambda num: num % 2, numbers_list))\n",
        "\n",
        "print(mapped_list)"
      ],
      "metadata": {
        "colab": {
          "base_uri": "https://localhost:8080/"
        },
        "id": "4NGwZMXvJl9x",
        "outputId": "84bba10c-cb32-41fc-8647-b426b6b5b4bb"
      },
      "execution_count": null,
      "outputs": [
        {
          "output_type": "stream",
          "name": "stdout",
          "text": [
            "[0, 0, 0, 0, 1, 0, 0, 1, 1, 1, 0, 1, 1]\n"
          ]
        }
      ]
    },
    {
      "cell_type": "code",
      "source": [
        "dict_a = [{'name': 'python', 'points': 10}, {'name': 'java', 'points': 8}]\n",
        "print(dict_a)"
      ],
      "metadata": {
        "colab": {
          "base_uri": "https://localhost:8080/"
        },
        "id": "PJIi9H55KWkr",
        "outputId": "a51a610e-2bf7-47df-c19b-03b0087d7f3d"
      },
      "execution_count": null,
      "outputs": [
        {
          "output_type": "stream",
          "name": "stdout",
          "text": [
            "[{'name': 'python', 'points': 10}, {'name': 'java', 'points': 8}]\n"
          ]
        }
      ]
    },
    {
      "cell_type": "code",
      "source": [
        "print(list(map(lambda x : x['name'], dict_a)))\n",
        "\n",
        "print(list(map(lambda x : x['points']*10,  dict_a) ))\n",
        "\n",
        "print(list(map(lambda x : x['name'] == \"python\", dict_a)))"
      ],
      "metadata": {
        "colab": {
          "base_uri": "https://localhost:8080/"
        },
        "id": "lJ1jgrASKQNq",
        "outputId": "a3a8ff53-2b03-4594-c551-acf585ae985e"
      },
      "execution_count": null,
      "outputs": [
        {
          "output_type": "stream",
          "name": "stdout",
          "text": [
            "['python', 'java']\n",
            "[100, 80]\n",
            "[True, False]\n"
          ]
        }
      ]
    },
    {
      "cell_type": "code",
      "source": [
        "my_dict = {'a': 1, 'b': 2, 'c': 3}\n",
        "{key: value for key, value in map(lambda i: (i[0], i[1] *2), my_dict.items())}"
      ],
      "metadata": {
        "colab": {
          "base_uri": "https://localhost:8080/"
        },
        "id": "DCe0S7QBLNJ2",
        "outputId": "fc61b623-0b61-4183-96de-c7ca1679e566"
      },
      "execution_count": null,
      "outputs": [
        {
          "output_type": "execute_result",
          "data": {
            "text/plain": [
              "{'a': 2, 'b': 4, 'c': 6}"
            ]
          },
          "metadata": {},
          "execution_count": 126
        }
      ]
    },
    {
      "cell_type": "markdown",
      "source": [
        "#### 1.Write a Python function check the 3 is prime or not?"
      ],
      "metadata": {
        "id": "6W8P919XKxTT"
      }
    },
    {
      "cell_type": "code",
      "source": [],
      "metadata": {
        "id": "wv76pOjoKbi-"
      },
      "execution_count": null,
      "outputs": []
    },
    {
      "cell_type": "markdown",
      "source": [
        "#### 2. Required arguments: (the function calculate returns the sum of two arguments a and b )"
      ],
      "metadata": {
        "id": "VwZTY_qPK7S5"
      }
    },
    {
      "cell_type": "code",
      "source": [],
      "metadata": {
        "id": "Z89CIOIuK666"
      },
      "execution_count": null,
      "outputs": []
    },
    {
      "cell_type": "markdown",
      "source": [
        "#### 3.Keyword arguments:(The function simple_interest(p, t, r) is called with the keyword arguments)"
      ],
      "metadata": {
        "id": "L9Q-MuHFL-UC"
      }
    },
    {
      "cell_type": "code",
      "source": [],
      "metadata": {
        "id": "EcSjj7V4L_MZ"
      },
      "execution_count": null,
      "outputs": []
    },
    {
      "cell_type": "markdown",
      "source": [
        "#### 4. Default arguments"
      ],
      "metadata": {
        "id": "6_xA2vjVMBhM"
      }
    },
    {
      "cell_type": "code",
      "source": [],
      "metadata": {
        "id": "tcg4o6E7MB52"
      },
      "execution_count": null,
      "outputs": []
    },
    {
      "cell_type": "markdown",
      "source": [
        "###### 5. Write a map function to find if the given list = [15, 47, 122, 48, 54, 562, 80, 923, 173, 461]  is divisible by 16 output is boolean ?"
      ],
      "metadata": {
        "id": "-pG8wFsmMFaK"
      }
    },
    {
      "cell_type": "code",
      "source": [],
      "metadata": {
        "id": "xD_Ym8-SMGTB"
      },
      "execution_count": null,
      "outputs": []
    },
    {
      "cell_type": "markdown",
      "source": [
        "###### 6. Use the map() function to calculate the cube of all numbers in the given list: lis1 = [2,4,5,6677,353,464]\n"
      ],
      "metadata": {
        "id": "hIB4A6siMHy2"
      }
    },
    {
      "cell_type": "code",
      "source": [],
      "metadata": {
        "id": "cMXcRP3hMIm4"
      },
      "execution_count": null,
      "outputs": []
    },
    {
      "cell_type": "markdown",
      "source": [
        "##### Create a user defined function for calculating fibonacci series"
      ],
      "metadata": {
        "id": "OKdQguWfNOMO"
      }
    },
    {
      "cell_type": "code",
      "source": [
        "\n",
        "fib = lambda n: n if n <=1 else fib(n-1) + fib(n-2)\n",
        "[fib(i) for i in range(10)]"
      ],
      "metadata": {
        "id": "wIQwDA7DMlZU"
      },
      "execution_count": null,
      "outputs": []
    }
  ]
}