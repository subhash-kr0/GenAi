{
  "nbformat": 4,
  "nbformat_minor": 0,
  "metadata": {
    "colab": {
      "provenance": []
    },
    "kernelspec": {
      "name": "python3",
      "display_name": "Python 3"
    },
    "language_info": {
      "name": "python"
    }
  },
  "cells": [
    {
      "cell_type": "markdown",
      "source": [
        "# Data Encoding & Nominal Encoding\n",
        "\n",
        "## Introduction to Data Encoding\n",
        "* Data encoding refers to the process of converting categorical or qualitative data into a numerical format that can be easily processed by machine learning algorithms.\n",
        "* It plays a crucial role in preparing and structuring data for analysis and model training.\n",
        "* Many machine learning algorithms, especially those based on mathematical equations, require numerical input.\n",
        "\n",
        "## Understanding Nominal Encoding\n",
        "* Define nominal encoding as a technique used to represent categorical data where no order or ranking is implied among the categories.\n",
        "* Emphasize that nominal encoding transforms categories into unique numerical representations, allowing machine learning algorithms to understand and process them effectively.\n",
        "\n"
      ],
      "metadata": {
        "id": "2QMEnl8e1qrI"
      }
    },
    {
      "cell_type": "code",
      "source": [
        "import pandas as pd\n",
        "from sklearn.datasets import load_iris\n",
        "from sklearn.model_selection import train_test_split\n",
        "from sklearn.preprocessing import LabelEncoder, OneHotEncoder\n",
        "\n",
        "# Load the Iris dataset\n",
        "iris = load_iris()\n",
        "data = iris.data\n",
        "target = iris.target\n",
        "\n",
        "# Create a DataFrame from the dataset\n",
        "columns = [f\"feature_{i}\" for i in range(data.shape[1])]\n",
        "df = pd.DataFrame(data, columns=columns)\n",
        "df[\"target\"] = target\n",
        "\n",
        "# Display the original DataFrame\n",
        "print(\"Original DataFrame:\")\n",
        "print(df.head())\n",
        "\n",
        "# Label Encoding for the 'target' column\n",
        "le = LabelEncoder()\n",
        "df['target_encoded'] = le.fit_transform(df['target'])\n",
        "\n",
        "# Display the DataFrame after Label Encoding\n",
        "print(\"\\nDataFrame after Label Encoding:\")\n",
        "print(df.head())\n",
        "\n"
      ],
      "metadata": {
        "colab": {
          "base_uri": "https://localhost:8080/"
        },
        "id": "ebjebhJq4GCG",
        "outputId": "3bd23b11-b430-44f2-cb13-df8f57336af2"
      },
      "execution_count": null,
      "outputs": [
        {
          "output_type": "stream",
          "name": "stdout",
          "text": [
            "Original DataFrame:\n",
            "   feature_0  feature_1  feature_2  feature_3  target\n",
            "0        5.1        3.5        1.4        0.2       0\n",
            "1        4.9        3.0        1.4        0.2       0\n",
            "2        4.7        3.2        1.3        0.2       0\n",
            "3        4.6        3.1        1.5        0.2       0\n",
            "4        5.0        3.6        1.4        0.2       0\n",
            "\n",
            "DataFrame after Label Encoding:\n",
            "   feature_0  feature_1  feature_2  feature_3  target  target_encoded\n",
            "0        5.1        3.5        1.4        0.2       0               0\n",
            "1        4.9        3.0        1.4        0.2       0               0\n",
            "2        4.7        3.2        1.3        0.2       0               0\n",
            "3        4.6        3.1        1.5        0.2       0               0\n",
            "4        5.0        3.6        1.4        0.2       0               0\n"
          ]
        }
      ]
    },
    {
      "cell_type": "code",
      "source": [
        "\n",
        "# One-Hot Encoding for the 'target' column\n",
        "ohe = OneHotEncoder(sparse=False)\n",
        "ohe_result = ohe.fit_transform(df[['target']])\n",
        "\n",
        "# Create a new DataFrame for One-Hot Encoding results\n",
        "ohe_df = pd.DataFrame(ohe_result, columns=[f\"target_{i}\" for i in range(ohe_result.shape[1])])\n",
        "\n",
        "# Concatenate the One-Hot Encoding DataFrame with the original DataFrame\n",
        "df = pd.concat([df, ohe_df], axis=1)\n",
        "\n",
        "# Display the DataFrame after One-Hot Encoding\n",
        "print(\"\\nDataFrame after One-Hot Encoding:\")\n",
        "print(df.head())\n",
        "\n",
        "# Split the data into training and testing sets\n",
        "X_train, X_test, y_train, y_test = train_test_split(df.drop(['target', 'target_encoded'] + ohe_df.columns.tolist(), axis=1),\n",
        "                                                    df['target_encoded'], test_size=0.2, random_state=42)\n",
        "\n"
      ],
      "metadata": {
        "colab": {
          "base_uri": "https://localhost:8080/"
        },
        "id": "qvKy67pt4rL_",
        "outputId": "65089ce5-7f13-43a2-882a-3de80858762c"
      },
      "execution_count": null,
      "outputs": [
        {
          "output_type": "stream",
          "name": "stdout",
          "text": [
            "\n",
            "DataFrame after One-Hot Encoding:\n",
            "   feature_0  feature_1  feature_2  feature_3  target  target_encoded  \\\n",
            "0        5.1        3.5        1.4        0.2       0               0   \n",
            "1        4.9        3.0        1.4        0.2       0               0   \n",
            "2        4.7        3.2        1.3        0.2       0               0   \n",
            "3        4.6        3.1        1.5        0.2       0               0   \n",
            "4        5.0        3.6        1.4        0.2       0               0   \n",
            "\n",
            "   target_0  target_1  target_2  \n",
            "0       1.0       0.0       0.0  \n",
            "1       1.0       0.0       0.0  \n",
            "2       1.0       0.0       0.0  \n",
            "3       1.0       0.0       0.0  \n",
            "4       1.0       0.0       0.0  \n"
          ]
        },
        {
          "output_type": "stream",
          "name": "stderr",
          "text": [
            "/usr/local/lib/python3.10/dist-packages/sklearn/preprocessing/_encoders.py:868: FutureWarning: `sparse` was renamed to `sparse_output` in version 1.2 and will be removed in 1.4. `sparse_output` is ignored unless you leave `sparse` to its default value.\n",
            "  warnings.warn(\n"
          ]
        }
      ]
    },
    {
      "cell_type": "code",
      "source": [
        "# Display the training and testing sets\n",
        "print(\"\\nTraining Set:\")\n",
        "print(X_train.head())\n",
        "print(\"\\nTesting Set:\")\n",
        "print(X_test.head())\n"
      ],
      "metadata": {
        "colab": {
          "base_uri": "https://localhost:8080/"
        },
        "id": "9cRVl0zz5Ct3",
        "outputId": "cc894ca1-446e-4c25-f48b-0192f9cdf084"
      },
      "execution_count": null,
      "outputs": [
        {
          "output_type": "stream",
          "name": "stdout",
          "text": [
            "\n",
            "Training Set:\n",
            "    feature_0  feature_1  feature_2  feature_3\n",
            "22        4.6        3.6        1.0        0.2\n",
            "15        5.7        4.4        1.5        0.4\n",
            "65        6.7        3.1        4.4        1.4\n",
            "11        4.8        3.4        1.6        0.2\n",
            "42        4.4        3.2        1.3        0.2\n",
            "\n",
            "Testing Set:\n",
            "     feature_0  feature_1  feature_2  feature_3\n",
            "73         6.1        2.8        4.7        1.2\n",
            "18         5.7        3.8        1.7        0.3\n",
            "118        7.7        2.6        6.9        2.3\n",
            "78         6.0        2.9        4.5        1.5\n",
            "76         6.8        2.8        4.8        1.4\n"
          ]
        }
      ]
    },
    {
      "cell_type": "code",
      "source": [],
      "metadata": {
        "id": "f40AxAAD5EEH"
      },
      "execution_count": null,
      "outputs": []
    }
  ]
}