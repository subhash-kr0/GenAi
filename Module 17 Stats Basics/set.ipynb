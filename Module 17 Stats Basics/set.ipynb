{
 "cells": [
  {
   "cell_type": "code",
   "execution_count": 1,
   "id": "e97cd112",
   "metadata": {},
   "outputs": [],
   "source": [
    "s = {1, 2, 2, 3, 4, 4}"
   ]
  },
  {
   "cell_type": "code",
   "execution_count": 2,
   "id": "7a751fbf",
   "metadata": {},
   "outputs": [
    {
     "data": {
      "text/plain": [
       "{1, 2, 3, 4}"
      ]
     },
     "execution_count": 2,
     "metadata": {},
     "output_type": "execute_result"
    }
   ],
   "source": [
    "s #distinct element"
   ]
  },
  {
   "cell_type": "code",
   "execution_count": 4,
   "id": "e9c3335b",
   "metadata": {},
   "outputs": [
    {
     "ename": "TypeError",
     "evalue": "'set' object does not support item assignment",
     "output_type": "error",
     "traceback": [
      "\u001b[1;31m---------------------------------------------------------------------------\u001b[0m",
      "\u001b[1;31mTypeError\u001b[0m                                 Traceback (most recent call last)",
      "Cell \u001b[1;32mIn[4], line 2\u001b[0m\n\u001b[0;32m      1\u001b[0m \u001b[38;5;66;03m#unordered, immutable, unique\u001b[39;00m\n\u001b[1;32m----> 2\u001b[0m s[\u001b[38;5;241m0\u001b[39m] \u001b[38;5;241m=\u001b[39m\u001b[38;5;241m1\u001b[39m\n",
      "\u001b[1;31mTypeError\u001b[0m: 'set' object does not support item assignment"
     ]
    }
   ],
   "source": [
    "#unordered, immutable, unique\n",
    "s[0] #it will throw error"
   ]
  },
  {
   "cell_type": "code",
   "execution_count": 6,
   "id": "8cd48a09",
   "metadata": {},
   "outputs": [
    {
     "data": {
      "text/plain": [
       "4"
      ]
     },
     "execution_count": 6,
     "metadata": {},
     "output_type": "execute_result"
    }
   ],
   "source": [
    "max(s)"
   ]
  },
  {
   "cell_type": "code",
   "execution_count": 7,
   "id": "314c8f5d",
   "metadata": {},
   "outputs": [
    {
     "data": {
      "text/plain": [
       "10"
      ]
     },
     "execution_count": 7,
     "metadata": {},
     "output_type": "execute_result"
    }
   ],
   "source": [
    "sum(s)"
   ]
  },
  {
   "cell_type": "code",
   "execution_count": 8,
   "id": "a5e7eb71",
   "metadata": {},
   "outputs": [
    {
     "data": {
      "text/plain": [
       "1"
      ]
     },
     "execution_count": 8,
     "metadata": {},
     "output_type": "execute_result"
    }
   ],
   "source": [
    "min(s)"
   ]
  },
  {
   "cell_type": "code",
   "execution_count": 9,
   "id": "1e46ae29",
   "metadata": {},
   "outputs": [
    {
     "data": {
      "text/plain": [
       "[1, 2, 3, 4]"
      ]
     },
     "execution_count": 9,
     "metadata": {},
     "output_type": "execute_result"
    }
   ],
   "source": [
    "sorted(s)"
   ]
  },
  {
   "cell_type": "code",
   "execution_count": 10,
   "id": "57d21ac7",
   "metadata": {},
   "outputs": [],
   "source": [
    "#set operation>> union, intersection, difference, superset, subset, symmetric difference"
   ]
  },
  {
   "cell_type": "code",
   "execution_count": 11,
   "id": "f1de0aec",
   "metadata": {},
   "outputs": [],
   "source": [
    "set1 = {34, 67, 78, 100}\n",
    "set2 = {67, 78}"
   ]
  },
  {
   "cell_type": "code",
   "execution_count": 12,
   "id": "4e12ec54",
   "metadata": {},
   "outputs": [
    {
     "data": {
      "text/plain": [
       "{67, 78}"
      ]
     },
     "execution_count": 12,
     "metadata": {},
     "output_type": "execute_result"
    }
   ],
   "source": [
    "set1 & set2 #intersection"
   ]
  },
  {
   "cell_type": "code",
   "execution_count": 13,
   "id": "b9d63e13",
   "metadata": {},
   "outputs": [
    {
     "data": {
      "text/plain": [
       "{67, 78}"
      ]
     },
     "execution_count": 13,
     "metadata": {},
     "output_type": "execute_result"
    }
   ],
   "source": [
    "set1.intersection(set2) #intersection"
   ]
  },
  {
   "cell_type": "code",
   "execution_count": 14,
   "id": "b21342d4",
   "metadata": {},
   "outputs": [
    {
     "data": {
      "text/plain": [
       "{34, 67, 78, 100}"
      ]
     },
     "execution_count": 14,
     "metadata": {},
     "output_type": "execute_result"
    }
   ],
   "source": [
    "set1 | set2 #union"
   ]
  },
  {
   "cell_type": "code",
   "execution_count": 15,
   "id": "e7c3d2fd",
   "metadata": {},
   "outputs": [
    {
     "data": {
      "text/plain": [
       "{34, 67, 78, 100}"
      ]
     },
     "execution_count": 15,
     "metadata": {},
     "output_type": "execute_result"
    }
   ],
   "source": [
    "set1.union(set2) #union"
   ]
  },
  {
   "cell_type": "code",
   "execution_count": 16,
   "id": "fe956c72",
   "metadata": {},
   "outputs": [
    {
     "data": {
      "text/plain": [
       "{34, 100}"
      ]
     },
     "execution_count": 16,
     "metadata": {},
     "output_type": "execute_result"
    }
   ],
   "source": [
    "set1 - set2 #difference"
   ]
  },
  {
   "cell_type": "code",
   "execution_count": 17,
   "id": "bbf01bae",
   "metadata": {},
   "outputs": [
    {
     "data": {
      "text/plain": [
       "{34, 100}"
      ]
     },
     "execution_count": 17,
     "metadata": {},
     "output_type": "execute_result"
    }
   ],
   "source": [
    "set1.difference(set2) #difference"
   ]
  },
  {
   "cell_type": "code",
   "execution_count": 18,
   "id": "9e6f3fb9",
   "metadata": {},
   "outputs": [
    {
     "data": {
      "text/plain": [
       "True"
      ]
     },
     "execution_count": 18,
     "metadata": {},
     "output_type": "execute_result"
    }
   ],
   "source": [
    "set1.issuperset(set2) #superset"
   ]
  },
  {
   "cell_type": "code",
   "execution_count": 19,
   "id": "ddddb482",
   "metadata": {},
   "outputs": [
    {
     "data": {
      "text/plain": [
       "False"
      ]
     },
     "execution_count": 19,
     "metadata": {},
     "output_type": "execute_result"
    }
   ],
   "source": [
    "set1.issubset(set2) #subset"
   ]
  },
  {
   "cell_type": "code",
   "execution_count": 20,
   "id": "78f0a2ef",
   "metadata": {},
   "outputs": [
    {
     "data": {
      "text/plain": [
       "True"
      ]
     },
     "execution_count": 20,
     "metadata": {},
     "output_type": "execute_result"
    }
   ],
   "source": [
    "set2.issubset(set1) #subset"
   ]
  },
  {
   "cell_type": "code",
   "execution_count": 21,
   "id": "85004a55",
   "metadata": {},
   "outputs": [
    {
     "data": {
      "text/plain": [
       "False"
      ]
     },
     "execution_count": 21,
     "metadata": {},
     "output_type": "execute_result"
    }
   ],
   "source": [
    "set2.issuperset(set1) #superset"
   ]
  },
  {
   "cell_type": "code",
   "execution_count": 23,
   "id": "270c7c6a",
   "metadata": {},
   "outputs": [
    {
     "data": {
      "text/plain": [
       "{34, 100, 102}"
      ]
     },
     "execution_count": 23,
     "metadata": {},
     "output_type": "execute_result"
    }
   ],
   "source": [
    "#symmetric difference\n",
    "set1 = {34, 67, 78, 100}\n",
    "set2 = {67, 78, 102}\n",
    "set1.symmetric_difference(set2)"
   ]
  },
  {
   "cell_type": "code",
   "execution_count": 24,
   "id": "594bd53b",
   "metadata": {},
   "outputs": [
    {
     "data": {
      "text/plain": [
       "{34, 100, 102}"
      ]
     },
     "execution_count": 24,
     "metadata": {},
     "output_type": "execute_result"
    }
   ],
   "source": [
    "set1 ^ set2"
   ]
  },
  {
   "cell_type": "code",
   "execution_count": null,
   "id": "a6663938",
   "metadata": {},
   "outputs": [],
   "source": []
  }
 ],
 "metadata": {
  "kernelspec": {
   "display_name": "Python 3 (ipykernel)",
   "language": "python",
   "name": "python3"
  },
  "language_info": {
   "codemirror_mode": {
    "name": "ipython",
    "version": 3
   },
   "file_extension": ".py",
   "mimetype": "text/x-python",
   "name": "python",
   "nbconvert_exporter": "python",
   "pygments_lexer": "ipython3",
   "version": "3.11.4"
  }
 },
 "nbformat": 4,
 "nbformat_minor": 5
}
