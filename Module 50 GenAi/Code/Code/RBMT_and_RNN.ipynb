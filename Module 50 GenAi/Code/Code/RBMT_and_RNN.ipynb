{
  "nbformat": 4,
  "nbformat_minor": 0,
  "metadata": {
    "colab": {
      "provenance": []
    },
    "kernelspec": {
      "name": "python3",
      "display_name": "Python 3"
    },
    "language_info": {
      "name": "python"
    }
  },
  "cells": [
    {
      "cell_type": "code",
      "execution_count": null,
      "metadata": {
        "id": "hQhTD6ehvyqe"
      },
      "outputs": [],
      "source": [
        "class RuleBased_Translator:\n",
        "  def __init__(self):\n",
        "    # Linguistic rule database for english to french\n",
        "    self.translation_rules = {\n",
        "        'lexical_map' : {\n",
        "            'en' : {\n",
        "                # source language word --> target language word\n",
        "                'hello': 'bonjour',\n",
        "                'world': 'monde'\n",
        "            },\n",
        "            'grammar_rules' :{\n",
        "                # English to French noun-adjective order\n",
        "                'adj_noun_swap': lambda adj, noun: f\"{noun} {adj}\"\n",
        "            }\n",
        "        }\n",
        "    }\n",
        "\n",
        "  def translate(self, text, source_lang = 'en', target_lang = 'fr'):\n",
        "\n",
        "      # Tokenization and lexical translation\n",
        "      tokens = text.lower().split()\n",
        "\n",
        "      print(\"Source lang tokens\", tokens)\n",
        "\n",
        "      translated = [\n",
        "          self.translation_rules['lexical_map']['en'].get(token, token)\n",
        "          for token in tokens\n",
        "      ]\n",
        "\n",
        "      print(translated)\n",
        "\n",
        "      return ' '.join(translated)"
      ]
    },
    {
      "cell_type": "code",
      "source": [
        "trans = RuleBased_Translator()\n",
        "\n",
        "# trans.translate()\n",
        "\n",
        "\n",
        "trans.translate(\"hello world\")"
      ],
      "metadata": {
        "colab": {
          "base_uri": "https://localhost:8080/",
          "height": 71
        },
        "id": "OYVhueYzw2fd",
        "outputId": "60eb4202-de4a-4763-e8c1-a4f5b4530922"
      },
      "execution_count": null,
      "outputs": [
        {
          "output_type": "stream",
          "name": "stdout",
          "text": [
            "Source lang tokens ['hello', 'world']\n",
            "['bonjour', 'monde']\n"
          ]
        },
        {
          "output_type": "execute_result",
          "data": {
            "text/plain": [
              "'bonjour monde'"
            ],
            "application/vnd.google.colaboratory.intrinsic+json": {
              "type": "string"
            }
          },
          "metadata": {},
          "execution_count": 11
        }
      ]
    },
    {
      "cell_type": "code",
      "source": [],
      "metadata": {
        "id": "I_PSeeFUxpT2"
      },
      "execution_count": null,
      "outputs": []
    },
    {
      "cell_type": "markdown",
      "source": [
        "# RNN Example"
      ],
      "metadata": {
        "id": "p4MEfED4EooM"
      }
    },
    {
      "cell_type": "code",
      "source": [
        "import numpy as np\n",
        "import tensorflow as tf\n",
        "from tensorflow.keras.models import Sequential\n",
        "from tensorflow.keras.layers import Dense, SimpleRNN, Embedding\n",
        "from tensorflow.keras.preprocessing.text import Tokenizer\n",
        "from tensorflow.keras.preprocessing.sequence import pad_sequences\n",
        "\n",
        "\n",
        "\n"
      ],
      "metadata": {
        "id": "nFPDMQQCEqox"
      },
      "execution_count": null,
      "outputs": []
    },
    {
      "cell_type": "code",
      "source": [
        "import math\n",
        "\n",
        "def simple_sequence_prediction():\n",
        "  \"\"\"\n",
        "  Predicts the next number in a simple sequence\n",
        "  \"\"\"\n",
        "\n",
        "  # Generate data: Simple sequence pattern\n",
        "\n",
        "  X = np.array([[i+j for j in range(3)] for i in range(100)])\n",
        "  y = np.array([i+3 for i in range(100)])\n",
        "\n",
        "\n",
        "  # Reshape input to be [samples, time steps, features]\n",
        "\n",
        "  X = X.reshape((100, 3, 1))\n",
        "\n",
        "  model = Sequential(\n",
        "      [\n",
        "          SimpleRNN(units=32, input_shape=(3, 1)),\n",
        "          Dense(units=1)\n",
        "      ]\n",
        "  )\n",
        "\n",
        "  model.compile(optimizer = 'adam', loss = 'mse')\n",
        "\n",
        "  # Train model\n",
        "\n",
        "  model.fit(X, y, epochs = 100, verbose = 0)\n",
        "\n",
        "  test_sequence = np.array([7,8,9]).reshape(1, 3, 1)\n",
        "\n",
        "  prediction = model.predict(test_sequence)\n",
        "\n",
        "  y_hat = prediction[0][0]\n",
        "\n",
        "  print(f\"Sequence {test_sequence.flatten()} ---> Predicted next number: {math.ceil(y_hat)}\")\n",
        "\n",
        "\n",
        "simple_sequence_prediction()\n"
      ],
      "metadata": {
        "colab": {
          "base_uri": "https://localhost:8080/"
        },
        "id": "6kjgFDehFEzq",
        "outputId": "d91fa19a-15a5-4a2c-c47a-9cdc7c57d403"
      },
      "execution_count": null,
      "outputs": [
        {
          "output_type": "stream",
          "name": "stderr",
          "text": [
            "WARNING:tensorflow:6 out of the last 6 calls to <function TensorFlowTrainer.make_predict_function.<locals>.one_step_on_data_distributed at 0x7cdb7e4b1900> triggered tf.function retracing. Tracing is expensive and the excessive number of tracings could be due to (1) creating @tf.function repeatedly in a loop, (2) passing tensors with different shapes, (3) passing Python objects instead of tensors. For (1), please define your @tf.function outside of the loop. For (2), @tf.function has reduce_retracing=True option that can avoid unnecessary retracing. For (3), please refer to https://www.tensorflow.org/guide/function#controlling_retracing and https://www.tensorflow.org/api_docs/python/tf/function for  more details.\n"
          ]
        },
        {
          "output_type": "stream",
          "name": "stdout",
          "text": [
            "\u001b[1m1/1\u001b[0m \u001b[32m━━━━━━━━━━━━━━━━━━━━\u001b[0m\u001b[37m\u001b[0m \u001b[1m0s\u001b[0m 147ms/step\n",
            "Sequence [7 8 9] ---> Predicted next number: 10\n"
          ]
        }
      ]
    },
    {
      "cell_type": "code",
      "source": [
        "np.array([[i+j for j in range(3)] for i in range(100)])\n"
      ],
      "metadata": {
        "colab": {
          "base_uri": "https://localhost:8080/"
        },
        "collapsed": true,
        "id": "YXXDu4vuFhO2",
        "outputId": "449a810f-548b-4c01-a890-4b33228e53da"
      },
      "execution_count": null,
      "outputs": [
        {
          "output_type": "execute_result",
          "data": {
            "text/plain": [
              "array([[  0,   1,   2],\n",
              "       [  1,   2,   3],\n",
              "       [  2,   3,   4],\n",
              "       [  3,   4,   5],\n",
              "       [  4,   5,   6],\n",
              "       [  5,   6,   7],\n",
              "       [  6,   7,   8],\n",
              "       [  7,   8,   9],\n",
              "       [  8,   9,  10],\n",
              "       [  9,  10,  11],\n",
              "       [ 10,  11,  12],\n",
              "       [ 11,  12,  13],\n",
              "       [ 12,  13,  14],\n",
              "       [ 13,  14,  15],\n",
              "       [ 14,  15,  16],\n",
              "       [ 15,  16,  17],\n",
              "       [ 16,  17,  18],\n",
              "       [ 17,  18,  19],\n",
              "       [ 18,  19,  20],\n",
              "       [ 19,  20,  21],\n",
              "       [ 20,  21,  22],\n",
              "       [ 21,  22,  23],\n",
              "       [ 22,  23,  24],\n",
              "       [ 23,  24,  25],\n",
              "       [ 24,  25,  26],\n",
              "       [ 25,  26,  27],\n",
              "       [ 26,  27,  28],\n",
              "       [ 27,  28,  29],\n",
              "       [ 28,  29,  30],\n",
              "       [ 29,  30,  31],\n",
              "       [ 30,  31,  32],\n",
              "       [ 31,  32,  33],\n",
              "       [ 32,  33,  34],\n",
              "       [ 33,  34,  35],\n",
              "       [ 34,  35,  36],\n",
              "       [ 35,  36,  37],\n",
              "       [ 36,  37,  38],\n",
              "       [ 37,  38,  39],\n",
              "       [ 38,  39,  40],\n",
              "       [ 39,  40,  41],\n",
              "       [ 40,  41,  42],\n",
              "       [ 41,  42,  43],\n",
              "       [ 42,  43,  44],\n",
              "       [ 43,  44,  45],\n",
              "       [ 44,  45,  46],\n",
              "       [ 45,  46,  47],\n",
              "       [ 46,  47,  48],\n",
              "       [ 47,  48,  49],\n",
              "       [ 48,  49,  50],\n",
              "       [ 49,  50,  51],\n",
              "       [ 50,  51,  52],\n",
              "       [ 51,  52,  53],\n",
              "       [ 52,  53,  54],\n",
              "       [ 53,  54,  55],\n",
              "       [ 54,  55,  56],\n",
              "       [ 55,  56,  57],\n",
              "       [ 56,  57,  58],\n",
              "       [ 57,  58,  59],\n",
              "       [ 58,  59,  60],\n",
              "       [ 59,  60,  61],\n",
              "       [ 60,  61,  62],\n",
              "       [ 61,  62,  63],\n",
              "       [ 62,  63,  64],\n",
              "       [ 63,  64,  65],\n",
              "       [ 64,  65,  66],\n",
              "       [ 65,  66,  67],\n",
              "       [ 66,  67,  68],\n",
              "       [ 67,  68,  69],\n",
              "       [ 68,  69,  70],\n",
              "       [ 69,  70,  71],\n",
              "       [ 70,  71,  72],\n",
              "       [ 71,  72,  73],\n",
              "       [ 72,  73,  74],\n",
              "       [ 73,  74,  75],\n",
              "       [ 74,  75,  76],\n",
              "       [ 75,  76,  77],\n",
              "       [ 76,  77,  78],\n",
              "       [ 77,  78,  79],\n",
              "       [ 78,  79,  80],\n",
              "       [ 79,  80,  81],\n",
              "       [ 80,  81,  82],\n",
              "       [ 81,  82,  83],\n",
              "       [ 82,  83,  84],\n",
              "       [ 83,  84,  85],\n",
              "       [ 84,  85,  86],\n",
              "       [ 85,  86,  87],\n",
              "       [ 86,  87,  88],\n",
              "       [ 87,  88,  89],\n",
              "       [ 88,  89,  90],\n",
              "       [ 89,  90,  91],\n",
              "       [ 90,  91,  92],\n",
              "       [ 91,  92,  93],\n",
              "       [ 92,  93,  94],\n",
              "       [ 93,  94,  95],\n",
              "       [ 94,  95,  96],\n",
              "       [ 95,  96,  97],\n",
              "       [ 96,  97,  98],\n",
              "       [ 97,  98,  99],\n",
              "       [ 98,  99, 100],\n",
              "       [ 99, 100, 101]])"
            ]
          },
          "metadata": {},
          "execution_count": 2
        }
      ]
    },
    {
      "cell_type": "code",
      "source": [
        "np.array([i+3 for i in range(100)])\n"
      ],
      "metadata": {
        "colab": {
          "base_uri": "https://localhost:8080/"
        },
        "id": "dRLlEYk0FhrI",
        "outputId": "73891cf4-6f2e-4c9f-d69c-71bca01224d2"
      },
      "execution_count": null,
      "outputs": [
        {
          "output_type": "execute_result",
          "data": {
            "text/plain": [
              "array([  3,   4,   5,   6,   7,   8,   9,  10,  11,  12,  13,  14,  15,\n",
              "        16,  17,  18,  19,  20,  21,  22,  23,  24,  25,  26,  27,  28,\n",
              "        29,  30,  31,  32,  33,  34,  35,  36,  37,  38,  39,  40,  41,\n",
              "        42,  43,  44,  45,  46,  47,  48,  49,  50,  51,  52,  53,  54,\n",
              "        55,  56,  57,  58,  59,  60,  61,  62,  63,  64,  65,  66,  67,\n",
              "        68,  69,  70,  71,  72,  73,  74,  75,  76,  77,  78,  79,  80,\n",
              "        81,  82,  83,  84,  85,  86,  87,  88,  89,  90,  91,  92,  93,\n",
              "        94,  95,  96,  97,  98,  99, 100, 101, 102])"
            ]
          },
          "metadata": {},
          "execution_count": 3
        }
      ]
    },
    {
      "cell_type": "code",
      "source": [],
      "metadata": {
        "id": "SftFAl57FzR6"
      },
      "execution_count": null,
      "outputs": []
    }
  ]
}