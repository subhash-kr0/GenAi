{
 "cells": [
  {
   "cell_type": "code",
   "execution_count": 1,
   "id": "44ca8014-351b-483c-b290-a95927391de4",
   "metadata": {},
   "outputs": [],
   "source": [
    "import numpy as np"
   ]
  },
  {
   "cell_type": "code",
   "execution_count": 2,
   "id": "43362f1a-9bd5-4403-b3ad-d85faf9be5ca",
   "metadata": {},
   "outputs": [],
   "source": [
    "a = np.zeros(5) #Return a new array of given shape and type, filled with zeros."
   ]
  },
  {
   "cell_type": "code",
   "execution_count": 3,
   "id": "fa4d81b6-7e64-4140-a4c2-0b9126216cdb",
   "metadata": {},
   "outputs": [
    {
     "data": {
      "text/plain": [
       "array([0., 0., 0., 0., 0.])"
      ]
     },
     "execution_count": 3,
     "metadata": {},
     "output_type": "execute_result"
    }
   ],
   "source": [
    "a"
   ]
  },
  {
   "cell_type": "code",
   "execution_count": 4,
   "id": "0d8f985c-05fd-4ad8-9061-2829917faa01",
   "metadata": {},
   "outputs": [
    {
     "data": {
      "text/plain": [
       "1"
      ]
     },
     "execution_count": 4,
     "metadata": {},
     "output_type": "execute_result"
    }
   ],
   "source": [
    "a.ndim"
   ]
  },
  {
   "cell_type": "code",
   "execution_count": 5,
   "id": "5c9be372-6905-477f-a013-e6d21bd8f0ab",
   "metadata": {},
   "outputs": [],
   "source": [
    "b = np.zeros((3, 4))"
   ]
  },
  {
   "cell_type": "code",
   "execution_count": 6,
   "id": "5e716bae-c65b-4b32-9f1d-c41d85d937a7",
   "metadata": {},
   "outputs": [
    {
     "data": {
      "text/plain": [
       "2"
      ]
     },
     "execution_count": 6,
     "metadata": {},
     "output_type": "execute_result"
    }
   ],
   "source": [
    "b.ndim"
   ]
  },
  {
   "cell_type": "code",
   "execution_count": 7,
   "id": "45c7aecb-82fe-46f9-8f07-8205e42d575e",
   "metadata": {},
   "outputs": [
    {
     "data": {
      "text/plain": [
       "array([[1., 1., 1., 1.],\n",
       "       [1., 1., 1., 1.],\n",
       "       [1., 1., 1., 1.]])"
      ]
     },
     "execution_count": 7,
     "metadata": {},
     "output_type": "execute_result"
    }
   ],
   "source": [
    "np.ones((3, 4))"
   ]
  },
  {
   "cell_type": "code",
   "execution_count": 8,
   "id": "4355cbe0-6a08-43df-865e-79a2c05ef255",
   "metadata": {},
   "outputs": [
    {
     "ename": "AttributeError",
     "evalue": "module 'numpy' has no attribute 'twos'",
     "output_type": "error",
     "traceback": [
      "\u001b[0;31m---------------------------------------------------------------------------\u001b[0m",
      "\u001b[0;31mAttributeError\u001b[0m                            Traceback (most recent call last)",
      "Cell \u001b[0;32mIn[8], line 1\u001b[0m\n\u001b[0;32m----> 1\u001b[0m \u001b[43mnp\u001b[49m\u001b[38;5;241;43m.\u001b[39;49m\u001b[43mtwos\u001b[49m(\u001b[38;5;241m5\u001b[39m) \u001b[38;5;66;03m#doesnt exist in numpy\u001b[39;00m\n",
      "File \u001b[0;32m/opt/conda/lib/python3.10/site-packages/numpy/__init__.py:311\u001b[0m, in \u001b[0;36m__getattr__\u001b[0;34m(attr)\u001b[0m\n\u001b[1;32m    308\u001b[0m     \u001b[38;5;28;01mfrom\u001b[39;00m \u001b[38;5;21;01m.\u001b[39;00m\u001b[38;5;21;01mtesting\u001b[39;00m \u001b[38;5;28;01mimport\u001b[39;00m Tester\n\u001b[1;32m    309\u001b[0m     \u001b[38;5;28;01mreturn\u001b[39;00m Tester\n\u001b[0;32m--> 311\u001b[0m \u001b[38;5;28;01mraise\u001b[39;00m \u001b[38;5;167;01mAttributeError\u001b[39;00m(\u001b[38;5;124m\"\u001b[39m\u001b[38;5;124mmodule \u001b[39m\u001b[38;5;132;01m{!r}\u001b[39;00m\u001b[38;5;124m has no attribute \u001b[39m\u001b[38;5;124m\"\u001b[39m\n\u001b[1;32m    312\u001b[0m                      \u001b[38;5;124m\"\u001b[39m\u001b[38;5;132;01m{!r}\u001b[39;00m\u001b[38;5;124m\"\u001b[39m\u001b[38;5;241m.\u001b[39mformat(\u001b[38;5;18m__name__\u001b[39m, attr))\n",
      "\u001b[0;31mAttributeError\u001b[0m: module 'numpy' has no attribute 'twos'"
     ]
    }
   ],
   "source": [
    "np.twos(5) #doesnt exist in numpy"
   ]
  },
  {
   "cell_type": "code",
   "execution_count": 9,
   "id": "4dcdd32b-2fde-4c2f-9acc-278d43adef71",
   "metadata": {},
   "outputs": [
    {
     "data": {
      "text/plain": [
       "array([[2, 2, 2],\n",
       "       [2, 2, 2]])"
      ]
     },
     "execution_count": 9,
     "metadata": {},
     "output_type": "execute_result"
    }
   ],
   "source": [
    "np.array([[2, 2, 2], [2, 2, 2]])"
   ]
  },
  {
   "cell_type": "code",
   "execution_count": 10,
   "id": "daff2b79-e8e3-485e-b708-ba18d8132a26",
   "metadata": {},
   "outputs": [],
   "source": [
    "arr = np.zeros((3, 4))"
   ]
  },
  {
   "cell_type": "code",
   "execution_count": 11,
   "id": "5c39b0d2-8cc6-4800-9c57-a0f3ad2320f5",
   "metadata": {},
   "outputs": [
    {
     "data": {
      "text/plain": [
       "array([[0., 0., 0., 0.],\n",
       "       [0., 0., 0., 0.],\n",
       "       [0., 0., 0., 0.]])"
      ]
     },
     "execution_count": 11,
     "metadata": {},
     "output_type": "execute_result"
    }
   ],
   "source": [
    "arr"
   ]
  },
  {
   "cell_type": "code",
   "execution_count": 12,
   "id": "2bfc7bdb-363a-4527-bcb3-f6ac8267a78f",
   "metadata": {},
   "outputs": [
    {
     "data": {
      "text/plain": [
       "2"
      ]
     },
     "execution_count": 12,
     "metadata": {},
     "output_type": "execute_result"
    }
   ],
   "source": [
    "arr.ndim"
   ]
  },
  {
   "cell_type": "code",
   "execution_count": 13,
   "id": "f262f1e3-a7fc-49df-8d0f-3a7f48c1f1c5",
   "metadata": {},
   "outputs": [
    {
     "data": {
      "text/plain": [
       "array([0.])"
      ]
     },
     "execution_count": 13,
     "metadata": {},
     "output_type": "execute_result"
    }
   ],
   "source": [
    "#3 dimensional array\n",
    "np.zeros(1)"
   ]
  },
  {
   "cell_type": "code",
   "execution_count": 14,
   "id": "3f388764-a30e-4651-8039-f7a5c7e97676",
   "metadata": {},
   "outputs": [
    {
     "data": {
      "text/plain": [
       "array([[0., 0., 0.],\n",
       "       [0., 0., 0.]])"
      ]
     },
     "execution_count": 14,
     "metadata": {},
     "output_type": "execute_result"
    }
   ],
   "source": [
    "np.zeros((2, 3))"
   ]
  },
  {
   "cell_type": "code",
   "execution_count": 15,
   "id": "fd002b52-e163-4187-935c-f32c161b56cc",
   "metadata": {},
   "outputs": [
    {
     "data": {
      "text/plain": [
       "2"
      ]
     },
     "execution_count": 15,
     "metadata": {},
     "output_type": "execute_result"
    }
   ],
   "source": [
    "arr = np.zeros((3, 4))\n",
    "arr.ndim"
   ]
  },
  {
   "cell_type": "code",
   "execution_count": 16,
   "id": "18772d3b-8fad-4b9f-ab91-471ffeb7c4b5",
   "metadata": {},
   "outputs": [
    {
     "data": {
      "text/plain": [
       "array([[[0., 0., 0., 0.],\n",
       "        [0., 0., 0., 0.],\n",
       "        [0., 0., 0., 0.]]])"
      ]
     },
     "execution_count": 16,
     "metadata": {},
     "output_type": "execute_result"
    }
   ],
   "source": [
    "arr = np.zeros((1, 3, 4))\n",
    "arr"
   ]
  },
  {
   "cell_type": "code",
   "execution_count": 17,
   "id": "21ffd624-a389-4f5c-9dc1-7929227ef9a0",
   "metadata": {},
   "outputs": [
    {
     "data": {
      "text/plain": [
       "3"
      ]
     },
     "execution_count": 17,
     "metadata": {},
     "output_type": "execute_result"
    }
   ],
   "source": [
    "arr.ndim"
   ]
  },
  {
   "cell_type": "code",
   "execution_count": 18,
   "id": "e27e5bfa-e53d-4252-b85b-2445afa4ced0",
   "metadata": {},
   "outputs": [
    {
     "data": {
      "text/plain": [
       "array([[[[0., 0., 0., 0.],\n",
       "         [0., 0., 0., 0.],\n",
       "         [0., 0., 0., 0.]]]])"
      ]
     },
     "execution_count": 18,
     "metadata": {},
     "output_type": "execute_result"
    }
   ],
   "source": [
    "arr = np.zeros((1, 1, 3, 4))\n",
    "arr"
   ]
  },
  {
   "cell_type": "code",
   "execution_count": 19,
   "id": "ff9fa435-9644-4016-8eba-0b7b9a041c1c",
   "metadata": {},
   "outputs": [
    {
     "data": {
      "text/plain": [
       "4"
      ]
     },
     "execution_count": 19,
     "metadata": {},
     "output_type": "execute_result"
    }
   ],
   "source": [
    "arr.ndim"
   ]
  },
  {
   "cell_type": "code",
   "execution_count": 20,
   "id": "76d71089-cfca-4965-9a51-1c65b1ae53d4",
   "metadata": {},
   "outputs": [
    {
     "data": {
      "text/plain": [
       "array([[[[[0., 0., 0., 0.],\n",
       "          [0., 0., 0., 0.],\n",
       "          [0., 0., 0., 0.]]]]])"
      ]
     },
     "execution_count": 20,
     "metadata": {},
     "output_type": "execute_result"
    }
   ],
   "source": [
    "arr = np.zeros((1, 1, 1, 3, 4))\n",
    "arr"
   ]
  },
  {
   "cell_type": "code",
   "execution_count": 21,
   "id": "00673d67-b6cb-480e-8ec7-c2478f9b3789",
   "metadata": {},
   "outputs": [
    {
     "data": {
      "text/plain": [
       "5"
      ]
     },
     "execution_count": 21,
     "metadata": {},
     "output_type": "execute_result"
    }
   ],
   "source": [
    "arr.ndim"
   ]
  },
  {
   "cell_type": "code",
   "execution_count": 22,
   "id": "a89e6203-7592-4856-8050-92424d403648",
   "metadata": {},
   "outputs": [
    {
     "data": {
      "text/plain": [
       "array([[[[[0., 0., 0., 0.],\n",
       "          [0., 0., 0., 0.],\n",
       "          [0., 0., 0., 0.]]]]])"
      ]
     },
     "execution_count": 22,
     "metadata": {},
     "output_type": "execute_result"
    }
   ],
   "source": [
    "arr"
   ]
  },
  {
   "cell_type": "code",
   "execution_count": 23,
   "id": "7c5df2cf-8549-4d4f-a72d-0deea28e3204",
   "metadata": {},
   "outputs": [],
   "source": [
    "arr = np.ones((3, 4))"
   ]
  },
  {
   "cell_type": "code",
   "execution_count": 24,
   "id": "da497c3e-cdb4-4d10-a704-aa18f4c240d5",
   "metadata": {},
   "outputs": [
    {
     "data": {
      "text/plain": [
       "2"
      ]
     },
     "execution_count": 24,
     "metadata": {},
     "output_type": "execute_result"
    }
   ],
   "source": [
    "arr.ndim"
   ]
  },
  {
   "cell_type": "code",
   "execution_count": 25,
   "id": "669c2182-8019-4212-9de9-7940e7525d5f",
   "metadata": {},
   "outputs": [
    {
     "data": {
      "text/plain": [
       "(3, 4)"
      ]
     },
     "execution_count": 25,
     "metadata": {},
     "output_type": "execute_result"
    }
   ],
   "source": [
    "arr.shape"
   ]
  },
  {
   "cell_type": "code",
   "execution_count": 26,
   "id": "ffaef6ee-77ab-4b41-922e-d454c723a1c8",
   "metadata": {},
   "outputs": [
    {
     "data": {
      "text/plain": [
       "array([[1., 1., 1., 1.],\n",
       "       [1., 1., 1., 1.],\n",
       "       [1., 1., 1., 1.]])"
      ]
     },
     "execution_count": 26,
     "metadata": {},
     "output_type": "execute_result"
    }
   ],
   "source": [
    "arr"
   ]
  },
  {
   "cell_type": "code",
   "execution_count": 27,
   "id": "ed45b0d9-f432-4981-ac48-2c645952e042",
   "metadata": {},
   "outputs": [
    {
     "data": {
      "text/plain": [
       "array([[6., 6., 6., 6.],\n",
       "       [6., 6., 6., 6.],\n",
       "       [6., 6., 6., 6.]])"
      ]
     },
     "execution_count": 27,
     "metadata": {},
     "output_type": "execute_result"
    }
   ],
   "source": [
    "arr + 5"
   ]
  },
  {
   "cell_type": "code",
   "execution_count": 28,
   "id": "355d721e-d224-48f5-bef5-873279717c1b",
   "metadata": {},
   "outputs": [],
   "source": [
    "a = arr * 5"
   ]
  },
  {
   "cell_type": "code",
   "execution_count": 29,
   "id": "9b7e8e40-8f5c-457d-a0c9-d30ec3c0554a",
   "metadata": {},
   "outputs": [
    {
     "data": {
      "text/plain": [
       "array([[5., 5., 5., 5.],\n",
       "       [5., 5., 5., 5.],\n",
       "       [5., 5., 5., 5.]])"
      ]
     },
     "execution_count": 29,
     "metadata": {},
     "output_type": "execute_result"
    }
   ],
   "source": [
    "a"
   ]
  },
  {
   "cell_type": "code",
   "execution_count": 30,
   "id": "383c473d-880a-4d42-a924-bd1fa770c696",
   "metadata": {},
   "outputs": [
    {
     "data": {
      "text/plain": [
       "array([[4., 4., 4., 4.],\n",
       "       [4., 4., 4., 4.],\n",
       "       [4., 4., 4., 4.]])"
      ]
     },
     "execution_count": 30,
     "metadata": {},
     "output_type": "execute_result"
    }
   ],
   "source": [
    "a - 1"
   ]
  },
  {
   "cell_type": "code",
   "execution_count": 31,
   "id": "62799cf5-ea5a-47b2-b607-8df5d0780c4f",
   "metadata": {},
   "outputs": [
    {
     "data": {
      "text/plain": [
       "array([[1., 0., 0.],\n",
       "       [0., 1., 0.],\n",
       "       [0., 0., 1.]])"
      ]
     },
     "execution_count": 31,
     "metadata": {},
     "output_type": "execute_result"
    }
   ],
   "source": [
    "np.eye(3) #Return a 2-D array with ones on the diagonal and zeros elsewhere."
   ]
  },
  {
   "cell_type": "code",
   "execution_count": 32,
   "id": "93b3ee4c-a527-495e-8654-3226a3a1dda3",
   "metadata": {},
   "outputs": [
    {
     "data": {
      "text/plain": [
       "array([[1, 0, 0],\n",
       "       [0, 1, 0],\n",
       "       [0, 0, 1]])"
      ]
     },
     "execution_count": 32,
     "metadata": {},
     "output_type": "execute_result"
    }
   ],
   "source": [
    "np.eye(3, dtype = int)"
   ]
  },
  {
   "cell_type": "code",
   "execution_count": 33,
   "id": "5f11bff4-ed87-400b-a391-1621f182c77f",
   "metadata": {},
   "outputs": [
    {
     "data": {
      "text/plain": [
       "array([[4., 4., 4., 4.],\n",
       "       [4., 4., 4., 4.],\n",
       "       [4., 4., 4., 4.]])"
      ]
     },
     "execution_count": 33,
     "metadata": {},
     "output_type": "execute_result"
    }
   ],
   "source": [
    "np.empty((3, 4)) #Return a new array of given shape and type, without initializing entries"
   ]
  },
  {
   "cell_type": "code",
   "execution_count": 34,
   "id": "c76174ff-1ec6-4db4-b664-6cbf5e7dce89",
   "metadata": {},
   "outputs": [
    {
     "data": {
      "text/plain": [
       "2"
      ]
     },
     "execution_count": 34,
     "metadata": {},
     "output_type": "execute_result"
    }
   ],
   "source": [
    "#optional >> random module\n",
    "\n",
    "import random\n",
    "random.choice((1, 2, 3, 4, 5))"
   ]
  },
  {
   "cell_type": "code",
   "execution_count": 35,
   "id": "fad25f05-e2d4-4bb7-86ad-52cfcd73ccbc",
   "metadata": {},
   "outputs": [
    {
     "data": {
      "text/plain": [
       "'a'"
      ]
     },
     "execution_count": 35,
     "metadata": {},
     "output_type": "execute_result"
    }
   ],
   "source": [
    "random.choice('Ajay')"
   ]
  },
  {
   "cell_type": "code",
   "execution_count": 36,
   "id": "38d9a037-9158-4f52-a258-143374197d74",
   "metadata": {},
   "outputs": [
    {
     "data": {
      "text/plain": [
       "7"
      ]
     },
     "execution_count": 36,
     "metadata": {},
     "output_type": "execute_result"
    }
   ],
   "source": [
    "random.randrange(1, 10)"
   ]
  },
  {
   "cell_type": "code",
   "execution_count": 37,
   "id": "ffda2f1e-4da6-46eb-9263-d14244bc52f6",
   "metadata": {},
   "outputs": [
    {
     "data": {
      "text/plain": [
       "0.017769477320319083"
      ]
     },
     "execution_count": 37,
     "metadata": {},
     "output_type": "execute_result"
    }
   ],
   "source": [
    "random.random() # a random no is generated between 0(included) and 1 (excluded)"
   ]
  },
  {
   "cell_type": "code",
   "execution_count": 38,
   "id": "ee29af67-e24f-4bec-ad7c-2c1d9eb7664f",
   "metadata": {},
   "outputs": [
    {
     "data": {
      "text/plain": [
       "[1, 2, 3, 4, 5]"
      ]
     },
     "execution_count": 38,
     "metadata": {},
     "output_type": "execute_result"
    }
   ],
   "source": [
    "lis = [1, 2, 3, 4, 5]\n",
    "lis"
   ]
  },
  {
   "cell_type": "code",
   "execution_count": 40,
   "id": "544a16ab-a701-401c-b382-59e2d5d096b4",
   "metadata": {},
   "outputs": [],
   "source": [
    "random.shuffle(lis)"
   ]
  },
  {
   "cell_type": "code",
   "execution_count": 41,
   "id": "05257b67-5ead-4f27-8542-71d511bfead6",
   "metadata": {},
   "outputs": [
    {
     "data": {
      "text/plain": [
       "[2, 3, 1, 4, 5]"
      ]
     },
     "execution_count": 41,
     "metadata": {},
     "output_type": "execute_result"
    }
   ],
   "source": [
    "lis"
   ]
  },
  {
   "cell_type": "code",
   "execution_count": 42,
   "id": "d5158ca4-053d-4b99-af8e-f08a0ae7f4e4",
   "metadata": {},
   "outputs": [
    {
     "data": {
      "text/plain": [
       "12.573243031183921"
      ]
     },
     "execution_count": 42,
     "metadata": {},
     "output_type": "execute_result"
    }
   ],
   "source": [
    "random.uniform(7, 14)"
   ]
  },
  {
   "cell_type": "code",
   "execution_count": 43,
   "id": "b477c370-234b-4832-a922-e0dd1697d142",
   "metadata": {},
   "outputs": [
    {
     "data": {
      "text/plain": [
       "array([], dtype=float64)"
      ]
     },
     "execution_count": 43,
     "metadata": {},
     "output_type": "execute_result"
    }
   ],
   "source": [
    "\n",
    "#random numbers related concepts in numpy\n",
    "np.array([])"
   ]
  },
  {
   "cell_type": "code",
   "execution_count": 44,
   "id": "4aa6845b-5c4c-4c09-b7e3-2a23e1780cf7",
   "metadata": {},
   "outputs": [
    {
     "data": {
      "text/plain": [
       "0.4880220291522446"
      ]
     },
     "execution_count": 44,
     "metadata": {},
     "output_type": "execute_result"
    }
   ],
   "source": [
    "np.random.random_sample()"
   ]
  },
  {
   "cell_type": "code",
   "execution_count": 45,
   "id": "6541deae-cd20-4a53-a495-45be93b83367",
   "metadata": {},
   "outputs": [
    {
     "data": {
      "text/plain": [
       "array([0.03546162, 0.96439444, 0.86559857, 0.45990473, 0.68239288])"
      ]
     },
     "execution_count": 45,
     "metadata": {},
     "output_type": "execute_result"
    }
   ],
   "source": [
    "np.random.random_sample((5, ))"
   ]
  },
  {
   "cell_type": "code",
   "execution_count": 46,
   "id": "8e3780fc-0d6c-4c6b-9e13-45e109e65bad",
   "metadata": {},
   "outputs": [
    {
     "data": {
      "text/plain": [
       "array([0.89826893])"
      ]
     },
     "execution_count": 46,
     "metadata": {},
     "output_type": "execute_result"
    }
   ],
   "source": [
    "np.random.rand(1)"
   ]
  },
  {
   "cell_type": "code",
   "execution_count": 48,
   "id": "ff009fb7-b554-4192-a181-a2160efa9a21",
   "metadata": {},
   "outputs": [
    {
     "data": {
      "text/plain": [
       "array([[0.19956744, 0.85663567, 0.76798966],\n",
       "       [0.01678481, 0.29287439, 0.5507118 ]])"
      ]
     },
     "execution_count": 48,
     "metadata": {},
     "output_type": "execute_result"
    }
   ],
   "source": [
    "np.random.rand(2, 3)"
   ]
  },
  {
   "cell_type": "code",
   "execution_count": 49,
   "id": "8dc11cab-0863-4323-8de8-e5e976643d1b",
   "metadata": {},
   "outputs": [
    {
     "data": {
      "text/plain": [
       "array([[-0.85502332, -0.06881989,  0.76879661],\n",
       "       [ 0.64187717,  1.46547139, -1.07173591]])"
      ]
     },
     "execution_count": 49,
     "metadata": {},
     "output_type": "execute_result"
    }
   ],
   "source": [
    "np.random.randn(2,3)"
   ]
  },
  {
   "cell_type": "code",
   "execution_count": 51,
   "id": "54a14933-6a65-46f3-b149-6c41b90052a7",
   "metadata": {},
   "outputs": [],
   "source": [
    "arr = np.random.randint(1, 5, size= (3, 4))"
   ]
  },
  {
   "cell_type": "code",
   "execution_count": 52,
   "id": "acce08c2-9fc1-4bbe-96b4-200d795ca122",
   "metadata": {},
   "outputs": [
    {
     "data": {
      "text/plain": [
       "2"
      ]
     },
     "execution_count": 52,
     "metadata": {},
     "output_type": "execute_result"
    }
   ],
   "source": [
    "arr.ndim"
   ]
  },
  {
   "cell_type": "code",
   "execution_count": 53,
   "id": "49967864-be80-438b-a270-7df6e2e9d5fa",
   "metadata": {},
   "outputs": [
    {
     "data": {
      "text/plain": [
       "(3, 4)"
      ]
     },
     "execution_count": 53,
     "metadata": {},
     "output_type": "execute_result"
    }
   ],
   "source": [
    "arr.shape"
   ]
  },
  {
   "cell_type": "code",
   "execution_count": 54,
   "id": "74126a55-b7f9-4836-a89c-d35b57322166",
   "metadata": {},
   "outputs": [
    {
     "data": {
      "text/plain": [
       "12"
      ]
     },
     "execution_count": 54,
     "metadata": {},
     "output_type": "execute_result"
    }
   ],
   "source": [
    "arr.size"
   ]
  },
  {
   "cell_type": "code",
   "execution_count": 55,
   "id": "69e584fc-05ea-41d9-96fd-e1b8184a00a8",
   "metadata": {},
   "outputs": [
    {
     "data": {
      "text/plain": [
       "array([[1, 3, 3, 4],\n",
       "       [4, 3, 3, 3],\n",
       "       [4, 4, 1, 4]])"
      ]
     },
     "execution_count": 55,
     "metadata": {},
     "output_type": "execute_result"
    }
   ],
   "source": [
    "arr"
   ]
  },
  {
   "cell_type": "code",
   "execution_count": 58,
   "id": "527bd72f-274f-41d3-99aa-e343425160b2",
   "metadata": {},
   "outputs": [],
   "source": [
    "#reshaping the array\n",
    "\n",
    "arr1 = arr.reshape(2, 6)"
   ]
  },
  {
   "cell_type": "code",
   "execution_count": 59,
   "id": "0da79790-af27-446e-b5d0-537e1943ac1b",
   "metadata": {},
   "outputs": [
    {
     "data": {
      "text/plain": [
       "(2, 6)"
      ]
     },
     "execution_count": 59,
     "metadata": {},
     "output_type": "execute_result"
    }
   ],
   "source": [
    "arr1.shape"
   ]
  },
  {
   "cell_type": "code",
   "execution_count": 60,
   "id": "f4146778-88c0-4f87-8f52-1217cc1e22d3",
   "metadata": {},
   "outputs": [
    {
     "data": {
      "text/plain": [
       "12"
      ]
     },
     "execution_count": 60,
     "metadata": {},
     "output_type": "execute_result"
    }
   ],
   "source": [
    "arr1.size"
   ]
  },
  {
   "cell_type": "code",
   "execution_count": 61,
   "id": "91ba59c7-6274-4a00-8c99-fa19ef0a216b",
   "metadata": {},
   "outputs": [
    {
     "data": {
      "text/plain": [
       "array([[1, 3, 3, 4],\n",
       "       [4, 3, 3, 3],\n",
       "       [4, 4, 1, 4]])"
      ]
     },
     "execution_count": 61,
     "metadata": {},
     "output_type": "execute_result"
    }
   ],
   "source": [
    "arr"
   ]
  },
  {
   "cell_type": "code",
   "execution_count": 62,
   "id": "5bfb2432-6c74-4902-aa5e-5bc388d499ed",
   "metadata": {},
   "outputs": [
    {
     "data": {
      "text/plain": [
       "12"
      ]
     },
     "execution_count": 62,
     "metadata": {},
     "output_type": "execute_result"
    }
   ],
   "source": [
    "arr.size"
   ]
  },
  {
   "cell_type": "code",
   "execution_count": 63,
   "id": "03e8c1cc-f5cb-45df-be56-94358e321b89",
   "metadata": {},
   "outputs": [],
   "source": [
    "#array size will not change, always resape parameter should be multiplication of original array size"
   ]
  },
  {
   "cell_type": "code",
   "execution_count": 64,
   "id": "f4e29afe-2451-439b-9e22-bfee3ff3eda3",
   "metadata": {},
   "outputs": [
    {
     "data": {
      "text/plain": [
       "array([[1, 3, 3, 4],\n",
       "       [4, 3, 3, 3],\n",
       "       [4, 4, 1, 4]])"
      ]
     },
     "execution_count": 64,
     "metadata": {},
     "output_type": "execute_result"
    }
   ],
   "source": [
    "arr"
   ]
  },
  {
   "cell_type": "code",
   "execution_count": 65,
   "id": "1459e0d6-84ce-423a-a59a-b72b876d15ad",
   "metadata": {},
   "outputs": [
    {
     "data": {
      "text/plain": [
       "12"
      ]
     },
     "execution_count": 65,
     "metadata": {},
     "output_type": "execute_result"
    }
   ],
   "source": [
    "arr.size"
   ]
  },
  {
   "cell_type": "code",
   "execution_count": 69,
   "id": "ebc425a5-59f9-4eed-8d0d-75bbb8967cd1",
   "metadata": {},
   "outputs": [
    {
     "data": {
      "text/plain": [
       "array([[1],\n",
       "       [3],\n",
       "       [3],\n",
       "       [4],\n",
       "       [4],\n",
       "       [3],\n",
       "       [3],\n",
       "       [3],\n",
       "       [4],\n",
       "       [4],\n",
       "       [1],\n",
       "       [4]])"
      ]
     },
     "execution_count": 69,
     "metadata": {},
     "output_type": "execute_result"
    }
   ],
   "source": [
    "arr.reshape(12,1)"
   ]
  },
  {
   "cell_type": "code",
   "execution_count": 70,
   "id": "f6f326cc-b80b-42e9-8ef3-fa2f25d6afc9",
   "metadata": {},
   "outputs": [
    {
     "data": {
      "text/plain": [
       "array([[1, 3, 3, 4, 4, 3, 3, 3, 4, 4, 1, 4]])"
      ]
     },
     "execution_count": 70,
     "metadata": {},
     "output_type": "execute_result"
    }
   ],
   "source": [
    "arr.reshape(1, 12)"
   ]
  },
  {
   "cell_type": "code",
   "execution_count": 72,
   "id": "4339058c-690b-49ec-8742-53bd02503bd3",
   "metadata": {},
   "outputs": [
    {
     "ename": "ValueError",
     "evalue": "cannot reshape array of size 12 into shape (3,3)",
     "output_type": "error",
     "traceback": [
      "\u001b[0;31m---------------------------------------------------------------------------\u001b[0m",
      "\u001b[0;31mValueError\u001b[0m                                Traceback (most recent call last)",
      "Cell \u001b[0;32mIn[72], line 1\u001b[0m\n\u001b[0;32m----> 1\u001b[0m \u001b[43marr\u001b[49m\u001b[38;5;241;43m.\u001b[39;49m\u001b[43mreshape\u001b[49m\u001b[43m(\u001b[49m\u001b[38;5;241;43m3\u001b[39;49m\u001b[43m,\u001b[49m\u001b[43m \u001b[49m\u001b[38;5;241;43m3\u001b[39;49m\u001b[43m)\u001b[49m\n",
      "\u001b[0;31mValueError\u001b[0m: cannot reshape array of size 12 into shape (3,3)"
     ]
    }
   ],
   "source": [
    "arr.reshape(3, 3)"
   ]
  },
  {
   "cell_type": "code",
   "execution_count": 73,
   "id": "9898742f-6fbf-4eba-a449-943b9777b796",
   "metadata": {},
   "outputs": [
    {
     "data": {
      "text/plain": [
       "array([[1, 3, 3, 4],\n",
       "       [4, 3, 3, 3],\n",
       "       [4, 4, 1, 4]])"
      ]
     },
     "execution_count": 73,
     "metadata": {},
     "output_type": "execute_result"
    }
   ],
   "source": [
    "arr.reshape(3,4)"
   ]
  },
  {
   "cell_type": "code",
   "execution_count": 74,
   "id": "596aecf4-9111-4562-a728-03ce125191ca",
   "metadata": {},
   "outputs": [
    {
     "data": {
      "text/plain": [
       "array([[1, 3, 3],\n",
       "       [4, 4, 3],\n",
       "       [3, 3, 4],\n",
       "       [4, 1, 4]])"
      ]
     },
     "execution_count": 74,
     "metadata": {},
     "output_type": "execute_result"
    }
   ],
   "source": [
    "#case when you dont know in reshape what should be the column count\n",
    "\n",
    "arr.reshape(4, -1)"
   ]
  },
  {
   "cell_type": "code",
   "execution_count": 75,
   "id": "615d0e81-9303-4b86-8890-de69e439794b",
   "metadata": {},
   "outputs": [
    {
     "data": {
      "text/plain": [
       "array([[1, 3, 3, 4, 4, 3],\n",
       "       [3, 3, 4, 4, 1, 4]])"
      ]
     },
     "execution_count": 75,
     "metadata": {},
     "output_type": "execute_result"
    }
   ],
   "source": [
    "arr.reshape(2, -1)"
   ]
  },
  {
   "cell_type": "code",
   "execution_count": 76,
   "id": "822da512-d20a-4bb6-a1d8-1af00d36e882",
   "metadata": {},
   "outputs": [
    {
     "data": {
      "text/plain": [
       "array([[1, 3, 3, 4, 4, 3],\n",
       "       [3, 3, 4, 4, 1, 4]])"
      ]
     },
     "execution_count": 76,
     "metadata": {},
     "output_type": "execute_result"
    }
   ],
   "source": [
    "arr.reshape(2, -100)"
   ]
  },
  {
   "cell_type": "code",
   "execution_count": 78,
   "id": "5096fc24-0c03-45a5-b5f6-351ad62f9805",
   "metadata": {},
   "outputs": [],
   "source": [
    "arr1 = arr.reshape(-1, 3)#you know column count but no row count"
   ]
  },
  {
   "cell_type": "code",
   "execution_count": 79,
   "id": "efd4c6b5-4326-4ccf-bc79-6cc9b597cdf5",
   "metadata": {},
   "outputs": [
    {
     "data": {
      "text/plain": [
       "12"
      ]
     },
     "execution_count": 79,
     "metadata": {},
     "output_type": "execute_result"
    }
   ],
   "source": [
    "arr1.size"
   ]
  },
  {
   "cell_type": "code",
   "execution_count": 81,
   "id": "d8ba240d-71ff-4223-a1c3-b8658e7d85c2",
   "metadata": {},
   "outputs": [
    {
     "data": {
      "text/plain": [
       "array([[1],\n",
       "       [3],\n",
       "       [3],\n",
       "       [4],\n",
       "       [4],\n",
       "       [3],\n",
       "       [3],\n",
       "       [3],\n",
       "       [4],\n",
       "       [4],\n",
       "       [1],\n",
       "       [4]])"
      ]
     },
     "execution_count": 81,
     "metadata": {},
     "output_type": "execute_result"
    }
   ],
   "source": [
    "arr.reshape(12, 1)"
   ]
  },
  {
   "cell_type": "code",
   "execution_count": 82,
   "id": "f52645c5-4b23-4caf-b891-f1659a749e56",
   "metadata": {},
   "outputs": [
    {
     "data": {
      "text/plain": [
       "array([[1, 3, 3, 4],\n",
       "       [4, 3, 3, 3],\n",
       "       [4, 4, 1, 4]])"
      ]
     },
     "execution_count": 82,
     "metadata": {},
     "output_type": "execute_result"
    }
   ],
   "source": [
    "arr.reshape(12, 1).base #to see the original array"
   ]
  },
  {
   "cell_type": "code",
   "execution_count": 85,
   "id": "c9d64034-805f-4f1d-8ee3-c56b5c404cda",
   "metadata": {},
   "outputs": [
    {
     "data": {
      "text/plain": [
       "array([[[1, 3, 3],\n",
       "        [4, 4, 3]],\n",
       "\n",
       "       [[3, 3, 4],\n",
       "        [4, 1, 4]]])"
      ]
     },
     "execution_count": 85,
     "metadata": {},
     "output_type": "execute_result"
    }
   ],
   "source": [
    "arr.reshape(2, 2, 3)"
   ]
  },
  {
   "cell_type": "code",
   "execution_count": 86,
   "id": "cb95a4a9-a272-430b-9c6b-6d1ea082ba9a",
   "metadata": {},
   "outputs": [
    {
     "data": {
      "text/plain": [
       "array([[[[1, 3, 3],\n",
       "         [4, 4, 3]],\n",
       "\n",
       "        [[3, 3, 4],\n",
       "         [4, 1, 4]]]])"
      ]
     },
     "execution_count": 86,
     "metadata": {},
     "output_type": "execute_result"
    }
   ],
   "source": [
    "arr.reshape(1, 2, 2, 3)"
   ]
  },
  {
   "cell_type": "code",
   "execution_count": 87,
   "id": "f1d2e008-30f2-4b3b-91db-7a40b3ec0017",
   "metadata": {},
   "outputs": [
    {
     "data": {
      "text/plain": [
       "4"
      ]
     },
     "execution_count": 87,
     "metadata": {},
     "output_type": "execute_result"
    }
   ],
   "source": [
    "arr.reshape(1, 2, 2, 3).ndim"
   ]
  },
  {
   "cell_type": "code",
   "execution_count": 88,
   "id": "9cf9678d-4a65-46eb-a0b0-016cbec8b8e5",
   "metadata": {},
   "outputs": [
    {
     "data": {
      "text/plain": [
       "array([[[1],\n",
       "        [3],\n",
       "        [3]],\n",
       "\n",
       "       [[4],\n",
       "        [4],\n",
       "        [3]],\n",
       "\n",
       "       [[3],\n",
       "        [3],\n",
       "        [4]],\n",
       "\n",
       "       [[4],\n",
       "        [1],\n",
       "        [4]]])"
      ]
     },
     "execution_count": 88,
     "metadata": {},
     "output_type": "execute_result"
    }
   ],
   "source": [
    "arr.reshape(4, 3, 1) #3 rows 1 column repeated 4 times in the third dimension"
   ]
  },
  {
   "cell_type": "code",
   "execution_count": 89,
   "id": "3f692812-9eeb-411c-a47a-fa111a8b8813",
   "metadata": {},
   "outputs": [],
   "source": [
    "#conditions on array\n",
    "\n",
    "arr1 = np.random.randint(1, 10, (5,6))"
   ]
  },
  {
   "cell_type": "code",
   "execution_count": 90,
   "id": "87957d96-fd99-4109-8ede-682631947480",
   "metadata": {},
   "outputs": [
    {
     "data": {
      "text/plain": [
       "array([[3, 8, 8, 1, 1, 7],\n",
       "       [4, 4, 5, 5, 2, 5],\n",
       "       [2, 2, 9, 9, 2, 4],\n",
       "       [8, 5, 4, 1, 4, 9],\n",
       "       [7, 8, 4, 9, 6, 9]])"
      ]
     },
     "execution_count": 90,
     "metadata": {},
     "output_type": "execute_result"
    }
   ],
   "source": [
    "arr1"
   ]
  },
  {
   "cell_type": "code",
   "execution_count": 91,
   "id": "ac9dba5b-98be-4ada-bf61-2af1e0ae4a3f",
   "metadata": {},
   "outputs": [
    {
     "data": {
      "text/plain": [
       "(5, 6)"
      ]
     },
     "execution_count": 91,
     "metadata": {},
     "output_type": "execute_result"
    }
   ],
   "source": [
    "arr1.shape"
   ]
  },
  {
   "cell_type": "code",
   "execution_count": 92,
   "id": "f7fa7869-e20a-4bf9-88ff-cc346f5cc1b5",
   "metadata": {},
   "outputs": [
    {
     "data": {
      "text/plain": [
       "2"
      ]
     },
     "execution_count": 92,
     "metadata": {},
     "output_type": "execute_result"
    }
   ],
   "source": [
    "arr1.ndim"
   ]
  },
  {
   "cell_type": "code",
   "execution_count": 93,
   "id": "b15b8f85-fd91-4b0c-869c-26ad485b050c",
   "metadata": {},
   "outputs": [
    {
     "data": {
      "text/plain": [
       "30"
      ]
     },
     "execution_count": 93,
     "metadata": {},
     "output_type": "execute_result"
    }
   ],
   "source": [
    "arr1.size"
   ]
  },
  {
   "cell_type": "code",
   "execution_count": 94,
   "id": "8d08645c-ca27-4bc4-b253-9226e889d108",
   "metadata": {},
   "outputs": [
    {
     "data": {
      "text/plain": [
       "array([[False,  True,  True, False, False,  True],\n",
       "       [ True,  True,  True,  True, False,  True],\n",
       "       [False, False,  True,  True, False,  True],\n",
       "       [ True,  True,  True, False,  True,  True],\n",
       "       [ True,  True,  True,  True,  True,  True]])"
      ]
     },
     "execution_count": 94,
     "metadata": {},
     "output_type": "execute_result"
    }
   ],
   "source": [
    "arr1 > 3"
   ]
  },
  {
   "cell_type": "code",
   "execution_count": 95,
   "id": "efcd6b59-c546-4820-97c5-1044bd9f7206",
   "metadata": {},
   "outputs": [
    {
     "data": {
      "text/plain": [
       "array([8, 8, 7, 4, 4, 5, 5, 5, 9, 9, 4, 8, 5, 4, 4, 9, 7, 8, 4, 9, 6, 9])"
      ]
     },
     "execution_count": 95,
     "metadata": {},
     "output_type": "execute_result"
    }
   ],
   "source": [
    "arr1[arr1> 3]"
   ]
  },
  {
   "cell_type": "code",
   "execution_count": 96,
   "id": "10e6ed71-fa74-415b-8e0f-2f58d0dde030",
   "metadata": {},
   "outputs": [
    {
     "data": {
      "text/plain": [
       "array([1, 1, 2, 2, 2, 2, 1])"
      ]
     },
     "execution_count": 96,
     "metadata": {},
     "output_type": "execute_result"
    }
   ],
   "source": [
    "arr1[arr1 < 3]"
   ]
  },
  {
   "cell_type": "code",
   "execution_count": 97,
   "id": "81526047-f112-4da5-bd5d-d37e45dddd3e",
   "metadata": {},
   "outputs": [
    {
     "data": {
      "text/plain": [
       "array([[3, 8, 8, 1, 1, 7],\n",
       "       [4, 4, 5, 5, 2, 5],\n",
       "       [2, 2, 9, 9, 2, 4],\n",
       "       [8, 5, 4, 1, 4, 9],\n",
       "       [7, 8, 4, 9, 6, 9]])"
      ]
     },
     "execution_count": 97,
     "metadata": {},
     "output_type": "execute_result"
    }
   ],
   "source": [
    "arr1"
   ]
  },
  {
   "cell_type": "code",
   "execution_count": 98,
   "id": "0a15512e-1821-411d-b0a4-09d7b65c1b81",
   "metadata": {},
   "outputs": [
    {
     "data": {
      "text/plain": [
       "array([3, 8, 8, 1, 1, 7])"
      ]
     },
     "execution_count": 98,
     "metadata": {},
     "output_type": "execute_result"
    }
   ],
   "source": [
    "#To access elements in the array\n",
    "arr1[0]"
   ]
  },
  {
   "cell_type": "code",
   "execution_count": 99,
   "id": "ba5ebf99-740f-4cdc-9944-2f44bca03b85",
   "metadata": {},
   "outputs": [
    {
     "data": {
      "text/plain": [
       "array([4, 4, 5, 5, 2, 5])"
      ]
     },
     "execution_count": 99,
     "metadata": {},
     "output_type": "execute_result"
    }
   ],
   "source": [
    "arr1[1]"
   ]
  },
  {
   "cell_type": "code",
   "execution_count": 100,
   "id": "5c365aab-3269-47b4-9325-fadc23f1be88",
   "metadata": {},
   "outputs": [
    {
     "data": {
      "text/plain": [
       "4"
      ]
     },
     "execution_count": 100,
     "metadata": {},
     "output_type": "execute_result"
    }
   ],
   "source": [
    "arr1[1][0]"
   ]
  },
  {
   "cell_type": "code",
   "execution_count": 101,
   "id": "c8fa4d94-82e1-4dd3-b608-9820f4458741",
   "metadata": {},
   "outputs": [
    {
     "data": {
      "text/plain": [
       "array([[3, 8, 8, 1, 1, 7],\n",
       "       [4, 4, 5, 5, 2, 5],\n",
       "       [2, 2, 9, 9, 2, 4],\n",
       "       [8, 5, 4, 1, 4, 9],\n",
       "       [7, 8, 4, 9, 6, 9]])"
      ]
     },
     "execution_count": 101,
     "metadata": {},
     "output_type": "execute_result"
    }
   ],
   "source": [
    "arr1"
   ]
  },
  {
   "cell_type": "code",
   "execution_count": 103,
   "id": "9241cce9-e253-463c-a854-6e453899690d",
   "metadata": {},
   "outputs": [
    {
     "data": {
      "text/plain": [
       "array([[3, 8, 8, 1, 1, 7],\n",
       "       [4, 4, 5, 5, 2, 5],\n",
       "       [2, 2, 9, 9, 2, 4]])"
      ]
     },
     "execution_count": 103,
     "metadata": {},
     "output_type": "execute_result"
    }
   ],
   "source": [
    "arr1[0:3] #oth row, 1st row and 2nd row"
   ]
  },
  {
   "cell_type": "code",
   "execution_count": 106,
   "id": "6af909f7-b8af-4e53-9eb8-f0f103bd704d",
   "metadata": {},
   "outputs": [
    {
     "data": {
      "text/plain": [
       "array([[3, 8],\n",
       "       [4, 5],\n",
       "       [2, 9]])"
      ]
     },
     "execution_count": 106,
     "metadata": {},
     "output_type": "execute_result"
    }
   ],
   "source": [
    "arr1[0:3, [0, 2]] #0to2nd row and 0th and 2nd column"
   ]
  },
  {
   "cell_type": "code",
   "execution_count": 107,
   "id": "f969711b-4dfd-43de-8cd9-0c19e030c287",
   "metadata": {},
   "outputs": [],
   "source": [
    "#slicing on both rows and column"
   ]
  },
  {
   "cell_type": "code",
   "execution_count": 110,
   "id": "34f2d375-19a8-4a1e-8203-ee3e86e0d30f",
   "metadata": {},
   "outputs": [
    {
     "data": {
      "text/plain": [
       "array([[3, 8, 8, 1, 1, 7],\n",
       "       [4, 4, 5, 5, 2, 5],\n",
       "       [2, 2, 9, 9, 2, 4],\n",
       "       [8, 5, 4, 1, 4, 9],\n",
       "       [7, 8, 4, 9, 6, 9]])"
      ]
     },
     "execution_count": 110,
     "metadata": {},
     "output_type": "execute_result"
    }
   ],
   "source": [
    "arr1"
   ]
  },
  {
   "cell_type": "code",
   "execution_count": 109,
   "id": "fdfabc4e-115b-4dad-bb3c-bca44bed3ac5",
   "metadata": {},
   "outputs": [
    {
     "data": {
      "text/plain": [
       "array([[8, 8],\n",
       "       [4, 5],\n",
       "       [2, 9]])"
      ]
     },
     "execution_count": 109,
     "metadata": {},
     "output_type": "execute_result"
    }
   ],
   "source": [
    "arr1[0:3, 1:3]"
   ]
  },
  {
   "cell_type": "code",
   "execution_count": 111,
   "id": "6a972795-309a-40ed-b689-ec9ef816fbb8",
   "metadata": {},
   "outputs": [
    {
     "data": {
      "text/plain": [
       "array([[3, 8],\n",
       "       [4, 4]])"
      ]
     },
     "execution_count": 111,
     "metadata": {},
     "output_type": "execute_result"
    }
   ],
   "source": [
    "arr1[0:2, [0,1]]"
   ]
  },
  {
   "cell_type": "code",
   "execution_count": 112,
   "id": "58b61dc3-c41c-4c4d-b787-f86f77ba850b",
   "metadata": {},
   "outputs": [
    {
     "data": {
      "text/plain": [
       "array([8, 1])"
      ]
     },
     "execution_count": 112,
     "metadata": {},
     "output_type": "execute_result"
    }
   ],
   "source": [
    "arr1[0, [1, 3]]"
   ]
  },
  {
   "cell_type": "code",
   "execution_count": 113,
   "id": "5f76f258-b007-402e-8097-1187ae94ef5b",
   "metadata": {},
   "outputs": [
    {
     "data": {
      "text/plain": [
       "array([[2, 9],\n",
       "       [8, 1]])"
      ]
     },
     "execution_count": 113,
     "metadata": {},
     "output_type": "execute_result"
    }
   ],
   "source": [
    "arr1[2:4, [0, 3]]"
   ]
  },
  {
   "cell_type": "code",
   "execution_count": 114,
   "id": "85965a0e-d68a-4cee-b98d-1beeab1f5d34",
   "metadata": {},
   "outputs": [
    {
     "data": {
      "text/plain": [
       "array([[2, 2, 9, 9, 2, 4],\n",
       "       [8, 5, 4, 1, 4, 9],\n",
       "       [7, 8, 4, 9, 6, 9]])"
      ]
     },
     "execution_count": 114,
     "metadata": {},
     "output_type": "execute_result"
    }
   ],
   "source": [
    "arr1[2:5]"
   ]
  },
  {
   "cell_type": "code",
   "execution_count": 115,
   "id": "37a7a444-2ad4-4e08-a332-0e75b472e674",
   "metadata": {},
   "outputs": [
    {
     "data": {
      "text/plain": [
       "array([[2, 2],\n",
       "       [8, 5],\n",
       "       [7, 8]])"
      ]
     },
     "execution_count": 115,
     "metadata": {},
     "output_type": "execute_result"
    }
   ],
   "source": [
    "arr1[2:5, 0:2]"
   ]
  },
  {
   "cell_type": "code",
   "execution_count": 116,
   "id": "1405f25a-76ed-4928-8e97-796a1d166414",
   "metadata": {},
   "outputs": [],
   "source": [
    "#mathematical operation on two arrays\n",
    "arr1 = np.random.randint(1, 3, (3, 3))\n",
    "arr2 = np.random.randint(1, 3, (3, 3))"
   ]
  },
  {
   "cell_type": "code",
   "execution_count": 117,
   "id": "9e9006c4-f357-4729-82ca-2c4455ed13f5",
   "metadata": {},
   "outputs": [
    {
     "data": {
      "text/plain": [
       "array([[1, 2, 1],\n",
       "       [2, 1, 1],\n",
       "       [2, 1, 1]])"
      ]
     },
     "execution_count": 117,
     "metadata": {},
     "output_type": "execute_result"
    }
   ],
   "source": [
    "arr1"
   ]
  },
  {
   "cell_type": "code",
   "execution_count": 118,
   "id": "b353c901-c1b1-4801-8704-c0bf5f85bf90",
   "metadata": {},
   "outputs": [
    {
     "data": {
      "text/plain": [
       "array([[2, 1, 1],\n",
       "       [1, 2, 1],\n",
       "       [1, 1, 2]])"
      ]
     },
     "execution_count": 118,
     "metadata": {},
     "output_type": "execute_result"
    }
   ],
   "source": [
    "arr2"
   ]
  },
  {
   "cell_type": "code",
   "execution_count": 119,
   "id": "8cfda7c6-28d9-4a4d-b659-4b7f123d57b5",
   "metadata": {},
   "outputs": [
    {
     "data": {
      "text/plain": [
       "array([[3, 3, 2],\n",
       "       [3, 3, 2],\n",
       "       [3, 2, 3]])"
      ]
     },
     "execution_count": 119,
     "metadata": {},
     "output_type": "execute_result"
    }
   ],
   "source": [
    "arr1+arr2 #indewise elment addition"
   ]
  },
  {
   "cell_type": "code",
   "execution_count": 120,
   "id": "b18690e1-ed3a-4815-b749-9615133dd748",
   "metadata": {},
   "outputs": [
    {
     "data": {
      "text/plain": [
       "array([[-1,  1,  0],\n",
       "       [ 1, -1,  0],\n",
       "       [ 1,  0, -1]])"
      ]
     },
     "execution_count": 120,
     "metadata": {},
     "output_type": "execute_result"
    }
   ],
   "source": [
    "arr1-arr2 #indexwise element substraction"
   ]
  },
  {
   "cell_type": "code",
   "execution_count": 121,
   "id": "a1b4dbcb-61ff-4671-b2bc-37aa1d3bd424",
   "metadata": {},
   "outputs": [
    {
     "data": {
      "text/plain": [
       "array([[2, 2, 1],\n",
       "       [2, 2, 1],\n",
       "       [2, 1, 2]])"
      ]
     },
     "execution_count": 121,
     "metadata": {},
     "output_type": "execute_result"
    }
   ],
   "source": [
    "arr1 * arr2 #index wise multiplication"
   ]
  },
  {
   "cell_type": "code",
   "execution_count": 122,
   "id": "b6d264c2-0e17-45d1-9438-e356150f05b5",
   "metadata": {},
   "outputs": [
    {
     "data": {
      "text/plain": [
       "(array([[1, 2, 1],\n",
       "        [2, 1, 1],\n",
       "        [2, 1, 1]]),\n",
       " array([[2, 1, 1],\n",
       "        [1, 2, 1],\n",
       "        [1, 1, 2]]))"
      ]
     },
     "execution_count": 122,
     "metadata": {},
     "output_type": "execute_result"
    }
   ],
   "source": [
    "arr1, arr2"
   ]
  },
  {
   "cell_type": "code",
   "execution_count": 123,
   "id": "0bc72838-7102-45af-a67b-62fd75c1eebb",
   "metadata": {},
   "outputs": [
    {
     "data": {
      "text/plain": [
       "array([[0.5, 2. , 1. ],\n",
       "       [2. , 0.5, 1. ],\n",
       "       [2. , 1. , 0.5]])"
      ]
     },
     "execution_count": 123,
     "metadata": {},
     "output_type": "execute_result"
    }
   ],
   "source": [
    "arr1 / arr2 #index wise divison"
   ]
  },
  {
   "cell_type": "code",
   "execution_count": 127,
   "id": "74a704b9-1131-484c-8286-168a574d642b",
   "metadata": {},
   "outputs": [
    {
     "ename": "ZeroDivisionError",
     "evalue": "division by zero",
     "output_type": "error",
     "traceback": [
      "\u001b[0;31m---------------------------------------------------------------------------\u001b[0m",
      "\u001b[0;31mZeroDivisionError\u001b[0m                         Traceback (most recent call last)",
      "Cell \u001b[0;32mIn[127], line 1\u001b[0m\n\u001b[0;32m----> 1\u001b[0m \u001b[38;5;241;43m4\u001b[39;49m\u001b[38;5;241;43m/\u001b[39;49m\u001b[38;5;241;43m0\u001b[39;49m\n",
      "\u001b[0;31mZeroDivisionError\u001b[0m: division by zero"
     ]
    }
   ],
   "source": [
    "4/0"
   ]
  },
  {
   "cell_type": "code",
   "execution_count": 126,
   "id": "231fb1cb-b215-4194-bf48-f6704342b423",
   "metadata": {},
   "outputs": [
    {
     "name": "stderr",
     "output_type": "stream",
     "text": [
      "/tmp/ipykernel_3900/824215542.py:1: RuntimeWarning: divide by zero encountered in divide\n",
      "  arr1 / 0\n"
     ]
    },
    {
     "data": {
      "text/plain": [
       "array([[inf, inf, inf],\n",
       "       [inf, inf, inf],\n",
       "       [inf, inf, inf]])"
      ]
     },
     "execution_count": 126,
     "metadata": {},
     "output_type": "execute_result"
    }
   ],
   "source": [
    "arr1 / 0 #in python zero divion error will come, but in numpy no error"
   ]
  },
  {
   "cell_type": "code",
   "execution_count": 124,
   "id": "3807f97e-31e1-4f1b-9585-f1138009eab9",
   "metadata": {},
   "outputs": [
    {
     "data": {
      "text/plain": [
       "array([[5, 6, 5],\n",
       "       [6, 5, 5],\n",
       "       [6, 5, 5]])"
      ]
     },
     "execution_count": 124,
     "metadata": {},
     "output_type": "execute_result"
    }
   ],
   "source": [
    "#matric multiplication>> different from index wise multiplication\n",
    "\n",
    "arr1 @ arr2 #1st way to do matrix multiplication"
   ]
  },
  {
   "cell_type": "code",
   "execution_count": 125,
   "id": "734594e6-ce1c-49d1-8af9-1af4eb53966b",
   "metadata": {},
   "outputs": [
    {
     "data": {
      "text/plain": [
       "array([[5, 6, 5],\n",
       "       [6, 5, 5],\n",
       "       [6, 5, 5]])"
      ]
     },
     "execution_count": 125,
     "metadata": {},
     "output_type": "execute_result"
    }
   ],
   "source": [
    "np.dot(arr1, arr2) #ndst way to do matrix multiplication"
   ]
  },
  {
   "cell_type": "code",
   "execution_count": 128,
   "id": "843f16ca-5787-4d9a-88d7-a05c1f66cbe0",
   "metadata": {},
   "outputs": [],
   "source": [
    "arr = np.zeros((3, 4))"
   ]
  },
  {
   "cell_type": "code",
   "execution_count": 129,
   "id": "af9cbee3-d0f3-4c49-a7ce-8ceee38824c9",
   "metadata": {},
   "outputs": [
    {
     "data": {
      "text/plain": [
       "array([[0., 0., 0., 0.],\n",
       "       [0., 0., 0., 0.],\n",
       "       [0., 0., 0., 0.]])"
      ]
     },
     "execution_count": 129,
     "metadata": {},
     "output_type": "execute_result"
    }
   ],
   "source": [
    "#broadcasting\n",
    "arr"
   ]
  },
  {
   "cell_type": "code",
   "execution_count": 130,
   "id": "8af944f2-052a-44ae-8c40-b340c1cab537",
   "metadata": {},
   "outputs": [
    {
     "data": {
      "text/plain": [
       "array([[5., 5., 5., 5.],\n",
       "       [5., 5., 5., 5.],\n",
       "       [5., 5., 5., 5.]])"
      ]
     },
     "execution_count": 130,
     "metadata": {},
     "output_type": "execute_result"
    }
   ],
   "source": [
    "arr + 5"
   ]
  },
  {
   "cell_type": "code",
   "execution_count": 131,
   "id": "742760ee-f342-458a-82c5-720c6773a16c",
   "metadata": {},
   "outputs": [
    {
     "data": {
      "text/plain": [
       "array([[-5., -5., -5., -5.],\n",
       "       [-5., -5., -5., -5.],\n",
       "       [-5., -5., -5., -5.]])"
      ]
     },
     "execution_count": 131,
     "metadata": {},
     "output_type": "execute_result"
    }
   ],
   "source": [
    "arr-5"
   ]
  },
  {
   "cell_type": "code",
   "execution_count": 132,
   "id": "40c0125a-78da-46d1-b186-3c97dd9c052f",
   "metadata": {},
   "outputs": [
    {
     "data": {
      "text/plain": [
       "array([[0., 0., 0., 0.],\n",
       "       [0., 0., 0., 0.],\n",
       "       [0., 0., 0., 0.]])"
      ]
     },
     "execution_count": 132,
     "metadata": {},
     "output_type": "execute_result"
    }
   ],
   "source": [
    "arr"
   ]
  },
  {
   "cell_type": "code",
   "execution_count": 133,
   "id": "08ac0f57-1e64-4f55-8453-144c1f520f4d",
   "metadata": {},
   "outputs": [],
   "source": [
    "a = np.array([1, 2, 3, 4])"
   ]
  },
  {
   "cell_type": "code",
   "execution_count": 134,
   "id": "50a9fa94-f50b-4bf2-80a0-24914b647870",
   "metadata": {},
   "outputs": [
    {
     "data": {
      "text/plain": [
       "array([1, 2, 3, 4])"
      ]
     },
     "execution_count": 134,
     "metadata": {},
     "output_type": "execute_result"
    }
   ],
   "source": [
    "a"
   ]
  },
  {
   "cell_type": "code",
   "execution_count": 135,
   "id": "59061482-b627-42f8-a1df-829cfb9c357a",
   "metadata": {},
   "outputs": [
    {
     "data": {
      "text/plain": [
       "1"
      ]
     },
     "execution_count": 135,
     "metadata": {},
     "output_type": "execute_result"
    }
   ],
   "source": [
    "a.ndim"
   ]
  },
  {
   "cell_type": "code",
   "execution_count": 136,
   "id": "c0bea919-987a-4e2c-9553-49ed241d117b",
   "metadata": {},
   "outputs": [
    {
     "data": {
      "text/plain": [
       "array([[1., 2., 3., 4.],\n",
       "       [1., 2., 3., 4.],\n",
       "       [1., 2., 3., 4.]])"
      ]
     },
     "execution_count": 136,
     "metadata": {},
     "output_type": "execute_result"
    }
   ],
   "source": [
    "arr + a"
   ]
  },
  {
   "cell_type": "code",
   "execution_count": 141,
   "id": "faf9f46d-768e-405a-abd0-655a6596cfe5",
   "metadata": {},
   "outputs": [],
   "source": [
    "a = np.array([[1, 2, 3, 4]])"
   ]
  },
  {
   "cell_type": "code",
   "execution_count": 142,
   "id": "2a32d027-c7b1-4d65-a8df-e5c2a63228d7",
   "metadata": {},
   "outputs": [
    {
     "data": {
      "text/plain": [
       "array([[1, 2, 3, 4]])"
      ]
     },
     "execution_count": 142,
     "metadata": {},
     "output_type": "execute_result"
    }
   ],
   "source": [
    "a"
   ]
  },
  {
   "cell_type": "code",
   "execution_count": 143,
   "id": "858465ee-6c60-4a13-a0d8-2eb7afad92ac",
   "metadata": {},
   "outputs": [
    {
     "data": {
      "text/plain": [
       "array([[1],\n",
       "       [2],\n",
       "       [3],\n",
       "       [4]])"
      ]
     },
     "execution_count": 143,
     "metadata": {},
     "output_type": "execute_result"
    }
   ],
   "source": [
    "#Transpose\n",
    "a.T"
   ]
  },
  {
   "cell_type": "code",
   "execution_count": 145,
   "id": "8a3eb982-449f-48ce-a6b2-d0b25aa86267",
   "metadata": {},
   "outputs": [
    {
     "data": {
      "text/plain": [
       "array([[1, 2, 1],\n",
       "       [2, 1, 1],\n",
       "       [2, 1, 1]])"
      ]
     },
     "execution_count": 145,
     "metadata": {},
     "output_type": "execute_result"
    }
   ],
   "source": [
    "arr1"
   ]
  },
  {
   "cell_type": "code",
   "execution_count": 146,
   "id": "03fd50e8-9239-4e58-9463-d9f8deab7e66",
   "metadata": {},
   "outputs": [
    {
     "data": {
      "text/plain": [
       "array([[1, 2, 2],\n",
       "       [2, 1, 1],\n",
       "       [1, 1, 1]])"
      ]
     },
     "execution_count": 146,
     "metadata": {},
     "output_type": "execute_result"
    }
   ],
   "source": [
    "arr1.T"
   ]
  },
  {
   "cell_type": "code",
   "execution_count": null,
   "id": "222d0d56-c9ee-4d2f-9f6b-8ccb08bd8240",
   "metadata": {},
   "outputs": [],
   "source": []
  }
 ],
 "metadata": {
  "kernelspec": {
   "display_name": "Python 3 (ipykernel)",
   "language": "python",
   "name": "python3"
  },
  "language_info": {
   "codemirror_mode": {
    "name": "ipython",
    "version": 3
   },
   "file_extension": ".py",
   "mimetype": "text/x-python",
   "name": "python",
   "nbconvert_exporter": "python",
   "pygments_lexer": "ipython3",
   "version": "3.10.8"
  }
 },
 "nbformat": 4,
 "nbformat_minor": 5
}
